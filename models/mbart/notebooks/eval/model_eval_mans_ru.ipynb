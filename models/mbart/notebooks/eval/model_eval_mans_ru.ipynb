{
 "cells": [
  {
   "cell_type": "code",
   "execution_count": 3,
   "id": "b53d4b43-3eab-4bf5-beed-f35b39eccd1c",
   "metadata": {
    "execution": {
     "iopub.execute_input": "2024-09-11T21:16:52.878070Z",
     "iopub.status.busy": "2024-09-11T21:16:52.876900Z",
     "iopub.status.idle": "2024-09-11T21:16:52.900765Z",
     "shell.execute_reply": "2024-09-11T21:16:52.899663Z",
     "shell.execute_reply.started": "2024-09-11T21:16:52.877992Z"
    },
    "tags": []
   },
   "outputs": [],
   "source": [
    "import gc\n",
    "\n",
    "def cleanup():\n",
    "    gc.collect()\n",
    "    torch.cuda.empty_cache()"
   ]
  },
  {
   "cell_type": "code",
   "execution_count": 4,
   "id": "9157a8ae-3368-4dfb-bd9b-79ac4b10a526",
   "metadata": {
    "execution": {
     "iopub.execute_input": "2024-09-11T21:16:52.904608Z",
     "iopub.status.busy": "2024-09-11T21:16:52.903229Z",
     "iopub.status.idle": "2024-09-11T21:19:15.197673Z",
     "shell.execute_reply": "2024-09-11T21:19:15.196303Z",
     "shell.execute_reply.started": "2024-09-11T21:16:52.904554Z"
    },
    "tags": []
   },
   "outputs": [
    {
     "name": "stderr",
     "output_type": "stream",
     "text": [
      "/home/jupyter/.local/lib/python3.10/site-packages/transformers/utils/hub.py:127: FutureWarning: Using `TRANSFORMERS_CACHE` is deprecated and will be removed in v5 of Transformers. Use `HF_HOME` instead.\n",
      "  warnings.warn(\n",
      "The `load_in_4bit` and `load_in_8bit` arguments are deprecated and will be removed in the future versions. Please, pass a `BitsAndBytesConfig` object in `quantization_config` argument instead.\n",
      "`low_cpu_mem_usage` was None, now set to True since model is quantized.\n"
     ]
    },
    {
     "name": "stdout",
     "output_type": "stream",
     "text": [
      "cuda:0\n"
     ]
    }
   ],
   "source": [
    "import torch\n",
    "from transformers import MBartForConditionalGeneration, MBart50Tokenizer\n",
    "import numpy as np\n",
    "import pandas as pd\n",
    "import warnings\n",
    "\n",
    "warnings.filterwarnings(\"ignore\")\n",
    "\n",
    "def get_model(model_path=\"./mbart-large-51-mans-ru-v3-full-finetuneepoch_4/\"):\n",
    "    tok_path = './mbart-large-51-mans-raw/'\n",
    "    tokenizer = MBart50Tokenizer.from_pretrained(tok_path)\n",
    "    old_len = len(tokenizer)\n",
    "    tokenizer.lang_code_to_id['mans_XX'] = old_len-1\n",
    "    tokenizer.id_to_lang_code[old_len-1] = 'mans_XX'\n",
    "    tokenizer.fairseq_tokens_to_ids[\"<mask>\"] = len(tokenizer.sp_model) + len(tokenizer.lang_code_to_id) + tokenizer.fairseq_offset\n",
    "    tokenizer.fairseq_tokens_to_ids.update(tokenizer.lang_code_to_id)\n",
    "    tokenizer.fairseq_ids_to_tokens = {v: k for k, v in tokenizer.fairseq_tokens_to_ids.items()}\n",
    "    if 'mans_XX' not in tokenizer._additional_special_tokens:\n",
    "        tokenizer._additional_special_tokens.append('mans_XX')\n",
    "\n",
    "    tokenizer.src_lang = \"mans_XX\"\n",
    "    tokenizer.tgt_lang = \"ru_RU\"\n",
    "    \n",
    "    \n",
    "    model = MBartForConditionalGeneration.from_pretrained(model_path,\n",
    "                                                        torch_dtype=torch.bfloat16,\n",
    "                                                        #attn_implementation=\"flash_attention_2\", #https://huggingface.co/docs/transformers/perf_infer_gpu_one#combine-optimizations\n",
    "                                                        #WORKS ONLY ON AMPERS GPUS\n",
    "                                                        load_in_8bit=True,\n",
    "                                                         )\n",
    "    print(model.device)\n",
    "    \n",
    "    return model, tokenizer\n",
    "\n",
    "model, tokenizer = get_model()"
   ]
  },
  {
   "cell_type": "code",
   "execution_count": 5,
   "id": "44bd0eca-b0da-44f6-ac43-829dead2d9bf",
   "metadata": {
    "execution": {
     "iopub.execute_input": "2024-09-11T21:20:52.526477Z",
     "iopub.status.busy": "2024-09-11T21:20:52.525135Z",
     "iopub.status.idle": "2024-09-11T21:20:52.833458Z",
     "shell.execute_reply": "2024-09-11T21:20:52.832198Z",
     "shell.execute_reply.started": "2024-09-11T21:20:52.526437Z"
    },
    "tags": []
   },
   "outputs": [],
   "source": [
    "# model = model.to_bettertransformer()\n",
    "\n",
    "model = torch.compile(model) #https://huggingface.co/docs/transformers/perf_torch_compile#v100-batch-size-1\n",
    "# https://habr.com/ru/companies/wunderfund/articles/820721/"
   ]
  },
  {
   "cell_type": "code",
   "execution_count": 27,
   "id": "5b857350-1d46-4b8b-adea-f39b6f63dc1c",
   "metadata": {
    "execution": {
     "iopub.execute_input": "2024-09-11T22:09:49.874533Z",
     "iopub.status.busy": "2024-09-11T22:09:49.873416Z",
     "iopub.status.idle": "2024-09-11T22:09:49.912303Z",
     "shell.execute_reply": "2024-09-11T22:09:49.911118Z",
     "shell.execute_reply.started": "2024-09-11T22:09:49.874484Z"
    },
    "tags": []
   },
   "outputs": [],
   "source": [
    "def translate(text, src='mans_XX', trg='ru_RU', max_length=200, num_beams=5, repetition_penalty=5.0, **kwargs):\n",
    "    tokenizer.src_lang = src\n",
    "    encoded = tokenizer(text, return_tensors=\"pt\")\n",
    "    \n",
    "    # # enable FlashAttention\n",
    "    # with torch.backends.cuda.sdp_kernel(enable_flash=True, enable_math=False, enable_mem_efficient=False):\n",
    "    ### works ONLY ON AMPER GPUS\n",
    "    \n",
    "    generated_tokens = model.generate(\n",
    "        **encoded.to(model.device),\n",
    "        forced_bos_token_id=tokenizer.lang_code_to_id[trg], \n",
    "        max_length=max_length, \n",
    "        num_beams=num_beams,\n",
    "        repetition_penalty=repetition_penalty,\n",
    "        # early_stopping=True,\n",
    "    )\n",
    "        \n",
    "    return tokenizer.batch_decode(generated_tokens, skip_special_tokens=True)[0]\n",
    "\n",
    "\n",
    "def translate_batch(texts, src='mans_XX', trg='ru_RU', max_length=200, num_beams=5, repetition_penalty=5.0,\n",
    "                    batch_size=128, **kwargs):\n",
    "    tokenizer.src_lang = src\n",
    "    all_translations = []\n",
    "\n",
    "    for i in tqdm(range(0, len(texts), batch_size)):\n",
    "        batch_texts = texts[i:i+batch_size]\n",
    "        encoded = tokenizer(batch_texts, return_tensors=\"pt\", padding=True, truncation=True)\n",
    "        \n",
    "        # # enable FlashAttention\n",
    "        # with torch.backends.cuda.sdp_kernel(enable_flash=True, enable_math=False, enable_mem_efficient=False):\n",
    "        ### works ONLY ON AMPER GPUS\n",
    "        \n",
    "        generated_tokens = model.generate(\n",
    "            **{k: v.to(model.device) for k, v in encoded.items()},\n",
    "            forced_bos_token_id=tokenizer.lang_code_to_id[trg],\n",
    "            max_length=max_length,\n",
    "            num_beams=num_beams,\n",
    "            repetition_penalty=repetition_penalty,\n",
    "            # early_stopping=True,\n",
    "        )\n",
    "        \n",
    "        batch_translations = tokenizer.batch_decode(generated_tokens, skip_special_tokens=True)\n",
    "        all_translations.extend(batch_translations)\n",
    "    \n",
    "    return all_translations\n",
    "\n",
    "def translate_dataframe(df, text_column, src='mans_XX', trg='ru_RU', **kwargs):\n",
    "    texts = df[text_column].tolist()\n",
    "    domains = df['domain'].values\n",
    "    translations = translate_batch(texts, src=src, trg=trg, **kwargs)\n",
    "    return pd.DataFrame({'original': texts, 'ru_target': df['ru'].values, 'translation_model': translations, 'domain': domains})"
   ]
  },
  {
   "cell_type": "code",
   "execution_count": 34,
   "id": "412ce495-310a-42b0-bbcf-adb734116cf6",
   "metadata": {
    "execution": {
     "iopub.execute_input": "2024-09-11T22:13:31.161730Z",
     "iopub.status.busy": "2024-09-11T22:13:31.160330Z",
     "iopub.status.idle": "2024-09-11T22:13:33.551334Z",
     "shell.execute_reply": "2024-09-11T22:13:33.550158Z",
     "shell.execute_reply.started": "2024-09-11T22:13:31.161676Z"
    },
    "tags": []
   },
   "outputs": [],
   "source": [
    "import evaluate\n",
    "\n",
    "chrf = evaluate.load(\"chrf\")\n",
    "bleu = evaluate.load(\"bleu\")\n",
    "\n",
    "def get_simple_metrics(data: pd.DataFrame, preds_column: str,\n",
    "                       original_column: str, output_file: str):\n",
    "    \n",
    "    chrf__ = chrf.compute(\n",
    "        predictions=data[preds_column].values,\n",
    "        references=data[original_column].values,\n",
    "        word_order=2,\n",
    "    )[\"score\"]\n",
    "    bleu__ = bleu.compute(\n",
    "        predictions=data[preds_column].values, references=data[original_column].values\n",
    "    )[\"bleu\"]\n",
    "    metrics = pd.DataFrame(\n",
    "        {\"chrf\": [chrf__], \"bleu\": [bleu__]}\n",
    "    )\n",
    "    print(output_file, f\"bleu {bleu__}\", f\"chrf {chrf__}\")\n",
    "    metrics.to_csv(output_file, index=False)"
   ]
  },
  {
   "cell_type": "code",
   "execution_count": 35,
   "id": "9d4f477f-7aa1-4bcd-b636-f7dea32b9674",
   "metadata": {
    "execution": {
     "iopub.execute_input": "2024-09-11T22:13:33.554719Z",
     "iopub.status.busy": "2024-09-11T22:13:33.553196Z",
     "iopub.status.idle": "2024-09-11T22:13:33.665339Z",
     "shell.execute_reply": "2024-09-11T22:13:33.664152Z",
     "shell.execute_reply.started": "2024-09-11T22:13:33.554648Z"
    },
    "tags": []
   },
   "outputs": [
    {
     "name": "stdout",
     "output_type": "stream",
     "text": [
      "test size: 8842\n"
     ]
    }
   ],
   "source": [
    "import pandas as pd\n",
    "from tqdm import tqdm\n",
    "tqdm.pandas()\n",
    "\n",
    "model_names = [\"mbart-large-51-mans-ru-v3-full-finetuneepoch_4\",]\n",
    "\n",
    "test = pd.read_csv('./datasets/test_set_clean.csv', index_col=0)\n",
    "print(f\"test size: {test.shape[0]}\")\n",
    "\n",
    "def run_model_test(model_name, preds_column, original_column):\n",
    "    translated_test = translate_dataframe(test, text_column=\"mans\")\n",
    "    \n",
    "    #save results\n",
    "    translated_test.to_csv(f'./metrics/test_predicted_{model_name}.csv')\n",
    "        \n",
    "        \n",
    "    #compute metrics\n",
    "    get_simple_metrics(translated_test, preds_column=preds_column,\n",
    "                       original_column='ru_target',\n",
    "                       output_file=f\"./metrics/results_{model_name}.csv\")\n"
   ]
  },
  {
   "cell_type": "code",
   "execution_count": 36,
   "id": "72398743-bbd4-4155-9af3-0e649bfe232b",
   "metadata": {
    "tags": []
   },
   "outputs": [
    {
     "name": "stderr",
     "output_type": "stream",
     "text": [
      "100%|██████████| 70/70 [25:55<00:00, 22.22s/it]\n"
     ]
    },
    {
     "name": "stdout",
     "output_type": "stream",
     "text": [
      "./metrics/results_mbart-large-51-mans-ru-v3-full-finetuneepoch_4.csv bleu 0.16391773395264653 chrf 40.32924085019285\n"
     ]
    }
   ],
   "source": [
    "run_model_test(model_names[0], preds_column='translation_model', original_column='ru')"
   ]
  },
  {
   "cell_type": "code",
   "execution_count": 32,
   "id": "219263aa-8818-4a13-93d3-ad93a7b38e1a",
   "metadata": {
    "execution": {
     "iopub.execute_input": "2024-09-11T22:10:27.078325Z",
     "iopub.status.busy": "2024-09-11T22:10:27.077597Z",
     "iopub.status.idle": "2024-09-11T22:10:28.703721Z",
     "shell.execute_reply": "2024-09-11T22:10:28.702527Z",
     "shell.execute_reply.started": "2024-09-11T22:10:27.078246Z"
    },
    "tags": []
   },
   "outputs": [
    {
     "data": {
      "text/plain": [
       "(2078    Та̄н ты ма̄ тармыл ма̄к кӯщаиг о̄лэ̄гыт.\n",
       " Name: mans, dtype: object,\n",
       " 2078    Они на этой земле настоящие есть хозяева.\n",
       " Name: ru, dtype: object,\n",
       " 'Они на этой земле являются главными.')"
      ]
     },
     "execution_count": 32,
     "metadata": {},
     "output_type": "execute_result"
    }
   ],
   "source": [
    "#simple test\n",
    "\n",
    "sample = test.sample(1)\n",
    "sample['mans'], sample['ru'], translate(sample['mans'].values[0])"
   ]
  },
  {
   "cell_type": "code",
   "execution_count": 21,
   "id": "0dcc5e8d-d72b-4b7c-93e4-e6378521da53",
   "metadata": {
    "execution": {
     "iopub.execute_input": "2024-09-11T21:28:33.661999Z",
     "iopub.status.busy": "2024-09-11T21:28:33.660991Z",
     "iopub.status.idle": "2024-09-11T21:28:35.848527Z",
     "shell.execute_reply": "2024-09-11T21:28:35.847322Z",
     "shell.execute_reply.started": "2024-09-11T21:28:33.661962Z"
    },
    "tags": []
   },
   "outputs": [
    {
     "name": "stdout",
     "output_type": "stream",
     "text": [
      "chrf {'score': 74.87502323834276, 'char_order': 6, 'word_order': 2, 'beta': 2}\n",
      "bleu {'bleu': 0.0, 'precisions': [0.5, 0.0, 0.0, 0.0], 'brevity_penalty': 1.0, 'length_ratio': 1.0, 'translation_length': 4, 'reference_length': 4}\n"
     ]
    }
   ],
   "source": [
    "chrf = evaluate.load(\"chrf\")\n",
    "bleu = evaluate.load(\"bleu\")\n",
    "    \n",
    "print('chrf', chrf.compute(predictions=['В этом месяце их в город Ханты-Мансийск приглашали.'], references=['Ещё в этом месяце их в город Ханты-Мансийск по...'], word_order=2))\n",
    "\n",
    "print('bleu', bleu.compute(predictions=['А̄ги Куринька ма̄щтыр.'], references=['А̄ги Кӯринька ва̄ранты.']))\n"
   ]
  },
  {
   "cell_type": "markdown",
   "id": "a76bef98-b0d1-48ac-93c5-3ab39bedb844",
   "metadata": {
    "jp-MarkdownHeadingCollapsed": true,
    "tags": []
   },
   "source": [
    "# Черновик"
   ]
  },
  {
   "cell_type": "code",
   "execution_count": 12,
   "id": "a17e01ed-9bda-41b8-8aa3-4119711921d2",
   "metadata": {
    "execution": {
     "iopub.execute_input": "2024-09-08T13:55:35.234836Z",
     "iopub.status.busy": "2024-09-08T13:55:35.233709Z",
     "iopub.status.idle": "2024-09-08T13:55:35.270570Z",
     "shell.execute_reply": "2024-09-08T13:55:35.269404Z",
     "shell.execute_reply.started": "2024-09-08T13:55:35.234778Z"
    },
    "tags": []
   },
   "outputs": [
    {
     "data": {
      "text/plain": [
       "Index(['source', 'target'], dtype='object')"
      ]
     },
     "execution_count": 12,
     "metadata": {},
     "output_type": "execute_result"
    }
   ],
   "source": [
    "\n",
    "bible_mansi_iona = pd.read_csv('./datasets/bible_mansi_iona.csv')\n",
    "bible_mansi_iona.columns"
   ]
  },
  {
   "cell_type": "code",
   "execution_count": 13,
   "id": "610dd7e0-1b73-451f-8513-7352474a891d",
   "metadata": {
    "collapsed": true,
    "execution": {
     "iopub.execute_input": "2024-09-08T13:55:53.080525Z",
     "iopub.status.busy": "2024-09-08T13:55:53.079323Z",
     "iopub.status.idle": "2024-09-08T13:55:53.119010Z",
     "shell.execute_reply": "2024-09-08T13:55:53.117747Z",
     "shell.execute_reply.started": "2024-09-08T13:55:53.080487Z"
    },
    "jupyter": {
     "outputs_hidden": true
    },
    "tags": []
   },
   "outputs": [
    {
     "data": {
      "text/html": [
       "<div>\n",
       "<style scoped>\n",
       "    .dataframe tbody tr th:only-of-type {\n",
       "        vertical-align: middle;\n",
       "    }\n",
       "\n",
       "    .dataframe tbody tr th {\n",
       "        vertical-align: top;\n",
       "    }\n",
       "\n",
       "    .dataframe thead th {\n",
       "        text-align: right;\n",
       "    }\n",
       "</style>\n",
       "<table border=\"1\" class=\"dataframe\">\n",
       "  <thead>\n",
       "    <tr style=\"text-align: right;\">\n",
       "      <th></th>\n",
       "      <th>source</th>\n",
       "      <th>target</th>\n",
       "    </tr>\n",
       "  </thead>\n",
       "  <tbody>\n",
       "    <tr>\n",
       "      <th>0</th>\n",
       "      <td>Ионан, Амиттай пы̄гын, Тōрум Āсьныл тамле лāты...</td>\n",
       "      <td>И было слово Господне к Ионе, сыну Амафиину:</td>\n",
       "    </tr>\n",
       "    <tr>\n",
       "      <th>1</th>\n",
       "      <td>Иона э̄лы лё̄ӈхын минас: Тōрум Āсьныл Таршишн ...</td>\n",
       "      <td>И встал Иона, чтобы бежать в Фарсис от лица Го...</td>\n",
       "    </tr>\n",
       "    <tr>\n",
       "      <th>2</th>\n",
       "      <td>Кāраплит рупитан хōтпат пилысьман ёхтувēсыт. К...</td>\n",
       "      <td>И устрашились корабельщики, и взывали каждый к...</td>\n",
       "    </tr>\n",
       "    <tr>\n",
       "      <th>3</th>\n",
       "      <td>Тāн тāнки халанылт потыртаӈкве патсыт: ”Халувт...</td>\n",
       "      <td>И сказали друг другу: пойдем, бросим жребии, ч...</td>\n",
       "    </tr>\n",
       "    <tr>\n",
       "      <th>4</th>\n",
       "      <td>”Ам – еврей, – тав лāвыс, – ам Тōрум Āсь янытл...</td>\n",
       "      <td>И он сказал им: я Еврей, чту Господа Бога небе...</td>\n",
       "    </tr>\n",
       "    <tr>\n",
       "      <th>5</th>\n",
       "      <td>– Мāнавн наӈынтыл мāныр вāруӈкве, ся̄рысь яныг...</td>\n",
       "      <td>И сказали ему: что сделать нам с тобою, чтобы ...</td>\n",
       "    </tr>\n",
       "    <tr>\n",
       "      <th>6</th>\n",
       "      <td>Кāраплит рупитан хōтпат пāг товуӈкве патсыт, н...</td>\n",
       "      <td>Но эти люди начали усиленно грести, чтобы прис...</td>\n",
       "    </tr>\n",
       "    <tr>\n",
       "      <th>7</th>\n",
       "      <td>Иона āлмысаныл, таве ся̄рсин та вуськасасāныл ...</td>\n",
       "      <td>И взяли Иону и бросили его в море, и утихло мо...</td>\n",
       "    </tr>\n",
       "    <tr>\n",
       "      <th>8</th>\n",
       "      <td>”Э̄лы лё̄ӈхын нёвумтэ̄н! Ниневия нампа яныг yс...</td>\n",
       "      <td>встань, иди в Ниневию, город великий, и пропов...</td>\n",
       "    </tr>\n",
       "    <tr>\n",
       "      <th>9</th>\n",
       "      <td>Тōрум Āсь ся̄рсин яныг вōт кēтыс, ос ся̄рсит я...</td>\n",
       "      <td>Но Господь воздвиг на море крепкий ветер, и сд...</td>\n",
       "    </tr>\n",
       "    <tr>\n",
       "      <th>10</th>\n",
       "      <td>Капитан тав ляпатэ̄н лаквыс ос лāвыс: ”Наӈ ос ...</td>\n",
       "      <td>И пришел к нему начальник корабля и сказал ему...</td>\n",
       "    </tr>\n",
       "    <tr>\n",
       "      <th>11</th>\n",
       "      <td>”Ос мāн наӈ мāгсылын ке ты яныг пēта вēритэ̄в,...</td>\n",
       "      <td>Тогда сказали ему: скажи нам, за кого постигла...</td>\n",
       "    </tr>\n",
       "    <tr>\n",
       "      <th>12</th>\n",
       "      <td>Кāраплит рупитан хōтпат илттыг яныг пилысьман ...</td>\n",
       "      <td>И устрашились люди страхом великим и сказали е...</td>\n",
       "    </tr>\n",
       "    <tr>\n",
       "      <th>13</th>\n",
       "      <td>”Āнум āлмелы̄н ос ся̄рсин вуськасэ̄лын, ‒ тав ...</td>\n",
       "      <td>Тогда он сказал им: возьмите меня и бросьте ме...</td>\n",
       "    </tr>\n",
       "    <tr>\n",
       "      <th>14</th>\n",
       "      <td>Тōнт тāн Тōрум Āсиныл вōвим лāвсыт: ”Тōрум Āсю...</td>\n",
       "      <td>Тогда воззвали они к Господу и сказали: молим ...</td>\n",
       "    </tr>\n",
       "    <tr>\n",
       "      <th>15</th>\n",
       "      <td>Тōрум Āсиныл э̄лы-пāлыт яныг пилысьман ёхтыгпа...</td>\n",
       "      <td>И устрашились эти люди Господа великим страхом...</td>\n",
       "    </tr>\n",
       "    <tr>\n",
       "      <th>16</th>\n",
       "      <td>Иона юв-тāяпан мāгыс Тōрум Āсь яныг хӯл кēтыс....</td>\n",
       "      <td>И повелел Господь большому киту поглотить Иону...</td>\n",
       "    </tr>\n",
       "    <tr>\n",
       "      <th>17</th>\n",
       "      <td>”Пēта порат ам Тōрум Āсюмн пōйксялсум, Ос тав ...</td>\n",
       "      <td>и сказал: к Господу воззвал я в скорби моей, и...</td>\n",
       "    </tr>\n",
       "    <tr>\n",
       "      <th>18</th>\n",
       "      <td>Ос ам номсахтасум: ам Наӈынныл самсāйн хот-няв...</td>\n",
       "      <td>И я сказал: отринут я от очей Твоих, однако я ...</td>\n",
       "    </tr>\n",
       "    <tr>\n",
       "      <th>19</th>\n",
       "      <td>Ам нёр тытн ёл-вāглысум, мā кӣвырн сялтум āвим...</td>\n",
       "      <td>До основания гор я нисшел, земля своими запора...</td>\n",
       "    </tr>\n",
       "    <tr>\n",
       "      <th>20</th>\n",
       "      <td>Тōпал утыт янытлан мāхум Наӈ э̄рупсанныл сысы ...</td>\n",
       "      <td>Чтущие суетных и ложных  оставили Милосердаго ...</td>\n",
       "    </tr>\n",
       "    <tr>\n",
       "      <th>21</th>\n",
       "      <td>Тōрум Āсь лāвыс ‒ ос хӯл Иона тосам мāн та сал...</td>\n",
       "      <td>И сказал Господь киту, и он изверг Иону на сушу.</td>\n",
       "    </tr>\n",
       "    <tr>\n",
       "      <th>22</th>\n",
       "      <td>Хӯл сōргыныл тав такви Тōруме нупыл пōйксяс:</td>\n",
       "      <td>И помолился Иона Господу Богу своему из чрева ...</td>\n",
       "    </tr>\n",
       "    <tr>\n",
       "      <th>23</th>\n",
       "      <td>Ся̄рысь милын Наӈ āнум вуськасаслын, ам яныг х...</td>\n",
       "      <td>Ты вверг меня в глубину, в сердце моря, и пото...</td>\n",
       "    </tr>\n",
       "    <tr>\n",
       "      <th>24</th>\n",
       "      <td>Ам турум мус вит āмарас, мувлахи – мил, Вильтя...</td>\n",
       "      <td>Объяли меня воды до души моей, бездна заключил...</td>\n",
       "    </tr>\n",
       "    <tr>\n",
       "      <th>25</th>\n",
       "      <td>Вāгтал патмумт, сымтал патмумт ам Кӯсяюм урыл ...</td>\n",
       "      <td>Когда изнемогла во мне душа моя, я вспомнил о ...</td>\n",
       "    </tr>\n",
       "    <tr>\n",
       "      <th>26</th>\n",
       "      <td>ам ос Наӈын пӯмасипа лāтӈум лāвим йир тотэ̄гум...</td>\n",
       "      <td>а я гласом хвалы принесу Тебе жертву; что обещ...</td>\n",
       "    </tr>\n",
       "    <tr>\n",
       "      <th>27</th>\n",
       "      <td>Ōс Ионан Тōрум Āсь лāтыӈ та суйтыс:</td>\n",
       "      <td>И было слово Господне к Ионе вторично:</td>\n",
       "    </tr>\n",
       "    <tr>\n",
       "      <th>28</th>\n",
       "      <td>Иона э̄лы лё̄ӈхын та минас: Ниневиян та минас,...</td>\n",
       "      <td>И встал Иона и пошел в Ниневию, по слову Госпо...</td>\n",
       "    </tr>\n",
       "    <tr>\n",
       "      <th>29</th>\n",
       "      <td>Ниневият ōлнэ мāхмыт Тōрум Āсин та агтсыт. Тāн...</td>\n",
       "      <td>И поверили Ниневитяне Богу, и объявили пост, и...</td>\n",
       "    </tr>\n",
       "    <tr>\n",
       "      <th>30</th>\n",
       "      <td>Хōн ос тав тумаиӈ мāхманэ Ниневия нампа ӯс мир...</td>\n",
       "      <td>и повелел провозгласить и сказать в Ниневии от...</td>\n",
       "    </tr>\n",
       "    <tr>\n",
       "      <th>31</th>\n",
       "      <td>Хōӈха вāгтэ? Э̄рыӈ, Тōрум Āсь номтāнэ ювле выг...</td>\n",
       "      <td>Кто знает, может быть, еще Бог умилосердится и...</td>\n",
       "    </tr>\n",
       "    <tr>\n",
       "      <th>32</th>\n",
       "      <td>”Э̄лы лё̄ӈхын минэн! Ниневия нампа яныг yсн ми...</td>\n",
       "      <td>встань, иди в Ниневию, город великий, и пропов...</td>\n",
       "    </tr>\n",
       "    <tr>\n",
       "      <th>33</th>\n",
       "      <td>Иона акв хōтал минаме порат лāвыглāлыс: ”Налым...</td>\n",
       "      <td>И начал Иона ходить по городу, сколько можно п...</td>\n",
       "    </tr>\n",
       "    <tr>\n",
       "      <th>34</th>\n",
       "      <td>Ты вāрмаль урыл хōн хӯлыстэ, тав такви хōн yла...</td>\n",
       "      <td>Это слово дошло до царя Ниневии, и он встал с ...</td>\n",
       "    </tr>\n",
       "    <tr>\n",
       "      <th>35</th>\n",
       "      <td>Э̄лумхōласыт ос ӯйхyлыт, сурум сэ̄тапыл сагим ...</td>\n",
       "      <td>и чтобы покрыты были вретищем люди и скот и кр...</td>\n",
       "    </tr>\n",
       "    <tr>\n",
       "      <th>36</th>\n",
       "      <td>Тāн кареканыл хот-вуськасаманыл ōвылтыт Тōрум ...</td>\n",
       "      <td>И увидел Бог дела их, что они обратились от зл...</td>\n",
       "    </tr>\n",
       "    <tr>\n",
       "      <th>37</th>\n",
       "      <td>Иона самыгт тыи яныг пēтаг ōлыс: тав кӣвре кан...</td>\n",
       "      <td>Иона сильно огорчился этим и был раздражен.</td>\n",
       "    </tr>\n",
       "    <tr>\n",
       "      <th>38</th>\n",
       "      <td>Ос тыи мāгыс, Тōрум Āсь, ам лылым вуēлын: āнум...</td>\n",
       "      <td>И ныне, Господи, возьми душу мою от меня, ибо ...</td>\n",
       "    </tr>\n",
       "    <tr>\n",
       "      <th>39</th>\n",
       "      <td>Иона ӯс коны-пāлн минас ос тав хōтал нэ̄глын ē...</td>\n",
       "      <td>И вышел Иона из города, и сел с восточной стор...</td>\n",
       "    </tr>\n",
       "    <tr>\n",
       "      <th>40</th>\n",
       "      <td>Тōрум Āсь холытан, хōтал нōх-нэ̄глын порат, мā...</td>\n",
       "      <td>И устроил Бог так, что на другой день при появ...</td>\n",
       "    </tr>\n",
       "    <tr>\n",
       "      <th>41</th>\n",
       "      <td>”Наӈын клещевина сака сāль?” ‒ Иона Тōрум Āсин...</td>\n",
       "      <td>И сказал Бог Ионе: неужели так сильно огорчилс...</td>\n",
       "    </tr>\n",
       "    <tr>\n",
       "      <th>42</th>\n",
       "      <td>Ос Āнумн хумус Ниневия нампа яныг ӯс ат сāлита...</td>\n",
       "      <td>Мне ли не пожалеть Ниневии, города великого, в...</td>\n",
       "    </tr>\n",
       "    <tr>\n",
       "      <th>43</th>\n",
       "      <td>Тав, Тōрум Āсин тамле лāтӈыт лāвим, пōйксяӈкве...</td>\n",
       "      <td>И молился он Господу и сказал: о, Господи! не ...</td>\n",
       "    </tr>\n",
       "    <tr>\n",
       "      <th>44</th>\n",
       "      <td>”Наӈ ман ёмсякв вāрēгын, хунь кантлэ̄гын?” ‒ Т...</td>\n",
       "      <td>И сказал Господь: неужели это огорчило тебя та...</td>\n",
       "    </tr>\n",
       "    <tr>\n",
       "      <th>45</th>\n",
       "      <td>Тōрум Āсь касторовый вōй пасиртан нирся̄хыл*a ...</td>\n",
       "      <td>И произрастил Господь Бог растение, и оно подн...</td>\n",
       "    </tr>\n",
       "    <tr>\n",
       "      <th>46</th>\n",
       "      <td>Хунь хōтал нōх-нэ̄глыс, Тōрум Āсь хōтал нэ̄глы...</td>\n",
       "      <td>Когда же взошло солнце, навел Бог знойный вост...</td>\n",
       "    </tr>\n",
       "    <tr>\n",
       "      <th>47</th>\n",
       "      <td>”Наӈын клещевина сāль, ‒ Тōрум Āсь лāвыс, ‒ на...</td>\n",
       "      <td>Тогда сказал Господь: ты сожалеешь о растении,...</td>\n",
       "    </tr>\n",
       "  </tbody>\n",
       "</table>\n",
       "</div>"
      ],
      "text/plain": [
       "                                               source                                             target\n",
       "0   Ионан, Амиттай пы̄гын, Тōрум Āсьныл тамле лāты...       И было слово Господне к Ионе, сыну Амафиину:\n",
       "1   Иона э̄лы лё̄ӈхын минас: Тōрум Āсьныл Таршишн ...  И встал Иона, чтобы бежать в Фарсис от лица Го...\n",
       "2   Кāраплит рупитан хōтпат пилысьман ёхтувēсыт. К...  И устрашились корабельщики, и взывали каждый к...\n",
       "3   Тāн тāнки халанылт потыртаӈкве патсыт: ”Халувт...  И сказали друг другу: пойдем, бросим жребии, ч...\n",
       "4   ”Ам – еврей, – тав лāвыс, – ам Тōрум Āсь янытл...  И он сказал им: я Еврей, чту Господа Бога небе...\n",
       "5   – Мāнавн наӈынтыл мāныр вāруӈкве, ся̄рысь яныг...  И сказали ему: что сделать нам с тобою, чтобы ...\n",
       "6   Кāраплит рупитан хōтпат пāг товуӈкве патсыт, н...  Но эти люди начали усиленно грести, чтобы прис...\n",
       "7   Иона āлмысаныл, таве ся̄рсин та вуськасасāныл ...  И взяли Иону и бросили его в море, и утихло мо...\n",
       "8   ”Э̄лы лё̄ӈхын нёвумтэ̄н! Ниневия нампа яныг yс...  встань, иди в Ниневию, город великий, и пропов...\n",
       "9   Тōрум Āсь ся̄рсин яныг вōт кēтыс, ос ся̄рсит я...  Но Господь воздвиг на море крепкий ветер, и сд...\n",
       "10  Капитан тав ляпатэ̄н лаквыс ос лāвыс: ”Наӈ ос ...  И пришел к нему начальник корабля и сказал ему...\n",
       "11  ”Ос мāн наӈ мāгсылын ке ты яныг пēта вēритэ̄в,...  Тогда сказали ему: скажи нам, за кого постигла...\n",
       "12  Кāраплит рупитан хōтпат илттыг яныг пилысьман ...  И устрашились люди страхом великим и сказали е...\n",
       "13  ”Āнум āлмелы̄н ос ся̄рсин вуськасэ̄лын, ‒ тав ...  Тогда он сказал им: возьмите меня и бросьте ме...\n",
       "14  Тōнт тāн Тōрум Āсиныл вōвим лāвсыт: ”Тōрум Āсю...  Тогда воззвали они к Господу и сказали: молим ...\n",
       "15  Тōрум Āсиныл э̄лы-пāлыт яныг пилысьман ёхтыгпа...  И устрашились эти люди Господа великим страхом...\n",
       "16  Иона юв-тāяпан мāгыс Тōрум Āсь яныг хӯл кēтыс....  И повелел Господь большому киту поглотить Иону...\n",
       "17  ”Пēта порат ам Тōрум Āсюмн пōйксялсум, Ос тав ...  и сказал: к Господу воззвал я в скорби моей, и...\n",
       "18  Ос ам номсахтасум: ам Наӈынныл самсāйн хот-няв...  И я сказал: отринут я от очей Твоих, однако я ...\n",
       "19  Ам нёр тытн ёл-вāглысум, мā кӣвырн сялтум āвим...  До основания гор я нисшел, земля своими запора...\n",
       "20  Тōпал утыт янытлан мāхум Наӈ э̄рупсанныл сысы ...  Чтущие суетных и ложных  оставили Милосердаго ...\n",
       "21  Тōрум Āсь лāвыс ‒ ос хӯл Иона тосам мāн та сал...   И сказал Господь киту, и он изверг Иону на сушу.\n",
       "22       Хӯл сōргыныл тав такви Тōруме нупыл пōйксяс:  И помолился Иона Господу Богу своему из чрева ...\n",
       "23  Ся̄рысь милын Наӈ āнум вуськасаслын, ам яныг х...  Ты вверг меня в глубину, в сердце моря, и пото...\n",
       "24  Ам турум мус вит āмарас, мувлахи – мил, Вильтя...  Объяли меня воды до души моей, бездна заключил...\n",
       "25  Вāгтал патмумт, сымтал патмумт ам Кӯсяюм урыл ...  Когда изнемогла во мне душа моя, я вспомнил о ...\n",
       "26  ам ос Наӈын пӯмасипа лāтӈум лāвим йир тотэ̄гум...  а я гласом хвалы принесу Тебе жертву; что обещ...\n",
       "27                Ōс Ионан Тōрум Āсь лāтыӈ та суйтыс:             И было слово Господне к Ионе вторично:\n",
       "28  Иона э̄лы лё̄ӈхын та минас: Ниневиян та минас,...  И встал Иона и пошел в Ниневию, по слову Госпо...\n",
       "29  Ниневият ōлнэ мāхмыт Тōрум Āсин та агтсыт. Тāн...  И поверили Ниневитяне Богу, и объявили пост, и...\n",
       "30  Хōн ос тав тумаиӈ мāхманэ Ниневия нампа ӯс мир...  и повелел провозгласить и сказать в Ниневии от...\n",
       "31  Хōӈха вāгтэ? Э̄рыӈ, Тōрум Āсь номтāнэ ювле выг...  Кто знает, может быть, еще Бог умилосердится и...\n",
       "32  ”Э̄лы лё̄ӈхын минэн! Ниневия нампа яныг yсн ми...  встань, иди в Ниневию, город великий, и пропов...\n",
       "33  Иона акв хōтал минаме порат лāвыглāлыс: ”Налым...  И начал Иона ходить по городу, сколько можно п...\n",
       "34  Ты вāрмаль урыл хōн хӯлыстэ, тав такви хōн yла...  Это слово дошло до царя Ниневии, и он встал с ...\n",
       "35  Э̄лумхōласыт ос ӯйхyлыт, сурум сэ̄тапыл сагим ...  и чтобы покрыты были вретищем люди и скот и кр...\n",
       "36  Тāн кареканыл хот-вуськасаманыл ōвылтыт Тōрум ...  И увидел Бог дела их, что они обратились от зл...\n",
       "37  Иона самыгт тыи яныг пēтаг ōлыс: тав кӣвре кан...        Иона сильно огорчился этим и был раздражен.\n",
       "38  Ос тыи мāгыс, Тōрум Āсь, ам лылым вуēлын: āнум...  И ныне, Господи, возьми душу мою от меня, ибо ...\n",
       "39  Иона ӯс коны-пāлн минас ос тав хōтал нэ̄глын ē...  И вышел Иона из города, и сел с восточной стор...\n",
       "40  Тōрум Āсь холытан, хōтал нōх-нэ̄глын порат, мā...  И устроил Бог так, что на другой день при появ...\n",
       "41  ”Наӈын клещевина сака сāль?” ‒ Иона Тōрум Āсин...  И сказал Бог Ионе: неужели так сильно огорчилс...\n",
       "42  Ос Āнумн хумус Ниневия нампа яныг ӯс ат сāлита...  Мне ли не пожалеть Ниневии, города великого, в...\n",
       "43  Тав, Тōрум Āсин тамле лāтӈыт лāвим, пōйксяӈкве...  И молился он Господу и сказал: о, Господи! не ...\n",
       "44  ”Наӈ ман ёмсякв вāрēгын, хунь кантлэ̄гын?” ‒ Т...  И сказал Господь: неужели это огорчило тебя та...\n",
       "45  Тōрум Āсь касторовый вōй пасиртан нирся̄хыл*a ...  И произрастил Господь Бог растение, и оно подн...\n",
       "46  Хунь хōтал нōх-нэ̄глыс, Тōрум Āсь хōтал нэ̄глы...  Когда же взошло солнце, навел Бог знойный вост...\n",
       "47  ”Наӈын клещевина сāль, ‒ Тōрум Āсь лāвыс, ‒ на...  Тогда сказал Господь: ты сожалеешь о растении,..."
      ]
     },
     "execution_count": 13,
     "metadata": {},
     "output_type": "execute_result"
    }
   ],
   "source": [
    "bible_mansi_iona"
   ]
  },
  {
   "cell_type": "code",
   "execution_count": 6,
   "id": "b03025e8-c7b7-487b-95e0-3159d705abc1",
   "metadata": {
    "execution": {
     "iopub.execute_input": "2024-09-08T13:27:49.293565Z",
     "iopub.status.busy": "2024-09-08T13:27:49.292698Z",
     "iopub.status.idle": "2024-09-08T13:27:49.319805Z",
     "shell.execute_reply": "2024-09-08T13:27:49.318642Z",
     "shell.execute_reply.started": "2024-09-08T13:27:49.293510Z"
    },
    "tags": []
   },
   "outputs": [
    {
     "data": {
      "text/html": [
       "<div>\n",
       "<style scoped>\n",
       "    .dataframe tbody tr th:only-of-type {\n",
       "        vertical-align: middle;\n",
       "    }\n",
       "\n",
       "    .dataframe tbody tr th {\n",
       "        vertical-align: top;\n",
       "    }\n",
       "\n",
       "    .dataframe thead th {\n",
       "        text-align: right;\n",
       "    }\n",
       "</style>\n",
       "<table border=\"1\" class=\"dataframe\">\n",
       "  <thead>\n",
       "    <tr style=\"text-align: right;\">\n",
       "      <th></th>\n",
       "      <th>source</th>\n",
       "      <th>target</th>\n",
       "    </tr>\n",
       "  </thead>\n",
       "  <tbody>\n",
       "    <tr>\n",
       "      <th>27</th>\n",
       "      <td>Ōс Ионан Тōрум Āсь лāтыӈ та суйтыс:</td>\n",
       "      <td>И было слово Господне к Ионе вторично:</td>\n",
       "    </tr>\n",
       "  </tbody>\n",
       "</table>\n",
       "</div>"
      ],
      "text/plain": [
       "                                 source                                  target\n",
       "27  Ōс Ионан Тōрум Āсь лāтыӈ та суйтыс:  И было слово Господне к Ионе вторично:"
      ]
     },
     "execution_count": 6,
     "metadata": {},
     "output_type": "execute_result"
    }
   ],
   "source": [
    "sample = bible_mansi_iona.sample(1, random_state=42)\n",
    "sample"
   ]
  },
  {
   "cell_type": "code",
   "execution_count": 14,
   "id": "557960ae-4af3-4baa-a5bd-d00088967ee7",
   "metadata": {
    "execution": {
     "iopub.execute_input": "2024-09-08T13:59:17.439472Z",
     "iopub.status.busy": "2024-09-08T13:59:17.438272Z",
     "iopub.status.idle": "2024-09-08T13:59:17.459832Z",
     "shell.execute_reply": "2024-09-08T13:59:17.458776Z",
     "shell.execute_reply.started": "2024-09-08T13:59:17.439426Z"
    },
    "tags": []
   },
   "outputs": [
    {
     "data": {
      "text/plain": [
       "('Упрямыми руками медведицу-доченьку', 'Вориц катпа нюрум уй агикве')"
      ]
     },
     "execution_count": 14,
     "metadata": {},
     "output_type": "execute_result"
    }
   ],
   "source": [
    "ru, mans = medvezhie_pesni['target'].values[0], medvezhie_pesni['source'].values[0]\n",
    "\n",
    "ru, mans"
   ]
  },
  {
   "cell_type": "code",
   "execution_count": null,
   "id": "466e7331-e5f0-4660-b10d-63446b9b9605",
   "metadata": {
    "execution": {
     "iopub.execute_input": "2024-09-08T13:59:44.571039Z",
     "iopub.status.busy": "2024-09-08T13:59:44.570028Z"
    },
    "tags": []
   },
   "outputs": [
    {
     "name": "stderr",
     "output_type": "stream",
     "text": [
      " 48%|████▊     | 2778/5810 [11:25<11:39,  4.33it/s]"
     ]
    }
   ],
   "source": [
    "from tqdm import tqdm\n",
    "tqdm.pandas()\n",
    "\n",
    "medvezhie_pesni['predicted_mbart_3_epochs'] = medvezhie_pesni['target'].progress_apply(lambda x: translate(x))"
   ]
  },
  {
   "cell_type": "code",
   "execution_count": 15,
   "id": "13843aa7-db78-4382-99c8-22afab63f2e4",
   "metadata": {
    "execution": {
     "iopub.execute_input": "2024-09-08T13:34:23.532195Z",
     "iopub.status.busy": "2024-09-08T13:34:23.530786Z",
     "iopub.status.idle": "2024-09-08T13:34:23.551840Z",
     "shell.execute_reply": "2024-09-08T13:34:23.550824Z",
     "shell.execute_reply.started": "2024-09-08T13:34:23.532146Z"
    },
    "tags": []
   },
   "outputs": [],
   "source": [
    "bible_mansi_iona['predicted_mbart_3_epochs'];"
   ]
  },
  {
   "cell_type": "code",
   "execution_count": 8,
   "id": "ea8e8571-4fee-4755-8543-4b58480c2e99",
   "metadata": {
    "execution": {
     "iopub.execute_input": "2024-09-08T13:53:41.025670Z",
     "iopub.status.busy": "2024-09-08T13:53:41.024367Z",
     "iopub.status.idle": "2024-09-08T13:53:41.074832Z",
     "shell.execute_reply": "2024-09-08T13:53:41.073740Z",
     "shell.execute_reply.started": "2024-09-08T13:53:41.025622Z"
    }
   },
   "outputs": [],
   "source": [
    "medvezhie_pesni = pd.read_csv('./datasets/medvezhie_pesni.csv')\n",
    "\n",
    "pesni_hulimsunt = pd.read_csv('./datasets/pesni_hulimsunt.csv')"
   ]
  },
  {
   "cell_type": "markdown",
   "id": "0f1c8d8b-93b0-4842-a7eb-74572e88fa65",
   "metadata": {
    "jp-MarkdownHeadingCollapsed": true,
    "tags": []
   },
   "source": [
    "# Computing Metrics"
   ]
  },
  {
   "cell_type": "code",
   "execution_count": 19,
   "id": "d1476ea5-8779-47e6-967b-6da8669703a1",
   "metadata": {
    "execution": {
     "iopub.execute_input": "2024-09-08T13:40:19.024688Z",
     "iopub.status.busy": "2024-09-08T13:40:19.023735Z",
     "iopub.status.idle": "2024-09-08T13:40:19.052509Z",
     "shell.execute_reply": "2024-09-08T13:40:19.051338Z",
     "shell.execute_reply.started": "2024-09-08T13:40:19.024654Z"
    },
    "tags": []
   },
   "outputs": [
    {
     "data": {
      "text/html": [
       "<div>\n",
       "<style scoped>\n",
       "    .dataframe tbody tr th:only-of-type {\n",
       "        vertical-align: middle;\n",
       "    }\n",
       "\n",
       "    .dataframe tbody tr th {\n",
       "        vertical-align: top;\n",
       "    }\n",
       "\n",
       "    .dataframe thead th {\n",
       "        text-align: right;\n",
       "    }\n",
       "</style>\n",
       "<table border=\"1\" class=\"dataframe\">\n",
       "  <thead>\n",
       "    <tr style=\"text-align: right;\">\n",
       "      <th></th>\n",
       "      <th>source</th>\n",
       "      <th>target</th>\n",
       "      <th>predicted_mbart_3_epochs</th>\n",
       "    </tr>\n",
       "  </thead>\n",
       "  <tbody>\n",
       "    <tr>\n",
       "      <th>0</th>\n",
       "      <td>Ионан, Амиттай пы̄гын, Тōрум Āсьныл тамле лāты...</td>\n",
       "      <td>И было слово Господне к Ионе, сыну Амафиину:</td>\n",
       "      <td>Тōрум Āсь Иоанн Амафиин пыге нупыл лāвыс:</td>\n",
       "    </tr>\n",
       "    <tr>\n",
       "      <th>1</th>\n",
       "      <td>Иона э̄лы лё̄ӈхын минас: Тōрум Āсьныл Таршишн ...</td>\n",
       "      <td>И встал Иона, чтобы бежать в Фарсис от лица Го...</td>\n",
       "      <td>Иона Фарсисн Тōрум Āсь нупыл оюӈкве но̄х-ква̄л...</td>\n",
       "    </tr>\n",
       "    <tr>\n",
       "      <th>2</th>\n",
       "      <td>Кāраплит рупитан хōтпат пилысьман ёхтувēсыт. К...</td>\n",
       "      <td>И устрашились корабельщики, и взывали каждый к...</td>\n",
       "      <td>Ань юи-па̄лт, матхāн хум хо̄тпат хот-рохтысыт,...</td>\n",
       "    </tr>\n",
       "  </tbody>\n",
       "</table>\n",
       "</div>"
      ],
      "text/plain": [
       "                                              source  ...                           predicted_mbart_3_epochs\n",
       "0  Ионан, Амиттай пы̄гын, Тōрум Āсьныл тамле лāты...  ...          Тōрум Āсь Иоанн Амафиин пыге нупыл лāвыс:\n",
       "1  Иона э̄лы лё̄ӈхын минас: Тōрум Āсьныл Таршишн ...  ...  Иона Фарсисн Тōрум Āсь нупыл оюӈкве но̄х-ква̄л...\n",
       "2  Кāраплит рупитан хōтпат пилысьман ёхтувēсыт. К...  ...  Ань юи-па̄лт, матхāн хум хо̄тпат хот-рохтысыт,...\n",
       "\n",
       "[3 rows x 3 columns]"
      ]
     },
     "execution_count": 19,
     "metadata": {},
     "output_type": "execute_result"
    }
   ],
   "source": [
    "medvezhie_pesni.head(3)"
   ]
  },
  {
   "cell_type": "code",
   "execution_count": null,
   "id": "338d45e0-2279-410c-91de-c84e834d065b",
   "metadata": {
    "tags": []
   },
   "outputs": [],
   "source": [
    "medvezhie_pesni.to_csv('./metrics/medvezhie_pesni_preds.csv')"
   ]
  },
  {
   "cell_type": "code",
   "execution_count": null,
   "id": "b9c3eaf1-e1ad-49cb-b4b4-38217618d3b1",
   "metadata": {},
   "outputs": [],
   "source": []
  }
 ],
 "metadata": {
  "kernelspec": {
   "display_name": "DataSphere Kernel",
   "language": "python",
   "name": "python3"
  },
  "language_info": {
   "codemirror_mode": {
    "name": "ipython",
    "version": 3
   },
   "file_extension": ".py",
   "mimetype": "text/x-python",
   "name": "python",
   "nbconvert_exporter": "python",
   "pygments_lexer": "ipython3",
   "version": "3.10.12"
  }
 },
 "nbformat": 4,
 "nbformat_minor": 5
}
