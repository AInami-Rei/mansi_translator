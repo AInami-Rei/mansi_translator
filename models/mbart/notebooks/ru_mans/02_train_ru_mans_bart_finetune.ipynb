{
 "cells": [
  {
   "cell_type": "code",
   "execution_count": 3,
   "metadata": {
    "execution": {
     "iopub.execute_input": "2024-09-08T15:21:48.980582Z",
     "iopub.status.busy": "2024-09-08T15:21:48.979178Z",
     "iopub.status.idle": "2024-09-08T15:21:58.482342Z",
     "shell.execute_reply": "2024-09-08T15:21:58.481235Z",
     "shell.execute_reply.started": "2024-09-08T15:21:48.980522Z"
    },
    "id": "0Ma36ICrY6f8",
    "tags": []
   },
   "outputs": [
    {
     "name": "stderr",
     "output_type": "stream",
     "text": [
      "/home/jupyter/.local/lib/python3.10/site-packages/transformers/utils/hub.py:127: FutureWarning: Using `TRANSFORMERS_CACHE` is deprecated and will be removed in v5 of Transformers. Use `HF_HOME` instead.\n",
      "  warnings.warn(\n"
     ]
    }
   ],
   "source": [
    "import torch\n",
    "from transformers import MBartForConditionalGeneration, MBart50Tokenizer\n",
    "import numpy as np"
   ]
  },
  {
   "cell_type": "code",
   "execution_count": 4,
   "metadata": {
    "execution": {
     "iopub.execute_input": "2024-09-08T15:21:58.485556Z",
     "iopub.status.busy": "2024-09-08T15:21:58.484361Z",
     "iopub.status.idle": "2024-09-08T15:21:58.504652Z",
     "shell.execute_reply": "2024-09-08T15:21:58.503566Z",
     "shell.execute_reply.started": "2024-09-08T15:21:58.485482Z"
    },
    "id": "bHVeapBXXdjB",
    "tags": []
   },
   "outputs": [],
   "source": [
    "base_model_path = './mbart-large-51-mans-raw'"
   ]
  },
  {
   "cell_type": "code",
   "execution_count": 5,
   "metadata": {
    "execution": {
     "iopub.execute_input": "2024-09-08T15:21:58.506240Z",
     "iopub.status.busy": "2024-09-08T15:21:58.505647Z",
     "iopub.status.idle": "2024-09-08T15:22:00.367267Z",
     "shell.execute_reply": "2024-09-08T15:22:00.366141Z",
     "shell.execute_reply.started": "2024-09-08T15:21:58.506202Z"
    },
    "id": "i2AA68xcXX3-",
    "tags": []
   },
   "outputs": [],
   "source": [
    "tokenizer = MBart50Tokenizer.from_pretrained(base_model_path)"
   ]
  },
  {
   "cell_type": "code",
   "execution_count": 6,
   "metadata": {
    "colab": {
     "base_uri": "https://localhost:8080/"
    },
    "execution": {
     "iopub.execute_input": "2024-09-08T15:22:00.370529Z",
     "iopub.status.busy": "2024-09-08T15:22:00.369616Z",
     "iopub.status.idle": "2024-09-08T15:22:00.404082Z",
     "shell.execute_reply": "2024-09-08T15:22:00.403045Z",
     "shell.execute_reply.started": "2024-09-08T15:22:00.370474Z"
    },
    "id": "xXX21kOnXjZz",
    "outputId": "496e97b8-d5d7-4a7c-fea1-d89b0c1cb6c7",
    "tags": []
   },
   "outputs": [
    {
     "data": {
      "text/plain": [
       "261160"
      ]
     },
     "execution_count": 6,
     "metadata": {},
     "output_type": "execute_result"
    }
   ],
   "source": [
    "old_len = len(tokenizer)\n",
    "old_len"
   ]
  },
  {
   "cell_type": "markdown",
   "metadata": {
    "id": "8T-CjCqSYhvL"
   },
   "source": [
    "Because language ids are added by hard-code on initialization, we need to manually fix them."
   ]
  },
  {
   "cell_type": "code",
   "execution_count": 7,
   "metadata": {
    "execution": {
     "iopub.execute_input": "2024-09-08T15:22:00.407209Z",
     "iopub.status.busy": "2024-09-08T15:22:00.405744Z",
     "iopub.status.idle": "2024-09-08T15:22:00.467925Z",
     "shell.execute_reply": "2024-09-08T15:22:00.466611Z",
     "shell.execute_reply.started": "2024-09-08T15:22:00.407144Z"
    },
    "id": "pcGhUAKdXwaz",
    "tags": []
   },
   "outputs": [],
   "source": [
    "tokenizer.lang_code_to_id['mans_XX'] = old_len-1\n",
    "tokenizer.id_to_lang_code[old_len-1] = 'mans_XX'\n",
    "tokenizer.fairseq_tokens_to_ids[\"<mask>\"] = len(tokenizer.sp_model) + len(tokenizer.lang_code_to_id) + tokenizer.fairseq_offset\n",
    "\n",
    "tokenizer.fairseq_tokens_to_ids.update(tokenizer.lang_code_to_id)\n",
    "tokenizer.fairseq_ids_to_tokens = {v: k for k, v in tokenizer.fairseq_tokens_to_ids.items()}\n",
    "if 'mans_XX' not in tokenizer._additional_special_tokens:\n",
    "    tokenizer._additional_special_tokens.append('mans_XX')"
   ]
  },
  {
   "cell_type": "code",
   "execution_count": 8,
   "metadata": {
    "colab": {
     "base_uri": "https://localhost:8080/"
    },
    "execution": {
     "iopub.execute_input": "2024-09-08T15:22:08.491798Z",
     "iopub.status.busy": "2024-09-08T15:22:08.490414Z",
     "iopub.status.idle": "2024-09-08T15:22:09.011798Z",
     "shell.execute_reply": "2024-09-08T15:22:09.010725Z",
     "shell.execute_reply.started": "2024-09-08T15:22:08.491745Z"
    },
    "id": "0SUssZS2Y0Jj",
    "outputId": "8f84809c-23d1-4868-9ed8-41064ad6fe87",
    "tags": []
   },
   "outputs": [
    {
     "data": {
      "text/html": [
       "<div>\n",
       "<style scoped>\n",
       "    .dataframe tbody tr th:only-of-type {\n",
       "        vertical-align: middle;\n",
       "    }\n",
       "\n",
       "    .dataframe tbody tr th {\n",
       "        vertical-align: top;\n",
       "    }\n",
       "\n",
       "    .dataframe thead th {\n",
       "        text-align: right;\n",
       "    }\n",
       "</style>\n",
       "<table border=\"1\" class=\"dataframe\">\n",
       "  <thead>\n",
       "    <tr style=\"text-align: right;\">\n",
       "      <th></th>\n",
       "      <th>ru</th>\n",
       "      <th>mans</th>\n",
       "    </tr>\n",
       "  </thead>\n",
       "  <tbody>\n",
       "    <tr>\n",
       "      <th>0</th>\n",
       "      <td>Здравствуйте, милые дети!..</td>\n",
       "      <td>Пася ōлэ̄н, я̄тил ня̄врамыт!..</td>\n",
       "    </tr>\n",
       "    <tr>\n",
       "      <th>1</th>\n",
       "      <td>Здравствуйте, милые дети!..</td>\n",
       "      <td>Пася ōлэ̄н, я̄тил ня̄врамыт!..</td>\n",
       "    </tr>\n",
       "    <tr>\n",
       "      <th>2</th>\n",
       "      <td>Здравствуйте, взрослые люди!</td>\n",
       "      <td>Пася ōлэ̄н, яныг ма̄хум!</td>\n",
       "    </tr>\n",
       "    <tr>\n",
       "      <th>3</th>\n",
       "      <td>Желаете ли вы [нас] послушать?</td>\n",
       "      <td>Сōль ман хӯнтлаӈкв таӈхегы̄на?</td>\n",
       "    </tr>\n",
       "    <tr>\n",
       "      <th>4</th>\n",
       "      <td>Желаете ли вы [на нас] посмотреть?</td>\n",
       "      <td>Сōль ман сунсуӈкв таӈхегы̄н?</td>\n",
       "    </tr>\n",
       "    <tr>\n",
       "      <th>...</th>\n",
       "      <td>...</td>\n",
       "      <td>...</td>\n",
       "    </tr>\n",
       "    <tr>\n",
       "      <th>79370</th>\n",
       "      <td>В округе много таких домов и они там с народом...</td>\n",
       "      <td>Округувт са̄в тамле кол о̄лы ос та̄н ма̄хум ёт...</td>\n",
       "    </tr>\n",
       "    <tr>\n",
       "      <th>79371</th>\n",
       "      <td>Говорит, учится на медсестру и повара, умеет д...</td>\n",
       "      <td>Ла̄ви, ма̄нь ле̄ккарыг ос тэ̄нут па̄йтнэ хо̄тп...</td>\n",
       "    </tr>\n",
       "    <tr>\n",
       "      <th>79372</th>\n",
       "      <td>Мы не шумели, хорошо слушали.</td>\n",
       "      <td>Ма̄н о̄с мори ат капыртасув, ёмщакве̄г хӯнтлысув.</td>\n",
       "    </tr>\n",
       "    <tr>\n",
       "      <th>79373</th>\n",
       "      <td>Весной мы хотели поехать в поселок Ушму, погов...</td>\n",
       "      <td>Тӯяй ма̄н Ушма па̄вылн ялуӈкв куссӯв, ма̄ньщит...</td>\n",
       "    </tr>\n",
       "    <tr>\n",
       "      <th>79374</th>\n",
       "      <td>Василий Иванович ранило пулей, из-за этого ран...</td>\n",
       "      <td>Василий Иванович ня̄лын саквата̄лвес, ётыл ты ...</td>\n",
       "    </tr>\n",
       "  </tbody>\n",
       "</table>\n",
       "<p>79375 rows × 2 columns</p>\n",
       "</div>"
      ],
      "text/plain": [
       "                                                      ru                                               mans\n",
       "0                            Здравствуйте, милые дети!..                     Пася ōлэ̄н, я̄тил ня̄врамыт!..\n",
       "1                            Здравствуйте, милые дети!..                     Пася ōлэ̄н, я̄тил ня̄врамыт!..\n",
       "2                           Здравствуйте, взрослые люди!                           Пася ōлэ̄н, яныг ма̄хум!\n",
       "3                         Желаете ли вы [нас] послушать?                     Сōль ман хӯнтлаӈкв таӈхегы̄на?\n",
       "4                     Желаете ли вы [на нас] посмотреть?                       Сōль ман сунсуӈкв таӈхегы̄н?\n",
       "...                                                  ...                                                ...\n",
       "79370  В округе много таких домов и они там с народом...  Округувт са̄в тамле кол о̄лы ос та̄н ма̄хум ёт...\n",
       "79371  Говорит, учится на медсестру и повара, умеет д...  Ла̄ви, ма̄нь ле̄ккарыг ос тэ̄нут па̄йтнэ хо̄тп...\n",
       "79372                      Мы не шумели, хорошо слушали.  Ма̄н о̄с мори ат капыртасув, ёмщакве̄г хӯнтлысув.\n",
       "79373  Весной мы хотели поехать в поселок Ушму, погов...  Тӯяй ма̄н Ушма па̄вылн ялуӈкв куссӯв, ма̄ньщит...\n",
       "79374  Василий Иванович ранило пулей, из-за этого ран...  Василий Иванович ня̄лын саквата̄лвес, ётыл ты ...\n",
       "\n",
       "[79375 rows x 2 columns]"
      ]
     },
     "execution_count": 8,
     "metadata": {},
     "output_type": "execute_result"
    }
   ],
   "source": [
    "import pandas as pd\n",
    "\n",
    "golden_pairs = pd.read_csv('train.csv')\n",
    "#golden_pairs.drop(columns=[\"Unnamed: 0\"], inplace=True)\n",
    "golden_pairs"
   ]
  },
  {
   "cell_type": "code",
   "execution_count": 9,
   "metadata": {
    "colab": {
     "base_uri": "https://localhost:8080/"
    },
    "execution": {
     "iopub.execute_input": "2024-09-08T15:22:16.044463Z",
     "iopub.status.busy": "2024-09-08T15:22:16.043071Z",
     "iopub.status.idle": "2024-09-08T15:22:16.085701Z",
     "shell.execute_reply": "2024-09-08T15:22:16.084219Z",
     "shell.execute_reply.started": "2024-09-08T15:22:16.044410Z"
    },
    "id": "RbJSamPNV-9g",
    "outputId": "41ddebca-a876-4d3c-b4be-614e17d67759",
    "tags": []
   },
   "outputs": [
    {
     "data": {
      "text/html": [
       "<div>\n",
       "<style scoped>\n",
       "    .dataframe tbody tr th:only-of-type {\n",
       "        vertical-align: middle;\n",
       "    }\n",
       "\n",
       "    .dataframe tbody tr th {\n",
       "        vertical-align: top;\n",
       "    }\n",
       "\n",
       "    .dataframe thead th {\n",
       "        text-align: right;\n",
       "    }\n",
       "</style>\n",
       "<table border=\"1\" class=\"dataframe\">\n",
       "  <thead>\n",
       "    <tr style=\"text-align: right;\">\n",
       "      <th></th>\n",
       "      <th>ru</th>\n",
       "      <th>mans</th>\n",
       "    </tr>\n",
       "  </thead>\n",
       "  <tbody>\n",
       "    <tr>\n",
       "      <th>36456</th>\n",
       "      <td>Царь Ирод, не узнав, где найти Младенца, посла...</td>\n",
       "      <td>Ирод хōн ат вāстэ, хōт Ня̄врам хōнтуӈкве, хōнт...</td>\n",
       "    </tr>\n",
       "  </tbody>\n",
       "</table>\n",
       "</div>"
      ],
      "text/plain": [
       "                                                      ru                                               mans\n",
       "36456  Царь Ирод, не узнав, где найти Младенца, посла...  Ирод хōн ат вāстэ, хōт Ня̄врам хōнтуӈкве, хōнт..."
      ]
     },
     "execution_count": 9,
     "metadata": {},
     "output_type": "execute_result"
    }
   ],
   "source": [
    "golden_pairs.sample(1, random_state=42)"
   ]
  },
  {
   "cell_type": "code",
   "execution_count": 10,
   "metadata": {
    "execution": {
     "iopub.execute_input": "2024-09-08T15:22:23.481074Z",
     "iopub.status.busy": "2024-09-08T15:22:23.479651Z",
     "iopub.status.idle": "2024-09-08T15:22:23.550363Z",
     "shell.execute_reply": "2024-09-08T15:22:23.549004Z",
     "shell.execute_reply.started": "2024-09-08T15:22:23.481018Z"
    },
    "tags": []
   },
   "outputs": [],
   "source": [
    "all_pairs = []\n",
    "for ru_sent, mans_sent in zip(golden_pairs['ru'], golden_pairs['mans']):\n",
    "    all_pairs.append((mans_sent, ru_sent))"
   ]
  },
  {
   "cell_type": "code",
   "execution_count": 11,
   "metadata": {
    "colab": {
     "base_uri": "https://localhost:8080/"
    },
    "execution": {
     "iopub.execute_input": "2024-09-08T15:22:26.114972Z",
     "iopub.status.busy": "2024-09-08T15:22:26.113303Z",
     "iopub.status.idle": "2024-09-08T15:22:26.131971Z",
     "shell.execute_reply": "2024-09-08T15:22:26.130857Z",
     "shell.execute_reply.started": "2024-09-08T15:22:26.114922Z"
    },
    "id": "SViTGcVpWLJc",
    "outputId": "2c5be46d-c027-444e-b4ef-88bd62a0d23b",
    "tags": []
   },
   "outputs": [
    {
     "name": "stdout",
     "output_type": "stream",
     "text": [
      "79375\n"
     ]
    }
   ],
   "source": [
    "print(len(all_pairs))"
   ]
  },
  {
   "cell_type": "code",
   "execution_count": 12,
   "metadata": {
    "execution": {
     "iopub.execute_input": "2024-09-08T15:22:32.923366Z",
     "iopub.status.busy": "2024-09-08T15:22:32.922159Z",
     "iopub.status.idle": "2024-09-08T15:22:32.953831Z",
     "shell.execute_reply": "2024-09-08T15:22:32.952545Z",
     "shell.execute_reply.started": "2024-09-08T15:22:32.923320Z"
    },
    "tags": []
   },
   "outputs": [
    {
     "data": {
      "text/plain": [
       "('Лё̄х хосит, э̄ртам тэ̄лы мо̄винт тарм, а̄нас ха̄ртмытсыт, лӯвыт сэ̄ӈкв нэ̄глы; лӯв я̄ласан хотпа ла̄глыл я̄лыгланти, па̄ссал  ра̄ттанти, ва̄ӈныл нё̄рыла̄ӈтэгыт, а̄сирма̄кве э̄ссягве.',\n",
       " 'По дорогам, будто зиме на смех, обозы потянулись, от лошадей пар валит; извозчики ногами потапывают, рукавицами похлапывают, плечами передёргивают, морозцы похваливают.')"
      ]
     },
     "execution_count": 12,
     "metadata": {},
     "output_type": "execute_result"
    }
   ],
   "source": [
    "import random\n",
    "\n",
    "random.choice(all_pairs)"
   ]
  },
  {
   "cell_type": "markdown",
   "metadata": {
    "id": "uSvk4eQcYfJY"
   },
   "source": [
    "## Training"
   ]
  },
  {
   "cell_type": "code",
   "execution_count": 13,
   "metadata": {
    "execution": {
     "iopub.execute_input": "2024-09-08T15:22:40.231773Z",
     "iopub.status.busy": "2024-09-08T15:22:40.230646Z",
     "iopub.status.idle": "2024-09-08T15:22:40.426483Z",
     "shell.execute_reply": "2024-09-08T15:22:40.425063Z",
     "shell.execute_reply.started": "2024-09-08T15:22:40.231732Z"
    },
    "id": "qVUJ0oblbZZA",
    "tags": []
   },
   "outputs": [],
   "source": [
    "import gc\n",
    "\n",
    "def cleanup():\n",
    "    gc.collect()\n",
    "    torch.cuda.empty_cache()\n",
    "    \n",
    "cleanup()"
   ]
  },
  {
   "cell_type": "code",
   "execution_count": 16,
   "metadata": {
    "execution": {
     "iopub.execute_input": "2024-09-08T15:23:24.637605Z",
     "iopub.status.busy": "2024-09-08T15:23:24.636107Z",
     "iopub.status.idle": "2024-09-08T15:23:59.099977Z",
     "shell.execute_reply": "2024-09-08T15:23:59.098811Z",
     "shell.execute_reply.started": "2024-09-08T15:23:24.637560Z"
    },
    "id": "SpD3Jb2fZhJ3",
    "tags": []
   },
   "outputs": [],
   "source": [
    "model = MBartForConditionalGeneration.from_pretrained(base_model_path).to(\"cuda\")"
   ]
  },
  {
   "cell_type": "code",
   "execution_count": null,
   "metadata": {
    "execution": {
     "iopub.status.busy": "2024-09-08T15:23:11.981245Z",
     "iopub.status.idle": "2024-09-08T15:23:11.982599Z",
     "shell.execute_reply": "2024-09-08T15:23:11.982253Z",
     "shell.execute_reply.started": "2024-09-08T15:23:11.982212Z"
    },
    "id": "ePgh6su6ZnQr",
    "tags": []
   },
   "outputs": [],
   "source": [
    "#model.cuda();"
   ]
  },
  {
   "cell_type": "code",
   "execution_count": 17,
   "metadata": {
    "execution": {
     "iopub.execute_input": "2024-09-08T15:23:59.103164Z",
     "iopub.status.busy": "2024-09-08T15:23:59.101625Z",
     "iopub.status.idle": "2024-09-08T15:23:59.228603Z",
     "shell.execute_reply": "2024-09-08T15:23:59.227473Z",
     "shell.execute_reply.started": "2024-09-08T15:23:59.103107Z"
    },
    "tags": []
   },
   "outputs": [
    {
     "name": "stdout",
     "output_type": "stream",
     "text": [
      "Sun Sep  8 15:23:59 2024       \n",
      "+---------------------------------------------------------------------------------------+\n",
      "| NVIDIA-SMI 535.183.06             Driver Version: 535.183.06   CUDA Version: 12.2     |\n",
      "|-----------------------------------------+----------------------+----------------------+\n",
      "| GPU  Name                 Persistence-M | Bus-Id        Disp.A | Volatile Uncorr. ECC |\n",
      "| Fan  Temp   Perf          Pwr:Usage/Cap |         Memory-Usage | GPU-Util  Compute M. |\n",
      "|                                         |                      |               MIG M. |\n",
      "|=========================================+======================+======================|\n",
      "|   0  Tesla V100-PCIE-32GB           On  | 00000000:8C:00.0 Off |                  Off |\n",
      "| N/A   32C    P0              41W / 250W |   2700MiB / 32768MiB |     51%      Default |\n",
      "|                                         |                      |                  N/A |\n",
      "+-----------------------------------------+----------------------+----------------------+\n",
      "                                                                                         \n",
      "+---------------------------------------------------------------------------------------+\n",
      "| Processes:                                                                            |\n",
      "|  GPU   GI   CI        PID   Type   Process name                            GPU Memory |\n",
      "|        ID   ID                                                             Usage      |\n",
      "|=======================================================================================|\n",
      "|    0   N/A  N/A       882      G   /usr/lib/xorg/Xorg                            4MiB |\n",
      "|    0   N/A  N/A      4006      C   python3                                    2692MiB |\n",
      "+---------------------------------------------------------------------------------------+\n"
     ]
    }
   ],
   "source": [
    "!nvidia-smi"
   ]
  },
  {
   "cell_type": "markdown",
   "metadata": {
    "id": "N-sFMD8QZvx4"
   },
   "source": [
    "### First, update just the new embeddings"
   ]
  },
  {
   "cell_type": "code",
   "execution_count": 18,
   "metadata": {
    "execution": {
     "iopub.execute_input": "2024-09-08T15:24:36.654346Z",
     "iopub.status.busy": "2024-09-08T15:24:36.652741Z",
     "iopub.status.idle": "2024-09-08T15:24:36.680549Z",
     "shell.execute_reply": "2024-09-08T15:24:36.679509Z",
     "shell.execute_reply.started": "2024-09-08T15:24:36.654300Z"
    },
    "id": "v4YXNZ8bZgiV",
    "tags": []
   },
   "outputs": [],
   "source": [
    "for p in model.parameters():\n",
    "    p.requires_grad = False\n",
    "for p in model.model.shared.parameters():\n",
    "    p.requires_grad = True"
   ]
  },
  {
   "cell_type": "code",
   "execution_count": 19,
   "metadata": {
    "execution": {
     "iopub.execute_input": "2024-09-08T15:24:41.014895Z",
     "iopub.status.busy": "2024-09-08T15:24:41.013546Z",
     "iopub.status.idle": "2024-09-08T15:24:41.058035Z",
     "shell.execute_reply": "2024-09-08T15:24:41.056832Z",
     "shell.execute_reply.started": "2024-09-08T15:24:41.014834Z"
    },
    "id": "mu2Z0L7oZ5VK",
    "tags": []
   },
   "outputs": [],
   "source": [
    "from transformers.optimization import Adafactor\n",
    "optimizer = Adafactor(\n",
    "    [p for p in model.parameters() if p.requires_grad], \n",
    "    scale_parameter=False, \n",
    "    relative_step=False, \n",
    "    lr=1e-5,\n",
    "    clip_threshold=1.0\n",
    ")"
   ]
  },
  {
   "cell_type": "code",
   "execution_count": 20,
   "metadata": {
    "execution": {
     "iopub.execute_input": "2024-09-08T15:24:43.763711Z",
     "iopub.status.busy": "2024-09-08T15:24:43.762612Z",
     "iopub.status.idle": "2024-09-08T15:24:43.801451Z",
     "shell.execute_reply": "2024-09-08T15:24:43.800441Z",
     "shell.execute_reply.started": "2024-09-08T15:24:43.763677Z"
    },
    "id": "TMBO2e5_aNRu",
    "tags": []
   },
   "outputs": [],
   "source": [
    "batch_size = 8  \n",
    "report_steps = 500 \n",
    "epochs = 1\n",
    "losses = []"
   ]
  },
  {
   "cell_type": "code",
   "execution_count": 21,
   "metadata": {
    "execution": {
     "iopub.execute_input": "2024-09-08T15:24:50.636674Z",
     "iopub.status.busy": "2024-09-08T15:24:50.635277Z",
     "iopub.status.idle": "2024-09-08T15:24:50.677958Z",
     "shell.execute_reply": "2024-09-08T15:24:50.676816Z",
     "shell.execute_reply.started": "2024-09-08T15:24:50.636625Z"
    },
    "id": "mZowyOW7aeDJ",
    "tags": []
   },
   "outputs": [],
   "source": [
    "tokenizer.src_lang = \"ru_RU\"\n",
    "tokenizer.tgt_lang = \"mans_XX\""
   ]
  },
  {
   "cell_type": "code",
   "execution_count": 22,
   "metadata": {
    "execution": {
     "iopub.execute_input": "2024-09-08T15:24:58.118927Z",
     "iopub.status.busy": "2024-09-08T15:24:58.117970Z",
     "iopub.status.idle": "2024-09-08T15:25:01.701642Z",
     "shell.execute_reply": "2024-09-08T15:25:01.700338Z",
     "shell.execute_reply.started": "2024-09-08T15:24:58.118839Z"
    },
    "tags": []
   },
   "outputs": [
    {
     "name": "stdout",
     "output_type": "stream",
     "text": [
      "\n",
      "\u001b[1m[\u001b[0m\u001b[34;49mnotice\u001b[0m\u001b[1;39;49m]\u001b[0m\u001b[39;49m A new release of pip is available: \u001b[0m\u001b[31;49m23.0.1\u001b[0m\u001b[39;49m -> \u001b[0m\u001b[32;49m24.2\u001b[0m\n",
      "\u001b[1m[\u001b[0m\u001b[34;49mnotice\u001b[0m\u001b[1;39;49m]\u001b[0m\u001b[39;49m To update, run: \u001b[0m\u001b[32;49mpython3 -m pip install --upgrade pip\u001b[0m\n"
     ]
    }
   ],
   "source": [
    "#wandb logging\n",
    "%pip install wandb -qU "
   ]
  },
  {
   "cell_type": "code",
   "execution_count": 23,
   "metadata": {
    "execution": {
     "iopub.execute_input": "2024-09-08T15:25:08.994984Z",
     "iopub.status.busy": "2024-09-08T15:25:08.993320Z",
     "iopub.status.idle": "2024-09-08T15:25:13.431714Z",
     "shell.execute_reply": "2024-09-08T15:25:13.430433Z",
     "shell.execute_reply.started": "2024-09-08T15:25:08.994916Z"
    },
    "tags": []
   },
   "outputs": [
    {
     "name": "stderr",
     "output_type": "stream",
     "text": [
      "wandb: Using wandb-core as the SDK backend. Please refer to https://wandb.me/wandb-core for more information.\n",
      "wandb: Currently logged in as: anastmezentseva (naughty-research). Use `wandb login --relogin` to force relogin\n",
      "wandb: WARNING If you're specifying your api key in code, ensure this code is not shared publicly.\n",
      "wandb: WARNING Consider setting the WANDB_API_KEY environment variable, or running `wandb login` from the command line.\n",
      "wandb: Appending key for api.wandb.ai to your netrc file: /home/jupyter/.netrc\n",
      "wandb: Tracking run with wandb version 0.17.9\n",
      "wandb: Run data is saved locally in /home/jupyter/work/resources/wandb/run-20240908_152512-uf3e2mrn\n",
      "wandb: Run `wandb offline` to turn off syncing.\n",
      "wandb: Syncing run generous-sky-1\n",
      "wandb: ⭐️ View project at https://wandb.ai/naughty-research/ru-mans-translation-mbart_2\n",
      "wandb: 🚀 View run at https://wandb.ai/naughty-research/ru-mans-translation-mbart_2/runs/uf3e2mrn\n"
     ]
    },
    {
     "data": {
      "text/plain": [
       "[]"
      ]
     },
     "execution_count": 23,
     "metadata": {},
     "output_type": "execute_result"
    }
   ],
   "source": [
    "# Log in to your W&B account\n",
    "import wandb\n",
    "import os\n",
    "\n",
    "# Use wandb-core, temporary for wandb's new backend\n",
    "wandb.require(\"core\")\n",
    "\n",
    "wandb.login(key=\"8c745c35783186f823a53c1d97aeb0c334c92530\")\n",
    "\n",
    "wandb.init(\n",
    "    # set the wandb project where this run will be logged\n",
    "    project=\"ru-mans-translation-mbart_2\",\n",
    ")\n",
    "\n",
    "# optional: track gradients\n",
    "wandb.watch(model)"
   ]
  },
  {
   "cell_type": "code",
   "execution_count": 24,
   "metadata": {
    "execution": {
     "iopub.execute_input": "2024-09-08T15:25:17.309092Z",
     "iopub.status.busy": "2024-09-08T15:25:17.307800Z",
     "iopub.status.idle": "2024-09-08T15:25:17.348877Z",
     "shell.execute_reply": "2024-09-08T15:25:17.347572Z",
     "shell.execute_reply.started": "2024-09-08T15:25:17.309027Z"
    },
    "tags": []
   },
   "outputs": [],
   "source": [
    "def train_log(loss, step, epoch):\n",
    "    # Where the magic happens\n",
    "    wandb.log({\"epoch\": epoch, \"loss\": loss}, step=step)\n",
    "    print('step:', step, 'loss:', np.mean(losses[-report_steps:]))"
   ]
  },
  {
   "cell_type": "code",
   "execution_count": 24,
   "metadata": {
    "execution": {
     "iopub.execute_input": "2024-09-07T14:25:52.502915Z",
     "iopub.status.busy": "2024-09-07T14:25:52.502284Z",
     "iopub.status.idle": "2024-09-07T14:25:52.527110Z",
     "shell.execute_reply": "2024-09-07T14:25:52.525829Z",
     "shell.execute_reply.started": "2024-09-07T14:25:52.502861Z"
    },
    "tags": []
   },
   "outputs": [],
   "source": [
    "tokenizer;"
   ]
  },
  {
   "cell_type": "code",
   "execution_count": 27,
   "metadata": {
    "execution": {
     "iopub.execute_input": "2024-09-07T14:26:08.421241Z",
     "iopub.status.busy": "2024-09-07T14:26:08.419789Z",
     "iopub.status.idle": "2024-09-07T14:26:08.437305Z",
     "shell.execute_reply": "2024-09-07T14:26:08.436102Z",
     "shell.execute_reply.started": "2024-09-07T14:26:08.421190Z"
    },
    "tags": []
   },
   "outputs": [],
   "source": [
    "model;"
   ]
  },
  {
   "cell_type": "code",
   "execution_count": 27,
   "metadata": {
    "execution": {
     "iopub.execute_input": "2024-09-08T15:26:26.806042Z",
     "iopub.status.busy": "2024-09-08T15:26:26.804870Z",
     "iopub.status.idle": "2024-09-08T15:26:26.824398Z",
     "shell.execute_reply": "2024-09-08T15:26:26.823106Z",
     "shell.execute_reply.started": "2024-09-08T15:26:26.805989Z"
    },
    "tags": []
   },
   "outputs": [],
   "source": [
    "import warnings\n",
    "\n",
    "warnings.filterwarnings(\"ignore\")"
   ]
  },
  {
   "cell_type": "code",
   "execution_count": 28,
   "metadata": {
    "colab": {
     "base_uri": "https://localhost:8080/",
     "height": 1000,
     "referenced_widgets": [
      "2dd90a3323e048aea0289aad2c6c807a",
      "61e24a9193c046e383b092208c7ffa17",
      "b269f730807f4a938c6bcdcde102e9fe",
      "2d64afa326b7417c9f13861b7e9092cb",
      "3f68700e36894821944120c0179bbde1",
      "7cad93571eb7449eabe214bd5cd1c680",
      "8919c944710b49f6ba8bd8e2398c6a03",
      "9f22df1b316f43a4aafacda95c92f6bf",
      "d9c0ce4791d9413d9df9a0fe70228c4e",
      "ecdf402605ed4bcab4f84a4351bc8551",
      "17b95cb0baa944b7a9bb5196d0df225c"
     ]
    },
    "execution": {
     "iopub.execute_input": "2024-09-08T15:26:27.574981Z",
     "iopub.status.busy": "2024-09-08T15:26:27.573380Z",
     "iopub.status.idle": "2024-09-08T15:50:28.362413Z",
     "shell.execute_reply": "2024-09-08T15:50:28.361143Z",
     "shell.execute_reply.started": "2024-09-08T15:26:27.574944Z"
    },
    "id": "wddmR1nFaUto",
    "outputId": "047d1de2-a409-4796-bee1-749bf0b5e822",
    "tags": []
   },
   "outputs": [
    {
     "name": "stdout",
     "output_type": "stream",
     "text": [
      "EPOCH 0\n",
      "step: 0 loss: 15.531016141176224\n",
      "step: 500 loss: 10.29891763973236\n",
      "step: 1000 loss: 5.502625228881836\n",
      "step: 1500 loss: 4.112294716596604\n",
      "step: 2000 loss: 3.698098417520523\n",
      "step: 2500 loss: 3.4791637187004087\n",
      "step: 3000 loss: 3.3396338657140734\n",
      "step: 3500 loss: 3.1878438668251037\n",
      "step: 4000 loss: 3.0753990488052367\n",
      "step: 4500 loss: 2.9483542996644974\n",
      "step: 5000 loss: 2.86131050825119\n",
      "step: 5500 loss: 2.802218156576157\n",
      "step: 6000 loss: 2.752146312952042\n",
      "step: 6500 loss: 2.7245877735614776\n",
      "step: 7000 loss: 2.610733845472336\n",
      "step: 7500 loss: 2.5718622086048124\n",
      "step: 8000 loss: 2.5101892226934432\n",
      "step: 8500 loss: 2.46728742647171\n",
      "step: 9000 loss: 2.4316833925247194\n",
      "step: 9500 loss: 2.404686649799347\n"
     ]
    }
   ],
   "source": [
    "cleanup()\n",
    "model.train()\n",
    "\n",
    "for epoch in range(epochs):\n",
    "    print('EPOCH', epoch)\n",
    "    random.shuffle(all_pairs)\n",
    "    for i in range(0, int(len(all_pairs) / batch_size)):\n",
    "        batch = all_pairs[i * batch_size: (i + 1) * batch_size]\n",
    "        # кодируем вопрос и ответ \n",
    "        x = tokenizer([p[1] for p in batch], return_tensors='pt', padding=True, truncation=True, max_length=256).to(model.device)\n",
    "        with tokenizer.as_target_tokenizer():\n",
    "            y = tokenizer(text_target=[p[0] for p in batch], return_tensors='pt', padding=True, truncation=True, max_length=256,\n",
    "                         ).to(model.device)\n",
    "        # -100 - специальное значение, позволяющее не учитывать токены\n",
    "        y.input_ids[y.input_ids == 0] = -100\n",
    "        # вычисляем функцию потерь\n",
    "        try:\n",
    "            loss = model(\n",
    "                input_ids=x.input_ids,\n",
    "                attention_mask=x.attention_mask,\n",
    "                labels=y.input_ids,\n",
    "                decoder_attention_mask=y.attention_mask,\n",
    "                return_dict=True\n",
    "            ).loss\n",
    "            # делаем шаг градиентного спуска\n",
    "            loss.backward()\n",
    "            optimizer.step()\n",
    "            optimizer.zero_grad(set_to_none=True)\n",
    "        except RuntimeError as e:\n",
    "            print('error')\n",
    "            loss = None\n",
    "            optimizer.zero_grad(set_to_none=True)\n",
    "            cleanup()\n",
    "            continue\n",
    "\n",
    "        # печатаем скользящее среднее значение функции потерь\n",
    "        losses.append(loss.item())\n",
    "        if i % report_steps == 0:\n",
    "            train_log(loss=np.mean(losses[-report_steps:]), step=i, epoch=epoch)"
   ]
  },
  {
   "cell_type": "markdown",
   "metadata": {
    "id": "7PmcOBlHbBpK"
   },
   "source": [
    "Normal translation/paraphrasing loss is typically about 0.5 to 1 in mBART, so here I expect something similar after some fine-tuning."
   ]
  },
  {
   "cell_type": "code",
   "execution_count": 29,
   "metadata": {
    "execution": {
     "iopub.execute_input": "2024-09-08T15:56:35.477753Z",
     "iopub.status.busy": "2024-09-08T15:56:35.476472Z",
     "iopub.status.idle": "2024-09-08T15:56:35.510864Z",
     "shell.execute_reply": "2024-09-08T15:56:35.509662Z",
     "shell.execute_reply.started": "2024-09-08T15:56:35.477716Z"
    },
    "id": "82zdsBkBcvJK",
    "tags": []
   },
   "outputs": [],
   "source": [
    "save_model_path = './mbart-large-51-ru-mans-v2'"
   ]
  },
  {
   "cell_type": "code",
   "execution_count": 30,
   "metadata": {
    "colab": {
     "base_uri": "https://localhost:8080/"
    },
    "execution": {
     "iopub.execute_input": "2024-09-08T15:56:39.262070Z",
     "iopub.status.busy": "2024-09-08T15:56:39.260636Z",
     "iopub.status.idle": "2024-09-08T15:57:11.842536Z",
     "shell.execute_reply": "2024-09-08T15:57:11.841389Z",
     "shell.execute_reply.started": "2024-09-08T15:56:39.262034Z"
    },
    "id": "2Jp8f9Oxc10N",
    "outputId": "a2007e31-32c6-4d22-a8c2-f6c462197646",
    "tags": []
   },
   "outputs": [
    {
     "name": "stderr",
     "output_type": "stream",
     "text": [
      "Some non-default generation parameters are set in the model config. These should go into a GenerationConfig file (https://huggingface.co/docs/transformers/generation_strategies#save-a-custom-decoding-strategy-with-your-model) instead. This warning will be raised to an exception in v4.41.\n",
      "Non-default generation parameters: {'max_length': 200, 'early_stopping': True, 'num_beams': 5, 'forced_eos_token_id': 2}\n"
     ]
    },
    {
     "data": {
      "text/plain": [
       "('./mbart-large-51-ru-mans-v2/tokenizer_config.json',\n",
       " './mbart-large-51-ru-mans-v2/special_tokens_map.json',\n",
       " './mbart-large-51-ru-mans-v2/sentencepiece.bpe.model',\n",
       " './mbart-large-51-ru-mans-v2/added_tokens.json')"
      ]
     },
     "execution_count": 30,
     "metadata": {},
     "output_type": "execute_result"
    }
   ],
   "source": [
    "model.save_pretrained(save_model_path)\n",
    "tokenizer.save_pretrained(save_model_path)"
   ]
  },
  {
   "cell_type": "code",
   "execution_count": 31,
   "metadata": {
    "colab": {
     "base_uri": "https://localhost:8080/",
     "height": 265
    },
    "execution": {
     "iopub.execute_input": "2024-09-08T15:57:36.930400Z",
     "iopub.status.busy": "2024-09-08T15:57:36.929448Z",
     "iopub.status.idle": "2024-09-08T15:57:37.497099Z",
     "shell.execute_reply": "2024-09-08T15:57:37.495862Z",
     "shell.execute_reply.started": "2024-09-08T15:57:36.930365Z"
    },
    "id": "-cjxp8jNeOAJ",
    "outputId": "ab078ea4-b502-40aa-8869-5c749d300e51",
    "tags": []
   },
   "outputs": [
    {
     "data": {
      "image/png": "[encoded data removed]",
      "text/plain": [
       "<Figure size 640x480 with 1 Axes>"
      ]
     },
     "metadata": {},
     "output_type": "display_data"
    }
   ],
   "source": [
    "import matplotlib.pyplot as plt\n",
    "pd.Series(losses).ewm(100).mean().plot();\n",
    "plt.yscale('log');"
   ]
  },
  {
   "cell_type": "markdown",
   "metadata": {
    "id": "C3ukpYX5dwQ6"
   },
   "source": [
    "### Now update the whole model, with embeddings and transformer layers."
   ]
  },
  {
   "cell_type": "code",
   "execution_count": 32,
   "metadata": {
    "execution": {
     "iopub.execute_input": "2024-09-08T15:57:47.450554Z",
     "iopub.status.busy": "2024-09-08T15:57:47.449354Z",
     "iopub.status.idle": "2024-09-08T15:57:47.493592Z",
     "shell.execute_reply": "2024-09-08T15:57:47.492485Z",
     "shell.execute_reply.started": "2024-09-08T15:57:47.450514Z"
    },
    "tags": []
   },
   "outputs": [],
   "source": [
    "# %pip install transformers sentencepiece sacrebleu -q"
   ]
  },
  {
   "cell_type": "code",
   "execution_count": 33,
   "metadata": {
    "execution": {
     "iopub.execute_input": "2024-09-08T15:57:54.307285Z",
     "iopub.status.busy": "2024-09-08T15:57:54.305783Z",
     "iopub.status.idle": "2024-09-08T15:57:54.324711Z",
     "shell.execute_reply": "2024-09-08T15:57:54.323598Z",
     "shell.execute_reply.started": "2024-09-08T15:57:54.307242Z"
    },
    "tags": []
   },
   "outputs": [],
   "source": [
    "# import torch\n",
    "# from transformers import MBartForConditionalGeneration, MBart50Tokenizer\n",
    "# import numpy as np\n",
    "# import pandas as pd\n",
    "\n",
    "# import warnings\n",
    "\n",
    "# warnings.filterwarnings(\"ignore\")\n",
    "\n",
    "\n",
    "# one_epoch_embds_updated_model_path = './mbart-large-51-ru-mans-v1'\n",
    "# tokenizer = MBart50Tokenizer.from_pretrained(one_epoch_embds_updated_model_path)\n",
    "# old_len = len(tokenizer)\n",
    "\n",
    "# tokenizer.lang_code_to_id['mans_XX'] = old_len-1\n",
    "# tokenizer.id_to_lang_code[old_len-1] = 'mans_XX'\n",
    "# tokenizer.fairseq_tokens_to_ids[\"<mask>\"] = len(tokenizer.sp_model) + len(tokenizer.lang_code_to_id) + tokenizer.fairseq_offset\n",
    "\n",
    "# tokenizer.fairseq_tokens_to_ids.update(tokenizer.lang_code_to_id)\n",
    "# tokenizer.fairseq_ids_to_tokens = {v: k for k, v in tokenizer.fairseq_tokens_to_ids.items()}\n",
    "# if 'mans_XX' not in tokenizer._additional_special_tokens:\n",
    "#     tokenizer._additional_special_tokens.append('mans_XX')\n",
    "    \n",
    "# tokenizer.src_lang = \"ru_RU\"\n",
    "# tokenizer.tgt_lang = \"mans_XX\"\n",
    "\n",
    "\n",
    "# golden_pairs = pd.read_csv('overall_80K.csv')\n",
    "# golden_pairs.drop(columns=[\"Unnamed: 0\"], inplace=True)\n",
    "\n",
    "# all_pairs = []\n",
    "# for ru_sent, mans_sent in zip(golden_pairs['source'], golden_pairs['target']):\n",
    "#     all_pairs.append((mans_sent, ru_sent))"
   ]
  },
  {
   "cell_type": "code",
   "execution_count": 35,
   "metadata": {
    "execution": {
     "iopub.execute_input": "2024-09-08T15:58:24.640198Z",
     "iopub.status.busy": "2024-09-08T15:58:24.639209Z",
     "iopub.status.idle": "2024-09-08T15:58:24.857207Z",
     "shell.execute_reply": "2024-09-08T15:58:24.856100Z",
     "shell.execute_reply.started": "2024-09-08T15:58:24.640161Z"
    },
    "tags": []
   },
   "outputs": [],
   "source": [
    "import gc\n",
    "\n",
    "def cleanup():\n",
    "    gc.collect()\n",
    "    torch.cuda.empty_cache()\n",
    "    \n",
    "cleanup()"
   ]
  },
  {
   "cell_type": "code",
   "execution_count": 36,
   "metadata": {
    "execution": {
     "iopub.execute_input": "2024-09-08T15:58:26.272944Z",
     "iopub.status.busy": "2024-09-08T15:58:26.271650Z",
     "iopub.status.idle": "2024-09-08T15:58:26.288059Z",
     "shell.execute_reply": "2024-09-08T15:58:26.286640Z",
     "shell.execute_reply.started": "2024-09-08T15:58:26.272873Z"
    },
    "tags": []
   },
   "outputs": [],
   "source": [
    "# model = MBartForConditionalGeneration.from_pretrained(one_epoch_embds_updated_model_path).to(\"cuda\")"
   ]
  },
  {
   "cell_type": "code",
   "execution_count": 37,
   "metadata": {
    "execution": {
     "iopub.execute_input": "2024-09-08T15:58:29.311547Z",
     "iopub.status.busy": "2024-09-08T15:58:29.310741Z",
     "iopub.status.idle": "2024-09-08T15:58:29.340972Z",
     "shell.execute_reply": "2024-09-08T15:58:29.339861Z",
     "shell.execute_reply.started": "2024-09-08T15:58:29.311501Z"
    },
    "tags": []
   },
   "outputs": [
    {
     "name": "stdout",
     "output_type": "stream",
     "text": [
      "True\n"
     ]
    }
   ],
   "source": [
    "for p in model.model.shared.parameters():\n",
    "    print(p.requires_grad)"
   ]
  },
  {
   "cell_type": "code",
   "execution_count": 38,
   "metadata": {
    "execution": {
     "iopub.execute_input": "2024-09-08T15:58:31.743827Z",
     "iopub.status.busy": "2024-09-08T15:58:31.742508Z",
     "iopub.status.idle": "2024-09-08T15:58:31.758379Z",
     "shell.execute_reply": "2024-09-08T15:58:31.757271Z",
     "shell.execute_reply.started": "2024-09-08T15:58:31.743784Z"
    },
    "tags": []
   },
   "outputs": [],
   "source": [
    "# %pip install wandb -qU "
   ]
  },
  {
   "cell_type": "code",
   "execution_count": 50,
   "metadata": {
    "execution": {
     "iopub.execute_input": "2024-09-08T16:01:36.751244Z",
     "iopub.status.busy": "2024-09-08T16:01:36.749535Z",
     "iopub.status.idle": "2024-09-08T16:01:36.765625Z",
     "shell.execute_reply": "2024-09-08T16:01:36.764479Z",
     "shell.execute_reply.started": "2024-09-08T16:01:36.751173Z"
    },
    "tags": []
   },
   "outputs": [],
   "source": [
    "# # Log in to your W&B account\n",
    "# import wandb\n",
    "# import os\n",
    "\n",
    "# # Use wandb-core, temporary for wandb's new backend\n",
    "# wandb.require(\"core\")\n",
    "\n",
    "# wandb.login(key=\"8c745c35783186f823a53c1d97aeb0c334c92530\")\n",
    "\n",
    "# wandb.init(\n",
    "#     # set the wandb project where this run will be logged\n",
    "#     project=\"ru-mans-translation-mbart-full-finetune-v2\",\n",
    "# )\n",
    "\n",
    "# # optional: track gradients\n",
    "# wandb.watch(model)"
   ]
  },
  {
   "cell_type": "code",
   "execution_count": 51,
   "metadata": {
    "execution": {
     "iopub.execute_input": "2024-09-08T16:01:37.616602Z",
     "iopub.status.busy": "2024-09-08T16:01:37.615524Z",
     "iopub.status.idle": "2024-09-08T16:01:37.634925Z",
     "shell.execute_reply": "2024-09-08T16:01:37.633659Z",
     "shell.execute_reply.started": "2024-09-08T16:01:37.616567Z"
    },
    "tags": []
   },
   "outputs": [],
   "source": [
    "def train_log(loss, step, epoch):\n",
    "    # Where the magic happens\n",
    "    wandb.log({\"epoch\": epoch, \"loss\": loss}, step=step)\n",
    "    print('step:', step, 'loss:', np.mean(losses[-report_steps:]))"
   ]
  },
  {
   "cell_type": "code",
   "execution_count": 52,
   "metadata": {
    "execution": {
     "iopub.execute_input": "2024-09-08T16:01:38.304799Z",
     "iopub.status.busy": "2024-09-08T16:01:38.303392Z",
     "iopub.status.idle": "2024-09-08T16:01:38.518521Z",
     "shell.execute_reply": "2024-09-08T16:01:38.517223Z",
     "shell.execute_reply.started": "2024-09-08T16:01:38.304758Z"
    },
    "id": "l_D5qfaBc6Ls",
    "tags": []
   },
   "outputs": [],
   "source": [
    "loss = None\n",
    "# optimizer.zero_grad(set_to_none=True)\n",
    "optimizer = None\n",
    "cleanup()"
   ]
  },
  {
   "cell_type": "code",
   "execution_count": 53,
   "metadata": {
    "execution": {
     "iopub.execute_input": "2024-09-08T16:01:40.013709Z",
     "iopub.status.busy": "2024-09-08T16:01:40.012345Z",
     "iopub.status.idle": "2024-09-08T16:01:40.037367Z",
     "shell.execute_reply": "2024-09-08T16:01:40.036143Z",
     "shell.execute_reply.started": "2024-09-08T16:01:40.013670Z"
    },
    "id": "0idGdmxReUCD",
    "tags": []
   },
   "outputs": [],
   "source": [
    "for p in model.parameters():\n",
    "    p.requires_grad = True"
   ]
  },
  {
   "cell_type": "code",
   "execution_count": 54,
   "metadata": {
    "execution": {
     "iopub.execute_input": "2024-09-08T16:01:41.310928Z",
     "iopub.status.busy": "2024-09-08T16:01:41.309519Z",
     "iopub.status.idle": "2024-09-08T16:01:41.332072Z",
     "shell.execute_reply": "2024-09-08T16:01:41.330895Z",
     "shell.execute_reply.started": "2024-09-08T16:01:41.310888Z"
    },
    "id": "uUrdXOLGeW4_",
    "tags": []
   },
   "outputs": [],
   "source": [
    "from transformers.optimization import Adafactor\n",
    "optimizer = Adafactor(\n",
    "    [p for p in model.parameters() if p.requires_grad], \n",
    "    scale_parameter=False, \n",
    "    relative_step=False, \n",
    "    lr=1e-6,\n",
    "    clip_threshold=1.0\n",
    ")"
   ]
  },
  {
   "cell_type": "code",
   "execution_count": 55,
   "metadata": {
    "execution": {
     "iopub.execute_input": "2024-09-08T16:01:42.209001Z",
     "iopub.status.busy": "2024-09-08T16:01:42.207473Z",
     "iopub.status.idle": "2024-09-08T16:01:42.229428Z",
     "shell.execute_reply": "2024-09-08T16:01:42.228255Z",
     "shell.execute_reply.started": "2024-09-08T16:01:42.208940Z"
    },
    "id": "0KJrXPnSeZcx",
    "tags": []
   },
   "outputs": [],
   "source": [
    "batch_size = 8 # 8\n",
    "report_steps = 500 \n",
    "epochs = 5 #3\n",
    "losses = []"
   ]
  },
  {
   "cell_type": "code",
   "execution_count": 56,
   "metadata": {
    "execution": {
     "iopub.execute_input": "2024-09-08T16:01:42.999679Z",
     "iopub.status.busy": "2024-09-08T16:01:42.998290Z",
     "iopub.status.idle": "2024-09-08T16:01:43.024981Z",
     "shell.execute_reply": "2024-09-08T16:01:43.023922Z",
     "shell.execute_reply.started": "2024-09-08T16:01:42.999616Z"
    },
    "tags": []
   },
   "outputs": [],
   "source": [
    "import random\n",
    "\n",
    "save_model_path = './mbart-large-51-ru-mans-v2-full-finetune'"
   ]
  },
  {
   "cell_type": "markdown",
   "metadata": {
    "id": "75hQO633lnet"
   },
   "source": [
    "Optimizing all parameters takes x1.5 longer than just embeddings (4h): about 6h per epoch. "
   ]
  },
  {
   "cell_type": "code",
   "execution_count": null,
   "metadata": {
    "colab": {
     "base_uri": "https://localhost:8080/",
     "height": 1000,
     "referenced_widgets": [
      "1b6c7737a7724ef9be61f6931236bcb8",
      "5ee0c0386ca14eeea3d890f192d912c6",
      "43c5fe3b81624c5c82902780d146865f",
      "c2cd640d6712496994e82b828d733bba",
      "5bee1ae7b7c947b189aae9c147d9f7f7",
      "12ff934d5aaf4522b53a0d5a1486d190",
      "6e16ea20b84641559d12ded6655bd592",
      "f96db6ef5aa644e8be36c012165f4e8f",
      "8d93c30851944aeba13e5734d65354d2",
      "de101cc796b04883896913f97d7e2174",
      "00a8adc069fa43a199266bbf75cea127",
      "19c2a6cc49874c6b9387da8039d073a6",
      "330d5481be764aeb98aa99eab56447a3",
      "4d68d2a6302e4de28cfa78c7696cbaa6",
      "b8f3ba40fe834abfaf3f385894dd2648",
      "2fa0916e8a864eeda3298b546c4a09ef",
      "80ceb9d526d7432a864a8e217b5c3827",
      "9d8c2e66700b4882b79bce61b9feddf1",
      "eb223dd3ec3049a0890e1f55521f806c",
      "e83cb83d18aa4626aa3d21753b636780",
      "d013379630ea432c8beb1223ee8d0fbb",
      "0759796387cc427caf087a2620ef9f93",
      "36028cdfc3c743fd810be42de10c51ec",
      "4e1878e7e37849ddabeb89e0417bdf87",
      "4b6bfbeebd8e499488d5c2d498c21763",
      "5d14796336e64193a8fe8e46d9d8b508",
      "c46f8565cd8d4f03a04565724479fea9",
      "e2c32dcce2124722b0661e76741dae00",
      "79591d81745942a3870b32d9f9e4e8ba",
      "764154c0d77c4cb5a849c4201c0acb64",
      "7804911bf1194e46b446512d5fd55d39",
      "7d3ab7f87d6645458ed249765449a816",
      "44ab5a0fd0064926a5ff236a0c359e07"
     ]
    },
    "execution": {
     "iopub.execute_input": "2024-09-08T16:01:45.848927Z",
     "iopub.status.busy": "2024-09-08T16:01:45.847815Z"
    },
    "id": "HNeqlBm2lIwm",
    "outputId": "99c480b7-1061-4648-90eb-e2f88772b907",
    "tags": []
   },
   "outputs": [
    {
     "name": "stdout",
     "output_type": "stream",
     "text": [
      "EPOCH 0\n",
      "step: 9500 loss: 1.888309121131897\n",
      "step: 10000 loss: 2.2700489798784256\n",
      "step: 10500 loss: 2.200860496878624\n",
      "step: 11000 loss: 2.149562078356743\n",
      "step: 11500 loss: 2.1595899056196215\n",
      "step: 12000 loss: 2.1444624788761137\n",
      "step: 12500 loss: 2.1138124014139175\n"
     ]
    }
   ],
   "source": [
    "cleanup()\n",
    "model.train()\n",
    "\n",
    "for epoch in range(epochs):\n",
    "    print('EPOCH', epoch)\n",
    "    random.shuffle(all_pairs)\n",
    "    for i in range(0, int(len(all_pairs) / batch_size)):\n",
    "        batch = all_pairs[i * batch_size: (i + 1) * batch_size]\n",
    "        # кодируем вопрос и ответ \n",
    "        x = tokenizer([p[1] for p in batch], return_tensors='pt', padding=True, truncation=True, max_length=256).to(model.device)\n",
    "        with tokenizer.as_target_tokenizer():\n",
    "            y = tokenizer([p[0] for p in batch], return_tensors='pt', padding=True, truncation=True, max_length=256).to(model.device)\n",
    "        # -100 - специальное значение, позволяющее не учитывать токены\n",
    "        y.input_ids[y.input_ids == 0] = -100\n",
    "        # вычисляем функцию потерь\n",
    "        try:\n",
    "            loss = model(\n",
    "                input_ids=x.input_ids,\n",
    "                attention_mask=x.attention_mask,\n",
    "                labels=y.input_ids,\n",
    "                decoder_attention_mask=y.attention_mask,\n",
    "                return_dict=True\n",
    "            ).loss\n",
    "            # делаем шаг градиентного спуска\n",
    "            loss.backward()\n",
    "            optimizer.step()\n",
    "            optimizer.zero_grad(set_to_none=True)\n",
    "        except RuntimeError as e:\n",
    "            print('error')\n",
    "            loss = None\n",
    "            optimizer.zero_grad(set_to_none=True)\n",
    "            cleanup()\n",
    "            continue\n",
    "\n",
    "        # печатаем скользящее среднее значение функции потерь\n",
    "        losses.append(loss.item())\n",
    "        if i % report_steps == 0:\n",
    "            train_log(loss=np.mean(losses[-report_steps:]), step=9500 + i, epoch=epoch) #9500 steps was maded previosly\n",
    "    model.save_pretrained(save_model_path + f\"epoch_{epoch}\")\n",
    "    tokenizer.save_pretrained(save_model_path + f\"epoch_{epoch}\")"
   ]
  },
  {
   "cell_type": "markdown",
   "metadata": {
    "id": "oTlFWK21LKD4"
   },
   "source": [
    "The final loss was about 1.01."
   ]
  },
  {
   "cell_type": "code",
   "execution_count": 62,
   "metadata": {
    "colab": {
     "base_uri": "https://localhost:8080/",
     "height": 265
    },
    "execution": {
     "iopub.execute_input": "2024-09-08T21:56:37.017186Z",
     "iopub.status.busy": "2024-09-08T21:56:37.015632Z",
     "iopub.status.idle": "2024-09-08T21:56:37.355838Z",
     "shell.execute_reply": "2024-09-08T21:56:37.354737Z",
     "shell.execute_reply.started": "2024-09-08T21:56:37.017132Z"
    },
    "id": "TnBlPJG8lcM4",
    "outputId": "21f3272c-8cab-4500-d01a-195946eb9975",
    "tags": []
   },
   "outputs": [
    {
     "data": {
      "image/png": "[encoded data removed]",
      "text/plain": [
       "<Figure size 640x480 with 1 Axes>"
      ]
     },
     "metadata": {},
     "output_type": "display_data"
    }
   ],
   "source": [
    "import matplotlib.pyplot as plt\n",
    "pd.Series(losses).ewm(1000).mean().plot();\n",
    "plt.yscale('log');"
   ]
  },
  {
   "cell_type": "code",
   "execution_count": null,
   "metadata": {
    "colab": {
     "base_uri": "https://localhost:8080/"
    },
    "id": "emQ5dlZ8lkQN",
    "outputId": "81a318b6-9f03-4a5b-9d9e-047c499a77df",
    "tags": []
   },
   "outputs": [],
   "source": [
    "# model.save_pretrained('mbart-large-51-ru-mans-v1-full-finetune-5-epochs')\n",
    "# tokenizer.save_pretrained('mbart-large-51-ru-mans-v1-full-finetune-3-epochs')"
   ]
  },
  {
   "cell_type": "code",
   "execution_count": 20,
   "metadata": {
    "execution": {
     "iopub.execute_input": "2024-09-07T22:18:15.289262Z",
     "iopub.status.busy": "2024-09-07T22:18:15.287872Z",
     "iopub.status.idle": "2024-09-07T22:18:15.304949Z",
     "shell.execute_reply": "2024-09-07T22:18:15.303900Z",
     "shell.execute_reply.started": "2024-09-07T22:18:15.289203Z"
    },
    "id": "XOto-tN1UX2F"
   },
   "outputs": [],
   "source": [
    "model.eval();"
   ]
  },
  {
   "cell_type": "code",
   "execution_count": 70,
   "metadata": {
    "colab": {
     "base_uri": "https://localhost:8080/"
    },
    "execution": {
     "iopub.execute_input": "2024-09-08T21:57:44.513945Z",
     "iopub.status.busy": "2024-09-08T21:57:44.512623Z",
     "iopub.status.idle": "2024-09-08T21:57:44.531507Z",
     "shell.execute_reply": "2024-09-08T21:57:44.530442Z",
     "shell.execute_reply.started": "2024-09-08T21:57:44.513903Z"
    },
    "id": "x_KzHzfSUTKF",
    "outputId": "ef88cedd-ea90-44af-b9c4-3b18a60609db",
    "tags": []
   },
   "outputs": [
    {
     "data": {
      "text/plain": [
       "('Юв щалтсӯв, потрамēв, толтыглахтэв, ща̄й аюӈкве ӯнтсӯв. ',\n",
       " 'Домой зашли, разговариваем, согрелись, стали чай пить. ')"
      ]
     },
     "execution_count": 70,
     "metadata": {},
     "output_type": "execute_result"
    }
   ],
   "source": [
    "mans, ru = random.choice(all_pairs)\n",
    "mans, ru"
   ]
  },
  {
   "cell_type": "code",
   "execution_count": 71,
   "metadata": {
    "colab": {
     "base_uri": "https://localhost:8080/",
     "height": 35
    },
    "execution": {
     "iopub.execute_input": "2024-09-08T21:57:47.293995Z",
     "iopub.status.busy": "2024-09-08T21:57:47.292724Z",
     "iopub.status.idle": "2024-09-08T21:57:47.858138Z",
     "shell.execute_reply": "2024-09-08T21:57:47.857023Z",
     "shell.execute_reply.started": "2024-09-08T21:57:47.293962Z"
    },
    "id": "k3ZdAUlcVG68",
    "outputId": "851c9f48-c00a-459c-ee28-c428c5bdd4af",
    "tags": []
   },
   "outputs": [
    {
     "data": {
      "text/plain": [
       "'Юв ёхтысыт, потырēв, исумсув, ща̄йаюӈкве патсыт.'"
      ]
     },
     "execution_count": 71,
     "metadata": {},
     "output_type": "execute_result"
    }
   ],
   "source": [
    "def translate(text, src='ru_RU', trg='mans_XX', max_length=200, num_beams=5, repetition_penalty=5.0, **kwargs):\n",
    "    tokenizer.src_lang = src\n",
    "    encoded = tokenizer(text, return_tensors=\"pt\")\n",
    "    generated_tokens = model.generate(\n",
    "        **encoded.to(model.device),\n",
    "        forced_bos_token_id=tokenizer.lang_code_to_id[trg], \n",
    "        max_length=max_length, \n",
    "        num_beams=num_beams,\n",
    "        repetition_penalty=repetition_penalty,\n",
    "        # early_stopping=True,\n",
    "    )\n",
    "    return tokenizer.batch_decode(generated_tokens, skip_special_tokens=True)[0]\n",
    "\n",
    "translate(ru)"
   ]
  },
  {
   "cell_type": "code",
   "execution_count": 74,
   "metadata": {
    "execution": {
     "iopub.execute_input": "2024-09-08T21:58:00.817918Z",
     "iopub.status.busy": "2024-09-08T21:58:00.816396Z",
     "iopub.status.idle": "2024-09-08T21:58:00.841721Z",
     "shell.execute_reply": "2024-09-08T21:58:00.840509Z",
     "shell.execute_reply.started": "2024-09-08T21:58:00.817858Z"
    },
    "tags": []
   },
   "outputs": [
    {
     "data": {
      "text/plain": [
       "('Тамле яныг рӯпатакапай ты ёмас сымыӈ хо̄тпа Светлана Алексеевна ты ва̄ри.',\n",
       " 'Такую большую работу выполняет добрая женщина Светлана Алексеевна.')"
      ]
     },
     "execution_count": 74,
     "metadata": {},
     "output_type": "execute_result"
    }
   ],
   "source": [
    "mans, ru = random.choice(all_pairs)\n",
    "mans, ru"
   ]
  },
  {
   "cell_type": "code",
   "execution_count": 75,
   "metadata": {
    "execution": {
     "iopub.execute_input": "2024-09-08T21:58:04.610097Z",
     "iopub.status.busy": "2024-09-08T21:58:04.609232Z",
     "iopub.status.idle": "2024-09-08T21:58:04.967586Z",
     "shell.execute_reply": "2024-09-08T21:58:04.966444Z",
     "shell.execute_reply.started": "2024-09-08T21:58:04.610038Z"
    },
    "tags": []
   },
   "outputs": [
    {
     "data": {
      "text/plain": [
       "'Тамле яныг рӯпата ёмас э̄ква Светлана Алексеевна ва̄ри.'"
      ]
     },
     "execution_count": 75,
     "metadata": {},
     "output_type": "execute_result"
    }
   ],
   "source": [
    "translate(ru)"
   ]
  },
  {
   "cell_type": "code",
   "execution_count": 76,
   "metadata": {
    "execution": {
     "iopub.execute_input": "2024-09-08T21:58:12.419496Z",
     "iopub.status.busy": "2024-09-08T21:58:12.418343Z",
     "iopub.status.idle": "2024-09-08T21:58:12.709112Z",
     "shell.execute_reply": "2024-09-08T21:58:12.707887Z",
     "shell.execute_reply.started": "2024-09-08T21:58:12.419441Z"
    },
    "id": "6dvO0V4FbOhn",
    "tags": []
   },
   "outputs": [],
   "source": [
    "loss = None\n",
    "optimizer.zero_grad(set_to_none=True)\n",
    "optimizer = None\n",
    "cleanup()"
   ]
  },
  {
   "cell_type": "markdown",
   "metadata": {
    "id": "dtLw0o74VFV-"
   },
   "source": [
    "# Evaluate"
   ]
  },
  {
   "cell_type": "code",
   "execution_count": null,
   "metadata": {
    "colab": {
     "base_uri": "https://localhost:8080/"
    },
    "id": "rkx2ImDjVLHg",
    "outputId": "0dac7a1e-4809-43dc-8d94-2e809a393b19"
   },
   "outputs": [
    {
     "name": "stdout",
     "output_type": "stream",
     "text": [
      "dev1000.v1.json\t\t\t     myv_mono.v1.json  train.v1.json\n",
      "myv_mono.v1.back_translated.v1.json  test1000.v1.json\n"
     ]
    }
   ],
   "source": [
    "!ls /gd/MyDrive/datasets/nlp/myv_corpus/"
   ]
  },
  {
   "cell_type": "code",
   "execution_count": null,
   "metadata": {
    "id": "vuxJoG52VJQy"
   },
   "outputs": [],
   "source": [
    "with open('/gd/MyDrive/datasets/nlp/myv_corpus/dev1000.v1.json', 'r') as f:\n",
    "    dev = json.load(f)"
   ]
  },
  {
   "cell_type": "code",
   "execution_count": null,
   "metadata": {
    "id": "PDMF7H8SWceJ"
   },
   "outputs": [],
   "source": [
    "dev_target = {k: [er for er, ru in v] for k, v in dev.items()}"
   ]
  },
  {
   "cell_type": "code",
   "execution_count": null,
   "metadata": {
    "colab": {
     "base_uri": "https://localhost:8080/",
     "height": 209,
     "referenced_widgets": [
      "632420db67574669bc16730f4babef37",
      "f409c1b66f9c4e7b82e85deb735ce94e",
      "22b9243c02394005b1f5debde6e46fa4",
      "604b80d84e834474a7710952e5a7432c",
      "53cbe909a30f4fec9974c459c97e07ab",
      "25de90b5a7534ac6a6c8fbc314f80843",
      "96e826f26a664b8eae8107f5b4894032",
      "d641c5568782454b8eb2ff1dcd89c832",
      "6cccc4cc19b44407afc565592615d358",
      "d40c6738bd904dc18c91acc68f2fa141",
      "48b4af3643724c15b285f2c0d84be43d",
      "4685574ac48c48f49680c4c336916740",
      "ae934b47f6ab442aa23693c2dd5a2c4f",
      "8ccf50278d5745bc9a5a22bc04ffa634",
      "c4823f7180274e85a160f207861e5936",
      "57282569a98b4439b2ef261367cf57a1",
      "075027ef0bd34cc4b627f0de007f5961",
      "d33ebc6a80934cf5ab5f5bcfd1887efc",
      "883c916303d542a98e1ac9861287d475",
      "853daca61fa1437db7b7751e1561bbe6",
      "4ddf2b00cd5548499c892bd60a4ca13a",
      "42e5dc04341a49cc95b0ac0a73df3c5c",
      "28ef72e995bc4641aafe0008753e6b81",
      "afa42fcd06b149b895860e4e093d5c6e",
      "c29226e49c3942e289dd5ee13ba92958",
      "eae6462c744c46b8941fc00b3e950819",
      "61b1ba6ddd214795b5fa107f1fef8cc7",
      "e2b58cca3a98463597c4becec72f4fa0",
      "1af1e64836cd4f20b1e9d7bb9fc1ded9",
      "36b5327f8e5b429fb0a7da2eb238b9b4",
      "88c2d5add35c402db78008298dbd5e46",
      "5763abb3b7d84b4eb39869d9d77e1cf5",
      "db84526f51ac4a729d36f56a002ab251",
      "1accc33789e9454992e4f8b9d4d2101b",
      "b96bf42d7fba483caa3dda671857ff90",
      "35deb001d0f54a208ab184d9d30319e0",
      "3c3df89dc0ec48fca935fab1a704987e",
      "33af438b5fff4ebf9c653f0538f2f981",
      "0dd5f20be4d64ed4a94feda04666ad9e",
      "8ebb1da817da42629a5e3492c998c0ce",
      "45df1f82d38b4c82a5ed22f0c488aa3f",
      "1df73e15fde848058ff01704645d5ebc",
      "a3e1c48ea88c42369041ff4f902f9865",
      "623de4dc0e8541bc844e3ebe61bc95b4",
      "247c2c9b54b146e2b085cd1a0026dd20",
      "ff22e7bc1a6a4f2384093d120cbb567a",
      "37d705c9973248cd8c6fc96a149f4725",
      "8bf621fe1a1f4e60838bde2bbefc23ce",
      "636f55d8b58f47bd90db942f6aa54288",
      "a07330d68c5e468987af1d308081ec11",
      "67017f26d12d46ed91b2ae9923434741",
      "23032c2358844822bd0d000f31dbf5e5",
      "d46435cf063f4e80b2f0a92736325486",
      "629db5b16a574a3db83db56180a3ec39",
      "c4dc0d92d55d45038fab026d1a595b10",
      "7da44b579fa843ba9ce0bf652c2dcc74",
      "39b9a7efc89e42e3b5e5d4712a56b4bd",
      "a16605e75ee240c4ad3214288af17208",
      "67e449c33ca34af68592ac395702644a",
      "e25a2b0c033943a7ada5bc9c9bc20911",
      "b9903ebe17ab4b6baa27c3cdd90e4771",
      "1e99b03f26274e6f9f535b398101bb27",
      "284f90c5010046faa39ad4861a130d94",
      "7e5f84d82aa64a22bd8ac61225e8952e",
      "c0cc189db44a4c96917406059931e051",
      "f039e4137c31401d9fc63fe28bff0fca"
     ]
    },
    "id": "8cTZALDIVOeJ",
    "outputId": "ed1987c8-80ac-41e9-d242-c79a86f0a350"
   },
   "outputs": [
    {
     "data": {
      "application/vnd.jupyter.widget-view+json": {
       "model_id": "632420db67574669bc16730f4babef37",
       "version_major": 2,
       "version_minor": 0
      },
      "text/plain": [
       "  0%|          | 0/400 [00:00<?, ?it/s]"
      ]
     },
     "metadata": {},
     "output_type": "display_data"
    },
    {
     "data": {
      "application/vnd.jupyter.widget-view+json": {
       "model_id": "4685574ac48c48f49680c4c336916740",
       "version_major": 2,
       "version_minor": 0
      },
      "text/plain": [
       "  0%|          | 0/100 [00:00<?, ?it/s]"
      ]
     },
     "metadata": {},
     "output_type": "display_data"
    },
    {
     "data": {
      "application/vnd.jupyter.widget-view+json": {
       "model_id": "28ef72e995bc4641aafe0008753e6b81",
       "version_major": 2,
       "version_minor": 0
      },
      "text/plain": [
       "  0%|          | 0/50 [00:00<?, ?it/s]"
      ]
     },
     "metadata": {},
     "output_type": "display_data"
    },
    {
     "data": {
      "application/vnd.jupyter.widget-view+json": {
       "model_id": "1accc33789e9454992e4f8b9d4d2101b",
       "version_major": 2,
       "version_minor": 0
      },
      "text/plain": [
       "  0%|          | 0/250 [00:00<?, ?it/s]"
      ]
     },
     "metadata": {},
     "output_type": "display_data"
    },
    {
     "data": {
      "application/vnd.jupyter.widget-view+json": {
       "model_id": "247c2c9b54b146e2b085cd1a0026dd20",
       "version_major": 2,
       "version_minor": 0
      },
      "text/plain": [
       "  0%|          | 0/100 [00:00<?, ?it/s]"
      ]
     },
     "metadata": {},
     "output_type": "display_data"
    },
    {
     "data": {
      "application/vnd.jupyter.widget-view+json": {
       "model_id": "7da44b579fa843ba9ce0bf652c2dcc74",
       "version_major": 2,
       "version_minor": 0
      },
      "text/plain": [
       "  0%|          | 0/600 [00:00<?, ?it/s]"
      ]
     },
     "metadata": {},
     "output_type": "display_data"
    }
   ],
   "source": [
    "dev_translated = {k: [translate(ru) for er, ru in tqdm(v)] for k, v in dev.items()}"
   ]
  },
  {
   "cell_type": "code",
   "execution_count": null,
   "metadata": {
    "id": "SQMvR1EAYCFT"
   },
   "outputs": [],
   "source": [
    "from sacrebleu import CHRF, BLEU\n",
    "chrf_calc = CHRF(word_order=2)\n",
    "bleu_calc = BLEU()"
   ]
  },
  {
   "cell_type": "markdown",
   "metadata": {
    "id": "-NO7igseO8Gp"
   },
   "source": [
    "ChrF++ is 50, but BLEU is only 18. "
   ]
  },
  {
   "cell_type": "code",
   "execution_count": null,
   "metadata": {
    "colab": {
     "base_uri": "https://localhost:8080/"
    },
    "id": "adizqeXwWuGE",
    "outputId": "e327c7d1-f058-47e2-a606-f0532ab8b023"
   },
   "outputs": [
    {
     "name": "stdout",
     "output_type": "stream",
     "text": [
      "bible                36.45\n",
      "tales                37.33\n",
      "constitution         61.46\n",
      "games                29.37\n",
      "fiction              25.51\n",
      "wiki                 50.63\n",
      "41.821449810361266\n"
     ]
    }
   ],
   "source": [
    "for k in dev:\n",
    "    s = chrf_calc.corpus_score(dev_translated[k], [dev_target[k]]).score\n",
    "    print(f'{k:20s} {s:2.2f}')\n",
    "print(chrf_calc.corpus_score(\n",
    "    [t for k in dev_translated for t in dev_translated[k]], \n",
    "    [[t for k in dev_target for t in dev_target[k]]]\n",
    ").score)"
   ]
  },
  {
   "cell_type": "code",
   "execution_count": null,
   "metadata": {
    "colab": {
     "base_uri": "https://localhost:8080/"
    },
    "id": "GlXsAddveZrc",
    "outputId": "56ee4039-eaca-4247-df14-2fe3f32b4d15"
   },
   "outputs": [
    {
     "name": "stdout",
     "output_type": "stream",
     "text": [
      "bible                9.37\n",
      "tales                13.42\n",
      "constitution         25.54\n",
      "games                8.72\n",
      "fiction              7.39\n",
      "wiki                 30.55\n",
      "18.728524159764728\n"
     ]
    }
   ],
   "source": [
    "for k in dev:\n",
    "    s = bleu_calc.corpus_score(dev_translated[k], [dev_target[k]]).score\n",
    "    print(f'{k:20s} {s:2.2f}')\n",
    "\n",
    "print(bleu_calc.corpus_score(\n",
    "    [t for k in dev_translated for t in dev_translated[k]], \n",
    "    [[t for k in dev_target for t in dev_target[k]]]\n",
    ").score)"
   ]
  }
 ],
 "metadata": {
  "accelerator": "GPU",
  "colab": {
   "collapsed_sections": [],
   "provenance": []
  },
  "gpuClass": "standard",
  "kernelspec": {
   "display_name": "DataSphere Kernel",
   "language": "python",
   "name": "python3"
  },
  "language_info": {
   "codemirror_mode": {
    "name": "ipython",
    "version": 3
   },
   "file_extension": ".py",
   "mimetype": "text/x-python",
   "name": "python",
   "nbconvert_exporter": "python",
   "pygments_lexer": "ipython3",
   "version": "3.10.12"
  },
  "widgets": {
   "application/vnd.jupyter.widget-state+json": {
    "00a8adc069fa43a199266bbf75cea127": {
     "model_module": "@jupyter-widgets/controls",
     "model_module_version": "1.5.0",
     "model_name": "DescriptionStyleModel",
     "state": {
      "_model_module": "@jupyter-widgets/controls",
      "_model_module_version": "1.5.0",
      "_model_name": "DescriptionStyleModel",
      "_view_count": null,
      "_view_module": "@jupyter-widgets/base",
      "_view_module_version": "1.2.0",
      "_view_name": "StyleView",
      "description_width": ""
     }
    },
    "01dcca261c504ad6bc50c0969fd32a7f": {
     "model_module": "@jupyter-widgets/controls",
     "model_module_version": "1.5.0",
     "model_name": "DescriptionStyleModel",
     "state": {
      "_model_module": "@jupyter-widgets/controls",
      "_model_module_version": "1.5.0",
      "_model_name": "DescriptionStyleModel",
      "_view_count": null,
      "_view_module": "@jupyter-widgets/base",
      "_view_module_version": "1.2.0",
      "_view_name": "StyleView",
      "description_width": ""
     }
    },
    "075027ef0bd34cc4b627f0de007f5961": {
     "model_module": "@jupyter-widgets/base",
     "model_module_version": "1.2.0",
     "model_name": "LayoutModel",
     "state": {
      "_model_module": "@jupyter-widgets/base",
      "_model_module_version": "1.2.0",
      "_model_name": "LayoutModel",
      "_view_count": null,
      "_view_module": "@jupyter-widgets/base",
      "_view_module_version": "1.2.0",
      "_view_name": "LayoutView",
      "align_content": null,
      "align_items": null,
      "align_self": null,
      "border": null,
      "bottom": null,
      "display": null,
      "flex": null,
      "flex_flow": null,
      "grid_area": null,
      "grid_auto_columns": null,
      "grid_auto_flow": null,
      "grid_auto_rows": null,
      "grid_column": null,
      "grid_gap": null,
      "grid_row": null,
      "grid_template_areas": null,
      "grid_template_columns": null,
      "grid_template_rows": null,
      "height": null,
      "justify_content": null,
      "justify_items": null,
      "left": null,
      "margin": null,
      "max_height": null,
      "max_width": null,
      "min_height": null,
      "min_width": null,
      "object_fit": null,
      "object_position": null,
      "order": null,
      "overflow": null,
      "overflow_x": null,
      "overflow_y": null,
      "padding": null,
      "right": null,
      "top": null,
      "visibility": null,
      "width": null
     }
    },
    "0759796387cc427caf087a2620ef9f93": {
     "model_module": "@jupyter-widgets/controls",
     "model_module_version": "1.5.0",
     "model_name": "DescriptionStyleModel",
     "state": {
      "_model_module": "@jupyter-widgets/controls",
      "_model_module_version": "1.5.0",
      "_model_name": "DescriptionStyleModel",
      "_view_count": null,
      "_view_module": "@jupyter-widgets/base",
      "_view_module_version": "1.2.0",
      "_view_name": "StyleView",
      "description_width": ""
     }
    },
    "0dd5f20be4d64ed4a94feda04666ad9e": {
     "model_module": "@jupyter-widgets/base",
     "model_module_version": "1.2.0",
     "model_name": "LayoutModel",
     "state": {
      "_model_module": "@jupyter-widgets/base",
      "_model_module_version": "1.2.0",
      "_model_name": "LayoutModel",
      "_view_count": null,
      "_view_module": "@jupyter-widgets/base",
      "_view_module_version": "1.2.0",
      "_view_name": "LayoutView",
      "align_content": null,
      "align_items": null,
      "align_self": null,
      "border": null,
      "bottom": null,
      "display": null,
      "flex": null,
      "flex_flow": null,
      "grid_area": null,
      "grid_auto_columns": null,
      "grid_auto_flow": null,
      "grid_auto_rows": null,
      "grid_column": null,
      "grid_gap": null,
      "grid_row": null,
      "grid_template_areas": null,
      "grid_template_columns": null,
      "grid_template_rows": null,
      "height": null,
      "justify_content": null,
      "justify_items": null,
      "left": null,
      "margin": null,
      "max_height": null,
      "max_width": null,
      "min_height": null,
      "min_width": null,
      "object_fit": null,
      "object_position": null,
      "order": null,
      "overflow": null,
      "overflow_x": null,
      "overflow_y": null,
      "padding": null,
      "right": null,
      "top": null,
      "visibility": null,
      "width": null
     }
    },
    "12ff934d5aaf4522b53a0d5a1486d190": {
     "model_module": "@jupyter-widgets/base",
     "model_module_version": "1.2.0",
     "model_name": "LayoutModel",
     "state": {
      "_model_module": "@jupyter-widgets/base",
      "_model_module_version": "1.2.0",
      "_model_name": "LayoutModel",
      "_view_count": null,
      "_view_module": "@jupyter-widgets/base",
      "_view_module_version": "1.2.0",
      "_view_name": "LayoutView",
      "align_content": null,
      "align_items": null,
      "align_self": null,
      "border": null,
      "bottom": null,
      "display": null,
      "flex": null,
      "flex_flow": null,
      "grid_area": null,
      "grid_auto_columns": null,
      "grid_auto_flow": null,
      "grid_auto_rows": null,
      "grid_column": null,
      "grid_gap": null,
      "grid_row": null,
      "grid_template_areas": null,
      "grid_template_columns": null,
      "grid_template_rows": null,
      "height": null,
      "justify_content": null,
      "justify_items": null,
      "left": null,
      "margin": null,
      "max_height": null,
      "max_width": null,
      "min_height": null,
      "min_width": null,
      "object_fit": null,
      "object_position": null,
      "order": null,
      "overflow": null,
      "overflow_x": null,
      "overflow_y": null,
      "padding": null,
      "right": null,
      "top": null,
      "visibility": null,
      "width": null
     }
    },
    "17b95cb0baa944b7a9bb5196d0df225c": {
     "model_module": "@jupyter-widgets/controls",
     "model_module_version": "1.5.0",
     "model_name": "DescriptionStyleModel",
     "state": {
      "_model_module": "@jupyter-widgets/controls",
      "_model_module_version": "1.5.0",
      "_model_name": "DescriptionStyleModel",
      "_view_count": null,
      "_view_module": "@jupyter-widgets/base",
      "_view_module_version": "1.2.0",
      "_view_name": "StyleView",
      "description_width": ""
     }
    },
    "19c2a6cc49874c6b9387da8039d073a6": {
     "model_module": "@jupyter-widgets/controls",
     "model_module_version": "1.5.0",
     "model_name": "HBoxModel",
     "state": {
      "_dom_classes": [],
      "_model_module": "@jupyter-widgets/controls",
      "_model_module_version": "1.5.0",
      "_model_name": "HBoxModel",
      "_view_count": null,
      "_view_module": "@jupyter-widgets/controls",
      "_view_module_version": "1.5.0",
      "_view_name": "HBoxView",
      "box_style": "",
      "children": [
       "IPY_MODEL_330d5481be764aeb98aa99eab56447a3",
       "IPY_MODEL_4d68d2a6302e4de28cfa78c7696cbaa6",
       "IPY_MODEL_b8f3ba40fe834abfaf3f385894dd2648"
      ],
      "layout": "IPY_MODEL_2fa0916e8a864eeda3298b546c4a09ef"
     }
    },
    "1accc33789e9454992e4f8b9d4d2101b": {
     "model_module": "@jupyter-widgets/controls",
     "model_module_version": "1.5.0",
     "model_name": "HBoxModel",
     "state": {
      "_dom_classes": [],
      "_model_module": "@jupyter-widgets/controls",
      "_model_module_version": "1.5.0",
      "_model_name": "HBoxModel",
      "_view_count": null,
      "_view_module": "@jupyter-widgets/controls",
      "_view_module_version": "1.5.0",
      "_view_name": "HBoxView",
      "box_style": "",
      "children": [
       "IPY_MODEL_b96bf42d7fba483caa3dda671857ff90",
       "IPY_MODEL_35deb001d0f54a208ab184d9d30319e0",
       "IPY_MODEL_3c3df89dc0ec48fca935fab1a704987e"
      ],
      "layout": "IPY_MODEL_33af438b5fff4ebf9c653f0538f2f981"
     }
    },
    "1af1e64836cd4f20b1e9d7bb9fc1ded9": {
     "model_module": "@jupyter-widgets/controls",
     "model_module_version": "1.5.0",
     "model_name": "DescriptionStyleModel",
     "state": {
      "_model_module": "@jupyter-widgets/controls",
      "_model_module_version": "1.5.0",
      "_model_name": "DescriptionStyleModel",
      "_view_count": null,
      "_view_module": "@jupyter-widgets/base",
      "_view_module_version": "1.2.0",
      "_view_name": "StyleView",
      "description_width": ""
     }
    },
    "1b6c7737a7724ef9be61f6931236bcb8": {
     "model_module": "@jupyter-widgets/controls",
     "model_module_version": "1.5.0",
     "model_name": "HBoxModel",
     "state": {
      "_dom_classes": [],
      "_model_module": "@jupyter-widgets/controls",
      "_model_module_version": "1.5.0",
      "_model_name": "HBoxModel",
      "_view_count": null,
      "_view_module": "@jupyter-widgets/controls",
      "_view_module_version": "1.5.0",
      "_view_name": "HBoxView",
      "box_style": "",
      "children": [
       "IPY_MODEL_5ee0c0386ca14eeea3d890f192d912c6",
       "IPY_MODEL_43c5fe3b81624c5c82902780d146865f",
       "IPY_MODEL_c2cd640d6712496994e82b828d733bba"
      ],
      "layout": "IPY_MODEL_5bee1ae7b7c947b189aae9c147d9f7f7"
     }
    },
    "1df73e15fde848058ff01704645d5ebc": {
     "model_module": "@jupyter-widgets/controls",
     "model_module_version": "1.5.0",
     "model_name": "ProgressStyleModel",
     "state": {
      "_model_module": "@jupyter-widgets/controls",
      "_model_module_version": "1.5.0",
      "_model_name": "ProgressStyleModel",
      "_view_count": null,
      "_view_module": "@jupyter-widgets/base",
      "_view_module_version": "1.2.0",
      "_view_name": "StyleView",
      "bar_color": null,
      "description_width": ""
     }
    },
    "1e99b03f26274e6f9f535b398101bb27": {
     "model_module": "@jupyter-widgets/controls",
     "model_module_version": "1.5.0",
     "model_name": "DescriptionStyleModel",
     "state": {
      "_model_module": "@jupyter-widgets/controls",
      "_model_module_version": "1.5.0",
      "_model_name": "DescriptionStyleModel",
      "_view_count": null,
      "_view_module": "@jupyter-widgets/base",
      "_view_module_version": "1.2.0",
      "_view_name": "StyleView",
      "description_width": ""
     }
    },
    "22b9243c02394005b1f5debde6e46fa4": {
     "model_module": "@jupyter-widgets/controls",
     "model_module_version": "1.5.0",
     "model_name": "FloatProgressModel",
     "state": {
      "_dom_classes": [],
      "_model_module": "@jupyter-widgets/controls",
      "_model_module_version": "1.5.0",
      "_model_name": "FloatProgressModel",
      "_view_count": null,
      "_view_module": "@jupyter-widgets/controls",
      "_view_module_version": "1.5.0",
      "_view_name": "ProgressView",
      "bar_style": "success",
      "description": "",
      "description_tooltip": null,
      "layout": "IPY_MODEL_d641c5568782454b8eb2ff1dcd89c832",
      "max": 400,
      "min": 0,
      "orientation": "horizontal",
      "style": "IPY_MODEL_6cccc4cc19b44407afc565592615d358",
      "value": 400
     }
    },
    "23032c2358844822bd0d000f31dbf5e5": {
     "model_module": "@jupyter-widgets/base",
     "model_module_version": "1.2.0",
     "model_name": "LayoutModel",
     "state": {
      "_model_module": "@jupyter-widgets/base",
      "_model_module_version": "1.2.0",
      "_model_name": "LayoutModel",
      "_view_count": null,
      "_view_module": "@jupyter-widgets/base",
      "_view_module_version": "1.2.0",
      "_view_name": "LayoutView",
      "align_content": null,
      "align_items": null,
      "align_self": null,
      "border": null,
      "bottom": null,
      "display": null,
      "flex": null,
      "flex_flow": null,
      "grid_area": null,
      "grid_auto_columns": null,
      "grid_auto_flow": null,
      "grid_auto_rows": null,
      "grid_column": null,
      "grid_gap": null,
      "grid_row": null,
      "grid_template_areas": null,
      "grid_template_columns": null,
      "grid_template_rows": null,
      "height": null,
      "justify_content": null,
      "justify_items": null,
      "left": null,
      "margin": null,
      "max_height": null,
      "max_width": null,
      "min_height": null,
      "min_width": null,
      "object_fit": null,
      "object_position": null,
      "order": null,
      "overflow": null,
      "overflow_x": null,
      "overflow_y": null,
      "padding": null,
      "right": null,
      "top": null,
      "visibility": null,
      "width": null
     }
    },
    "247c2c9b54b146e2b085cd1a0026dd20": {
     "model_module": "@jupyter-widgets/controls",
     "model_module_version": "1.5.0",
     "model_name": "HBoxModel",
     "state": {
      "_dom_classes": [],
      "_model_module": "@jupyter-widgets/controls",
      "_model_module_version": "1.5.0",
      "_model_name": "HBoxModel",
      "_view_count": null,
      "_view_module": "@jupyter-widgets/controls",
      "_view_module_version": "1.5.0",
      "_view_name": "HBoxView",
      "box_style": "",
      "children": [
       "IPY_MODEL_ff22e7bc1a6a4f2384093d120cbb567a",
       "IPY_MODEL_37d705c9973248cd8c6fc96a149f4725",
       "IPY_MODEL_8bf621fe1a1f4e60838bde2bbefc23ce"
      ],
      "layout": "IPY_MODEL_636f55d8b58f47bd90db942f6aa54288"
     }
    },
    "25de90b5a7534ac6a6c8fbc314f80843": {
     "model_module": "@jupyter-widgets/base",
     "model_module_version": "1.2.0",
     "model_name": "LayoutModel",
     "state": {
      "_model_module": "@jupyter-widgets/base",
      "_model_module_version": "1.2.0",
      "_model_name": "LayoutModel",
      "_view_count": null,
      "_view_module": "@jupyter-widgets/base",
      "_view_module_version": "1.2.0",
      "_view_name": "LayoutView",
      "align_content": null,
      "align_items": null,
      "align_self": null,
      "border": null,
      "bottom": null,
      "display": null,
      "flex": null,
      "flex_flow": null,
      "grid_area": null,
      "grid_auto_columns": null,
      "grid_auto_flow": null,
      "grid_auto_rows": null,
      "grid_column": null,
      "grid_gap": null,
      "grid_row": null,
      "grid_template_areas": null,
      "grid_template_columns": null,
      "grid_template_rows": null,
      "height": null,
      "justify_content": null,
      "justify_items": null,
      "left": null,
      "margin": null,
      "max_height": null,
      "max_width": null,
      "min_height": null,
      "min_width": null,
      "object_fit": null,
      "object_position": null,
      "order": null,
      "overflow": null,
      "overflow_x": null,
      "overflow_y": null,
      "padding": null,
      "right": null,
      "top": null,
      "visibility": null,
      "width": null
     }
    },
    "284f90c5010046faa39ad4861a130d94": {
     "model_module": "@jupyter-widgets/base",
     "model_module_version": "1.2.0",
     "model_name": "LayoutModel",
     "state": {
      "_model_module": "@jupyter-widgets/base",
      "_model_module_version": "1.2.0",
      "_model_name": "LayoutModel",
      "_view_count": null,
      "_view_module": "@jupyter-widgets/base",
      "_view_module_version": "1.2.0",
      "_view_name": "LayoutView",
      "align_content": null,
      "align_items": null,
      "align_self": null,
      "border": null,
      "bottom": null,
      "display": null,
      "flex": null,
      "flex_flow": null,
      "grid_area": null,
      "grid_auto_columns": null,
      "grid_auto_flow": null,
      "grid_auto_rows": null,
      "grid_column": null,
      "grid_gap": null,
      "grid_row": null,
      "grid_template_areas": null,
      "grid_template_columns": null,
      "grid_template_rows": null,
      "height": null,
      "justify_content": null,
      "justify_items": null,
      "left": null,
      "margin": null,
      "max_height": null,
      "max_width": null,
      "min_height": null,
      "min_width": null,
      "object_fit": null,
      "object_position": null,
      "order": null,
      "overflow": null,
      "overflow_x": null,
      "overflow_y": null,
      "padding": null,
      "right": null,
      "top": null,
      "visibility": null,
      "width": null
     }
    },
    "28ef72e995bc4641aafe0008753e6b81": {
     "model_module": "@jupyter-widgets/controls",
     "model_module_version": "1.5.0",
     "model_name": "HBoxModel",
     "state": {
      "_dom_classes": [],
      "_model_module": "@jupyter-widgets/controls",
      "_model_module_version": "1.5.0",
      "_model_name": "HBoxModel",
      "_view_count": null,
      "_view_module": "@jupyter-widgets/controls",
      "_view_module_version": "1.5.0",
      "_view_name": "HBoxView",
      "box_style": "",
      "children": [
       "IPY_MODEL_afa42fcd06b149b895860e4e093d5c6e",
       "IPY_MODEL_c29226e49c3942e289dd5ee13ba92958",
       "IPY_MODEL_eae6462c744c46b8941fc00b3e950819"
      ],
      "layout": "IPY_MODEL_61b1ba6ddd214795b5fa107f1fef8cc7"
     }
    },
    "2d64afa326b7417c9f13861b7e9092cb": {
     "model_module": "@jupyter-widgets/controls",
     "model_module_version": "1.5.0",
     "model_name": "HTMLModel",
     "state": {
      "_dom_classes": [],
      "_model_module": "@jupyter-widgets/controls",
      "_model_module_version": "1.5.0",
      "_model_name": "HTMLModel",
      "_view_count": null,
      "_view_module": "@jupyter-widgets/controls",
      "_view_module_version": "1.5.0",
      "_view_name": "HTMLView",
      "description": "",
      "description_tooltip": null,
      "layout": "IPY_MODEL_ecdf402605ed4bcab4f84a4351bc8551",
      "placeholder": "​",
      "style": "IPY_MODEL_17b95cb0baa944b7a9bb5196d0df225c",
      "value": " 51019/51019 [3:55:52&lt;00:00,  4.15it/s]"
     }
    },
    "2dd90a3323e048aea0289aad2c6c807a": {
     "model_module": "@jupyter-widgets/controls",
     "model_module_version": "1.5.0",
     "model_name": "HBoxModel",
     "state": {
      "_dom_classes": [],
      "_model_module": "@jupyter-widgets/controls",
      "_model_module_version": "1.5.0",
      "_model_name": "HBoxModel",
      "_view_count": null,
      "_view_module": "@jupyter-widgets/controls",
      "_view_module_version": "1.5.0",
      "_view_name": "HBoxView",
      "box_style": "",
      "children": [
       "IPY_MODEL_61e24a9193c046e383b092208c7ffa17",
       "IPY_MODEL_b269f730807f4a938c6bcdcde102e9fe",
       "IPY_MODEL_2d64afa326b7417c9f13861b7e9092cb"
      ],
      "layout": "IPY_MODEL_3f68700e36894821944120c0179bbde1"
     }
    },
    "2fa0916e8a864eeda3298b546c4a09ef": {
     "model_module": "@jupyter-widgets/base",
     "model_module_version": "1.2.0",
     "model_name": "LayoutModel",
     "state": {
      "_model_module": "@jupyter-widgets/base",
      "_model_module_version": "1.2.0",
      "_model_name": "LayoutModel",
      "_view_count": null,
      "_view_module": "@jupyter-widgets/base",
      "_view_module_version": "1.2.0",
      "_view_name": "LayoutView",
      "align_content": null,
      "align_items": null,
      "align_self": null,
      "border": null,
      "bottom": null,
      "display": null,
      "flex": null,
      "flex_flow": null,
      "grid_area": null,
      "grid_auto_columns": null,
      "grid_auto_flow": null,
      "grid_auto_rows": null,
      "grid_column": null,
      "grid_gap": null,
      "grid_row": null,
      "grid_template_areas": null,
      "grid_template_columns": null,
      "grid_template_rows": null,
      "height": null,
      "justify_content": null,
      "justify_items": null,
      "left": null,
      "margin": null,
      "max_height": null,
      "max_width": null,
      "min_height": null,
      "min_width": null,
      "object_fit": null,
      "object_position": null,
      "order": null,
      "overflow": null,
      "overflow_x": null,
      "overflow_y": null,
      "padding": null,
      "right": null,
      "top": null,
      "visibility": null,
      "width": null
     }
    },
    "330d5481be764aeb98aa99eab56447a3": {
     "model_module": "@jupyter-widgets/controls",
     "model_module_version": "1.5.0",
     "model_name": "HTMLModel",
     "state": {
      "_dom_classes": [],
      "_model_module": "@jupyter-widgets/controls",
      "_model_module_version": "1.5.0",
      "_model_name": "HTMLModel",
      "_view_count": null,
      "_view_module": "@jupyter-widgets/controls",
      "_view_module_version": "1.5.0",
      "_view_name": "HTMLView",
      "description": "",
      "description_tooltip": null,
      "layout": "IPY_MODEL_80ceb9d526d7432a864a8e217b5c3827",
      "placeholder": "​",
      "style": "IPY_MODEL_9d8c2e66700b4882b79bce61b9feddf1",
      "value": "100%"
     }
    },
    "33af438b5fff4ebf9c653f0538f2f981": {
     "model_module": "@jupyter-widgets/base",
     "model_module_version": "1.2.0",
     "model_name": "LayoutModel",
     "state": {
      "_model_module": "@jupyter-widgets/base",
      "_model_module_version": "1.2.0",
      "_model_name": "LayoutModel",
      "_view_count": null,
      "_view_module": "@jupyter-widgets/base",
      "_view_module_version": "1.2.0",
      "_view_name": "LayoutView",
      "align_content": null,
      "align_items": null,
      "align_self": null,
      "border": null,
      "bottom": null,
      "display": null,
      "flex": null,
      "flex_flow": null,
      "grid_area": null,
      "grid_auto_columns": null,
      "grid_auto_flow": null,
      "grid_auto_rows": null,
      "grid_column": null,
      "grid_gap": null,
      "grid_row": null,
      "grid_template_areas": null,
      "grid_template_columns": null,
      "grid_template_rows": null,
      "height": null,
      "justify_content": null,
      "justify_items": null,
      "left": null,
      "margin": null,
      "max_height": null,
      "max_width": null,
      "min_height": null,
      "min_width": null,
      "object_fit": null,
      "object_position": null,
      "order": null,
      "overflow": null,
      "overflow_x": null,
      "overflow_y": null,
      "padding": null,
      "right": null,
      "top": null,
      "visibility": null,
      "width": null
     }
    },
    "35deb001d0f54a208ab184d9d30319e0": {
     "model_module": "@jupyter-widgets/controls",
     "model_module_version": "1.5.0",
     "model_name": "FloatProgressModel",
     "state": {
      "_dom_classes": [],
      "_model_module": "@jupyter-widgets/controls",
      "_model_module_version": "1.5.0",
      "_model_name": "FloatProgressModel",
      "_view_count": null,
      "_view_module": "@jupyter-widgets/controls",
      "_view_module_version": "1.5.0",
      "_view_name": "ProgressView",
      "bar_style": "success",
      "description": "",
      "description_tooltip": null,
      "layout": "IPY_MODEL_45df1f82d38b4c82a5ed22f0c488aa3f",
      "max": 250,
      "min": 0,
      "orientation": "horizontal",
      "style": "IPY_MODEL_1df73e15fde848058ff01704645d5ebc",
      "value": 250
     }
    },
    "36028cdfc3c743fd810be42de10c51ec": {
     "model_module": "@jupyter-widgets/controls",
     "model_module_version": "1.5.0",
     "model_name": "HBoxModel",
     "state": {
      "_dom_classes": [],
      "_model_module": "@jupyter-widgets/controls",
      "_model_module_version": "1.5.0",
      "_model_name": "HBoxModel",
      "_view_count": null,
      "_view_module": "@jupyter-widgets/controls",
      "_view_module_version": "1.5.0",
      "_view_name": "HBoxView",
      "box_style": "",
      "children": [
       "IPY_MODEL_4e1878e7e37849ddabeb89e0417bdf87",
       "IPY_MODEL_4b6bfbeebd8e499488d5c2d498c21763",
       "IPY_MODEL_5d14796336e64193a8fe8e46d9d8b508"
      ],
      "layout": "IPY_MODEL_c46f8565cd8d4f03a04565724479fea9"
     }
    },
    "36b5327f8e5b429fb0a7da2eb238b9b4": {
     "model_module": "@jupyter-widgets/base",
     "model_module_version": "1.2.0",
     "model_name": "LayoutModel",
     "state": {
      "_model_module": "@jupyter-widgets/base",
      "_model_module_version": "1.2.0",
      "_model_name": "LayoutModel",
      "_view_count": null,
      "_view_module": "@jupyter-widgets/base",
      "_view_module_version": "1.2.0",
      "_view_name": "LayoutView",
      "align_content": null,
      "align_items": null,
      "align_self": null,
      "border": null,
      "bottom": null,
      "display": null,
      "flex": null,
      "flex_flow": null,
      "grid_area": null,
      "grid_auto_columns": null,
      "grid_auto_flow": null,
      "grid_auto_rows": null,
      "grid_column": null,
      "grid_gap": null,
      "grid_row": null,
      "grid_template_areas": null,
      "grid_template_columns": null,
      "grid_template_rows": null,
      "height": null,
      "justify_content": null,
      "justify_items": null,
      "left": null,
      "margin": null,
      "max_height": null,
      "max_width": null,
      "min_height": null,
      "min_width": null,
      "object_fit": null,
      "object_position": null,
      "order": null,
      "overflow": null,
      "overflow_x": null,
      "overflow_y": null,
      "padding": null,
      "right": null,
      "top": null,
      "visibility": null,
      "width": null
     }
    },
    "37d705c9973248cd8c6fc96a149f4725": {
     "model_module": "@jupyter-widgets/controls",
     "model_module_version": "1.5.0",
     "model_name": "FloatProgressModel",
     "state": {
      "_dom_classes": [],
      "_model_module": "@jupyter-widgets/controls",
      "_model_module_version": "1.5.0",
      "_model_name": "FloatProgressModel",
      "_view_count": null,
      "_view_module": "@jupyter-widgets/controls",
      "_view_module_version": "1.5.0",
      "_view_name": "ProgressView",
      "bar_style": "success",
      "description": "",
      "description_tooltip": null,
      "layout": "IPY_MODEL_23032c2358844822bd0d000f31dbf5e5",
      "max": 100,
      "min": 0,
      "orientation": "horizontal",
      "style": "IPY_MODEL_d46435cf063f4e80b2f0a92736325486",
      "value": 100
     }
    },
    "39b9a7efc89e42e3b5e5d4712a56b4bd": {
     "model_module": "@jupyter-widgets/controls",
     "model_module_version": "1.5.0",
     "model_name": "HTMLModel",
     "state": {
      "_dom_classes": [],
      "_model_module": "@jupyter-widgets/controls",
      "_model_module_version": "1.5.0",
      "_model_name": "HTMLModel",
      "_view_count": null,
      "_view_module": "@jupyter-widgets/controls",
      "_view_module_version": "1.5.0",
      "_view_name": "HTMLView",
      "description": "",
      "description_tooltip": null,
      "layout": "IPY_MODEL_b9903ebe17ab4b6baa27c3cdd90e4771",
      "placeholder": "​",
      "style": "IPY_MODEL_1e99b03f26274e6f9f535b398101bb27",
      "value": "100%"
     }
    },
    "3c3df89dc0ec48fca935fab1a704987e": {
     "model_module": "@jupyter-widgets/controls",
     "model_module_version": "1.5.0",
     "model_name": "HTMLModel",
     "state": {
      "_dom_classes": [],
      "_model_module": "@jupyter-widgets/controls",
      "_model_module_version": "1.5.0",
      "_model_name": "HTMLModel",
      "_view_count": null,
      "_view_module": "@jupyter-widgets/controls",
      "_view_module_version": "1.5.0",
      "_view_name": "HTMLView",
      "description": "",
      "description_tooltip": null,
      "layout": "IPY_MODEL_a3e1c48ea88c42369041ff4f902f9865",
      "placeholder": "​",
      "style": "IPY_MODEL_623de4dc0e8541bc844e3ebe61bc95b4",
      "value": " 250/250 [01:37&lt;00:00,  2.88it/s]"
     }
    },
    "3f68700e36894821944120c0179bbde1": {
     "model_module": "@jupyter-widgets/base",
     "model_module_version": "1.2.0",
     "model_name": "LayoutModel",
     "state": {
      "_model_module": "@jupyter-widgets/base",
      "_model_module_version": "1.2.0",
      "_model_name": "LayoutModel",
      "_view_count": null,
      "_view_module": "@jupyter-widgets/base",
      "_view_module_version": "1.2.0",
      "_view_name": "LayoutView",
      "align_content": null,
      "align_items": null,
      "align_self": null,
      "border": null,
      "bottom": null,
      "display": null,
      "flex": null,
      "flex_flow": null,
      "grid_area": null,
      "grid_auto_columns": null,
      "grid_auto_flow": null,
      "grid_auto_rows": null,
      "grid_column": null,
      "grid_gap": null,
      "grid_row": null,
      "grid_template_areas": null,
      "grid_template_columns": null,
      "grid_template_rows": null,
      "height": null,
      "justify_content": null,
      "justify_items": null,
      "left": null,
      "margin": null,
      "max_height": null,
      "max_width": null,
      "min_height": null,
      "min_width": null,
      "object_fit": null,
      "object_position": null,
      "order": null,
      "overflow": null,
      "overflow_x": null,
      "overflow_y": null,
      "padding": null,
      "right": null,
      "top": null,
      "visibility": null,
      "width": null
     }
    },
    "42e5dc04341a49cc95b0ac0a73df3c5c": {
     "model_module": "@jupyter-widgets/controls",
     "model_module_version": "1.5.0",
     "model_name": "DescriptionStyleModel",
     "state": {
      "_model_module": "@jupyter-widgets/controls",
      "_model_module_version": "1.5.0",
      "_model_name": "DescriptionStyleModel",
      "_view_count": null,
      "_view_module": "@jupyter-widgets/base",
      "_view_module_version": "1.2.0",
      "_view_name": "StyleView",
      "description_width": ""
     }
    },
    "43c5fe3b81624c5c82902780d146865f": {
     "model_module": "@jupyter-widgets/controls",
     "model_module_version": "1.5.0",
     "model_name": "FloatProgressModel",
     "state": {
      "_dom_classes": [],
      "_model_module": "@jupyter-widgets/controls",
      "_model_module_version": "1.5.0",
      "_model_name": "FloatProgressModel",
      "_view_count": null,
      "_view_module": "@jupyter-widgets/controls",
      "_view_module_version": "1.5.0",
      "_view_name": "ProgressView",
      "bar_style": "success",
      "description": "",
      "description_tooltip": null,
      "layout": "IPY_MODEL_f96db6ef5aa644e8be36c012165f4e8f",
      "max": 51019,
      "min": 0,
      "orientation": "horizontal",
      "style": "IPY_MODEL_8d93c30851944aeba13e5734d65354d2",
      "value": 51019
     }
    },
    "44ab5a0fd0064926a5ff236a0c359e07": {
     "model_module": "@jupyter-widgets/controls",
     "model_module_version": "1.5.0",
     "model_name": "DescriptionStyleModel",
     "state": {
      "_model_module": "@jupyter-widgets/controls",
      "_model_module_version": "1.5.0",
      "_model_name": "DescriptionStyleModel",
      "_view_count": null,
      "_view_module": "@jupyter-widgets/base",
      "_view_module_version": "1.2.0",
      "_view_name": "StyleView",
      "description_width": ""
     }
    },
    "45df1f82d38b4c82a5ed22f0c488aa3f": {
     "model_module": "@jupyter-widgets/base",
     "model_module_version": "1.2.0",
     "model_name": "LayoutModel",
     "state": {
      "_model_module": "@jupyter-widgets/base",
      "_model_module_version": "1.2.0",
      "_model_name": "LayoutModel",
      "_view_count": null,
      "_view_module": "@jupyter-widgets/base",
      "_view_module_version": "1.2.0",
      "_view_name": "LayoutView",
      "align_content": null,
      "align_items": null,
      "align_self": null,
      "border": null,
      "bottom": null,
      "display": null,
      "flex": null,
      "flex_flow": null,
      "grid_area": null,
      "grid_auto_columns": null,
      "grid_auto_flow": null,
      "grid_auto_rows": null,
      "grid_column": null,
      "grid_gap": null,
      "grid_row": null,
      "grid_template_areas": null,
      "grid_template_columns": null,
      "grid_template_rows": null,
      "height": null,
      "justify_content": null,
      "justify_items": null,
      "left": null,
      "margin": null,
      "max_height": null,
      "max_width": null,
      "min_height": null,
      "min_width": null,
      "object_fit": null,
      "object_position": null,
      "order": null,
      "overflow": null,
      "overflow_x": null,
      "overflow_y": null,
      "padding": null,
      "right": null,
      "top": null,
      "visibility": null,
      "width": null
     }
    },
    "4685574ac48c48f49680c4c336916740": {
     "model_module": "@jupyter-widgets/controls",
     "model_module_version": "1.5.0",
     "model_name": "HBoxModel",
     "state": {
      "_dom_classes": [],
      "_model_module": "@jupyter-widgets/controls",
      "_model_module_version": "1.5.0",
      "_model_name": "HBoxModel",
      "_view_count": null,
      "_view_module": "@jupyter-widgets/controls",
      "_view_module_version": "1.5.0",
      "_view_name": "HBoxView",
      "box_style": "",
      "children": [
       "IPY_MODEL_ae934b47f6ab442aa23693c2dd5a2c4f",
       "IPY_MODEL_8ccf50278d5745bc9a5a22bc04ffa634",
       "IPY_MODEL_c4823f7180274e85a160f207861e5936"
      ],
      "layout": "IPY_MODEL_57282569a98b4439b2ef261367cf57a1"
     }
    },
    "48b4af3643724c15b285f2c0d84be43d": {
     "model_module": "@jupyter-widgets/controls",
     "model_module_version": "1.5.0",
     "model_name": "DescriptionStyleModel",
     "state": {
      "_model_module": "@jupyter-widgets/controls",
      "_model_module_version": "1.5.0",
      "_model_name": "DescriptionStyleModel",
      "_view_count": null,
      "_view_module": "@jupyter-widgets/base",
      "_view_module_version": "1.2.0",
      "_view_name": "StyleView",
      "description_width": ""
     }
    },
    "4b6bfbeebd8e499488d5c2d498c21763": {
     "model_module": "@jupyter-widgets/controls",
     "model_module_version": "1.5.0",
     "model_name": "FloatProgressModel",
     "state": {
      "_dom_classes": [],
      "_model_module": "@jupyter-widgets/controls",
      "_model_module_version": "1.5.0",
      "_model_name": "FloatProgressModel",
      "_view_count": null,
      "_view_module": "@jupyter-widgets/controls",
      "_view_module_version": "1.5.0",
      "_view_name": "ProgressView",
      "bar_style": "success",
      "description": "",
      "description_tooltip": null,
      "layout": "IPY_MODEL_764154c0d77c4cb5a849c4201c0acb64",
      "max": 51019,
      "min": 0,
      "orientation": "horizontal",
      "style": "IPY_MODEL_7804911bf1194e46b446512d5fd55d39",
      "value": 51019
     }
    },
    "4d68d2a6302e4de28cfa78c7696cbaa6": {
     "model_module": "@jupyter-widgets/controls",
     "model_module_version": "1.5.0",
     "model_name": "FloatProgressModel",
     "state": {
      "_dom_classes": [],
      "_model_module": "@jupyter-widgets/controls",
      "_model_module_version": "1.5.0",
      "_model_name": "FloatProgressModel",
      "_view_count": null,
      "_view_module": "@jupyter-widgets/controls",
      "_view_module_version": "1.5.0",
      "_view_name": "ProgressView",
      "bar_style": "success",
      "description": "",
      "description_tooltip": null,
      "layout": "IPY_MODEL_eb223dd3ec3049a0890e1f55521f806c",
      "max": 51019,
      "min": 0,
      "orientation": "horizontal",
      "style": "IPY_MODEL_e83cb83d18aa4626aa3d21753b636780",
      "value": 51019
     }
    },
    "4ddf2b00cd5548499c892bd60a4ca13a": {
     "model_module": "@jupyter-widgets/base",
     "model_module_version": "1.2.0",
     "model_name": "LayoutModel",
     "state": {
      "_model_module": "@jupyter-widgets/base",
      "_model_module_version": "1.2.0",
      "_model_name": "LayoutModel",
      "_view_count": null,
      "_view_module": "@jupyter-widgets/base",
      "_view_module_version": "1.2.0",
      "_view_name": "LayoutView",
      "align_content": null,
      "align_items": null,
      "align_self": null,
      "border": null,
      "bottom": null,
      "display": null,
      "flex": null,
      "flex_flow": null,
      "grid_area": null,
      "grid_auto_columns": null,
      "grid_auto_flow": null,
      "grid_auto_rows": null,
      "grid_column": null,
      "grid_gap": null,
      "grid_row": null,
      "grid_template_areas": null,
      "grid_template_columns": null,
      "grid_template_rows": null,
      "height": null,
      "justify_content": null,
      "justify_items": null,
      "left": null,
      "margin": null,
      "max_height": null,
      "max_width": null,
      "min_height": null,
      "min_width": null,
      "object_fit": null,
      "object_position": null,
      "order": null,
      "overflow": null,
      "overflow_x": null,
      "overflow_y": null,
      "padding": null,
      "right": null,
      "top": null,
      "visibility": null,
      "width": null
     }
    },
    "4e1878e7e37849ddabeb89e0417bdf87": {
     "model_module": "@jupyter-widgets/controls",
     "model_module_version": "1.5.0",
     "model_name": "HTMLModel",
     "state": {
      "_dom_classes": [],
      "_model_module": "@jupyter-widgets/controls",
      "_model_module_version": "1.5.0",
      "_model_name": "HTMLModel",
      "_view_count": null,
      "_view_module": "@jupyter-widgets/controls",
      "_view_module_version": "1.5.0",
      "_view_name": "HTMLView",
      "description": "",
      "description_tooltip": null,
      "layout": "IPY_MODEL_e2c32dcce2124722b0661e76741dae00",
      "placeholder": "​",
      "style": "IPY_MODEL_79591d81745942a3870b32d9f9e4e8ba",
      "value": "100%"
     }
    },
    "53cbe909a30f4fec9974c459c97e07ab": {
     "model_module": "@jupyter-widgets/base",
     "model_module_version": "1.2.0",
     "model_name": "LayoutModel",
     "state": {
      "_model_module": "@jupyter-widgets/base",
      "_model_module_version": "1.2.0",
      "_model_name": "LayoutModel",
      "_view_count": null,
      "_view_module": "@jupyter-widgets/base",
      "_view_module_version": "1.2.0",
      "_view_name": "LayoutView",
      "align_content": null,
      "align_items": null,
      "align_self": null,
      "border": null,
      "bottom": null,
      "display": null,
      "flex": null,
      "flex_flow": null,
      "grid_area": null,
      "grid_auto_columns": null,
      "grid_auto_flow": null,
      "grid_auto_rows": null,
      "grid_column": null,
      "grid_gap": null,
      "grid_row": null,
      "grid_template_areas": null,
      "grid_template_columns": null,
      "grid_template_rows": null,
      "height": null,
      "justify_content": null,
      "justify_items": null,
      "left": null,
      "margin": null,
      "max_height": null,
      "max_width": null,
      "min_height": null,
      "min_width": null,
      "object_fit": null,
      "object_position": null,
      "order": null,
      "overflow": null,
      "overflow_x": null,
      "overflow_y": null,
      "padding": null,
      "right": null,
      "top": null,
      "visibility": null,
      "width": null
     }
    },
    "57282569a98b4439b2ef261367cf57a1": {
     "model_module": "@jupyter-widgets/base",
     "model_module_version": "1.2.0",
     "model_name": "LayoutModel",
     "state": {
      "_model_module": "@jupyter-widgets/base",
      "_model_module_version": "1.2.0",
      "_model_name": "LayoutModel",
      "_view_count": null,
      "_view_module": "@jupyter-widgets/base",
      "_view_module_version": "1.2.0",
      "_view_name": "LayoutView",
      "align_content": null,
      "align_items": null,
      "align_self": null,
      "border": null,
      "bottom": null,
      "display": null,
      "flex": null,
      "flex_flow": null,
      "grid_area": null,
      "grid_auto_columns": null,
      "grid_auto_flow": null,
      "grid_auto_rows": null,
      "grid_column": null,
      "grid_gap": null,
      "grid_row": null,
      "grid_template_areas": null,
      "grid_template_columns": null,
      "grid_template_rows": null,
      "height": null,
      "justify_content": null,
      "justify_items": null,
      "left": null,
      "margin": null,
      "max_height": null,
      "max_width": null,
      "min_height": null,
      "min_width": null,
      "object_fit": null,
      "object_position": null,
      "order": null,
      "overflow": null,
      "overflow_x": null,
      "overflow_y": null,
      "padding": null,
      "right": null,
      "top": null,
      "visibility": null,
      "width": null
     }
    },
    "5763abb3b7d84b4eb39869d9d77e1cf5": {
     "model_module": "@jupyter-widgets/base",
     "model_module_version": "1.2.0",
     "model_name": "LayoutModel",
     "state": {
      "_model_module": "@jupyter-widgets/base",
      "_model_module_version": "1.2.0",
      "_model_name": "LayoutModel",
      "_view_count": null,
      "_view_module": "@jupyter-widgets/base",
      "_view_module_version": "1.2.0",
      "_view_name": "LayoutView",
      "align_content": null,
      "align_items": null,
      "align_self": null,
      "border": null,
      "bottom": null,
      "display": null,
      "flex": null,
      "flex_flow": null,
      "grid_area": null,
      "grid_auto_columns": null,
      "grid_auto_flow": null,
      "grid_auto_rows": null,
      "grid_column": null,
      "grid_gap": null,
      "grid_row": null,
      "grid_template_areas": null,
      "grid_template_columns": null,
      "grid_template_rows": null,
      "height": null,
      "justify_content": null,
      "justify_items": null,
      "left": null,
      "margin": null,
      "max_height": null,
      "max_width": null,
      "min_height": null,
      "min_width": null,
      "object_fit": null,
      "object_position": null,
      "order": null,
      "overflow": null,
      "overflow_x": null,
      "overflow_y": null,
      "padding": null,
      "right": null,
      "top": null,
      "visibility": null,
      "width": null
     }
    },
    "5bee1ae7b7c947b189aae9c147d9f7f7": {
     "model_module": "@jupyter-widgets/base",
     "model_module_version": "1.2.0",
     "model_name": "LayoutModel",
     "state": {
      "_model_module": "@jupyter-widgets/base",
      "_model_module_version": "1.2.0",
      "_model_name": "LayoutModel",
      "_view_count": null,
      "_view_module": "@jupyter-widgets/base",
      "_view_module_version": "1.2.0",
      "_view_name": "LayoutView",
      "align_content": null,
      "align_items": null,
      "align_self": null,
      "border": null,
      "bottom": null,
      "display": null,
      "flex": null,
      "flex_flow": null,
      "grid_area": null,
      "grid_auto_columns": null,
      "grid_auto_flow": null,
      "grid_auto_rows": null,
      "grid_column": null,
      "grid_gap": null,
      "grid_row": null,
      "grid_template_areas": null,
      "grid_template_columns": null,
      "grid_template_rows": null,
      "height": null,
      "justify_content": null,
      "justify_items": null,
      "left": null,
      "margin": null,
      "max_height": null,
      "max_width": null,
      "min_height": null,
      "min_width": null,
      "object_fit": null,
      "object_position": null,
      "order": null,
      "overflow": null,
      "overflow_x": null,
      "overflow_y": null,
      "padding": null,
      "right": null,
      "top": null,
      "visibility": null,
      "width": null
     }
    },
    "5cdafc0673b74674ab97800d8e288842": {
     "model_module": "@jupyter-widgets/base",
     "model_module_version": "1.2.0",
     "model_name": "LayoutModel",
     "state": {
      "_model_module": "@jupyter-widgets/base",
      "_model_module_version": "1.2.0",
      "_model_name": "LayoutModel",
      "_view_count": null,
      "_view_module": "@jupyter-widgets/base",
      "_view_module_version": "1.2.0",
      "_view_name": "LayoutView",
      "align_content": null,
      "align_items": null,
      "align_self": null,
      "border": null,
      "bottom": null,
      "display": null,
      "flex": null,
      "flex_flow": null,
      "grid_area": null,
      "grid_auto_columns": null,
      "grid_auto_flow": null,
      "grid_auto_rows": null,
      "grid_column": null,
      "grid_gap": null,
      "grid_row": null,
      "grid_template_areas": null,
      "grid_template_columns": null,
      "grid_template_rows": null,
      "height": null,
      "justify_content": null,
      "justify_items": null,
      "left": null,
      "margin": null,
      "max_height": null,
      "max_width": null,
      "min_height": null,
      "min_width": null,
      "object_fit": null,
      "object_position": null,
      "order": null,
      "overflow": null,
      "overflow_x": null,
      "overflow_y": null,
      "padding": null,
      "right": null,
      "top": null,
      "visibility": null,
      "width": null
     }
    },
    "5d14796336e64193a8fe8e46d9d8b508": {
     "model_module": "@jupyter-widgets/controls",
     "model_module_version": "1.5.0",
     "model_name": "HTMLModel",
     "state": {
      "_dom_classes": [],
      "_model_module": "@jupyter-widgets/controls",
      "_model_module_version": "1.5.0",
      "_model_name": "HTMLModel",
      "_view_count": null,
      "_view_module": "@jupyter-widgets/controls",
      "_view_module_version": "1.5.0",
      "_view_name": "HTMLView",
      "description": "",
      "description_tooltip": null,
      "layout": "IPY_MODEL_7d3ab7f87d6645458ed249765449a816",
      "placeholder": "​",
      "style": "IPY_MODEL_44ab5a0fd0064926a5ff236a0c359e07",
      "value": " 51019/51019 [6:08:11&lt;00:00,  2.40it/s]"
     }
    },
    "5ee0c0386ca14eeea3d890f192d912c6": {
     "model_module": "@jupyter-widgets/controls",
     "model_module_version": "1.5.0",
     "model_name": "HTMLModel",
     "state": {
      "_dom_classes": [],
      "_model_module": "@jupyter-widgets/controls",
      "_model_module_version": "1.5.0",
      "_model_name": "HTMLModel",
      "_view_count": null,
      "_view_module": "@jupyter-widgets/controls",
      "_view_module_version": "1.5.0",
      "_view_name": "HTMLView",
      "description": "",
      "description_tooltip": null,
      "layout": "IPY_MODEL_12ff934d5aaf4522b53a0d5a1486d190",
      "placeholder": "​",
      "style": "IPY_MODEL_6e16ea20b84641559d12ded6655bd592",
      "value": "100%"
     }
    },
    "604b80d84e834474a7710952e5a7432c": {
     "model_module": "@jupyter-widgets/controls",
     "model_module_version": "1.5.0",
     "model_name": "HTMLModel",
     "state": {
      "_dom_classes": [],
      "_model_module": "@jupyter-widgets/controls",
      "_model_module_version": "1.5.0",
      "_model_name": "HTMLModel",
      "_view_count": null,
      "_view_module": "@jupyter-widgets/controls",
      "_view_module_version": "1.5.0",
      "_view_name": "HTMLView",
      "description": "",
      "description_tooltip": null,
      "layout": "IPY_MODEL_d40c6738bd904dc18c91acc68f2fa141",
      "placeholder": "​",
      "style": "IPY_MODEL_48b4af3643724c15b285f2c0d84be43d",
      "value": " 400/400 [03:08&lt;00:00,  2.72it/s]"
     }
    },
    "61b1ba6ddd214795b5fa107f1fef8cc7": {
     "model_module": "@jupyter-widgets/base",
     "model_module_version": "1.2.0",
     "model_name": "LayoutModel",
     "state": {
      "_model_module": "@jupyter-widgets/base",
      "_model_module_version": "1.2.0",
      "_model_name": "LayoutModel",
      "_view_count": null,
      "_view_module": "@jupyter-widgets/base",
      "_view_module_version": "1.2.0",
      "_view_name": "LayoutView",
      "align_content": null,
      "align_items": null,
      "align_self": null,
      "border": null,
      "bottom": null,
      "display": null,
      "flex": null,
      "flex_flow": null,
      "grid_area": null,
      "grid_auto_columns": null,
      "grid_auto_flow": null,
      "grid_auto_rows": null,
      "grid_column": null,
      "grid_gap": null,
      "grid_row": null,
      "grid_template_areas": null,
      "grid_template_columns": null,
      "grid_template_rows": null,
      "height": null,
      "justify_content": null,
      "justify_items": null,
      "left": null,
      "margin": null,
      "max_height": null,
      "max_width": null,
      "min_height": null,
      "min_width": null,
      "object_fit": null,
      "object_position": null,
      "order": null,
      "overflow": null,
      "overflow_x": null,
      "overflow_y": null,
      "padding": null,
      "right": null,
      "top": null,
      "visibility": null,
      "width": null
     }
    },
    "61e24a9193c046e383b092208c7ffa17": {
     "model_module": "@jupyter-widgets/controls",
     "model_module_version": "1.5.0",
     "model_name": "HTMLModel",
     "state": {
      "_dom_classes": [],
      "_model_module": "@jupyter-widgets/controls",
      "_model_module_version": "1.5.0",
      "_model_name": "HTMLModel",
      "_view_count": null,
      "_view_module": "@jupyter-widgets/controls",
      "_view_module_version": "1.5.0",
      "_view_name": "HTMLView",
      "description": "",
      "description_tooltip": null,
      "layout": "IPY_MODEL_7cad93571eb7449eabe214bd5cd1c680",
      "placeholder": "​",
      "style": "IPY_MODEL_8919c944710b49f6ba8bd8e2398c6a03",
      "value": "100%"
     }
    },
    "623de4dc0e8541bc844e3ebe61bc95b4": {
     "model_module": "@jupyter-widgets/controls",
     "model_module_version": "1.5.0",
     "model_name": "DescriptionStyleModel",
     "state": {
      "_model_module": "@jupyter-widgets/controls",
      "_model_module_version": "1.5.0",
      "_model_name": "DescriptionStyleModel",
      "_view_count": null,
      "_view_module": "@jupyter-widgets/base",
      "_view_module_version": "1.2.0",
      "_view_name": "StyleView",
      "description_width": ""
     }
    },
    "629db5b16a574a3db83db56180a3ec39": {
     "model_module": "@jupyter-widgets/base",
     "model_module_version": "1.2.0",
     "model_name": "LayoutModel",
     "state": {
      "_model_module": "@jupyter-widgets/base",
      "_model_module_version": "1.2.0",
      "_model_name": "LayoutModel",
      "_view_count": null,
      "_view_module": "@jupyter-widgets/base",
      "_view_module_version": "1.2.0",
      "_view_name": "LayoutView",
      "align_content": null,
      "align_items": null,
      "align_self": null,
      "border": null,
      "bottom": null,
      "display": null,
      "flex": null,
      "flex_flow": null,
      "grid_area": null,
      "grid_auto_columns": null,
      "grid_auto_flow": null,
      "grid_auto_rows": null,
      "grid_column": null,
      "grid_gap": null,
      "grid_row": null,
      "grid_template_areas": null,
      "grid_template_columns": null,
      "grid_template_rows": null,
      "height": null,
      "justify_content": null,
      "justify_items": null,
      "left": null,
      "margin": null,
      "max_height": null,
      "max_width": null,
      "min_height": null,
      "min_width": null,
      "object_fit": null,
      "object_position": null,
      "order": null,
      "overflow": null,
      "overflow_x": null,
      "overflow_y": null,
      "padding": null,
      "right": null,
      "top": null,
      "visibility": null,
      "width": null
     }
    },
    "632420db67574669bc16730f4babef37": {
     "model_module": "@jupyter-widgets/controls",
     "model_module_version": "1.5.0",
     "model_name": "HBoxModel",
     "state": {
      "_dom_classes": [],
      "_model_module": "@jupyter-widgets/controls",
      "_model_module_version": "1.5.0",
      "_model_name": "HBoxModel",
      "_view_count": null,
      "_view_module": "@jupyter-widgets/controls",
      "_view_module_version": "1.5.0",
      "_view_name": "HBoxView",
      "box_style": "",
      "children": [
       "IPY_MODEL_f409c1b66f9c4e7b82e85deb735ce94e",
       "IPY_MODEL_22b9243c02394005b1f5debde6e46fa4",
       "IPY_MODEL_604b80d84e834474a7710952e5a7432c"
      ],
      "layout": "IPY_MODEL_53cbe909a30f4fec9974c459c97e07ab"
     }
    },
    "636f55d8b58f47bd90db942f6aa54288": {
     "model_module": "@jupyter-widgets/base",
     "model_module_version": "1.2.0",
     "model_name": "LayoutModel",
     "state": {
      "_model_module": "@jupyter-widgets/base",
      "_model_module_version": "1.2.0",
      "_model_name": "LayoutModel",
      "_view_count": null,
      "_view_module": "@jupyter-widgets/base",
      "_view_module_version": "1.2.0",
      "_view_name": "LayoutView",
      "align_content": null,
      "align_items": null,
      "align_self": null,
      "border": null,
      "bottom": null,
      "display": null,
      "flex": null,
      "flex_flow": null,
      "grid_area": null,
      "grid_auto_columns": null,
      "grid_auto_flow": null,
      "grid_auto_rows": null,
      "grid_column": null,
      "grid_gap": null,
      "grid_row": null,
      "grid_template_areas": null,
      "grid_template_columns": null,
      "grid_template_rows": null,
      "height": null,
      "justify_content": null,
      "justify_items": null,
      "left": null,
      "margin": null,
      "max_height": null,
      "max_width": null,
      "min_height": null,
      "min_width": null,
      "object_fit": null,
      "object_position": null,
      "order": null,
      "overflow": null,
      "overflow_x": null,
      "overflow_y": null,
      "padding": null,
      "right": null,
      "top": null,
      "visibility": null,
      "width": null
     }
    },
    "67017f26d12d46ed91b2ae9923434741": {
     "model_module": "@jupyter-widgets/controls",
     "model_module_version": "1.5.0",
     "model_name": "DescriptionStyleModel",
     "state": {
      "_model_module": "@jupyter-widgets/controls",
      "_model_module_version": "1.5.0",
      "_model_name": "DescriptionStyleModel",
      "_view_count": null,
      "_view_module": "@jupyter-widgets/base",
      "_view_module_version": "1.2.0",
      "_view_name": "StyleView",
      "description_width": ""
     }
    },
    "67e449c33ca34af68592ac395702644a": {
     "model_module": "@jupyter-widgets/controls",
     "model_module_version": "1.5.0",
     "model_name": "HTMLModel",
     "state": {
      "_dom_classes": [],
      "_model_module": "@jupyter-widgets/controls",
      "_model_module_version": "1.5.0",
      "_model_name": "HTMLModel",
      "_view_count": null,
      "_view_module": "@jupyter-widgets/controls",
      "_view_module_version": "1.5.0",
      "_view_name": "HTMLView",
      "description": "",
      "description_tooltip": null,
      "layout": "IPY_MODEL_c0cc189db44a4c96917406059931e051",
      "placeholder": "​",
      "style": "IPY_MODEL_f039e4137c31401d9fc63fe28bff0fca",
      "value": " 600/600 [03:54&lt;00:00,  2.61it/s]"
     }
    },
    "6cccc4cc19b44407afc565592615d358": {
     "model_module": "@jupyter-widgets/controls",
     "model_module_version": "1.5.0",
     "model_name": "ProgressStyleModel",
     "state": {
      "_model_module": "@jupyter-widgets/controls",
      "_model_module_version": "1.5.0",
      "_model_name": "ProgressStyleModel",
      "_view_count": null,
      "_view_module": "@jupyter-widgets/base",
      "_view_module_version": "1.2.0",
      "_view_name": "StyleView",
      "bar_color": null,
      "description_width": ""
     }
    },
    "6e16ea20b84641559d12ded6655bd592": {
     "model_module": "@jupyter-widgets/controls",
     "model_module_version": "1.5.0",
     "model_name": "DescriptionStyleModel",
     "state": {
      "_model_module": "@jupyter-widgets/controls",
      "_model_module_version": "1.5.0",
      "_model_name": "DescriptionStyleModel",
      "_view_count": null,
      "_view_module": "@jupyter-widgets/base",
      "_view_module_version": "1.2.0",
      "_view_name": "StyleView",
      "description_width": ""
     }
    },
    "764154c0d77c4cb5a849c4201c0acb64": {
     "model_module": "@jupyter-widgets/base",
     "model_module_version": "1.2.0",
     "model_name": "LayoutModel",
     "state": {
      "_model_module": "@jupyter-widgets/base",
      "_model_module_version": "1.2.0",
      "_model_name": "LayoutModel",
      "_view_count": null,
      "_view_module": "@jupyter-widgets/base",
      "_view_module_version": "1.2.0",
      "_view_name": "LayoutView",
      "align_content": null,
      "align_items": null,
      "align_self": null,
      "border": null,
      "bottom": null,
      "display": null,
      "flex": null,
      "flex_flow": null,
      "grid_area": null,
      "grid_auto_columns": null,
      "grid_auto_flow": null,
      "grid_auto_rows": null,
      "grid_column": null,
      "grid_gap": null,
      "grid_row": null,
      "grid_template_areas": null,
      "grid_template_columns": null,
      "grid_template_rows": null,
      "height": null,
      "justify_content": null,
      "justify_items": null,
      "left": null,
      "margin": null,
      "max_height": null,
      "max_width": null,
      "min_height": null,
      "min_width": null,
      "object_fit": null,
      "object_position": null,
      "order": null,
      "overflow": null,
      "overflow_x": null,
      "overflow_y": null,
      "padding": null,
      "right": null,
      "top": null,
      "visibility": null,
      "width": null
     }
    },
    "7804911bf1194e46b446512d5fd55d39": {
     "model_module": "@jupyter-widgets/controls",
     "model_module_version": "1.5.0",
     "model_name": "ProgressStyleModel",
     "state": {
      "_model_module": "@jupyter-widgets/controls",
      "_model_module_version": "1.5.0",
      "_model_name": "ProgressStyleModel",
      "_view_count": null,
      "_view_module": "@jupyter-widgets/base",
      "_view_module_version": "1.2.0",
      "_view_name": "StyleView",
      "bar_color": null,
      "description_width": ""
     }
    },
    "79591d81745942a3870b32d9f9e4e8ba": {
     "model_module": "@jupyter-widgets/controls",
     "model_module_version": "1.5.0",
     "model_name": "DescriptionStyleModel",
     "state": {
      "_model_module": "@jupyter-widgets/controls",
      "_model_module_version": "1.5.0",
      "_model_name": "DescriptionStyleModel",
      "_view_count": null,
      "_view_module": "@jupyter-widgets/base",
      "_view_module_version": "1.2.0",
      "_view_name": "StyleView",
      "description_width": ""
     }
    },
    "7cad93571eb7449eabe214bd5cd1c680": {
     "model_module": "@jupyter-widgets/base",
     "model_module_version": "1.2.0",
     "model_name": "LayoutModel",
     "state": {
      "_model_module": "@jupyter-widgets/base",
      "_model_module_version": "1.2.0",
      "_model_name": "LayoutModel",
      "_view_count": null,
      "_view_module": "@jupyter-widgets/base",
      "_view_module_version": "1.2.0",
      "_view_name": "LayoutView",
      "align_content": null,
      "align_items": null,
      "align_self": null,
      "border": null,
      "bottom": null,
      "display": null,
      "flex": null,
      "flex_flow": null,
      "grid_area": null,
      "grid_auto_columns": null,
      "grid_auto_flow": null,
      "grid_auto_rows": null,
      "grid_column": null,
      "grid_gap": null,
      "grid_row": null,
      "grid_template_areas": null,
      "grid_template_columns": null,
      "grid_template_rows": null,
      "height": null,
      "justify_content": null,
      "justify_items": null,
      "left": null,
      "margin": null,
      "max_height": null,
      "max_width": null,
      "min_height": null,
      "min_width": null,
      "object_fit": null,
      "object_position": null,
      "order": null,
      "overflow": null,
      "overflow_x": null,
      "overflow_y": null,
      "padding": null,
      "right": null,
      "top": null,
      "visibility": null,
      "width": null
     }
    },
    "7d3ab7f87d6645458ed249765449a816": {
     "model_module": "@jupyter-widgets/base",
     "model_module_version": "1.2.0",
     "model_name": "LayoutModel",
     "state": {
      "_model_module": "@jupyter-widgets/base",
      "_model_module_version": "1.2.0",
      "_model_name": "LayoutModel",
      "_view_count": null,
      "_view_module": "@jupyter-widgets/base",
      "_view_module_version": "1.2.0",
      "_view_name": "LayoutView",
      "align_content": null,
      "align_items": null,
      "align_self": null,
      "border": null,
      "bottom": null,
      "display": null,
      "flex": null,
      "flex_flow": null,
      "grid_area": null,
      "grid_auto_columns": null,
      "grid_auto_flow": null,
      "grid_auto_rows": null,
      "grid_column": null,
      "grid_gap": null,
      "grid_row": null,
      "grid_template_areas": null,
      "grid_template_columns": null,
      "grid_template_rows": null,
      "height": null,
      "justify_content": null,
      "justify_items": null,
      "left": null,
      "margin": null,
      "max_height": null,
      "max_width": null,
      "min_height": null,
      "min_width": null,
      "object_fit": null,
      "object_position": null,
      "order": null,
      "overflow": null,
      "overflow_x": null,
      "overflow_y": null,
      "padding": null,
      "right": null,
      "top": null,
      "visibility": null,
      "width": null
     }
    },
    "7da44b579fa843ba9ce0bf652c2dcc74": {
     "model_module": "@jupyter-widgets/controls",
     "model_module_version": "1.5.0",
     "model_name": "HBoxModel",
     "state": {
      "_dom_classes": [],
      "_model_module": "@jupyter-widgets/controls",
      "_model_module_version": "1.5.0",
      "_model_name": "HBoxModel",
      "_view_count": null,
      "_view_module": "@jupyter-widgets/controls",
      "_view_module_version": "1.5.0",
      "_view_name": "HBoxView",
      "box_style": "",
      "children": [
       "IPY_MODEL_39b9a7efc89e42e3b5e5d4712a56b4bd",
       "IPY_MODEL_a16605e75ee240c4ad3214288af17208",
       "IPY_MODEL_67e449c33ca34af68592ac395702644a"
      ],
      "layout": "IPY_MODEL_e25a2b0c033943a7ada5bc9c9bc20911"
     }
    },
    "7e5f84d82aa64a22bd8ac61225e8952e": {
     "model_module": "@jupyter-widgets/controls",
     "model_module_version": "1.5.0",
     "model_name": "ProgressStyleModel",
     "state": {
      "_model_module": "@jupyter-widgets/controls",
      "_model_module_version": "1.5.0",
      "_model_name": "ProgressStyleModel",
      "_view_count": null,
      "_view_module": "@jupyter-widgets/base",
      "_view_module_version": "1.2.0",
      "_view_name": "StyleView",
      "bar_color": null,
      "description_width": ""
     }
    },
    "80ceb9d526d7432a864a8e217b5c3827": {
     "model_module": "@jupyter-widgets/base",
     "model_module_version": "1.2.0",
     "model_name": "LayoutModel",
     "state": {
      "_model_module": "@jupyter-widgets/base",
      "_model_module_version": "1.2.0",
      "_model_name": "LayoutModel",
      "_view_count": null,
      "_view_module": "@jupyter-widgets/base",
      "_view_module_version": "1.2.0",
      "_view_name": "LayoutView",
      "align_content": null,
      "align_items": null,
      "align_self": null,
      "border": null,
      "bottom": null,
      "display": null,
      "flex": null,
      "flex_flow": null,
      "grid_area": null,
      "grid_auto_columns": null,
      "grid_auto_flow": null,
      "grid_auto_rows": null,
      "grid_column": null,
      "grid_gap": null,
      "grid_row": null,
      "grid_template_areas": null,
      "grid_template_columns": null,
      "grid_template_rows": null,
      "height": null,
      "justify_content": null,
      "justify_items": null,
      "left": null,
      "margin": null,
      "max_height": null,
      "max_width": null,
      "min_height": null,
      "min_width": null,
      "object_fit": null,
      "object_position": null,
      "order": null,
      "overflow": null,
      "overflow_x": null,
      "overflow_y": null,
      "padding": null,
      "right": null,
      "top": null,
      "visibility": null,
      "width": null
     }
    },
    "853daca61fa1437db7b7751e1561bbe6": {
     "model_module": "@jupyter-widgets/controls",
     "model_module_version": "1.5.0",
     "model_name": "ProgressStyleModel",
     "state": {
      "_model_module": "@jupyter-widgets/controls",
      "_model_module_version": "1.5.0",
      "_model_name": "ProgressStyleModel",
      "_view_count": null,
      "_view_module": "@jupyter-widgets/base",
      "_view_module_version": "1.2.0",
      "_view_name": "StyleView",
      "bar_color": null,
      "description_width": ""
     }
    },
    "883c916303d542a98e1ac9861287d475": {
     "model_module": "@jupyter-widgets/base",
     "model_module_version": "1.2.0",
     "model_name": "LayoutModel",
     "state": {
      "_model_module": "@jupyter-widgets/base",
      "_model_module_version": "1.2.0",
      "_model_name": "LayoutModel",
      "_view_count": null,
      "_view_module": "@jupyter-widgets/base",
      "_view_module_version": "1.2.0",
      "_view_name": "LayoutView",
      "align_content": null,
      "align_items": null,
      "align_self": null,
      "border": null,
      "bottom": null,
      "display": null,
      "flex": null,
      "flex_flow": null,
      "grid_area": null,
      "grid_auto_columns": null,
      "grid_auto_flow": null,
      "grid_auto_rows": null,
      "grid_column": null,
      "grid_gap": null,
      "grid_row": null,
      "grid_template_areas": null,
      "grid_template_columns": null,
      "grid_template_rows": null,
      "height": null,
      "justify_content": null,
      "justify_items": null,
      "left": null,
      "margin": null,
      "max_height": null,
      "max_width": null,
      "min_height": null,
      "min_width": null,
      "object_fit": null,
      "object_position": null,
      "order": null,
      "overflow": null,
      "overflow_x": null,
      "overflow_y": null,
      "padding": null,
      "right": null,
      "top": null,
      "visibility": null,
      "width": null
     }
    },
    "88b4346e6c624ec1ae35657ac23c5579": {
     "model_module": "@jupyter-widgets/base",
     "model_module_version": "1.2.0",
     "model_name": "LayoutModel",
     "state": {
      "_model_module": "@jupyter-widgets/base",
      "_model_module_version": "1.2.0",
      "_model_name": "LayoutModel",
      "_view_count": null,
      "_view_module": "@jupyter-widgets/base",
      "_view_module_version": "1.2.0",
      "_view_name": "LayoutView",
      "align_content": null,
      "align_items": null,
      "align_self": null,
      "border": null,
      "bottom": null,
      "display": null,
      "flex": null,
      "flex_flow": null,
      "grid_area": null,
      "grid_auto_columns": null,
      "grid_auto_flow": null,
      "grid_auto_rows": null,
      "grid_column": null,
      "grid_gap": null,
      "grid_row": null,
      "grid_template_areas": null,
      "grid_template_columns": null,
      "grid_template_rows": null,
      "height": null,
      "justify_content": null,
      "justify_items": null,
      "left": null,
      "margin": null,
      "max_height": null,
      "max_width": null,
      "min_height": null,
      "min_width": null,
      "object_fit": null,
      "object_position": null,
      "order": null,
      "overflow": null,
      "overflow_x": null,
      "overflow_y": null,
      "padding": null,
      "right": null,
      "top": null,
      "visibility": null,
      "width": null
     }
    },
    "88c2d5add35c402db78008298dbd5e46": {
     "model_module": "@jupyter-widgets/controls",
     "model_module_version": "1.5.0",
     "model_name": "ProgressStyleModel",
     "state": {
      "_model_module": "@jupyter-widgets/controls",
      "_model_module_version": "1.5.0",
      "_model_name": "ProgressStyleModel",
      "_view_count": null,
      "_view_module": "@jupyter-widgets/base",
      "_view_module_version": "1.2.0",
      "_view_name": "StyleView",
      "bar_color": null,
      "description_width": ""
     }
    },
    "8919c944710b49f6ba8bd8e2398c6a03": {
     "model_module": "@jupyter-widgets/controls",
     "model_module_version": "1.5.0",
     "model_name": "DescriptionStyleModel",
     "state": {
      "_model_module": "@jupyter-widgets/controls",
      "_model_module_version": "1.5.0",
      "_model_name": "DescriptionStyleModel",
      "_view_count": null,
      "_view_module": "@jupyter-widgets/base",
      "_view_module_version": "1.2.0",
      "_view_name": "StyleView",
      "description_width": ""
     }
    },
    "8bf621fe1a1f4e60838bde2bbefc23ce": {
     "model_module": "@jupyter-widgets/controls",
     "model_module_version": "1.5.0",
     "model_name": "HTMLModel",
     "state": {
      "_dom_classes": [],
      "_model_module": "@jupyter-widgets/controls",
      "_model_module_version": "1.5.0",
      "_model_name": "HTMLModel",
      "_view_count": null,
      "_view_module": "@jupyter-widgets/controls",
      "_view_module_version": "1.5.0",
      "_view_name": "HTMLView",
      "description": "",
      "description_tooltip": null,
      "layout": "IPY_MODEL_629db5b16a574a3db83db56180a3ec39",
      "placeholder": "​",
      "style": "IPY_MODEL_c4dc0d92d55d45038fab026d1a595b10",
      "value": " 100/100 [00:29&lt;00:00,  3.37it/s]"
     }
    },
    "8ccf50278d5745bc9a5a22bc04ffa634": {
     "model_module": "@jupyter-widgets/controls",
     "model_module_version": "1.5.0",
     "model_name": "FloatProgressModel",
     "state": {
      "_dom_classes": [],
      "_model_module": "@jupyter-widgets/controls",
      "_model_module_version": "1.5.0",
      "_model_name": "FloatProgressModel",
      "_view_count": null,
      "_view_module": "@jupyter-widgets/controls",
      "_view_module_version": "1.5.0",
      "_view_name": "ProgressView",
      "bar_style": "success",
      "description": "",
      "description_tooltip": null,
      "layout": "IPY_MODEL_883c916303d542a98e1ac9861287d475",
      "max": 100,
      "min": 0,
      "orientation": "horizontal",
      "style": "IPY_MODEL_853daca61fa1437db7b7751e1561bbe6",
      "value": 100
     }
    },
    "8d93c30851944aeba13e5734d65354d2": {
     "model_module": "@jupyter-widgets/controls",
     "model_module_version": "1.5.0",
     "model_name": "ProgressStyleModel",
     "state": {
      "_model_module": "@jupyter-widgets/controls",
      "_model_module_version": "1.5.0",
      "_model_name": "ProgressStyleModel",
      "_view_count": null,
      "_view_module": "@jupyter-widgets/base",
      "_view_module_version": "1.2.0",
      "_view_name": "StyleView",
      "bar_color": null,
      "description_width": ""
     }
    },
    "8ebb1da817da42629a5e3492c998c0ce": {
     "model_module": "@jupyter-widgets/controls",
     "model_module_version": "1.5.0",
     "model_name": "DescriptionStyleModel",
     "state": {
      "_model_module": "@jupyter-widgets/controls",
      "_model_module_version": "1.5.0",
      "_model_name": "DescriptionStyleModel",
      "_view_count": null,
      "_view_module": "@jupyter-widgets/base",
      "_view_module_version": "1.2.0",
      "_view_name": "StyleView",
      "description_width": ""
     }
    },
    "91b966ede37a412a9e6c87f79a5f3140": {
     "model_module": "@jupyter-widgets/controls",
     "model_module_version": "1.5.0",
     "model_name": "HTMLModel",
     "state": {
      "_dom_classes": [],
      "_model_module": "@jupyter-widgets/controls",
      "_model_module_version": "1.5.0",
      "_model_name": "HTMLModel",
      "_view_count": null,
      "_view_module": "@jupyter-widgets/controls",
      "_view_module_version": "1.5.0",
      "_view_name": "HTMLView",
      "description": "",
      "description_tooltip": null,
      "layout": "IPY_MODEL_88b4346e6c624ec1ae35657ac23c5579",
      "placeholder": "​",
      "style": "IPY_MODEL_01dcca261c504ad6bc50c0969fd32a7f",
      "value": " 20854/20854 [11:32:00&lt;00:00,  1.81s/it]"
     }
    },
    "94347f2c242947879626d8e0a962ddb2": {
     "model_module": "@jupyter-widgets/controls",
     "model_module_version": "1.5.0",
     "model_name": "HTMLModel",
     "state": {
      "_dom_classes": [],
      "_model_module": "@jupyter-widgets/controls",
      "_model_module_version": "1.5.0",
      "_model_name": "HTMLModel",
      "_view_count": null,
      "_view_module": "@jupyter-widgets/controls",
      "_view_module_version": "1.5.0",
      "_view_name": "HTMLView",
      "description": "",
      "description_tooltip": null,
      "layout": "IPY_MODEL_c90679376b4b4a459402d91d20979e11",
      "placeholder": "​",
      "style": "IPY_MODEL_dcf7a1c2723a44099aecbad9925a29cb",
      "value": "100%"
     }
    },
    "96e826f26a664b8eae8107f5b4894032": {
     "model_module": "@jupyter-widgets/controls",
     "model_module_version": "1.5.0",
     "model_name": "DescriptionStyleModel",
     "state": {
      "_model_module": "@jupyter-widgets/controls",
      "_model_module_version": "1.5.0",
      "_model_name": "DescriptionStyleModel",
      "_view_count": null,
      "_view_module": "@jupyter-widgets/base",
      "_view_module_version": "1.2.0",
      "_view_name": "StyleView",
      "description_width": ""
     }
    },
    "9d8c2e66700b4882b79bce61b9feddf1": {
     "model_module": "@jupyter-widgets/controls",
     "model_module_version": "1.5.0",
     "model_name": "DescriptionStyleModel",
     "state": {
      "_model_module": "@jupyter-widgets/controls",
      "_model_module_version": "1.5.0",
      "_model_name": "DescriptionStyleModel",
      "_view_count": null,
      "_view_module": "@jupyter-widgets/base",
      "_view_module_version": "1.2.0",
      "_view_name": "StyleView",
      "description_width": ""
     }
    },
    "9f22df1b316f43a4aafacda95c92f6bf": {
     "model_module": "@jupyter-widgets/base",
     "model_module_version": "1.2.0",
     "model_name": "LayoutModel",
     "state": {
      "_model_module": "@jupyter-widgets/base",
      "_model_module_version": "1.2.0",
      "_model_name": "LayoutModel",
      "_view_count": null,
      "_view_module": "@jupyter-widgets/base",
      "_view_module_version": "1.2.0",
      "_view_name": "LayoutView",
      "align_content": null,
      "align_items": null,
      "align_self": null,
      "border": null,
      "bottom": null,
      "display": null,
      "flex": null,
      "flex_flow": null,
      "grid_area": null,
      "grid_auto_columns": null,
      "grid_auto_flow": null,
      "grid_auto_rows": null,
      "grid_column": null,
      "grid_gap": null,
      "grid_row": null,
      "grid_template_areas": null,
      "grid_template_columns": null,
      "grid_template_rows": null,
      "height": null,
      "justify_content": null,
      "justify_items": null,
      "left": null,
      "margin": null,
      "max_height": null,
      "max_width": null,
      "min_height": null,
      "min_width": null,
      "object_fit": null,
      "object_position": null,
      "order": null,
      "overflow": null,
      "overflow_x": null,
      "overflow_y": null,
      "padding": null,
      "right": null,
      "top": null,
      "visibility": null,
      "width": null
     }
    },
    "a05e5daa2064453382053efbf3635b8c": {
     "model_module": "@jupyter-widgets/base",
     "model_module_version": "1.2.0",
     "model_name": "LayoutModel",
     "state": {
      "_model_module": "@jupyter-widgets/base",
      "_model_module_version": "1.2.0",
      "_model_name": "LayoutModel",
      "_view_count": null,
      "_view_module": "@jupyter-widgets/base",
      "_view_module_version": "1.2.0",
      "_view_name": "LayoutView",
      "align_content": null,
      "align_items": null,
      "align_self": null,
      "border": null,
      "bottom": null,
      "display": null,
      "flex": null,
      "flex_flow": null,
      "grid_area": null,
      "grid_auto_columns": null,
      "grid_auto_flow": null,
      "grid_auto_rows": null,
      "grid_column": null,
      "grid_gap": null,
      "grid_row": null,
      "grid_template_areas": null,
      "grid_template_columns": null,
      "grid_template_rows": null,
      "height": null,
      "justify_content": null,
      "justify_items": null,
      "left": null,
      "margin": null,
      "max_height": null,
      "max_width": null,
      "min_height": null,
      "min_width": null,
      "object_fit": null,
      "object_position": null,
      "order": null,
      "overflow": null,
      "overflow_x": null,
      "overflow_y": null,
      "padding": null,
      "right": null,
      "top": null,
      "visibility": null,
      "width": null
     }
    },
    "a07330d68c5e468987af1d308081ec11": {
     "model_module": "@jupyter-widgets/base",
     "model_module_version": "1.2.0",
     "model_name": "LayoutModel",
     "state": {
      "_model_module": "@jupyter-widgets/base",
      "_model_module_version": "1.2.0",
      "_model_name": "LayoutModel",
      "_view_count": null,
      "_view_module": "@jupyter-widgets/base",
      "_view_module_version": "1.2.0",
      "_view_name": "LayoutView",
      "align_content": null,
      "align_items": null,
      "align_self": null,
      "border": null,
      "bottom": null,
      "display": null,
      "flex": null,
      "flex_flow": null,
      "grid_area": null,
      "grid_auto_columns": null,
      "grid_auto_flow": null,
      "grid_auto_rows": null,
      "grid_column": null,
      "grid_gap": null,
      "grid_row": null,
      "grid_template_areas": null,
      "grid_template_columns": null,
      "grid_template_rows": null,
      "height": null,
      "justify_content": null,
      "justify_items": null,
      "left": null,
      "margin": null,
      "max_height": null,
      "max_width": null,
      "min_height": null,
      "min_width": null,
      "object_fit": null,
      "object_position": null,
      "order": null,
      "overflow": null,
      "overflow_x": null,
      "overflow_y": null,
      "padding": null,
      "right": null,
      "top": null,
      "visibility": null,
      "width": null
     }
    },
    "a16605e75ee240c4ad3214288af17208": {
     "model_module": "@jupyter-widgets/controls",
     "model_module_version": "1.5.0",
     "model_name": "FloatProgressModel",
     "state": {
      "_dom_classes": [],
      "_model_module": "@jupyter-widgets/controls",
      "_model_module_version": "1.5.0",
      "_model_name": "FloatProgressModel",
      "_view_count": null,
      "_view_module": "@jupyter-widgets/controls",
      "_view_module_version": "1.5.0",
      "_view_name": "ProgressView",
      "bar_style": "success",
      "description": "",
      "description_tooltip": null,
      "layout": "IPY_MODEL_284f90c5010046faa39ad4861a130d94",
      "max": 600,
      "min": 0,
      "orientation": "horizontal",
      "style": "IPY_MODEL_7e5f84d82aa64a22bd8ac61225e8952e",
      "value": 600
     }
    },
    "a26e99f1e56147d8a1d7c0bb3f6186f1": {
     "model_module": "@jupyter-widgets/controls",
     "model_module_version": "1.5.0",
     "model_name": "ProgressStyleModel",
     "state": {
      "_model_module": "@jupyter-widgets/controls",
      "_model_module_version": "1.5.0",
      "_model_name": "ProgressStyleModel",
      "_view_count": null,
      "_view_module": "@jupyter-widgets/base",
      "_view_module_version": "1.2.0",
      "_view_name": "StyleView",
      "bar_color": null,
      "description_width": ""
     }
    },
    "a3e1c48ea88c42369041ff4f902f9865": {
     "model_module": "@jupyter-widgets/base",
     "model_module_version": "1.2.0",
     "model_name": "LayoutModel",
     "state": {
      "_model_module": "@jupyter-widgets/base",
      "_model_module_version": "1.2.0",
      "_model_name": "LayoutModel",
      "_view_count": null,
      "_view_module": "@jupyter-widgets/base",
      "_view_module_version": "1.2.0",
      "_view_name": "LayoutView",
      "align_content": null,
      "align_items": null,
      "align_self": null,
      "border": null,
      "bottom": null,
      "display": null,
      "flex": null,
      "flex_flow": null,
      "grid_area": null,
      "grid_auto_columns": null,
      "grid_auto_flow": null,
      "grid_auto_rows": null,
      "grid_column": null,
      "grid_gap": null,
      "grid_row": null,
      "grid_template_areas": null,
      "grid_template_columns": null,
      "grid_template_rows": null,
      "height": null,
      "justify_content": null,
      "justify_items": null,
      "left": null,
      "margin": null,
      "max_height": null,
      "max_width": null,
      "min_height": null,
      "min_width": null,
      "object_fit": null,
      "object_position": null,
      "order": null,
      "overflow": null,
      "overflow_x": null,
      "overflow_y": null,
      "padding": null,
      "right": null,
      "top": null,
      "visibility": null,
      "width": null
     }
    },
    "ae934b47f6ab442aa23693c2dd5a2c4f": {
     "model_module": "@jupyter-widgets/controls",
     "model_module_version": "1.5.0",
     "model_name": "HTMLModel",
     "state": {
      "_dom_classes": [],
      "_model_module": "@jupyter-widgets/controls",
      "_model_module_version": "1.5.0",
      "_model_name": "HTMLModel",
      "_view_count": null,
      "_view_module": "@jupyter-widgets/controls",
      "_view_module_version": "1.5.0",
      "_view_name": "HTMLView",
      "description": "",
      "description_tooltip": null,
      "layout": "IPY_MODEL_075027ef0bd34cc4b627f0de007f5961",
      "placeholder": "​",
      "style": "IPY_MODEL_d33ebc6a80934cf5ab5f5bcfd1887efc",
      "value": "100%"
     }
    },
    "afa42fcd06b149b895860e4e093d5c6e": {
     "model_module": "@jupyter-widgets/controls",
     "model_module_version": "1.5.0",
     "model_name": "HTMLModel",
     "state": {
      "_dom_classes": [],
      "_model_module": "@jupyter-widgets/controls",
      "_model_module_version": "1.5.0",
      "_model_name": "HTMLModel",
      "_view_count": null,
      "_view_module": "@jupyter-widgets/controls",
      "_view_module_version": "1.5.0",
      "_view_name": "HTMLView",
      "description": "",
      "description_tooltip": null,
      "layout": "IPY_MODEL_e2b58cca3a98463597c4becec72f4fa0",
      "placeholder": "​",
      "style": "IPY_MODEL_1af1e64836cd4f20b1e9d7bb9fc1ded9",
      "value": "100%"
     }
    },
    "b269f730807f4a938c6bcdcde102e9fe": {
     "model_module": "@jupyter-widgets/controls",
     "model_module_version": "1.5.0",
     "model_name": "FloatProgressModel",
     "state": {
      "_dom_classes": [],
      "_model_module": "@jupyter-widgets/controls",
      "_model_module_version": "1.5.0",
      "_model_name": "FloatProgressModel",
      "_view_count": null,
      "_view_module": "@jupyter-widgets/controls",
      "_view_module_version": "1.5.0",
      "_view_name": "ProgressView",
      "bar_style": "success",
      "description": "",
      "description_tooltip": null,
      "layout": "IPY_MODEL_9f22df1b316f43a4aafacda95c92f6bf",
      "max": 51019,
      "min": 0,
      "orientation": "horizontal",
      "style": "IPY_MODEL_d9c0ce4791d9413d9df9a0fe70228c4e",
      "value": 51019
     }
    },
    "b8f3ba40fe834abfaf3f385894dd2648": {
     "model_module": "@jupyter-widgets/controls",
     "model_module_version": "1.5.0",
     "model_name": "HTMLModel",
     "state": {
      "_dom_classes": [],
      "_model_module": "@jupyter-widgets/controls",
      "_model_module_version": "1.5.0",
      "_model_name": "HTMLModel",
      "_view_count": null,
      "_view_module": "@jupyter-widgets/controls",
      "_view_module_version": "1.5.0",
      "_view_name": "HTMLView",
      "description": "",
      "description_tooltip": null,
      "layout": "IPY_MODEL_d013379630ea432c8beb1223ee8d0fbb",
      "placeholder": "​",
      "style": "IPY_MODEL_0759796387cc427caf087a2620ef9f93",
      "value": " 51019/51019 [6:08:39&lt;00:00,  2.30it/s]"
     }
    },
    "b96bf42d7fba483caa3dda671857ff90": {
     "model_module": "@jupyter-widgets/controls",
     "model_module_version": "1.5.0",
     "model_name": "HTMLModel",
     "state": {
      "_dom_classes": [],
      "_model_module": "@jupyter-widgets/controls",
      "_model_module_version": "1.5.0",
      "_model_name": "HTMLModel",
      "_view_count": null,
      "_view_module": "@jupyter-widgets/controls",
      "_view_module_version": "1.5.0",
      "_view_name": "HTMLView",
      "description": "",
      "description_tooltip": null,
      "layout": "IPY_MODEL_0dd5f20be4d64ed4a94feda04666ad9e",
      "placeholder": "​",
      "style": "IPY_MODEL_8ebb1da817da42629a5e3492c998c0ce",
      "value": "100%"
     }
    },
    "b9903ebe17ab4b6baa27c3cdd90e4771": {
     "model_module": "@jupyter-widgets/base",
     "model_module_version": "1.2.0",
     "model_name": "LayoutModel",
     "state": {
      "_model_module": "@jupyter-widgets/base",
      "_model_module_version": "1.2.0",
      "_model_name": "LayoutModel",
      "_view_count": null,
      "_view_module": "@jupyter-widgets/base",
      "_view_module_version": "1.2.0",
      "_view_name": "LayoutView",
      "align_content": null,
      "align_items": null,
      "align_self": null,
      "border": null,
      "bottom": null,
      "display": null,
      "flex": null,
      "flex_flow": null,
      "grid_area": null,
      "grid_auto_columns": null,
      "grid_auto_flow": null,
      "grid_auto_rows": null,
      "grid_column": null,
      "grid_gap": null,
      "grid_row": null,
      "grid_template_areas": null,
      "grid_template_columns": null,
      "grid_template_rows": null,
      "height": null,
      "justify_content": null,
      "justify_items": null,
      "left": null,
      "margin": null,
      "max_height": null,
      "max_width": null,
      "min_height": null,
      "min_width": null,
      "object_fit": null,
      "object_position": null,
      "order": null,
      "overflow": null,
      "overflow_x": null,
      "overflow_y": null,
      "padding": null,
      "right": null,
      "top": null,
      "visibility": null,
      "width": null
     }
    },
    "c0cc189db44a4c96917406059931e051": {
     "model_module": "@jupyter-widgets/base",
     "model_module_version": "1.2.0",
     "model_name": "LayoutModel",
     "state": {
      "_model_module": "@jupyter-widgets/base",
      "_model_module_version": "1.2.0",
      "_model_name": "LayoutModel",
      "_view_count": null,
      "_view_module": "@jupyter-widgets/base",
      "_view_module_version": "1.2.0",
      "_view_name": "LayoutView",
      "align_content": null,
      "align_items": null,
      "align_self": null,
      "border": null,
      "bottom": null,
      "display": null,
      "flex": null,
      "flex_flow": null,
      "grid_area": null,
      "grid_auto_columns": null,
      "grid_auto_flow": null,
      "grid_auto_rows": null,
      "grid_column": null,
      "grid_gap": null,
      "grid_row": null,
      "grid_template_areas": null,
      "grid_template_columns": null,
      "grid_template_rows": null,
      "height": null,
      "justify_content": null,
      "justify_items": null,
      "left": null,
      "margin": null,
      "max_height": null,
      "max_width": null,
      "min_height": null,
      "min_width": null,
      "object_fit": null,
      "object_position": null,
      "order": null,
      "overflow": null,
      "overflow_x": null,
      "overflow_y": null,
      "padding": null,
      "right": null,
      "top": null,
      "visibility": null,
      "width": null
     }
    },
    "c29226e49c3942e289dd5ee13ba92958": {
     "model_module": "@jupyter-widgets/controls",
     "model_module_version": "1.5.0",
     "model_name": "FloatProgressModel",
     "state": {
      "_dom_classes": [],
      "_model_module": "@jupyter-widgets/controls",
      "_model_module_version": "1.5.0",
      "_model_name": "FloatProgressModel",
      "_view_count": null,
      "_view_module": "@jupyter-widgets/controls",
      "_view_module_version": "1.5.0",
      "_view_name": "ProgressView",
      "bar_style": "success",
      "description": "",
      "description_tooltip": null,
      "layout": "IPY_MODEL_36b5327f8e5b429fb0a7da2eb238b9b4",
      "max": 50,
      "min": 0,
      "orientation": "horizontal",
      "style": "IPY_MODEL_88c2d5add35c402db78008298dbd5e46",
      "value": 50
     }
    },
    "c2cd640d6712496994e82b828d733bba": {
     "model_module": "@jupyter-widgets/controls",
     "model_module_version": "1.5.0",
     "model_name": "HTMLModel",
     "state": {
      "_dom_classes": [],
      "_model_module": "@jupyter-widgets/controls",
      "_model_module_version": "1.5.0",
      "_model_name": "HTMLModel",
      "_view_count": null,
      "_view_module": "@jupyter-widgets/controls",
      "_view_module_version": "1.5.0",
      "_view_name": "HTMLView",
      "description": "",
      "description_tooltip": null,
      "layout": "IPY_MODEL_de101cc796b04883896913f97d7e2174",
      "placeholder": "​",
      "style": "IPY_MODEL_00a8adc069fa43a199266bbf75cea127",
      "value": " 51019/51019 [6:09:01&lt;00:00,  2.44it/s]"
     }
    },
    "c46f8565cd8d4f03a04565724479fea9": {
     "model_module": "@jupyter-widgets/base",
     "model_module_version": "1.2.0",
     "model_name": "LayoutModel",
     "state": {
      "_model_module": "@jupyter-widgets/base",
      "_model_module_version": "1.2.0",
      "_model_name": "LayoutModel",
      "_view_count": null,
      "_view_module": "@jupyter-widgets/base",
      "_view_module_version": "1.2.0",
      "_view_name": "LayoutView",
      "align_content": null,
      "align_items": null,
      "align_self": null,
      "border": null,
      "bottom": null,
      "display": null,
      "flex": null,
      "flex_flow": null,
      "grid_area": null,
      "grid_auto_columns": null,
      "grid_auto_flow": null,
      "grid_auto_rows": null,
      "grid_column": null,
      "grid_gap": null,
      "grid_row": null,
      "grid_template_areas": null,
      "grid_template_columns": null,
      "grid_template_rows": null,
      "height": null,
      "justify_content": null,
      "justify_items": null,
      "left": null,
      "margin": null,
      "max_height": null,
      "max_width": null,
      "min_height": null,
      "min_width": null,
      "object_fit": null,
      "object_position": null,
      "order": null,
      "overflow": null,
      "overflow_x": null,
      "overflow_y": null,
      "padding": null,
      "right": null,
      "top": null,
      "visibility": null,
      "width": null
     }
    },
    "c4823f7180274e85a160f207861e5936": {
     "model_module": "@jupyter-widgets/controls",
     "model_module_version": "1.5.0",
     "model_name": "HTMLModel",
     "state": {
      "_dom_classes": [],
      "_model_module": "@jupyter-widgets/controls",
      "_model_module_version": "1.5.0",
      "_model_name": "HTMLModel",
      "_view_count": null,
      "_view_module": "@jupyter-widgets/controls",
      "_view_module_version": "1.5.0",
      "_view_name": "HTMLView",
      "description": "",
      "description_tooltip": null,
      "layout": "IPY_MODEL_4ddf2b00cd5548499c892bd60a4ca13a",
      "placeholder": "​",
      "style": "IPY_MODEL_42e5dc04341a49cc95b0ac0a73df3c5c",
      "value": " 100/100 [00:44&lt;00:00,  1.81it/s]"
     }
    },
    "c4dc0d92d55d45038fab026d1a595b10": {
     "model_module": "@jupyter-widgets/controls",
     "model_module_version": "1.5.0",
     "model_name": "DescriptionStyleModel",
     "state": {
      "_model_module": "@jupyter-widgets/controls",
      "_model_module_version": "1.5.0",
      "_model_name": "DescriptionStyleModel",
      "_view_count": null,
      "_view_module": "@jupyter-widgets/base",
      "_view_module_version": "1.2.0",
      "_view_name": "StyleView",
      "description_width": ""
     }
    },
    "c90679376b4b4a459402d91d20979e11": {
     "model_module": "@jupyter-widgets/base",
     "model_module_version": "1.2.0",
     "model_name": "LayoutModel",
     "state": {
      "_model_module": "@jupyter-widgets/base",
      "_model_module_version": "1.2.0",
      "_model_name": "LayoutModel",
      "_view_count": null,
      "_view_module": "@jupyter-widgets/base",
      "_view_module_version": "1.2.0",
      "_view_name": "LayoutView",
      "align_content": null,
      "align_items": null,
      "align_self": null,
      "border": null,
      "bottom": null,
      "display": null,
      "flex": null,
      "flex_flow": null,
      "grid_area": null,
      "grid_auto_columns": null,
      "grid_auto_flow": null,
      "grid_auto_rows": null,
      "grid_column": null,
      "grid_gap": null,
      "grid_row": null,
      "grid_template_areas": null,
      "grid_template_columns": null,
      "grid_template_rows": null,
      "height": null,
      "justify_content": null,
      "justify_items": null,
      "left": null,
      "margin": null,
      "max_height": null,
      "max_width": null,
      "min_height": null,
      "min_width": null,
      "object_fit": null,
      "object_position": null,
      "order": null,
      "overflow": null,
      "overflow_x": null,
      "overflow_y": null,
      "padding": null,
      "right": null,
      "top": null,
      "visibility": null,
      "width": null
     }
    },
    "d013379630ea432c8beb1223ee8d0fbb": {
     "model_module": "@jupyter-widgets/base",
     "model_module_version": "1.2.0",
     "model_name": "LayoutModel",
     "state": {
      "_model_module": "@jupyter-widgets/base",
      "_model_module_version": "1.2.0",
      "_model_name": "LayoutModel",
      "_view_count": null,
      "_view_module": "@jupyter-widgets/base",
      "_view_module_version": "1.2.0",
      "_view_name": "LayoutView",
      "align_content": null,
      "align_items": null,
      "align_self": null,
      "border": null,
      "bottom": null,
      "display": null,
      "flex": null,
      "flex_flow": null,
      "grid_area": null,
      "grid_auto_columns": null,
      "grid_auto_flow": null,
      "grid_auto_rows": null,
      "grid_column": null,
      "grid_gap": null,
      "grid_row": null,
      "grid_template_areas": null,
      "grid_template_columns": null,
      "grid_template_rows": null,
      "height": null,
      "justify_content": null,
      "justify_items": null,
      "left": null,
      "margin": null,
      "max_height": null,
      "max_width": null,
      "min_height": null,
      "min_width": null,
      "object_fit": null,
      "object_position": null,
      "order": null,
      "overflow": null,
      "overflow_x": null,
      "overflow_y": null,
      "padding": null,
      "right": null,
      "top": null,
      "visibility": null,
      "width": null
     }
    },
    "d33ebc6a80934cf5ab5f5bcfd1887efc": {
     "model_module": "@jupyter-widgets/controls",
     "model_module_version": "1.5.0",
     "model_name": "DescriptionStyleModel",
     "state": {
      "_model_module": "@jupyter-widgets/controls",
      "_model_module_version": "1.5.0",
      "_model_name": "DescriptionStyleModel",
      "_view_count": null,
      "_view_module": "@jupyter-widgets/base",
      "_view_module_version": "1.2.0",
      "_view_name": "StyleView",
      "description_width": ""
     }
    },
    "d40c6738bd904dc18c91acc68f2fa141": {
     "model_module": "@jupyter-widgets/base",
     "model_module_version": "1.2.0",
     "model_name": "LayoutModel",
     "state": {
      "_model_module": "@jupyter-widgets/base",
      "_model_module_version": "1.2.0",
      "_model_name": "LayoutModel",
      "_view_count": null,
      "_view_module": "@jupyter-widgets/base",
      "_view_module_version": "1.2.0",
      "_view_name": "LayoutView",
      "align_content": null,
      "align_items": null,
      "align_self": null,
      "border": null,
      "bottom": null,
      "display": null,
      "flex": null,
      "flex_flow": null,
      "grid_area": null,
      "grid_auto_columns": null,
      "grid_auto_flow": null,
      "grid_auto_rows": null,
      "grid_column": null,
      "grid_gap": null,
      "grid_row": null,
      "grid_template_areas": null,
      "grid_template_columns": null,
      "grid_template_rows": null,
      "height": null,
      "justify_content": null,
      "justify_items": null,
      "left": null,
      "margin": null,
      "max_height": null,
      "max_width": null,
      "min_height": null,
      "min_width": null,
      "object_fit": null,
      "object_position": null,
      "order": null,
      "overflow": null,
      "overflow_x": null,
      "overflow_y": null,
      "padding": null,
      "right": null,
      "top": null,
      "visibility": null,
      "width": null
     }
    },
    "d46435cf063f4e80b2f0a92736325486": {
     "model_module": "@jupyter-widgets/controls",
     "model_module_version": "1.5.0",
     "model_name": "ProgressStyleModel",
     "state": {
      "_model_module": "@jupyter-widgets/controls",
      "_model_module_version": "1.5.0",
      "_model_name": "ProgressStyleModel",
      "_view_count": null,
      "_view_module": "@jupyter-widgets/base",
      "_view_module_version": "1.2.0",
      "_view_name": "StyleView",
      "bar_color": null,
      "description_width": ""
     }
    },
    "d641c5568782454b8eb2ff1dcd89c832": {
     "model_module": "@jupyter-widgets/base",
     "model_module_version": "1.2.0",
     "model_name": "LayoutModel",
     "state": {
      "_model_module": "@jupyter-widgets/base",
      "_model_module_version": "1.2.0",
      "_model_name": "LayoutModel",
      "_view_count": null,
      "_view_module": "@jupyter-widgets/base",
      "_view_module_version": "1.2.0",
      "_view_name": "LayoutView",
      "align_content": null,
      "align_items": null,
      "align_self": null,
      "border": null,
      "bottom": null,
      "display": null,
      "flex": null,
      "flex_flow": null,
      "grid_area": null,
      "grid_auto_columns": null,
      "grid_auto_flow": null,
      "grid_auto_rows": null,
      "grid_column": null,
      "grid_gap": null,
      "grid_row": null,
      "grid_template_areas": null,
      "grid_template_columns": null,
      "grid_template_rows": null,
      "height": null,
      "justify_content": null,
      "justify_items": null,
      "left": null,
      "margin": null,
      "max_height": null,
      "max_width": null,
      "min_height": null,
      "min_width": null,
      "object_fit": null,
      "object_position": null,
      "order": null,
      "overflow": null,
      "overflow_x": null,
      "overflow_y": null,
      "padding": null,
      "right": null,
      "top": null,
      "visibility": null,
      "width": null
     }
    },
    "d9c0ce4791d9413d9df9a0fe70228c4e": {
     "model_module": "@jupyter-widgets/controls",
     "model_module_version": "1.5.0",
     "model_name": "ProgressStyleModel",
     "state": {
      "_model_module": "@jupyter-widgets/controls",
      "_model_module_version": "1.5.0",
      "_model_name": "ProgressStyleModel",
      "_view_count": null,
      "_view_module": "@jupyter-widgets/base",
      "_view_module_version": "1.2.0",
      "_view_name": "StyleView",
      "bar_color": null,
      "description_width": ""
     }
    },
    "db84526f51ac4a729d36f56a002ab251": {
     "model_module": "@jupyter-widgets/controls",
     "model_module_version": "1.5.0",
     "model_name": "DescriptionStyleModel",
     "state": {
      "_model_module": "@jupyter-widgets/controls",
      "_model_module_version": "1.5.0",
      "_model_name": "DescriptionStyleModel",
      "_view_count": null,
      "_view_module": "@jupyter-widgets/base",
      "_view_module_version": "1.2.0",
      "_view_name": "StyleView",
      "description_width": ""
     }
    },
    "dcf7a1c2723a44099aecbad9925a29cb": {
     "model_module": "@jupyter-widgets/controls",
     "model_module_version": "1.5.0",
     "model_name": "DescriptionStyleModel",
     "state": {
      "_model_module": "@jupyter-widgets/controls",
      "_model_module_version": "1.5.0",
      "_model_name": "DescriptionStyleModel",
      "_view_count": null,
      "_view_module": "@jupyter-widgets/base",
      "_view_module_version": "1.2.0",
      "_view_name": "StyleView",
      "description_width": ""
     }
    },
    "de101cc796b04883896913f97d7e2174": {
     "model_module": "@jupyter-widgets/base",
     "model_module_version": "1.2.0",
     "model_name": "LayoutModel",
     "state": {
      "_model_module": "@jupyter-widgets/base",
      "_model_module_version": "1.2.0",
      "_model_name": "LayoutModel",
      "_view_count": null,
      "_view_module": "@jupyter-widgets/base",
      "_view_module_version": "1.2.0",
      "_view_name": "LayoutView",
      "align_content": null,
      "align_items": null,
      "align_self": null,
      "border": null,
      "bottom": null,
      "display": null,
      "flex": null,
      "flex_flow": null,
      "grid_area": null,
      "grid_auto_columns": null,
      "grid_auto_flow": null,
      "grid_auto_rows": null,
      "grid_column": null,
      "grid_gap": null,
      "grid_row": null,
      "grid_template_areas": null,
      "grid_template_columns": null,
      "grid_template_rows": null,
      "height": null,
      "justify_content": null,
      "justify_items": null,
      "left": null,
      "margin": null,
      "max_height": null,
      "max_width": null,
      "min_height": null,
      "min_width": null,
      "object_fit": null,
      "object_position": null,
      "order": null,
      "overflow": null,
      "overflow_x": null,
      "overflow_y": null,
      "padding": null,
      "right": null,
      "top": null,
      "visibility": null,
      "width": null
     }
    },
    "e25a2b0c033943a7ada5bc9c9bc20911": {
     "model_module": "@jupyter-widgets/base",
     "model_module_version": "1.2.0",
     "model_name": "LayoutModel",
     "state": {
      "_model_module": "@jupyter-widgets/base",
      "_model_module_version": "1.2.0",
      "_model_name": "LayoutModel",
      "_view_count": null,
      "_view_module": "@jupyter-widgets/base",
      "_view_module_version": "1.2.0",
      "_view_name": "LayoutView",
      "align_content": null,
      "align_items": null,
      "align_self": null,
      "border": null,
      "bottom": null,
      "display": null,
      "flex": null,
      "flex_flow": null,
      "grid_area": null,
      "grid_auto_columns": null,
      "grid_auto_flow": null,
      "grid_auto_rows": null,
      "grid_column": null,
      "grid_gap": null,
      "grid_row": null,
      "grid_template_areas": null,
      "grid_template_columns": null,
      "grid_template_rows": null,
      "height": null,
      "justify_content": null,
      "justify_items": null,
      "left": null,
      "margin": null,
      "max_height": null,
      "max_width": null,
      "min_height": null,
      "min_width": null,
      "object_fit": null,
      "object_position": null,
      "order": null,
      "overflow": null,
      "overflow_x": null,
      "overflow_y": null,
      "padding": null,
      "right": null,
      "top": null,
      "visibility": null,
      "width": null
     }
    },
    "e2b58cca3a98463597c4becec72f4fa0": {
     "model_module": "@jupyter-widgets/base",
     "model_module_version": "1.2.0",
     "model_name": "LayoutModel",
     "state": {
      "_model_module": "@jupyter-widgets/base",
      "_model_module_version": "1.2.0",
      "_model_name": "LayoutModel",
      "_view_count": null,
      "_view_module": "@jupyter-widgets/base",
      "_view_module_version": "1.2.0",
      "_view_name": "LayoutView",
      "align_content": null,
      "align_items": null,
      "align_self": null,
      "border": null,
      "bottom": null,
      "display": null,
      "flex": null,
      "flex_flow": null,
      "grid_area": null,
      "grid_auto_columns": null,
      "grid_auto_flow": null,
      "grid_auto_rows": null,
      "grid_column": null,
      "grid_gap": null,
      "grid_row": null,
      "grid_template_areas": null,
      "grid_template_columns": null,
      "grid_template_rows": null,
      "height": null,
      "justify_content": null,
      "justify_items": null,
      "left": null,
      "margin": null,
      "max_height": null,
      "max_width": null,
      "min_height": null,
      "min_width": null,
      "object_fit": null,
      "object_position": null,
      "order": null,
      "overflow": null,
      "overflow_x": null,
      "overflow_y": null,
      "padding": null,
      "right": null,
      "top": null,
      "visibility": null,
      "width": null
     }
    },
    "e2c32dcce2124722b0661e76741dae00": {
     "model_module": "@jupyter-widgets/base",
     "model_module_version": "1.2.0",
     "model_name": "LayoutModel",
     "state": {
      "_model_module": "@jupyter-widgets/base",
      "_model_module_version": "1.2.0",
      "_model_name": "LayoutModel",
      "_view_count": null,
      "_view_module": "@jupyter-widgets/base",
      "_view_module_version": "1.2.0",
      "_view_name": "LayoutView",
      "align_content": null,
      "align_items": null,
      "align_self": null,
      "border": null,
      "bottom": null,
      "display": null,
      "flex": null,
      "flex_flow": null,
      "grid_area": null,
      "grid_auto_columns": null,
      "grid_auto_flow": null,
      "grid_auto_rows": null,
      "grid_column": null,
      "grid_gap": null,
      "grid_row": null,
      "grid_template_areas": null,
      "grid_template_columns": null,
      "grid_template_rows": null,
      "height": null,
      "justify_content": null,
      "justify_items": null,
      "left": null,
      "margin": null,
      "max_height": null,
      "max_width": null,
      "min_height": null,
      "min_width": null,
      "object_fit": null,
      "object_position": null,
      "order": null,
      "overflow": null,
      "overflow_x": null,
      "overflow_y": null,
      "padding": null,
      "right": null,
      "top": null,
      "visibility": null,
      "width": null
     }
    },
    "e83cb83d18aa4626aa3d21753b636780": {
     "model_module": "@jupyter-widgets/controls",
     "model_module_version": "1.5.0",
     "model_name": "ProgressStyleModel",
     "state": {
      "_model_module": "@jupyter-widgets/controls",
      "_model_module_version": "1.5.0",
      "_model_name": "ProgressStyleModel",
      "_view_count": null,
      "_view_module": "@jupyter-widgets/base",
      "_view_module_version": "1.2.0",
      "_view_name": "StyleView",
      "bar_color": null,
      "description_width": ""
     }
    },
    "ea5025b6b11a424da06174fdb96aa2d3": {
     "model_module": "@jupyter-widgets/controls",
     "model_module_version": "1.5.0",
     "model_name": "FloatProgressModel",
     "state": {
      "_dom_classes": [],
      "_model_module": "@jupyter-widgets/controls",
      "_model_module_version": "1.5.0",
      "_model_name": "FloatProgressModel",
      "_view_count": null,
      "_view_module": "@jupyter-widgets/controls",
      "_view_module_version": "1.5.0",
      "_view_name": "ProgressView",
      "bar_style": "success",
      "description": "",
      "description_tooltip": null,
      "layout": "IPY_MODEL_5cdafc0673b74674ab97800d8e288842",
      "max": 20854,
      "min": 0,
      "orientation": "horizontal",
      "style": "IPY_MODEL_a26e99f1e56147d8a1d7c0bb3f6186f1",
      "value": 20854
     }
    },
    "eae6462c744c46b8941fc00b3e950819": {
     "model_module": "@jupyter-widgets/controls",
     "model_module_version": "1.5.0",
     "model_name": "HTMLModel",
     "state": {
      "_dom_classes": [],
      "_model_module": "@jupyter-widgets/controls",
      "_model_module_version": "1.5.0",
      "_model_name": "HTMLModel",
      "_view_count": null,
      "_view_module": "@jupyter-widgets/controls",
      "_view_module_version": "1.5.0",
      "_view_name": "HTMLView",
      "description": "",
      "description_tooltip": null,
      "layout": "IPY_MODEL_5763abb3b7d84b4eb39869d9d77e1cf5",
      "placeholder": "​",
      "style": "IPY_MODEL_db84526f51ac4a729d36f56a002ab251",
      "value": " 50/50 [00:27&lt;00:00,  1.70it/s]"
     }
    },
    "eb223dd3ec3049a0890e1f55521f806c": {
     "model_module": "@jupyter-widgets/base",
     "model_module_version": "1.2.0",
     "model_name": "LayoutModel",
     "state": {
      "_model_module": "@jupyter-widgets/base",
      "_model_module_version": "1.2.0",
      "_model_name": "LayoutModel",
      "_view_count": null,
      "_view_module": "@jupyter-widgets/base",
      "_view_module_version": "1.2.0",
      "_view_name": "LayoutView",
      "align_content": null,
      "align_items": null,
      "align_self": null,
      "border": null,
      "bottom": null,
      "display": null,
      "flex": null,
      "flex_flow": null,
      "grid_area": null,
      "grid_auto_columns": null,
      "grid_auto_flow": null,
      "grid_auto_rows": null,
      "grid_column": null,
      "grid_gap": null,
      "grid_row": null,
      "grid_template_areas": null,
      "grid_template_columns": null,
      "grid_template_rows": null,
      "height": null,
      "justify_content": null,
      "justify_items": null,
      "left": null,
      "margin": null,
      "max_height": null,
      "max_width": null,
      "min_height": null,
      "min_width": null,
      "object_fit": null,
      "object_position": null,
      "order": null,
      "overflow": null,
      "overflow_x": null,
      "overflow_y": null,
      "padding": null,
      "right": null,
      "top": null,
      "visibility": null,
      "width": null
     }
    },
    "ecdf402605ed4bcab4f84a4351bc8551": {
     "model_module": "@jupyter-widgets/base",
     "model_module_version": "1.2.0",
     "model_name": "LayoutModel",
     "state": {
      "_model_module": "@jupyter-widgets/base",
      "_model_module_version": "1.2.0",
      "_model_name": "LayoutModel",
      "_view_count": null,
      "_view_module": "@jupyter-widgets/base",
      "_view_module_version": "1.2.0",
      "_view_name": "LayoutView",
      "align_content": null,
      "align_items": null,
      "align_self": null,
      "border": null,
      "bottom": null,
      "display": null,
      "flex": null,
      "flex_flow": null,
      "grid_area": null,
      "grid_auto_columns": null,
      "grid_auto_flow": null,
      "grid_auto_rows": null,
      "grid_column": null,
      "grid_gap": null,
      "grid_row": null,
      "grid_template_areas": null,
      "grid_template_columns": null,
      "grid_template_rows": null,
      "height": null,
      "justify_content": null,
      "justify_items": null,
      "left": null,
      "margin": null,
      "max_height": null,
      "max_width": null,
      "min_height": null,
      "min_width": null,
      "object_fit": null,
      "object_position": null,
      "order": null,
      "overflow": null,
      "overflow_x": null,
      "overflow_y": null,
      "padding": null,
      "right": null,
      "top": null,
      "visibility": null,
      "width": null
     }
    },
    "ee5c482fdd8445b780fc56f9c7137e39": {
     "model_module": "@jupyter-widgets/controls",
     "model_module_version": "1.5.0",
     "model_name": "HBoxModel",
     "state": {
      "_dom_classes": [],
      "_model_module": "@jupyter-widgets/controls",
      "_model_module_version": "1.5.0",
      "_model_name": "HBoxModel",
      "_view_count": null,
      "_view_module": "@jupyter-widgets/controls",
      "_view_module_version": "1.5.0",
      "_view_name": "HBoxView",
      "box_style": "",
      "children": [
       "IPY_MODEL_94347f2c242947879626d8e0a962ddb2",
       "IPY_MODEL_ea5025b6b11a424da06174fdb96aa2d3",
       "IPY_MODEL_91b966ede37a412a9e6c87f79a5f3140"
      ],
      "layout": "IPY_MODEL_a05e5daa2064453382053efbf3635b8c"
     }
    },
    "f039e4137c31401d9fc63fe28bff0fca": {
     "model_module": "@jupyter-widgets/controls",
     "model_module_version": "1.5.0",
     "model_name": "DescriptionStyleModel",
     "state": {
      "_model_module": "@jupyter-widgets/controls",
      "_model_module_version": "1.5.0",
      "_model_name": "DescriptionStyleModel",
      "_view_count": null,
      "_view_module": "@jupyter-widgets/base",
      "_view_module_version": "1.2.0",
      "_view_name": "StyleView",
      "description_width": ""
     }
    },
    "f409c1b66f9c4e7b82e85deb735ce94e": {
     "model_module": "@jupyter-widgets/controls",
     "model_module_version": "1.5.0",
     "model_name": "HTMLModel",
     "state": {
      "_dom_classes": [],
      "_model_module": "@jupyter-widgets/controls",
      "_model_module_version": "1.5.0",
      "_model_name": "HTMLModel",
      "_view_count": null,
      "_view_module": "@jupyter-widgets/controls",
      "_view_module_version": "1.5.0",
      "_view_name": "HTMLView",
      "description": "",
      "description_tooltip": null,
      "layout": "IPY_MODEL_25de90b5a7534ac6a6c8fbc314f80843",
      "placeholder": "​",
      "style": "IPY_MODEL_96e826f26a664b8eae8107f5b4894032",
      "value": "100%"
     }
    },
    "f96db6ef5aa644e8be36c012165f4e8f": {
     "model_module": "@jupyter-widgets/base",
     "model_module_version": "1.2.0",
     "model_name": "LayoutModel",
     "state": {
      "_model_module": "@jupyter-widgets/base",
      "_model_module_version": "1.2.0",
      "_model_name": "LayoutModel",
      "_view_count": null,
      "_view_module": "@jupyter-widgets/base",
      "_view_module_version": "1.2.0",
      "_view_name": "LayoutView",
      "align_content": null,
      "align_items": null,
      "align_self": null,
      "border": null,
      "bottom": null,
      "display": null,
      "flex": null,
      "flex_flow": null,
      "grid_area": null,
      "grid_auto_columns": null,
      "grid_auto_flow": null,
      "grid_auto_rows": null,
      "grid_column": null,
      "grid_gap": null,
      "grid_row": null,
      "grid_template_areas": null,
      "grid_template_columns": null,
      "grid_template_rows": null,
      "height": null,
      "justify_content": null,
      "justify_items": null,
      "left": null,
      "margin": null,
      "max_height": null,
      "max_width": null,
      "min_height": null,
      "min_width": null,
      "object_fit": null,
      "object_position": null,
      "order": null,
      "overflow": null,
      "overflow_x": null,
      "overflow_y": null,
      "padding": null,
      "right": null,
      "top": null,
      "visibility": null,
      "width": null
     }
    },
    "ff22e7bc1a6a4f2384093d120cbb567a": {
     "model_module": "@jupyter-widgets/controls",
     "model_module_version": "1.5.0",
     "model_name": "HTMLModel",
     "state": {
      "_dom_classes": [],
      "_model_module": "@jupyter-widgets/controls",
      "_model_module_version": "1.5.0",
      "_model_name": "HTMLModel",
      "_view_count": null,
      "_view_module": "@jupyter-widgets/controls",
      "_view_module_version": "1.5.0",
      "_view_name": "HTMLView",
      "description": "",
      "description_tooltip": null,
      "layout": "IPY_MODEL_a07330d68c5e468987af1d308081ec11",
      "placeholder": "​",
      "style": "IPY_MODEL_67017f26d12d46ed91b2ae9923434741",
      "value": "100%"
     }
    }
   }
  }
 },
 "nbformat": 4,
 "nbformat_minor": 4
}
