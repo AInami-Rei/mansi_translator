{
 "cells": [
  {
   "cell_type": "markdown",
   "metadata": {
    "id": "zKtp6d0xN3zk"
   },
   "source": [
    "https://huggingface.co/facebook/mbart-large-50-many-to-many-mmt"
   ]
  },
  {
   "cell_type": "markdown",
   "metadata": {
    "id": "KDJhuYyQGtgd"
   },
   "source": [
    "# Preparation"
   ]
  },
  {
   "cell_type": "code",
   "execution_count": 7,
   "metadata": {
    "execution": {
     "iopub.execute_input": "2024-09-07T13:29:05.658650Z",
     "iopub.status.busy": "2024-09-07T13:29:05.657484Z",
     "iopub.status.idle": "2024-09-07T13:29:08.057063Z",
     "shell.execute_reply": "2024-09-07T13:29:08.055948Z",
     "shell.execute_reply.started": "2024-09-07T13:29:05.658604Z"
    },
    "id": "Jhjl0adu1A6v",
    "tags": []
   },
   "outputs": [
    {
     "name": "stdout",
     "output_type": "stream",
     "text": [
      "\n",
      "\u001b[1m[\u001b[0m\u001b[34;49mnotice\u001b[0m\u001b[1;39;49m]\u001b[0m\u001b[39;49m A new release of pip is available: \u001b[0m\u001b[31;49m23.0.1\u001b[0m\u001b[39;49m -> \u001b[0m\u001b[32;49m24.2\u001b[0m\n",
      "\u001b[1m[\u001b[0m\u001b[34;49mnotice\u001b[0m\u001b[1;39;49m]\u001b[0m\u001b[39;49m To update, run: \u001b[0m\u001b[32;49mpython3 -m pip install --upgrade pip\u001b[0m\n"
     ]
    }
   ],
   "source": [
    "%pip install transformers sentencepiece pandas -q"
   ]
  },
  {
   "cell_type": "code",
   "execution_count": 3,
   "metadata": {
    "colab": {
     "base_uri": "https://localhost:8080/"
    },
    "execution": {
     "iopub.execute_input": "2024-09-07T13:27:32.132605Z",
     "iopub.status.busy": "2024-09-07T13:27:32.131241Z",
     "iopub.status.idle": "2024-09-07T13:27:32.470369Z",
     "shell.execute_reply": "2024-09-07T13:27:32.469404Z",
     "shell.execute_reply.started": "2024-09-07T13:27:32.132560Z"
    },
    "id": "Sxx1_kyB1yuD",
    "outputId": "e0f1526c-76ed-4697-d4ee-09c64ce12247"
   },
   "outputs": [
    {
     "name": "stderr",
     "output_type": "stream",
     "text": [
      "--2024-09-07 13:27:32--  https://raw.githubusercontent.com/google/sentencepiece/master/src/sentencepiece_model.proto\n",
      "Resolving raw.githubusercontent.com (raw.githubusercontent.com)... 185.199.108.133, 185.199.109.133, 185.199.110.133, ...\n",
      "Connecting to raw.githubusercontent.com (raw.githubusercontent.com)|185.199.108.133|:443... connected.\n",
      "HTTP request sent, awaiting response... 200 OK\n",
      "Length: 14023 (14K) [text/plain]\n",
      "Saving to: ‘sentencepiece_model.proto’\n",
      "\n",
      "     0K .......... ...                                        100% 91.6M=0s\n",
      "\n",
      "2024-09-07 13:27:32 (91.6 MB/s) - ‘sentencepiece_model.proto’ saved [14023/14023]\n",
      "\n"
     ]
    }
   ],
   "source": [
    "!wget https://raw.githubusercontent.com/google/sentencepiece/master/src/sentencepiece_model.proto"
   ]
  },
  {
   "cell_type": "code",
   "execution_count": 5,
   "metadata": {
    "execution": {
     "iopub.execute_input": "2024-09-07T13:28:23.786077Z",
     "iopub.status.busy": "2024-09-07T13:28:23.785062Z",
     "iopub.status.idle": "2024-09-07T13:28:23.800705Z",
     "shell.execute_reply": "2024-09-07T13:28:23.799798Z",
     "shell.execute_reply.started": "2024-09-07T13:28:23.786035Z"
    },
    "id": "4ZX5lFbY1zD_",
    "tags": []
   },
   "outputs": [],
   "source": [
    "# ! protoc --python_out=. sentencepiece_model.proto"
   ]
  },
  {
   "cell_type": "code",
   "execution_count": 1,
   "metadata": {
    "colab": {
     "base_uri": "https://localhost:8080/",
     "height": 424
    },
    "execution": {
     "iopub.execute_input": "2024-09-07T14:15:09.852827Z",
     "iopub.status.busy": "2024-09-07T14:15:09.851503Z",
     "iopub.status.idle": "2024-09-07T14:15:10.343277Z",
     "shell.execute_reply": "2024-09-07T14:15:10.342398Z",
     "shell.execute_reply.started": "2024-09-07T14:15:09.852775Z"
    },
    "id": "MZxHlCi_ayT_",
    "outputId": "8a3b5a93-5746-4b9b-e1d4-9e704fcc2881",
    "tags": []
   },
   "outputs": [
    {
     "data": {
      "text/html": [
       "<div>\n",
       "<style scoped>\n",
       "    .dataframe tbody tr th:only-of-type {\n",
       "        vertical-align: middle;\n",
       "    }\n",
       "\n",
       "    .dataframe tbody tr th {\n",
       "        vertical-align: top;\n",
       "    }\n",
       "\n",
       "    .dataframe thead th {\n",
       "        text-align: right;\n",
       "    }\n",
       "</style>\n",
       "<table border=\"1\" class=\"dataframe\">\n",
       "  <thead>\n",
       "    <tr style=\"text-align: right;\">\n",
       "      <th></th>\n",
       "      <th>target</th>\n",
       "      <th>source</th>\n",
       "    </tr>\n",
       "  </thead>\n",
       "  <tbody>\n",
       "    <tr>\n",
       "      <th>0</th>\n",
       "      <td>Та пыгрисит маим вармаль э̄рнэ поратэт ат верм...</td>\n",
       "      <td>Те мальчики не выполнят задание в назначенный ...</td>\n",
       "    </tr>\n",
       "    <tr>\n",
       "      <th>1</th>\n",
       "      <td>Ха̄йтыматэ тӯр ва̄тан ёхтыс, вит ва̄тан ха̄йтыс.</td>\n",
       "      <td>Бегая к берегу озера пришла, к воде подбежала.</td>\n",
       "    </tr>\n",
       "    <tr>\n",
       "      <th>2</th>\n",
       "      <td>Вит са̄мыл сунсым о̄нтыс</td>\n",
       "      <td>Вода прибывала на глазах</td>\n",
       "    </tr>\n",
       "    <tr>\n",
       "      <th>3</th>\n",
       "      <td>Атаявев, акваг лылынг тагл ворн та тотавев.</td>\n",
       "      <td>Обнюхивает нас, живыми на кладбище уносит.</td>\n",
       "    </tr>\n",
       "    <tr>\n",
       "      <th>4</th>\n",
       "      <td>Ман ты пӣлтал,  веськат хумиюв  нэтхуньт ат ёр...</td>\n",
       "      <td>Мы никогда не забудем этого честного человека.</td>\n",
       "    </tr>\n",
       "    <tr>\n",
       "      <th>...</th>\n",
       "      <td>...</td>\n",
       "      <td>...</td>\n",
       "    </tr>\n",
       "    <tr>\n",
       "      <th>81141</th>\n",
       "      <td>А̄нумн ка̄салахты аквтуп тамле о̄лнэ накыт ма̄...</td>\n",
       "      <td>Мне кажется, что подобные случаи могут вызыват...</td>\n",
       "    </tr>\n",
       "    <tr>\n",
       "      <th>81142</th>\n",
       "      <td>А̄танэ нё̄тнэ̄г юил акван-атманэ.</td>\n",
       "      <td>Волосы аккуратно собраны сзади.</td>\n",
       "    </tr>\n",
       "    <tr>\n",
       "      <th>81143</th>\n",
       "      <td>Тох тай, культура сака тэ̄пгалан мед а̄тим.</td>\n",
       "      <td>В общем, культуры интенсивного потребления мед...</td>\n",
       "    </tr>\n",
       "    <tr>\n",
       "      <th>81144</th>\n",
       "      <td>Тувыл Уэйтс ты музыкантыг ёт, Чарли Рич ос Фрэ...</td>\n",
       "      <td>Затем Уэйтс отправился на гастроли с такими му...</td>\n",
       "    </tr>\n",
       "    <tr>\n",
       "      <th>81145</th>\n",
       "      <td>Тох ман ро̄ви та̄ра юртанын воськасаӈквет?</td>\n",
       "      <td>Но разве можно вот так просто покинуть своих д...</td>\n",
       "    </tr>\n",
       "  </tbody>\n",
       "</table>\n",
       "<p>81146 rows × 2 columns</p>\n",
       "</div>"
      ],
      "text/plain": [
       "                                                  target                                             source\n",
       "0      Та пыгрисит маим вармаль э̄рнэ поратэт ат верм...  Те мальчики не выполнят задание в назначенный ...\n",
       "1      Ха̄йтыматэ тӯр ва̄тан ёхтыс, вит ва̄тан ха̄йтыс.     Бегая к берегу озера пришла, к воде подбежала. \n",
       "2                              Вит са̄мыл сунсым о̄нтыс                           Вода прибывала на глазах \n",
       "3            Атаявев, акваг лылынг тагл ворн та тотавев.        Обнюхивает нас, живыми на кладбище уносит. \n",
       "4      Ман ты пӣлтал,  веськат хумиюв  нэтхуньт ат ёр...     Мы никогда не забудем этого честного человека.\n",
       "...                                                  ...                                                ...\n",
       "81141  А̄нумн ка̄салахты аквтуп тамле о̄лнэ накыт ма̄...  Мне кажется, что подобные случаи могут вызыват...\n",
       "81142                  А̄танэ нё̄тнэ̄г юил акван-атманэ.                    Волосы аккуратно собраны сзади.\n",
       "81143        Тох тай, культура сака тэ̄пгалан мед а̄тим.  В общем, культуры интенсивного потребления мед...\n",
       "81144  Тувыл Уэйтс ты музыкантыг ёт, Чарли Рич ос Фрэ...  Затем Уэйтс отправился на гастроли с такими му...\n",
       "81145         Тох ман ро̄ви та̄ра юртанын воськасаӈквет?  Но разве можно вот так просто покинуть своих д...\n",
       "\n",
       "[81146 rows x 2 columns]"
      ]
     },
     "execution_count": 1,
     "metadata": {},
     "output_type": "execute_result"
    }
   ],
   "source": [
    "import pandas as pd\n",
    "data = pd.read_csv('overall_80K.csv')\n",
    "data.drop(columns=[\"Unnamed: 0\"], inplace=True)\n",
    "data"
   ]
  },
  {
   "cell_type": "markdown",
   "metadata": {
    "id": "KN8J3pT_GwD4"
   },
   "source": [
    "# Counting words"
   ]
  },
  {
   "cell_type": "code",
   "execution_count": 2,
   "metadata": {
    "colab": {
     "base_uri": "https://localhost:8080/"
    },
    "execution": {
     "iopub.execute_input": "2024-09-07T14:15:13.566947Z",
     "iopub.status.busy": "2024-09-07T14:15:13.565918Z",
     "iopub.status.idle": "2024-09-07T14:15:17.413759Z",
     "shell.execute_reply": "2024-09-07T14:15:17.412895Z",
     "shell.execute_reply.started": "2024-09-07T14:15:13.566902Z"
    },
    "id": "2MJzgZW61KeY",
    "outputId": "f677a0b8-60ef-42c6-aa15-b25c1e6fd101",
    "tags": []
   },
   "outputs": [
    {
     "name": "stderr",
     "output_type": "stream",
     "text": [
      "/home/jupyter/.local/lib/python3.10/site-packages/transformers/utils/hub.py:127: FutureWarning: Using `TRANSFORMERS_CACHE` is deprecated and will be removed in v5 of Transformers. Use `HF_HOME` instead.\n",
      "  warnings.warn(\n",
      "/home/jupyter/.local/lib/python3.10/site-packages/transformers/tokenization_utils_base.py:1601: FutureWarning: `clean_up_tokenization_spaces` was not set. It will be set to `True` by default. This behavior will be depracted in transformers v4.45, and will be then set to `False` by default. For more details check this issue: https://github.com/huggingface/transformers/issues/31884\n",
      "  warnings.warn(\n"
     ]
    }
   ],
   "source": [
    "import torch\n",
    "from transformers import MBartForConditionalGeneration, MBart50Tokenizer\n",
    "tokenizer = MBart50Tokenizer.from_pretrained(\"facebook/mbart-large-50-many-to-many-mmt\")"
   ]
  },
  {
   "cell_type": "code",
   "execution_count": 3,
   "metadata": {
    "colab": {
     "base_uri": "https://localhost:8080/"
    },
    "execution": {
     "iopub.execute_input": "2024-09-07T14:15:18.848648Z",
     "iopub.status.busy": "2024-09-07T14:15:18.845637Z",
     "iopub.status.idle": "2024-09-07T14:15:18.860741Z",
     "shell.execute_reply": "2024-09-07T14:15:18.859874Z",
     "shell.execute_reply.started": "2024-09-07T14:15:18.848598Z"
    },
    "id": "vfzEFnvA1gIJ",
    "outputId": "621513d0-0030-49d1-8e3d-04c2e2342f59",
    "tags": []
   },
   "outputs": [
    {
     "name": "stdout",
     "output_type": "stream",
     "text": [
      "250054\n"
     ]
    }
   ],
   "source": [
    "print(tokenizer.vocab_size)"
   ]
  },
  {
   "cell_type": "code",
   "execution_count": 4,
   "metadata": {
    "colab": {
     "base_uri": "https://localhost:8080/"
    },
    "execution": {
     "iopub.execute_input": "2024-09-07T14:15:19.995158Z",
     "iopub.status.busy": "2024-09-07T14:15:19.994088Z",
     "iopub.status.idle": "2024-09-07T14:15:20.043274Z",
     "shell.execute_reply": "2024-09-07T14:15:20.042188Z",
     "shell.execute_reply.started": "2024-09-07T14:15:19.995109Z"
    },
    "id": "4EYsdgrb1lG2",
    "outputId": "91d88f56-4b19-4600-b3cf-14f6539e9e51",
    "tags": []
   },
   "outputs": [
    {
     "name": "stdout",
     "output_type": "stream",
     "text": [
      "81146\n"
     ]
    }
   ],
   "source": [
    "all_sentences = data['target'].values\n",
    "print(len(all_sentences))"
   ]
  },
  {
   "cell_type": "code",
   "execution_count": 5,
   "metadata": {
    "colab": {
     "base_uri": "https://localhost:8080/"
    },
    "execution": {
     "iopub.execute_input": "2024-09-07T14:15:20.772766Z",
     "iopub.status.busy": "2024-09-07T14:15:20.771669Z",
     "iopub.status.idle": "2024-09-07T14:15:20.805945Z",
     "shell.execute_reply": "2024-09-07T14:15:20.805102Z",
     "shell.execute_reply.started": "2024-09-07T14:15:20.772726Z"
    },
    "id": "H1_vY0cF3oSI",
    "outputId": "87c6267e-5360-4268-a08f-1b14cee3957b",
    "tags": []
   },
   "outputs": [
    {
     "data": {
      "text/plain": [
       "array(['Та пыгрисит маим вармаль э̄рнэ поратэт ат вермгыг варункв',\n",
       "       'Ха̄йтыматэ тӯр ва̄тан ёхтыс, вит ва̄тан ха̄йтыс. ',\n",
       "       'Вит са̄мыл сунсым о̄нтыс ',\n",
       "       'Атаявев, акваг лылынг тагл ворн та тотавев.',\n",
       "       'Ман ты пӣлтал,  веськат хумиюв  нэтхуньт ат ёрувлвылув',\n",
       "       'То̄лыг я̄ ко̄тильт та̄гапас', 'Лё̄ӈх ӯлтта тисупа тыламлас. ',\n",
       "       'Салыл султтанэтэ, хунтлы, аманхотют савынкан торыг тортал та лющнэтэ суйты.',\n",
       "       'Тыи сака ёмас сахи, щар я̄ӈк тӯйт хурипа.',\n",
       "       'Нох-хилумтэ - тахурип ёмас аги. '], dtype=object)"
      ]
     },
     "execution_count": 5,
     "metadata": {},
     "output_type": "execute_result"
    }
   ],
   "source": [
    "all_sentences[:10]"
   ]
  },
  {
   "cell_type": "code",
   "execution_count": 6,
   "metadata": {
    "execution": {
     "iopub.execute_input": "2024-09-07T14:15:21.574452Z",
     "iopub.status.busy": "2024-09-07T14:15:21.573274Z",
     "iopub.status.idle": "2024-09-07T14:15:21.617760Z",
     "shell.execute_reply": "2024-09-07T14:15:21.616782Z",
     "shell.execute_reply.started": "2024-09-07T14:15:21.574409Z"
    },
    "id": "ImlqOO-e3bTA",
    "tags": []
   },
   "outputs": [],
   "source": [
    "from collections import Counter, defaultdict\n",
    "from tqdm.auto import tqdm, trange\n",
    "import random\n",
    "import re"
   ]
  },
  {
   "cell_type": "code",
   "execution_count": 7,
   "metadata": {
    "colab": {
     "base_uri": "https://localhost:8080/",
     "height": 49,
     "referenced_widgets": [
      "6f4b8d5e1f704b5ebda4c77a86a2ce0d",
      "b0503b40e7084c9bacba1aa14f52c258",
      "d01b74364440424c9096c04a7530751c",
      "eae7a46541dd489c87542ff2970dbe7a",
      "bfd42b6b4734492fb1df1e4b55f90f3f",
      "0d78ea1c93b044b68d8ef2d0c52193af",
      "aa59df3a1a8740e4af1071e0ab9b6ae7",
      "6a7bdc47f1db401f9ac94bff4c906f43",
      "8bc4497cbffb432fbd387397826d4426",
      "da8f6cd4c3bb4099926e8947e4f289e0",
      "c607f0f823ac4dc8a0c22e10277c7f30"
     ]
    },
    "execution": {
     "iopub.execute_input": "2024-09-07T14:15:22.185996Z",
     "iopub.status.busy": "2024-09-07T14:15:22.185135Z",
     "iopub.status.idle": "2024-09-07T14:15:22.646620Z",
     "shell.execute_reply": "2024-09-07T14:15:22.645635Z",
     "shell.execute_reply.started": "2024-09-07T14:15:22.185952Z"
    },
    "id": "N73kIex95sT6",
    "outputId": "6a1f5276-d10b-48c9-fe92-b027ac45b07b",
    "tags": []
   },
   "outputs": [
    {
     "name": "stderr",
     "output_type": "stream",
     "text": [
      "100%|██████████| 81146/81146 [00:00<00:00, 185867.35it/s]\n"
     ]
    }
   ],
   "source": [
    "char_count = Counter()\n",
    "for text in tqdm(all_sentences):\n",
    "    char_count.update(text)"
   ]
  },
  {
   "cell_type": "code",
   "execution_count": 8,
   "metadata": {
    "execution": {
     "iopub.execute_input": "2024-09-07T14:15:23.314192Z",
     "iopub.status.busy": "2024-09-07T14:15:23.313162Z",
     "iopub.status.idle": "2024-09-07T14:15:23.335008Z",
     "shell.execute_reply": "2024-09-07T14:15:23.334156Z",
     "shell.execute_reply.started": "2024-09-07T14:15:23.314152Z"
    },
    "id": "7CUX3Wi16OHD",
    "tags": []
   },
   "outputs": [],
   "source": [
    "PUNCT = '.,-—:)(»«!?–/;„\"“…*́№Ёҥ[]”^%+І=і•_􏰀²|}{#‘■>⁠’á<°\\§\\''\n",
    "SPACE = '▁'"
   ]
  },
  {
   "cell_type": "code",
   "execution_count": 9,
   "metadata": {
    "colab": {
     "base_uri": "https://localhost:8080/"
    },
    "execution": {
     "iopub.execute_input": "2024-09-07T14:15:24.123618Z",
     "iopub.status.busy": "2024-09-07T14:15:24.122587Z",
     "iopub.status.idle": "2024-09-07T14:15:24.141424Z",
     "shell.execute_reply": "2024-09-07T14:15:24.140689Z",
     "shell.execute_reply.started": "2024-09-07T14:15:24.123578Z"
    },
    "id": "KAoQjqTX53TX",
    "outputId": "ff1bf0f6-a045-416f-a85c-7284f0393be3",
    "tags": []
   },
   "outputs": [
    {
     "name": "stdout",
     "output_type": "stream",
     "text": [
      " ̄.,ӈӯ-ēā:\"ӣ«»ō?!–ЁӮĀ)(…\t;Ӣ­_—Ō%Ē¬№][/\\ūӑӇ=ӆ$”ә +ўѐӊ@’¸є#™<>"
     ]
    }
   ],
   "source": [
    "for k, v in char_count.most_common(200):\n",
    "    if not re.match('[а-яА-Яa-zA-Z0-9ё\\']', k):\n",
    "        print(k, end='')"
   ]
  },
  {
   "cell_type": "code",
   "execution_count": 10,
   "metadata": {
    "execution": {
     "iopub.execute_input": "2024-09-07T14:15:24.909551Z",
     "iopub.status.busy": "2024-09-07T14:15:24.908540Z",
     "iopub.status.idle": "2024-09-07T14:15:24.942326Z",
     "shell.execute_reply": "2024-09-07T14:15:24.941392Z",
     "shell.execute_reply.started": "2024-09-07T14:15:24.909508Z"
    },
    "id": "o2FA6WVm5Zdh",
    "tags": []
   },
   "outputs": [],
   "source": [
    "def get_words(text, tokenizer, verbose=False):\n",
    "    toks = tokenizer.tokenize(text)\n",
    "    words = []\n",
    "    word = []\n",
    "    prev_punct = False\n",
    "    for tok in toks:\n",
    "        is_punct = tok.lstrip(SPACE) and all(c in PUNCT for c in tok.lstrip(SPACE))\n",
    "        if tok.startswith(SPACE) or prev_punct != is_punct:\n",
    "            if word:\n",
    "                words.append(word)\n",
    "            word = []\n",
    "        word.append(tok)\n",
    "        prev_punct = is_punct\n",
    "    if word:\n",
    "        words.append(word)\n",
    "    if verbose:\n",
    "        print(words)\n",
    "    res = words\n",
    "    # assert tokenizer.decode([tok for t in res for tok in t]) == text\n",
    "    return res"
   ]
  },
  {
   "cell_type": "code",
   "execution_count": 11,
   "metadata": {
    "colab": {
     "base_uri": "https://localhost:8080/",
     "height": 66,
     "referenced_widgets": [
      "8312250db78d48c3894cfc9f8f71f15b",
      "e6805b028a39416e9a9c923053b14d9e",
      "41543259a5c3435abc7fbe25372fa7ae",
      "cd55c0cf9e314be8b0fa1fa00e5bef79",
      "f7b43e1b4c1c4749bf08c826252d8179",
      "8365cbdbc244466a98f1c89503018432",
      "0ddc1b7014874e8cbb9dcb21390fe717",
      "6e14906b302c45689d5e89a0e71b5f6e",
      "e2910a2074b549fc80bc23ed763a941e",
      "79ffa1f9b8c3438a8b89ea3dbbd9a4c8",
      "f7c47aadd42140d8b0cf69737e493772"
     ]
    },
    "execution": {
     "iopub.execute_input": "2024-09-07T14:15:25.771453Z",
     "iopub.status.busy": "2024-09-07T14:15:25.770373Z",
     "iopub.status.idle": "2024-09-07T14:15:32.943186Z",
     "shell.execute_reply": "2024-09-07T14:15:32.942299Z",
     "shell.execute_reply.started": "2024-09-07T14:15:25.771408Z"
    },
    "id": "X8JJLJNz3lIC",
    "outputId": "c56ad567-c7a7-44f3-99ad-9a042d6ecfea",
    "tags": []
   },
   "outputs": [
    {
     "name": "stderr",
     "output_type": "stream",
     "text": [
      "100%|██████████| 81146/81146 [00:07<00:00, 11391.50it/s]"
     ]
    },
    {
     "name": "stdout",
     "output_type": "stream",
     "text": [
      "87855\n"
     ]
    },
    {
     "name": "stderr",
     "output_type": "stream",
     "text": [
      "\n"
     ]
    }
   ],
   "source": [
    "word_count = Counter()\n",
    "word2toks = {}\n",
    "for text in tqdm(all_sentences):\n",
    "    for word_toks in get_words(text, tokenizer):\n",
    "        word = ''.join(word_toks)\n",
    "        word_count[word] += 1\n",
    "        word2toks[word] = word_toks\n",
    "print(len(word_count))"
   ]
  },
  {
   "cell_type": "code",
   "execution_count": 12,
   "metadata": {
    "execution": {
     "iopub.execute_input": "2024-09-07T14:15:47.105102Z",
     "iopub.status.busy": "2024-09-07T14:15:47.104067Z",
     "iopub.status.idle": "2024-09-07T14:15:47.734012Z",
     "shell.execute_reply": "2024-09-07T14:15:47.733188Z",
     "shell.execute_reply.started": "2024-09-07T14:15:47.105055Z"
    },
    "id": "-1LTmrrrDeZz",
    "tags": []
   },
   "outputs": [],
   "source": [
    "from copy import deepcopy\n",
    "word_count2 = deepcopy(word_count)\n",
    "word2toks2 = deepcopy(word2toks)"
   ]
  },
  {
   "cell_type": "markdown",
   "metadata": {
    "id": "67Y8d9qFHBSs"
   },
   "source": [
    "# Computing splits"
   ]
  },
  {
   "cell_type": "code",
   "execution_count": 13,
   "metadata": {
    "execution": {
     "iopub.execute_input": "2024-09-07T14:15:48.200451Z",
     "iopub.status.busy": "2024-09-07T14:15:48.199360Z",
     "iopub.status.idle": "2024-09-07T14:15:48.862566Z",
     "shell.execute_reply": "2024-09-07T14:15:48.861710Z",
     "shell.execute_reply.started": "2024-09-07T14:15:48.200404Z"
    },
    "id": "Ihb7vnIfDkoL",
    "tags": []
   },
   "outputs": [],
   "source": [
    "word_count = deepcopy(word_count2)\n",
    "word2toks = deepcopy(word2toks2)"
   ]
  },
  {
   "cell_type": "code",
   "execution_count": 14,
   "metadata": {
    "colab": {
     "base_uri": "https://localhost:8080/"
    },
    "execution": {
     "iopub.execute_input": "2024-09-07T14:15:48.865142Z",
     "iopub.status.busy": "2024-09-07T14:15:48.864292Z",
     "iopub.status.idle": "2024-09-07T14:15:48.894487Z",
     "shell.execute_reply": "2024-09-07T14:15:48.893517Z",
     "shell.execute_reply.started": "2024-09-07T14:15:48.865104Z"
    },
    "id": "58IvBiTL9DgZ",
    "outputId": "cbeba9a5-4842-4e89-eb90-666bd7a17ccb",
    "tags": []
   },
   "outputs": [
    {
     "name": "stdout",
     "output_type": "stream",
     "text": [
      "['▁Та', 'в']\n",
      "['▁ма', '̄', 'х', 'ум']\n",
      "['▁по', 'рат']\n",
      "['▁са', '̄', 'в']\n",
      "['▁та', '̄', 'л']\n",
      "['▁о', '̄', 'с']\n",
      "['▁о', '̄', 'лыс']\n",
      "['▁А', 'нь']\n",
      "['▁о', '̄', 'лы']\n",
      "['▁о', '̄', 'л', 'нэ']\n",
      "['▁ма', '̄', 'н']\n",
      "['▁ху', 'м']\n"
     ]
    }
   ],
   "source": [
    "for k, v in word_count.most_common(30):\n",
    "    if len(word2toks[k]) > 1:\n",
    "        print(word2toks[k])"
   ]
  },
  {
   "cell_type": "code",
   "execution_count": 15,
   "metadata": {
    "execution": {
     "iopub.execute_input": "2024-09-07T14:15:49.541516Z",
     "iopub.status.busy": "2024-09-07T14:15:49.540374Z",
     "iopub.status.idle": "2024-09-07T14:15:49.551499Z",
     "shell.execute_reply": "2024-09-07T14:15:49.550747Z",
     "shell.execute_reply.started": "2024-09-07T14:15:49.541474Z"
    },
    "id": "a_JjLe2o-U26",
    "tags": []
   },
   "outputs": [],
   "source": [
    "steps = 100_000\n",
    "min_count = 10 # 30\n",
    "# default:   0 new tokens, 30 lenght, 0% new tokens\n",
    "# 100 mindf: 6.6k new tokens, 22 length, 47% new tokens (of sentence length)\n",
    "# 30 mindf:  20k new tokens, 20 length, 58% new tokens\n",
    "# 10 mindf: 50K new tokens, 18.5 length, 64% new tokens\n",
    "extra_vocab = []\n",
    "extra_counts = []\n",
    "extra_pairs = []"
   ]
  },
  {
   "cell_type": "code",
   "execution_count": 16,
   "metadata": {
    "colab": {
     "base_uri": "https://localhost:8080/",
     "height": 49,
     "referenced_widgets": [
      "5afec15e75b34c61af6acc72a903c266",
      "d8c3f51721ae4bedb97b1466988bf613",
      "0e7a54a6b76449c5b7e855bdcc64bbfb",
      "3da66d239de543e780471678508d46db",
      "1ac5a08429ba4908a9c58e9ef648cea1",
      "be414608ac174d3aa90009bf597da111",
      "5b0f171d3bbf4453800c1d015ecf4383",
      "26dea035611d4a60823dada068cd1399",
      "be9bc67dfa154dcd91c9041297754da4",
      "0ccf3b85593547f8b2dadc402c568fca",
      "40f9c6f7f74142b391fa11d77df18cb9"
     ]
    },
    "execution": {
     "iopub.execute_input": "2024-09-07T14:15:50.078438Z",
     "iopub.status.busy": "2024-09-07T14:15:50.077270Z",
     "iopub.status.idle": "2024-09-07T14:15:50.523996Z",
     "shell.execute_reply": "2024-09-07T14:15:50.523022Z",
     "shell.execute_reply.started": "2024-09-07T14:15:50.078392Z"
    },
    "id": "DMKQFDUq-tep",
    "outputId": "aafc6477-8b40-41d3-ce26-918ffa1d7ee5",
    "tags": []
   },
   "outputs": [
    {
     "name": "stderr",
     "output_type": "stream",
     "text": [
      "100%|██████████| 87855/87855 [00:00<00:00, 207781.07it/s]\n"
     ]
    }
   ],
   "source": [
    "pairs_count = Counter()\n",
    "pair2word = defaultdict(set)\n",
    "for w, c in tqdm(word_count.items(), total=len(word_count)):\n",
    "    enc = word2toks[w]\n",
    "    for pair in zip(enc[:-1], enc[1:]):\n",
    "        pairs_count[pair] += c\n",
    "        pair2word[pair].add(w)"
   ]
  },
  {
   "cell_type": "code",
   "execution_count": 17,
   "metadata": {
    "execution": {
     "iopub.execute_input": "2024-09-07T14:15:51.632522Z",
     "iopub.status.busy": "2024-09-07T14:15:51.631487Z",
     "iopub.status.idle": "2024-09-07T14:15:55.523574Z",
     "shell.execute_reply": "2024-09-07T14:15:55.522655Z",
     "shell.execute_reply.started": "2024-09-07T14:15:51.632483Z"
    },
    "id": "lsKSNvD3cpK7",
    "tags": []
   },
   "outputs": [
    {
     "name": "stdout",
     "output_type": "stream",
     "text": [
      "\n",
      "\u001b[1m[\u001b[0m\u001b[34;49mnotice\u001b[0m\u001b[1;39;49m]\u001b[0m\u001b[39;49m A new release of pip is available: \u001b[0m\u001b[31;49m23.0.1\u001b[0m\u001b[39;49m -> \u001b[0m\u001b[32;49m24.2\u001b[0m\n",
      "\u001b[1m[\u001b[0m\u001b[34;49mnotice\u001b[0m\u001b[1;39;49m]\u001b[0m\u001b[39;49m To update, run: \u001b[0m\u001b[32;49mpython3 -m pip install --upgrade pip\u001b[0m\n"
     ]
    }
   ],
   "source": [
    "%pip install heapdict -q"
   ]
  },
  {
   "cell_type": "code",
   "execution_count": 18,
   "metadata": {
    "execution": {
     "iopub.execute_input": "2024-09-07T14:15:55.526320Z",
     "iopub.status.busy": "2024-09-07T14:15:55.525366Z",
     "iopub.status.idle": "2024-09-07T14:15:55.663194Z",
     "shell.execute_reply": "2024-09-07T14:15:55.662323Z",
     "shell.execute_reply.started": "2024-09-07T14:15:55.526287Z"
    },
    "id": "4vJ6vhbh-xH9",
    "tags": []
   },
   "outputs": [],
   "source": [
    "from heapdict import heapdict\n",
    "hd = heapdict()\n",
    "for w, c in pairs_count.items():\n",
    "    hd[w] = -c"
   ]
  },
  {
   "cell_type": "code",
   "execution_count": 19,
   "metadata": {
    "execution": {
     "iopub.execute_input": "2024-09-07T14:15:58.077275Z",
     "iopub.status.busy": "2024-09-07T14:15:58.076355Z",
     "iopub.status.idle": "2024-09-07T14:15:58.093856Z",
     "shell.execute_reply": "2024-09-07T14:15:58.093008Z",
     "shell.execute_reply.started": "2024-09-07T14:15:58.077233Z"
    },
    "id": "T6D47aRi_A4X",
    "tags": []
   },
   "outputs": [],
   "source": [
    "def replace_pair(old_tokens, pair, new_token):\n",
    "    result = []\n",
    "    prev = old_tokens[0]\n",
    "    for tok in old_tokens[1:]:\n",
    "        if (prev, tok) == pair:\n",
    "            result.append(new_token)\n",
    "            prev = None\n",
    "        else:\n",
    "            if prev is not None:\n",
    "                result.append(prev)\n",
    "            prev = tok\n",
    "    if prev is not None:\n",
    "        result.append(prev)\n",
    "    return result"
   ]
  },
  {
   "cell_type": "code",
   "execution_count": 20,
   "metadata": {
    "colab": {
     "base_uri": "https://localhost:8080/",
     "height": 49,
     "referenced_widgets": [
      "734ef0ca98de4a7aa69423d201922ff0",
      "7575112765ac4a788db0c6d8ef1f7c1c",
      "517150384a3b4f80acba6bb72adc5742",
      "bd2a498c4e8e4dbeb039ef8a96683382",
      "c1e75ac35bd24e15af782066a77daaa6",
      "911baa69d28444d384eb2059af70370d",
      "931f0d53b676434a989feded59cdb8d1",
      "efec8ca36e7b46e6b9e810d51964cf08",
      "c45d905326984d65811f8e93276cb0e3",
      "e788b7dd30a9414fb89e3059c21861d7",
      "6e1e3d81a42a4557bd0178653e66b40d"
     ]
    },
    "execution": {
     "iopub.execute_input": "2024-09-07T14:15:59.041910Z",
     "iopub.status.busy": "2024-09-07T14:15:59.040757Z",
     "iopub.status.idle": "2024-09-07T14:16:05.191402Z",
     "shell.execute_reply": "2024-09-07T14:16:05.190590Z",
     "shell.execute_reply.started": "2024-09-07T14:15:59.041872Z"
    },
    "id": "YrlDtmT3_Dd5",
    "outputId": "1bffc4e8-ed64-4639-a38e-0de405508441",
    "tags": []
   },
   "outputs": [
    {
     "name": "stderr",
     "output_type": "stream",
     "text": [
      " 11%|█         | 11105/100000 [00:06<00:48, 1816.07it/s]\n"
     ]
    }
   ],
   "source": [
    "# rewrite with heapdict\n",
    "for _ in trange(steps):\n",
    "    #pair, c = pairs_count.most_common(1)[0]  # это самая времязатратная операция\n",
    "    pair, c = hd.peekitem()\n",
    "    c = -c\n",
    "\n",
    "    if c < min_count:\n",
    "        break\n",
    "    new_token = ''.join(pair) # instead of BERT-like pair[0] + pair[1][2:]\n",
    "    extra_vocab.append(pair)\n",
    "    extra_counts.append(c)\n",
    "    extra_pairs.append(pair)\n",
    "\n",
    "    # update the vocabulary\n",
    "    #new_id = len(id2ids)\n",
    "    #tok2id[new_token] = new_id\n",
    "    #id2ids.append(id2ids[tok2id[pair[0]]] + id2ids[tok2id[pair[1]]])\n",
    "\n",
    "    # calculate the delta for the heap\n",
    "    delta = Counter()\n",
    "    for word in list(pair2word[pair]):\n",
    "        # calculate old and new ways to tokenize the word\n",
    "        old_toks = word2toks[word]\n",
    "        # new_toks = \" \".join(old_toks).replace(' '.join(pair), new_token).split(\" \")\n",
    "        new_toks = replace_pair(old_toks, pair, new_token)\n",
    "        word2toks[word] = new_toks\n",
    "        wc = word_count[word]\n",
    "        # update the index concerning the tokens of the word\n",
    "        for old_pair in zip(old_toks[:-1], old_toks[1:]):\n",
    "            #pairs_count[old_pair] -= wc\n",
    "            delta[old_pair] -= wc\n",
    "            if word in pair2word[old_pair]:\n",
    "                pair2word[old_pair].remove(word)\n",
    "        for new_pair in zip(new_toks[:-1], new_toks[1:]):\n",
    "            # pairs_count[new_pair] += wc\n",
    "            delta[new_pair] += wc\n",
    "            pair2word[new_pair].add(word)\n",
    "    # update the heap\n",
    "    for a_pair, a_delta in delta.items():\n",
    "        if a_delta == 0:\n",
    "            continue\n",
    "        if a_pair not in hd:\n",
    "            hd[a_pair] = 0\n",
    "        hd[a_pair] -= a_delta"
   ]
  },
  {
   "cell_type": "code",
   "execution_count": 21,
   "metadata": {
    "colab": {
     "base_uri": "https://localhost:8080/"
    },
    "execution": {
     "iopub.execute_input": "2024-09-07T14:16:07.166959Z",
     "iopub.status.busy": "2024-09-07T14:16:07.165839Z",
     "iopub.status.idle": "2024-09-07T14:16:07.177707Z",
     "shell.execute_reply": "2024-09-07T14:16:07.176992Z",
     "shell.execute_reply.started": "2024-09-07T14:16:07.166917Z"
    },
    "id": "EFrBNW8O_JB_",
    "outputId": "a25507c7-69a1-4891-9369-4bd0f6689bba",
    "tags": []
   },
   "outputs": [
    {
     "data": {
      "text/plain": [
       "11105"
      ]
     },
     "execution_count": 21,
     "metadata": {},
     "output_type": "execute_result"
    }
   ],
   "source": [
    "len(extra_pairs)"
   ]
  },
  {
   "cell_type": "code",
   "execution_count": 22,
   "metadata": {
    "colab": {
     "base_uri": "https://localhost:8080/"
    },
    "execution": {
     "iopub.execute_input": "2024-09-07T14:16:08.548914Z",
     "iopub.status.busy": "2024-09-07T14:16:08.547881Z",
     "iopub.status.idle": "2024-09-07T14:16:08.561252Z",
     "shell.execute_reply": "2024-09-07T14:16:08.560496Z",
     "shell.execute_reply.started": "2024-09-07T14:16:08.548874Z"
    },
    "id": "fof-OZjyEImz",
    "outputId": "0183a13e-c8f9-43d2-ab32-2aba3f6c6d51",
    "tags": []
   },
   "outputs": [
    {
     "data": {
      "text/plain": [
       "[('▁о', '̄'),\n",
       " ('▁ма', '̄'),\n",
       " ('̄', 'т'),\n",
       " ('̄', 'н'),\n",
       " ('ӈ', 'к'),\n",
       " ('▁ва', '̄'),\n",
       " ('̄', 'в'),\n",
       " ('▁а', '̄'),\n",
       " ('▁та', '̄'),\n",
       " ('ӈк', 'ве')]"
      ]
     },
     "execution_count": 22,
     "metadata": {},
     "output_type": "execute_result"
    }
   ],
   "source": [
    "extra_pairs[:10]"
   ]
  },
  {
   "cell_type": "code",
   "execution_count": 23,
   "metadata": {
    "colab": {
     "base_uri": "https://localhost:8080/"
    },
    "execution": {
     "iopub.execute_input": "2024-09-07T14:16:10.455876Z",
     "iopub.status.busy": "2024-09-07T14:16:10.454748Z",
     "iopub.status.idle": "2024-09-07T14:16:10.467908Z",
     "shell.execute_reply": "2024-09-07T14:16:10.467069Z",
     "shell.execute_reply.started": "2024-09-07T14:16:10.455830Z"
    },
    "id": "GoLXgUBwEMZK",
    "outputId": "63d8110b-3350-4bab-ddcf-4e85464d2701",
    "tags": []
   },
   "outputs": [
    {
     "data": {
      "text/plain": [
       "[('▁тот', 'ыла'),\n",
       " ('▁Иосиф', 'н'),\n",
       " ('▁пыг', 'на'),\n",
       " ('▁Сак', 'въ'),\n",
       " ('▁лӯпта', 'м'),\n",
       " ('ха', '̄тнэ'),\n",
       " ('ӯнлан', 'ты'),\n",
       " ('пы̄г', 'кве'),\n",
       " ('▁Та', 'сир'),\n",
       " ('▁па', 'саныл'),\n",
       " ('щи', 'п'),\n",
       " ('▁Ху', 'рум'),\n",
       " ('глас', 'ын'),\n",
       " ('▁то̄', 'варт'),\n",
       " ('ё̄ӈ', 'хатах'),\n",
       " ('▁хӯ', 'рый'),\n",
       " ('▁пумы', '̄т'),\n",
       " ('ат', 'ве̄сыт'),\n",
       " ('▁хар', 'тэ̄гум'),\n",
       " ('йт', 'асыт')]"
      ]
     },
     "execution_count": 23,
     "metadata": {},
     "output_type": "execute_result"
    }
   ],
   "source": [
    "extra_pairs[-20:]"
   ]
  },
  {
   "cell_type": "code",
   "execution_count": 24,
   "metadata": {
    "colab": {
     "base_uri": "https://localhost:8080/"
    },
    "execution": {
     "iopub.execute_input": "2024-09-07T14:16:11.878803Z",
     "iopub.status.busy": "2024-09-07T14:16:11.877840Z",
     "iopub.status.idle": "2024-09-07T14:16:11.897981Z",
     "shell.execute_reply": "2024-09-07T14:16:11.897078Z",
     "shell.execute_reply.started": "2024-09-07T14:16:11.878761Z"
    },
    "id": "81mmUqMUEld1",
    "outputId": "f139df4b-b1ba-43a8-afc8-e28fad0f7f31",
    "tags": []
   },
   "outputs": [
    {
     "data": {
      "text/plain": [
       "250054"
      ]
     },
     "execution_count": 24,
     "metadata": {},
     "output_type": "execute_result"
    }
   ],
   "source": [
    "tokenizer.vocab_size"
   ]
  },
  {
   "cell_type": "code",
   "execution_count": 25,
   "metadata": {
    "colab": {
     "base_uri": "https://localhost:8080/"
    },
    "execution": {
     "iopub.execute_input": "2024-09-07T14:16:12.786718Z",
     "iopub.status.busy": "2024-09-07T14:16:12.785374Z",
     "iopub.status.idle": "2024-09-07T14:16:12.859041Z",
     "shell.execute_reply": "2024-09-07T14:16:12.858104Z",
     "shell.execute_reply.started": "2024-09-07T14:16:12.786669Z"
    },
    "id": "U6xuUvfDFFPm",
    "outputId": "701f4622-999d-4542-f2cb-1372dc772dad",
    "tags": []
   },
   "outputs": [
    {
     "data": {
      "text/plain": [
       "('old_tokenizer/tokenizer_config.json',\n",
       " 'old_tokenizer/special_tokens_map.json',\n",
       " 'old_tokenizer/sentencepiece.bpe.model',\n",
       " 'old_tokenizer/added_tokens.json')"
      ]
     },
     "execution_count": 25,
     "metadata": {},
     "output_type": "execute_result"
    }
   ],
   "source": [
    "tokenizer.save_pretrained('old_tokenizer')"
   ]
  },
  {
   "cell_type": "code",
   "execution_count": 26,
   "metadata": {
    "colab": {
     "base_uri": "https://localhost:8080/"
    },
    "execution": {
     "iopub.execute_input": "2024-09-07T14:16:13.827916Z",
     "iopub.status.busy": "2024-09-07T14:16:13.826837Z",
     "iopub.status.idle": "2024-09-07T14:16:14.057236Z",
     "shell.execute_reply": "2024-09-07T14:16:14.056336Z",
     "shell.execute_reply.started": "2024-09-07T14:16:13.827872Z"
    },
    "id": "R4EzzhBDFZBO",
    "outputId": "c073ca6d-4cab-45ff-84cb-2d2e95beaead",
    "tags": []
   },
   "outputs": [
    {
     "data": {
      "text/plain": [
       "5069051"
      ]
     },
     "execution_count": 26,
     "metadata": {},
     "output_type": "execute_result"
    }
   ],
   "source": [
    "import sentencepiece_model_pb2 as model\n",
    "m = model.ModelProto()\n",
    "m.ParseFromString(open(\"old_tokenizer/sentencepiece.bpe.model\", \"rb\").read())"
   ]
  },
  {
   "cell_type": "code",
   "execution_count": 27,
   "metadata": {
    "execution": {
     "iopub.execute_input": "2024-09-07T14:16:15.971163Z",
     "iopub.status.busy": "2024-09-07T14:16:15.969762Z",
     "iopub.status.idle": "2024-09-07T14:16:16.043997Z",
     "shell.execute_reply": "2024-09-07T14:16:16.043048Z",
     "shell.execute_reply.started": "2024-09-07T14:16:15.971115Z"
    },
    "id": "DRypyDAAFh6o",
    "tags": []
   },
   "outputs": [],
   "source": [
    "scores = [p.score for p in m.pieces]\n",
    "min_score = min(scores)\n",
    "epsilon = 1e-4"
   ]
  },
  {
   "cell_type": "code",
   "execution_count": 28,
   "metadata": {
    "colab": {
     "base_uri": "https://localhost:8080/"
    },
    "execution": {
     "iopub.execute_input": "2024-09-07T14:16:17.092588Z",
     "iopub.status.busy": "2024-09-07T14:16:17.091311Z",
     "iopub.status.idle": "2024-09-07T14:16:17.113185Z",
     "shell.execute_reply": "2024-09-07T14:16:17.112496Z",
     "shell.execute_reply.started": "2024-09-07T14:16:17.092543Z"
    },
    "id": "ske1at-4F_k6",
    "outputId": "6ebdacc5-998b-46ba-81b5-ebb7c3291cf6",
    "tags": []
   },
   "outputs": [
    {
     "data": {
      "text/plain": [
       "['▁прив', 'вет']"
      ]
     },
     "execution_count": 28,
     "metadata": {},
     "output_type": "execute_result"
    }
   ],
   "source": [
    "tokenizer.tokenize('приввет')"
   ]
  },
  {
   "cell_type": "code",
   "execution_count": 29,
   "metadata": {
    "colab": {
     "base_uri": "https://localhost:8080/"
    },
    "execution": {
     "iopub.execute_input": "2024-09-07T14:16:17.960758Z",
     "iopub.status.busy": "2024-09-07T14:16:17.959622Z",
     "iopub.status.idle": "2024-09-07T14:16:17.972935Z",
     "shell.execute_reply": "2024-09-07T14:16:17.972240Z",
     "shell.execute_reply.started": "2024-09-07T14:16:17.960716Z"
    },
    "id": "8m6VhKrQF98h",
    "outputId": "c24f32fb-2fae-4049-de88-47f7972f54f8",
    "tags": []
   },
   "outputs": [
    {
     "data": {
      "text/plain": [
       "str"
      ]
     },
     "execution_count": 29,
     "metadata": {},
     "output_type": "execute_result"
    }
   ],
   "source": [
    "type(m.pieces[37764-1].piece)"
   ]
  },
  {
   "cell_type": "code",
   "execution_count": 30,
   "metadata": {
    "execution": {
     "iopub.execute_input": "2024-09-07T14:16:18.760532Z",
     "iopub.status.busy": "2024-09-07T14:16:18.759533Z",
     "iopub.status.idle": "2024-09-07T14:16:18.804579Z",
     "shell.execute_reply": "2024-09-07T14:16:18.803783Z",
     "shell.execute_reply.started": "2024-09-07T14:16:18.760489Z"
    },
    "id": "n630XTqRFck1",
    "tags": []
   },
   "outputs": [],
   "source": [
    "for i, pair in enumerate(extra_vocab):\n",
    "    new_token = model.ModelProto().SentencePiece()\n",
    "    new_token.piece = ''.join(pair)\n",
    "    new_token.score = min_score - epsilon * (i+1)\n",
    "    m.pieces.append(new_token)"
   ]
  },
  {
   "cell_type": "code",
   "execution_count": 31,
   "metadata": {
    "execution": {
     "iopub.execute_input": "2024-09-07T14:16:21.182733Z",
     "iopub.status.busy": "2024-09-07T14:16:21.181449Z",
     "iopub.status.idle": "2024-09-07T14:16:21.357436Z",
     "shell.execute_reply": "2024-09-07T14:16:21.356542Z",
     "shell.execute_reply.started": "2024-09-07T14:16:21.182664Z"
    },
    "id": "DQXuWtusGX3J",
    "tags": []
   },
   "outputs": [],
   "source": [
    "with open(\"old_tokenizer/sentencepiece.bpe.model\", 'wb') as f:\n",
    "    f.write(m.SerializeToString())"
   ]
  },
  {
   "cell_type": "code",
   "execution_count": 32,
   "metadata": {
    "colab": {
     "base_uri": "https://localhost:8080/"
    },
    "execution": {
     "iopub.execute_input": "2024-09-07T14:16:22.869496Z",
     "iopub.status.busy": "2024-09-07T14:16:22.868647Z",
     "iopub.status.idle": "2024-09-07T14:16:24.389420Z",
     "shell.execute_reply": "2024-09-07T14:16:24.388499Z",
     "shell.execute_reply.started": "2024-09-07T14:16:22.869456Z"
    },
    "id": "X2OlU5jnGZZB",
    "outputId": "d2a8bee2-e003-4a35-c206-39e35be4253f",
    "tags": []
   },
   "outputs": [
    {
     "name": "stderr",
     "output_type": "stream",
     "text": [
      "/home/jupyter/.local/lib/python3.10/site-packages/transformers/tokenization_utils_base.py:2165: FutureWarning: Calling MBart50Tokenizer.from_pretrained() with the path to a single file or url is deprecated and won't be possible anymore in v5. Use a model identifier or the path to a directory instead.\n",
      "  warnings.warn(\n"
     ]
    }
   ],
   "source": [
    "new_tokenizer = MBart50Tokenizer.from_pretrained(\n",
    "    \"old_tokenizer/sentencepiece.bpe.model\",\n",
    "    additional_special_tokens = tokenizer.additional_special_tokens\n",
    ")"
   ]
  },
  {
   "cell_type": "code",
   "execution_count": 33,
   "metadata": {
    "colab": {
     "base_uri": "https://localhost:8080/"
    },
    "execution": {
     "iopub.execute_input": "2024-09-07T14:16:25.258928Z",
     "iopub.status.busy": "2024-09-07T14:16:25.257874Z",
     "iopub.status.idle": "2024-09-07T14:16:25.290722Z",
     "shell.execute_reply": "2024-09-07T14:16:25.289915Z",
     "shell.execute_reply.started": "2024-09-07T14:16:25.258884Z"
    },
    "id": "6e5bOIc9Go0O",
    "outputId": "9e1b14da-54a6-4d74-e6bd-bda2b93290b7",
    "tags": []
   },
   "outputs": [
    {
     "data": {
      "text/plain": [
       "261159"
      ]
     },
     "execution_count": 33,
     "metadata": {},
     "output_type": "execute_result"
    }
   ],
   "source": [
    "new_tokenizer.vocab_size"
   ]
  },
  {
   "cell_type": "code",
   "execution_count": 34,
   "metadata": {
    "execution": {
     "iopub.execute_input": "2024-09-07T14:16:29.158530Z",
     "iopub.status.busy": "2024-09-07T14:16:29.157195Z",
     "iopub.status.idle": "2024-09-07T14:16:29.169889Z",
     "shell.execute_reply": "2024-09-07T14:16:29.169228Z",
     "shell.execute_reply.started": "2024-09-07T14:16:29.158471Z"
    },
    "id": "O2iDBpWnR21e",
    "tags": []
   },
   "outputs": [],
   "source": [
    "from transformers.models.mbart50.tokenization_mbart50 import FAIRSEQ_LANGUAGE_CODES"
   ]
  },
  {
   "cell_type": "code",
   "execution_count": 35,
   "metadata": {
    "execution": {
     "iopub.execute_input": "2024-09-07T14:16:29.916232Z",
     "iopub.status.busy": "2024-09-07T14:16:29.915452Z",
     "iopub.status.idle": "2024-09-07T14:16:29.937228Z",
     "shell.execute_reply": "2024-09-07T14:16:29.936418Z",
     "shell.execute_reply.started": "2024-09-07T14:16:29.916193Z"
    },
    "id": "MBP78uo4RuVC",
    "tags": []
   },
   "outputs": [],
   "source": [
    "self = new_tokenizer"
   ]
  },
  {
   "cell_type": "code",
   "execution_count": 36,
   "metadata": {
    "execution": {
     "iopub.execute_input": "2024-09-07T14:16:30.443785Z",
     "iopub.status.busy": "2024-09-07T14:16:30.442785Z",
     "iopub.status.idle": "2024-09-07T14:16:30.463800Z",
     "shell.execute_reply": "2024-09-07T14:16:30.463051Z",
     "shell.execute_reply.started": "2024-09-07T14:16:30.443742Z"
    },
    "id": "PoyHCbHGReNt",
    "tags": []
   },
   "outputs": [],
   "source": [
    "self.lang_code_to_id = {\n",
    "    code: self.sp_model_size + i + self.fairseq_offset for i, code in enumerate(FAIRSEQ_LANGUAGE_CODES + ['mans_XX'])\n",
    "}\n",
    "self.id_to_lang_code = {v: k for k, v in self.lang_code_to_id.items()}\n",
    "self.fairseq_tokens_to_ids[\"<mask>\"] = len(self.sp_model) + len(self.lang_code_to_id) + self.fairseq_offset\n",
    "\n",
    "self.fairseq_tokens_to_ids.update(self.lang_code_to_id)\n",
    "self.fairseq_ids_to_tokens = {v: k for k, v in self.fairseq_tokens_to_ids.items()}\n",
    "\n"
   ]
  },
  {
   "cell_type": "code",
   "execution_count": 37,
   "metadata": {
    "execution": {
     "iopub.execute_input": "2024-09-07T14:16:32.277384Z",
     "iopub.status.busy": "2024-09-07T14:16:32.276397Z",
     "iopub.status.idle": "2024-09-07T14:16:32.312609Z",
     "shell.execute_reply": "2024-09-07T14:16:32.311717Z",
     "shell.execute_reply.started": "2024-09-07T14:16:32.277341Z"
    },
    "id": "zysID3sFSNQY",
    "tags": []
   },
   "outputs": [],
   "source": [
    "new_tokenizer.additional_special_tokens.append('mans_XX')"
   ]
  },
  {
   "cell_type": "code",
   "execution_count": 38,
   "metadata": {
    "colab": {
     "base_uri": "https://localhost:8080/"
    },
    "execution": {
     "iopub.execute_input": "2024-09-07T14:16:33.061021Z",
     "iopub.status.busy": "2024-09-07T14:16:33.059932Z",
     "iopub.status.idle": "2024-09-07T14:16:33.112715Z",
     "shell.execute_reply": "2024-09-07T14:16:33.111716Z",
     "shell.execute_reply.started": "2024-09-07T14:16:33.060975Z"
    },
    "id": "e5qjEAhqRyQz",
    "outputId": "391c1492-23cd-4b52-a59c-94733fade1c2",
    "tags": []
   },
   "outputs": [
    {
     "data": {
      "text/plain": [
       "261160"
      ]
     },
     "execution_count": 38,
     "metadata": {},
     "output_type": "execute_result"
    }
   ],
   "source": [
    "new_tokenizer.vocab_size"
   ]
  },
  {
   "cell_type": "code",
   "execution_count": 39,
   "metadata": {
    "colab": {
     "base_uri": "https://localhost:8080/"
    },
    "execution": {
     "iopub.execute_input": "2024-09-07T14:16:37.140243Z",
     "iopub.status.busy": "2024-09-07T14:16:37.138932Z",
     "iopub.status.idle": "2024-09-07T14:16:37.152623Z",
     "shell.execute_reply": "2024-09-07T14:16:37.151872Z",
     "shell.execute_reply.started": "2024-09-07T14:16:37.140197Z"
    },
    "id": "9g9cyQlKSKTI",
    "outputId": "7a3ba511-cd6c-445d-b33d-9e303dc0df2b",
    "tags": []
   },
   "outputs": [
    {
     "data": {
      "text/plain": [
       "261159"
      ]
     },
     "execution_count": 39,
     "metadata": {},
     "output_type": "execute_result"
    }
   ],
   "source": [
    "len(new_tokenizer)"
   ]
  },
  {
   "cell_type": "code",
   "execution_count": 40,
   "metadata": {
    "colab": {
     "base_uri": "https://localhost:8080/"
    },
    "execution": {
     "iopub.execute_input": "2024-09-07T14:16:40.916848Z",
     "iopub.status.busy": "2024-09-07T14:16:40.915798Z",
     "iopub.status.idle": "2024-09-07T14:16:40.927921Z",
     "shell.execute_reply": "2024-09-07T14:16:40.927246Z",
     "shell.execute_reply.started": "2024-09-07T14:16:40.916802Z"
    },
    "id": "50Kib-zxGqhR",
    "outputId": "b336b790-2731-4680-de49-922a9b2bfdbd",
    "tags": []
   },
   "outputs": [
    {
     "name": "stdout",
     "output_type": "stream",
     "text": [
      "Тамле э̄рнэ тэ̄ла ва̄руӈкве этнографыг о̄лнэ ханты нэ̄ Татьяна Александровна Молданова ос искусствовед нэ̄ Наталья Николаевна Фёдорова номылматсы̄г.\n"
     ]
    }
   ],
   "source": [
    "text = random.choice(all_sentences)\n",
    "print(text)"
   ]
  },
  {
   "cell_type": "code",
   "execution_count": 41,
   "metadata": {
    "colab": {
     "base_uri": "https://localhost:8080/"
    },
    "execution": {
     "iopub.execute_input": "2024-09-07T14:16:41.434411Z",
     "iopub.status.busy": "2024-09-07T14:16:41.433193Z",
     "iopub.status.idle": "2024-09-07T14:16:41.458870Z",
     "shell.execute_reply": "2024-09-07T14:16:41.458099Z",
     "shell.execute_reply.started": "2024-09-07T14:16:41.434372Z"
    },
    "id": "AEetP6fhGtna",
    "outputId": "6a0d62cc-4cfd-42de-c91e-db72f3eaa7ae",
    "tags": []
   },
   "outputs": [
    {
     "name": "stdout",
     "output_type": "stream",
     "text": [
      "['▁Там', 'ле', '▁э', '̄', 'р', 'нэ', '▁тэ', '̄', 'ла', '▁ва', '̄', 'ру', 'ӈ', 'к', 'ве', '▁этно', 'граф', 'ыг', '▁о', '̄', 'л', 'нэ', '▁хан', 'ты', '▁', 'нэ', '̄', '▁Татьяна', '▁Александр', 'овна', '▁Мол', 'дан', 'ова', '▁ос', '▁искусство', 'вед', '▁', 'нэ', '̄', '▁Наталья', '▁Никола', 'ев', 'на', '▁Ф', 'ё', 'дор', 'ова', '▁но', 'мыл', 'мат', 'сы', '̄', 'г', '.']\n",
      "['▁Тамле', '▁э̄рнэ', '▁тэ̄ла', '▁ва̄руӈкве', '▁этнограф', 'ыг', '▁о̄лнэ', '▁ханты', '▁', 'нэ̄', '▁Татьяна', '▁Александровна', '▁Молданова', '▁ос', '▁искусство', 'вед', '▁', 'нэ̄', '▁Наталья', '▁Николаевна', '▁Фёдор', 'ова', '▁номылмат', 'сы̄г', '.']\n"
     ]
    }
   ],
   "source": [
    "print(tokenizer.tokenize(text))\n",
    "print(new_tokenizer.tokenize(text))"
   ]
  },
  {
   "cell_type": "code",
   "execution_count": 42,
   "metadata": {
    "execution": {
     "iopub.execute_input": "2024-09-07T14:16:42.325718Z",
     "iopub.status.busy": "2024-09-07T14:16:42.324754Z",
     "iopub.status.idle": "2024-09-07T14:16:42.351597Z",
     "shell.execute_reply": "2024-09-07T14:16:42.350793Z",
     "shell.execute_reply.started": "2024-09-07T14:16:42.325675Z"
    },
    "id": "5-RwJ-5LG1S4",
    "tags": []
   },
   "outputs": [],
   "source": [
    "sample = all_sentences[:10000]"
   ]
  },
  {
   "cell_type": "code",
   "execution_count": 43,
   "metadata": {
    "colab": {
     "base_uri": "https://localhost:8080/",
     "height": 300
    },
    "execution": {
     "iopub.execute_input": "2024-09-07T14:16:43.260354Z",
     "iopub.status.busy": "2024-09-07T14:16:43.259269Z",
     "iopub.status.idle": "2024-09-07T14:16:43.930339Z",
     "shell.execute_reply": "2024-09-07T14:16:43.929525Z",
     "shell.execute_reply.started": "2024-09-07T14:16:43.260313Z"
    },
    "id": "4LJpzGNmHdbF",
    "outputId": "aa6cd5e8-0065-47e6-8ba4-b7466c4a7056",
    "tags": []
   },
   "outputs": [
    {
     "data": {
      "text/html": [
       "<div>\n",
       "<style scoped>\n",
       "    .dataframe tbody tr th:only-of-type {\n",
       "        vertical-align: middle;\n",
       "    }\n",
       "\n",
       "    .dataframe tbody tr th {\n",
       "        vertical-align: top;\n",
       "    }\n",
       "\n",
       "    .dataframe thead th {\n",
       "        text-align: right;\n",
       "    }\n",
       "</style>\n",
       "<table border=\"1\" class=\"dataframe\">\n",
       "  <thead>\n",
       "    <tr style=\"text-align: right;\">\n",
       "      <th></th>\n",
       "      <th>old</th>\n",
       "      <th>new</th>\n",
       "    </tr>\n",
       "  </thead>\n",
       "  <tbody>\n",
       "    <tr>\n",
       "      <th>count</th>\n",
       "      <td>10000.000000</td>\n",
       "      <td>10000.00000</td>\n",
       "    </tr>\n",
       "    <tr>\n",
       "      <th>mean</th>\n",
       "      <td>22.497600</td>\n",
       "      <td>11.96860</td>\n",
       "    </tr>\n",
       "    <tr>\n",
       "      <th>std</th>\n",
       "      <td>14.293909</td>\n",
       "      <td>7.81571</td>\n",
       "    </tr>\n",
       "    <tr>\n",
       "      <th>min</th>\n",
       "      <td>3.000000</td>\n",
       "      <td>2.00000</td>\n",
       "    </tr>\n",
       "    <tr>\n",
       "      <th>25%</th>\n",
       "      <td>13.000000</td>\n",
       "      <td>7.00000</td>\n",
       "    </tr>\n",
       "    <tr>\n",
       "      <th>50%</th>\n",
       "      <td>18.000000</td>\n",
       "      <td>10.00000</td>\n",
       "    </tr>\n",
       "    <tr>\n",
       "      <th>75%</th>\n",
       "      <td>28.000000</td>\n",
       "      <td>15.00000</td>\n",
       "    </tr>\n",
       "    <tr>\n",
       "      <th>max</th>\n",
       "      <td>154.000000</td>\n",
       "      <td>90.00000</td>\n",
       "    </tr>\n",
       "  </tbody>\n",
       "</table>\n",
       "</div>"
      ],
      "text/plain": [
       "                old          new\n",
       "count  10000.000000  10000.00000\n",
       "mean      22.497600     11.96860\n",
       "std       14.293909      7.81571\n",
       "min        3.000000      2.00000\n",
       "25%       13.000000      7.00000\n",
       "50%       18.000000     10.00000\n",
       "75%       28.000000     15.00000\n",
       "max      154.000000     90.00000"
      ]
     },
     "execution_count": 43,
     "metadata": {},
     "output_type": "execute_result"
    }
   ],
   "source": [
    "import pandas as pd\n",
    "pd.DataFrame({\n",
    "    'old': [len(tokenizer.tokenize(text)) for text in sample],\n",
    "    'new': [len(new_tokenizer.tokenize(text)) for text in sample]\n",
    "}).describe()"
   ]
  },
  {
   "cell_type": "code",
   "execution_count": 44,
   "metadata": {
    "colab": {
     "base_uri": "https://localhost:8080/"
    },
    "execution": {
     "iopub.execute_input": "2024-09-07T14:16:44.175689Z",
     "iopub.status.busy": "2024-09-07T14:16:44.174675Z",
     "iopub.status.idle": "2024-09-07T14:16:44.727982Z",
     "shell.execute_reply": "2024-09-07T14:16:44.727030Z",
     "shell.execute_reply.started": "2024-09-07T14:16:44.175648Z"
    },
    "id": "X2Ci0kF5HGrx",
    "outputId": "80ea90d3-3b4d-433e-8c52-67ed03290d8c",
    "tags": []
   },
   "outputs": [
    {
     "name": "stdout",
     "output_type": "stream",
     "text": [
      "0.6875596496313211\n"
     ]
    }
   ],
   "source": [
    "new_tot_len, tot_len = 0, 0\n",
    "for text in sample:\n",
    "    for tok in new_tokenizer.tokenize(text):\n",
    "        s = len(tok)\n",
    "        tot_len += s\n",
    "        if new_tokenizer.convert_tokens_to_ids(tok) > len(tokenizer.sp_model):\n",
    "            new_tot_len += s\n",
    "print(new_tot_len / tot_len)"
   ]
  },
  {
   "cell_type": "code",
   "execution_count": 45,
   "metadata": {
    "colab": {
     "base_uri": "https://localhost:8080/"
    },
    "execution": {
     "iopub.execute_input": "2024-09-07T14:16:45.858370Z",
     "iopub.status.busy": "2024-09-07T14:16:45.857141Z",
     "iopub.status.idle": "2024-09-07T14:16:45.872492Z",
     "shell.execute_reply": "2024-09-07T14:16:45.871815Z",
     "shell.execute_reply.started": "2024-09-07T14:16:45.858326Z"
    },
    "id": "wlWHZhn7Jjzz",
    "outputId": "caafc2fc-d054-45c4-8c5d-0f8bae0470c6",
    "tags": []
   },
   "outputs": [
    {
     "data": {
      "text/plain": [
       "261159"
      ]
     },
     "execution_count": 45,
     "metadata": {},
     "output_type": "execute_result"
    }
   ],
   "source": [
    "len(new_tokenizer)"
   ]
  },
  {
   "cell_type": "code",
   "execution_count": 46,
   "metadata": {
    "colab": {
     "base_uri": "https://localhost:8080/"
    },
    "execution": {
     "iopub.execute_input": "2024-09-07T14:16:46.962660Z",
     "iopub.status.busy": "2024-09-07T14:16:46.961458Z",
     "iopub.status.idle": "2024-09-07T14:16:46.980994Z",
     "shell.execute_reply": "2024-09-07T14:16:46.980236Z",
     "shell.execute_reply.started": "2024-09-07T14:16:46.962612Z"
    },
    "id": "1BZvQ6CwJl-e",
    "outputId": "454f719d-2575-4385-d65d-a57bfb6ffafe",
    "tags": []
   },
   "outputs": [
    {
     "data": {
      "text/plain": [
       "261105"
      ]
     },
     "execution_count": 46,
     "metadata": {},
     "output_type": "execute_result"
    }
   ],
   "source": [
    "len(m.pieces)"
   ]
  },
  {
   "cell_type": "code",
   "execution_count": 47,
   "metadata": {
    "execution": {
     "iopub.execute_input": "2024-09-07T14:16:50.866492Z",
     "iopub.status.busy": "2024-09-07T14:16:50.865390Z",
     "iopub.status.idle": "2024-09-07T14:16:50.891168Z",
     "shell.execute_reply": "2024-09-07T14:16:50.890373Z",
     "shell.execute_reply.started": "2024-09-07T14:16:50.866449Z"
    },
    "id": "tt8L6M18JYYT",
    "tags": []
   },
   "outputs": [],
   "source": [
    "# model.resize_token_embeddings(len(tokenizer))\n",
    "# todo: move language id embeddings by the distance."
   ]
  },
  {
   "cell_type": "markdown",
   "metadata": {
    "id": "OmX8RvAjHZTF"
   },
   "source": [
    "# Calculating tokens alignment"
   ]
  },
  {
   "cell_type": "code",
   "execution_count": 48,
   "metadata": {
    "colab": {
     "base_uri": "https://localhost:8080/"
    },
    "execution": {
     "iopub.execute_input": "2024-09-07T14:17:01.947767Z",
     "iopub.status.busy": "2024-09-07T14:17:01.946719Z",
     "iopub.status.idle": "2024-09-07T14:17:02.309142Z",
     "shell.execute_reply": "2024-09-07T14:17:02.308203Z",
     "shell.execute_reply.started": "2024-09-07T14:17:01.947723Z"
    },
    "id": "nnZ0qEMfH0SG",
    "outputId": "4e8c3e30-5b37-4a6f-9d8f-9ade38782be7",
    "tags": []
   },
   "outputs": [
    {
     "name": "stdout",
     "output_type": "stream",
     "text": [
      "81146\n"
     ]
    }
   ],
   "source": [
    "import pandas as pd\n",
    "data = pd.read_csv('overall_80K.csv')\n",
    "print(data.shape[0])"
   ]
  },
  {
   "cell_type": "code",
   "execution_count": 49,
   "metadata": {
    "execution": {
     "iopub.execute_input": "2024-09-07T14:17:02.816667Z",
     "iopub.status.busy": "2024-09-07T14:17:02.815497Z",
     "iopub.status.idle": "2024-09-07T14:17:02.849853Z",
     "shell.execute_reply": "2024-09-07T14:17:02.849015Z",
     "shell.execute_reply.started": "2024-09-07T14:17:02.816621Z"
    },
    "id": "wzcOmKlCHkaO",
    "tags": []
   },
   "outputs": [],
   "source": [
    "from collections import defaultdict, Counter\n",
    "token_priors = Counter()\n",
    "token_to_others = defaultdict(Counter)"
   ]
  },
  {
   "cell_type": "code",
   "execution_count": 50,
   "metadata": {
    "colab": {
     "base_uri": "https://localhost:8080/",
     "height": 49,
     "referenced_widgets": [
      "26b0089bb0ee4ef887dc6be34c9763ac",
      "47862ab47a95488abe00be8bc7afbaf2",
      "e894031583f34fccad6d443836c73c41",
      "fac61f593407442a8eada07c12477aba",
      "a38db2a91a5b4300b315bd727771b9e7",
      "54247d49c9f44ba28e6f3d699ee56207",
      "15d45cde35334e3c9e852070187c1d8c",
      "65e48db7e3b2421eb8cb6a1725aa35c7",
      "9d27ab6c329a42f4b0490e1ac61adba1",
      "794ca47b36964229bd130ee3e8181f30",
      "5fc211341c0d4875842cf2a3957455aa"
     ]
    },
    "execution": {
     "iopub.execute_input": "2024-09-07T14:17:03.517534Z",
     "iopub.status.busy": "2024-09-07T14:17:03.516283Z",
     "iopub.status.idle": "2024-09-07T14:17:20.067130Z",
     "shell.execute_reply": "2024-09-07T14:17:20.066289Z",
     "shell.execute_reply.started": "2024-09-07T14:17:03.517490Z"
    },
    "id": "20ay_7jXIGS6",
    "outputId": "77f026cc-b542-4a81-d6ca-e5668ff3aaa0",
    "tags": []
   },
   "outputs": [
    {
     "name": "stderr",
     "output_type": "stream",
     "text": [
      "100%|██████████| 81146/81146 [00:16<00:00, 4911.79it/s]\n"
     ]
    }
   ],
   "source": [
    "for mans, ru in tqdm(zip(data[\"target\"].values.tolist(), data[\"source\"].values.tolist()), total=len(data[\"target\"].values.tolist())):\n",
    "    mans_toks = new_tokenizer.convert_tokens_to_ids(new_tokenizer.tokenize(mans))\n",
    "    ru_toks = tokenizer.convert_tokens_to_ids(tokenizer.tokenize(ru))\n",
    "    token_priors.update(ru_toks)\n",
    "    for mans_tok in mans_toks:\n",
    "        token_to_others[mans_tok].update(ru_toks)"
   ]
  },
  {
   "cell_type": "code",
   "execution_count": 51,
   "metadata": {
    "execution": {
     "iopub.execute_input": "2024-09-07T14:17:25.496263Z",
     "iopub.status.busy": "2024-09-07T14:17:25.495351Z",
     "iopub.status.idle": "2024-09-07T14:17:25.522834Z",
     "shell.execute_reply": "2024-09-07T14:17:25.521890Z",
     "shell.execute_reply.started": "2024-09-07T14:17:25.496218Z"
    },
    "id": "wdWYHxzoKzT0",
    "tags": []
   },
   "outputs": [],
   "source": [
    "mans_tok = len(new_tokenizer)"
   ]
  },
  {
   "cell_type": "code",
   "execution_count": 52,
   "metadata": {
    "execution": {
     "iopub.execute_input": "2024-09-07T14:17:26.069868Z",
     "iopub.status.busy": "2024-09-07T14:17:26.068576Z",
     "iopub.status.idle": "2024-09-07T14:17:26.083084Z",
     "shell.execute_reply": "2024-09-07T14:17:26.082269Z",
     "shell.execute_reply.started": "2024-09-07T14:17:26.069823Z"
    },
    "id": "NPK9nGpnLp55",
    "tags": []
   },
   "outputs": [],
   "source": [
    "import numpy as np\n",
    "\n",
    "def get_ru_toks(mans_tok):\n",
    "    ru_toks = []\n",
    "    ru_weights = []\n",
    "    for t, w in token_to_others[mans_tok].items():\n",
    "        ru_toks.append(t)\n",
    "        ru_weights.append(w**2 / token_priors[t])\n",
    "    ru_weights = np.array(ru_weights)\n",
    "    ru_weights = ru_weights / (sum(ru_weights) + 1e-4)\n",
    "    return ru_weights, ru_toks"
   ]
  },
  {
   "cell_type": "code",
   "execution_count": 53,
   "metadata": {
    "colab": {
     "base_uri": "https://localhost:8080/"
    },
    "execution": {
     "iopub.execute_input": "2024-09-07T14:17:26.769899Z",
     "iopub.status.busy": "2024-09-07T14:17:26.769020Z",
     "iopub.status.idle": "2024-09-07T14:17:26.791396Z",
     "shell.execute_reply": "2024-09-07T14:17:26.790519Z",
     "shell.execute_reply.started": "2024-09-07T14:17:26.769857Z"
    },
    "id": "33pBceQHaCiv",
    "outputId": "a3c5f344-67df-47dc-eb2a-1dcf8ca118dc",
    "tags": []
   },
   "outputs": [
    {
     "data": {
      "text/plain": [
       "261159"
      ]
     },
     "execution_count": 53,
     "metadata": {},
     "output_type": "execute_result"
    }
   ],
   "source": [
    "mans_tok"
   ]
  },
  {
   "cell_type": "code",
   "execution_count": 54,
   "metadata": {
    "colab": {
     "base_uri": "https://localhost:8080/"
    },
    "execution": {
     "iopub.execute_input": "2024-09-07T14:17:28.062457Z",
     "iopub.status.busy": "2024-09-07T14:17:28.061450Z",
     "iopub.status.idle": "2024-09-07T14:17:28.102868Z",
     "shell.execute_reply": "2024-09-07T14:17:28.102015Z",
     "shell.execute_reply.started": "2024-09-07T14:17:28.062413Z"
    },
    "id": "J5-9xtSPLJ_U",
    "outputId": "f041f7ef-4f00-4dbf-bec1-310848576f2b",
    "tags": []
   },
   "outputs": [
    {
     "data": {
      "text/plain": [
       "[]"
      ]
     },
     "execution_count": 54,
     "metadata": {},
     "output_type": "execute_result"
    }
   ],
   "source": [
    "sorted(zip(*get_ru_toks(mans_tok)), reverse=True)"
   ]
  },
  {
   "cell_type": "code",
   "execution_count": 55,
   "metadata": {
    "colab": {
     "base_uri": "https://localhost:8080/"
    },
    "execution": {
     "iopub.execute_input": "2024-09-07T14:17:33.760660Z",
     "iopub.status.busy": "2024-09-07T14:17:33.759433Z",
     "iopub.status.idle": "2024-09-07T14:17:33.772412Z",
     "shell.execute_reply": "2024-09-07T14:17:33.771717Z",
     "shell.execute_reply.started": "2024-09-07T14:17:33.760614Z"
    },
    "id": "rzqQSP7AMEmi",
    "outputId": "ea950564-8366-42f4-dca1-830243f6ec6a",
    "tags": []
   },
   "outputs": [
    {
     "data": {
      "text/plain": [
       "['▁первую', '▁справ', '▁карты', 'ведению', '▁ат']"
      ]
     },
     "execution_count": 55,
     "metadata": {},
     "output_type": "execute_result"
    }
   ],
   "source": [
    "tokenizer.convert_ids_to_tokens([62994, 17921, 117229, 188048, 25982])"
   ]
  },
  {
   "cell_type": "markdown",
   "metadata": {
    "id": "gkLjYSXSLXS2"
   },
   "source": [
    "# Updating the model embeddings"
   ]
  },
  {
   "cell_type": "code",
   "execution_count": 56,
   "metadata": {
    "colab": {
     "base_uri": "https://localhost:8080/"
    },
    "execution": {
     "iopub.execute_input": "2024-09-07T14:17:36.411120Z",
     "iopub.status.busy": "2024-09-07T14:17:36.410105Z",
     "iopub.status.idle": "2024-09-07T14:17:36.442058Z",
     "shell.execute_reply": "2024-09-07T14:17:36.441170Z",
     "shell.execute_reply.started": "2024-09-07T14:17:36.411075Z"
    },
    "id": "Yu1imCMsJGEw",
    "outputId": "0e905c65-8e9d-41f0-bf98-f4205d7c8d3f",
    "tags": []
   },
   "outputs": [
    {
     "data": {
      "text/plain": [
       "261159"
      ]
     },
     "execution_count": 56,
     "metadata": {},
     "output_type": "execute_result"
    }
   ],
   "source": [
    "len(new_tokenizer)"
   ]
  },
  {
   "cell_type": "code",
   "execution_count": 57,
   "metadata": {
    "colab": {
     "base_uri": "https://localhost:8080/",
     "height": 81,
     "referenced_widgets": [
      "f3380b9b60fa4ba598261844907322ba",
      "f6815ae655dd4fd0a17fb283d0ed7bfe",
      "33ba38307ae641fea72f0b9d66948664",
      "78cf9b7483084991baf8e5a876b0f861",
      "631ac94bc5894117b375dbb2da9faf78",
      "dcd6ea754c954290878b400016779368",
      "d54b1154524843e1a4a71ddf7a353920",
      "7e81cbb0ac4b4c2b98b7748e3852fb71",
      "994d3eb2f7d948798f8fc88ad50ca4ca",
      "341ff02184544ad38cf602881399f75e",
      "4934c5f6f6dd4a19aba03845c0494bd0",
      "fd1423143aa345ee8041d5bf9481d88b",
      "9544a2844c5a468ba85c08a1169915e1",
      "ec361ea3b6b042329f90bd4752e253e7",
      "0c4315c20c6041e19e063916d008f008",
      "f22f4d22e467409aab85da1123f78e96",
      "ed631fd445a14aa3898639cffe042f7f",
      "4ab580d0b0a34b64acc5af445b2aa18f",
      "1a6de7e7c9d64101bdf659df274f0bfa",
      "3b351867c0db40b1acb973253e911073",
      "5f6d82ee93274ed59a9600e26ba70b32",
      "1e2165334b60447ea15a09574f08f408"
     ]
    },
    "execution": {
     "iopub.execute_input": "2024-09-07T14:17:37.512366Z",
     "iopub.status.busy": "2024-09-07T14:17:37.511154Z",
     "iopub.status.idle": "2024-09-07T14:18:03.272121Z",
     "shell.execute_reply": "2024-09-07T14:18:03.271176Z",
     "shell.execute_reply.started": "2024-09-07T14:17:37.512313Z"
    },
    "id": "3OOd2ulXHLrk",
    "outputId": "a098c0de-80d5-4f8c-c6a2-6e88811db85d",
    "tags": []
   },
   "outputs": [],
   "source": [
    "from transformers import MBartForConditionalGeneration, MBart50Tokenizer\n",
    "model = MBartForConditionalGeneration.from_pretrained(\"facebook/mbart-large-50-many-to-many-mmt\")"
   ]
  },
  {
   "cell_type": "code",
   "execution_count": 58,
   "metadata": {
    "colab": {
     "base_uri": "https://localhost:8080/"
    },
    "execution": {
     "iopub.execute_input": "2024-09-07T14:18:03.274813Z",
     "iopub.status.busy": "2024-09-07T14:18:03.273651Z",
     "iopub.status.idle": "2024-09-07T14:18:03.288611Z",
     "shell.execute_reply": "2024-09-07T14:18:03.287896Z",
     "shell.execute_reply.started": "2024-09-07T14:18:03.274769Z"
    },
    "id": "YiORIn1PNf_8",
    "outputId": "ef604754-1b97-4f7c-c50c-82016010ea77",
    "tags": []
   },
   "outputs": [
    {
     "data": {
      "text/plain": [
       "MBartScaledWordEmbedding(250054, 1024, padding_idx=1)"
      ]
     },
     "execution_count": 58,
     "metadata": {},
     "output_type": "execute_result"
    }
   ],
   "source": [
    "model.model.shared"
   ]
  },
  {
   "cell_type": "code",
   "execution_count": 60,
   "metadata": {
    "colab": {
     "base_uri": "https://localhost:8080/"
    },
    "execution": {
     "iopub.execute_input": "2024-09-07T14:18:24.145106Z",
     "iopub.status.busy": "2024-09-07T14:18:24.143902Z",
     "iopub.status.idle": "2024-09-07T14:18:28.326717Z",
     "shell.execute_reply": "2024-09-07T14:18:28.325868Z",
     "shell.execute_reply.started": "2024-09-07T14:18:24.145052Z"
    },
    "id": "YJrUeQelHU2g",
    "outputId": "9eb9f0a6-021c-49da-a382-8c1b08c5d338",
    "tags": []
   },
   "outputs": [
    {
     "data": {
      "text/plain": [
       "MBartScaledWordEmbedding(261160, 1024, padding_idx=1)"
      ]
     },
     "execution_count": 60,
     "metadata": {},
     "output_type": "execute_result"
    }
   ],
   "source": [
    "model.resize_token_embeddings(len(new_tokenizer) + 1)\n",
    "\n",
    "#assert model embds shape == len(new_tokenizer)"
   ]
  },
  {
   "cell_type": "markdown",
   "metadata": {
    "id": "WIxky8TCJoed"
   },
   "source": [
    "Move added tokens to the end"
   ]
  },
  {
   "cell_type": "code",
   "execution_count": 61,
   "metadata": {
    "colab": {
     "base_uri": "https://localhost:8080/"
    },
    "execution": {
     "iopub.execute_input": "2024-09-07T14:18:30.119425Z",
     "iopub.status.busy": "2024-09-07T14:18:30.118303Z",
     "iopub.status.idle": "2024-09-07T14:18:30.148683Z",
     "shell.execute_reply": "2024-09-07T14:18:30.147816Z",
     "shell.execute_reply.started": "2024-09-07T14:18:30.119379Z"
    },
    "id": "7BZF7fBFKLHQ",
    "outputId": "49d14779-6360-4e0a-d179-0a318b8ac399",
    "tags": []
   },
   "outputs": [
    {
     "name": "stdout",
     "output_type": "stream",
     "text": [
      "11105\n"
     ]
    }
   ],
   "source": [
    "n_extra = len(extra_vocab)\n",
    "print(n_extra)\n",
    "old_vocab_size = len(tokenizer.sp_model) + 1"
   ]
  },
  {
   "cell_type": "code",
   "execution_count": 62,
   "metadata": {
    "colab": {
     "base_uri": "https://localhost:8080/"
    },
    "execution": {
     "iopub.execute_input": "2024-09-07T14:18:31.540766Z",
     "iopub.status.busy": "2024-09-07T14:18:31.539527Z",
     "iopub.status.idle": "2024-09-07T14:18:31.554074Z",
     "shell.execute_reply": "2024-09-07T14:18:31.553249Z",
     "shell.execute_reply.started": "2024-09-07T14:18:31.540715Z"
    },
    "id": "RHXRzLOuJqha",
    "outputId": "6bd2a65e-5ccf-43b2-81a4-749806351907",
    "tags": []
   },
   "outputs": [
    {
     "name": "stdout",
     "output_type": "stream",
     "text": [
      "250001 ar_AR 261106\n",
      "250002 cs_CZ 261107\n",
      "250003 de_DE 261108\n",
      "250004 en_XX 261109\n",
      "250005 es_XX 261110\n",
      "250006 et_EE 261111\n",
      "250007 fi_FI 261112\n",
      "250008 fr_XX 261113\n",
      "250009 gu_IN 261114\n",
      "250010 hi_IN 261115\n",
      "250011 it_IT 261116\n",
      "250012 ja_XX 261117\n",
      "250013 kk_KZ 261118\n",
      "250014 ko_KR 261119\n",
      "250015 lt_LT 261120\n",
      "250016 lv_LV 261121\n",
      "250017 my_MM 261122\n",
      "250018 ne_NP 261123\n",
      "250019 nl_XX 261124\n",
      "250020 ro_RO 261125\n",
      "250021 ru_RU 261126\n",
      "250022 si_LK 261127\n",
      "250023 tr_TR 261128\n",
      "250024 vi_VN 261129\n",
      "250025 zh_CN 261130\n",
      "250026 af_ZA 261131\n",
      "250027 az_AZ 261132\n",
      "250028 bn_IN 261133\n",
      "250029 fa_IR 261134\n",
      "250030 he_IL 261135\n",
      "250031 hr_HR 261136\n",
      "250032 id_ID 261137\n",
      "250033 ka_GE 261138\n",
      "250034 km_KH 261139\n",
      "250035 mk_MK 261140\n",
      "250036 ml_IN 261141\n",
      "250037 mn_MN 261142\n",
      "250038 mr_IN 261143\n",
      "250039 pl_PL 261144\n",
      "250040 ps_AF 261145\n",
      "250041 pt_XX 261146\n",
      "250042 sv_SE 261147\n",
      "250043 sw_KE 261148\n",
      "250044 ta_IN 261149\n",
      "250045 te_IN 261150\n",
      "250046 th_TH 261151\n",
      "250047 tl_XX 261152\n",
      "250048 uk_UA 261153\n",
      "250049 ur_PK 261154\n",
      "250050 xh_ZA 261155\n",
      "250051 gl_ES 261156\n",
      "250052 sl_SI 261157\n",
      "250053 <mask> 261158\n"
     ]
    }
   ],
   "source": [
    "for old_token_id in range(old_vocab_size, len(tokenizer)):\n",
    "    old_token = tokenizer.convert_ids_to_tokens(old_token_id)\n",
    "    new_token_id = new_tokenizer.convert_tokens_to_ids(old_token)\n",
    "\n",
    "    print(old_token_id, old_token, new_token_id)\n",
    "    # model.model.shared.weight.data[i + n_extra] = model.model.shared.weight.data[i]\n",
    "    model.model.shared.weight.data[new_token_id] = model.model.shared.weight.data[old_token_id]"
   ]
  },
  {
   "cell_type": "markdown",
   "metadata": {
    "id": "1a6jfopgSuX4"
   },
   "source": [
    "Because we have added one more language, its id must be computed separately, e.g. as an average of related languages."
   ]
  },
  {
   "cell_type": "code",
   "execution_count": 63,
   "metadata": {
    "execution": {
     "iopub.execute_input": "2024-09-07T14:18:37.267939Z",
     "iopub.status.busy": "2024-09-07T14:18:37.266829Z",
     "iopub.status.idle": "2024-09-07T14:18:37.294954Z",
     "shell.execute_reply": "2024-09-07T14:18:37.294235Z",
     "shell.execute_reply.started": "2024-09-07T14:18:37.267889Z"
    },
    "id": "ff9yFbZ0UB2k",
    "tags": []
   },
   "outputs": [],
   "source": [
    "model.model.shared.weight.data[new_tokenizer.convert_tokens_to_ids('mans_XX')] = (\n",
    "    model.model.shared.weight.data[tokenizer.convert_tokens_to_ids('fi_FI')] * 0.25\n",
    "    + model.model.shared.weight.data[tokenizer.convert_tokens_to_ids('et_EE')] * 0.25\n",
    "    + model.model.shared.weight.data[tokenizer.convert_tokens_to_ids('ru_RU')] * 0.25\n",
    "    + model.model.shared.weight.data[tokenizer.convert_tokens_to_ids('sv_SE')] * 0.25\n",
    ")"
   ]
  },
  {
   "cell_type": "markdown",
   "metadata": {
    "id": "mN4j2nL8NQe4"
   },
   "source": [
    "Compute embeddings for newly added tokens"
   ]
  },
  {
   "cell_type": "code",
   "execution_count": 64,
   "metadata": {
    "colab": {
     "base_uri": "https://localhost:8080/",
     "height": 49,
     "referenced_widgets": [
      "bcc94aa80a3349b385d4536c086effc2",
      "1af2ca950e054d2b923c8530e9f7428f",
      "ea0d2a7f37c94a1c9978afb6bf2f7bc9",
      "ce67f4687a2c4f74ab050406b52f700e",
      "05018716f4e64099b3264c2d3368bba7",
      "e6545067ba414a279e96a12d215988da",
      "920c14a9c1084ed885b79183da6e8775",
      "8748f60cab334bb3b63c871f5409d491",
      "379f256feffc43e2b348741c55d7202c",
      "2d5ad29e0c3b4defb438ecd7d6b927c4",
      "7cbdd8a16a7d4fac932c6799a33e167a"
     ]
    },
    "execution": {
     "iopub.execute_input": "2024-09-07T14:18:39.168728Z",
     "iopub.status.busy": "2024-09-07T14:18:39.167557Z",
     "iopub.status.idle": "2024-09-07T14:18:52.070185Z",
     "shell.execute_reply": "2024-09-07T14:18:52.069439Z",
     "shell.execute_reply.started": "2024-09-07T14:18:39.168686Z"
    },
    "id": "hOj19oPgMO2C",
    "outputId": "7a5ff1ac-60b3-4bcc-d881-900feeee8e93",
    "tags": []
   },
   "outputs": [
    {
     "name": "stderr",
     "output_type": "stream",
     "text": [
      "100%|██████████| 11105/11105 [00:12<00:00, 861.85it/s] \n"
     ]
    }
   ],
   "source": [
    "for i in trange(n_extra):\n",
    "    mans_tok = i + old_vocab_size\n",
    "    ru_weights, ru_toks = get_ru_toks(mans_tok)\n",
    "    if len(ru_toks) > 0:\n",
    "        new_embedding = (model.model.shared.weight.data[ru_toks].T * ru_weights).sum(1)\n",
    "        model.model.shared.weight.data[mans_tok] = new_embedding"
   ]
  },
  {
   "cell_type": "code",
   "execution_count": 65,
   "metadata": {
    "execution": {
     "iopub.execute_input": "2024-09-07T14:18:54.703620Z",
     "iopub.status.busy": "2024-09-07T14:18:54.702399Z",
     "iopub.status.idle": "2024-09-07T14:18:54.725603Z",
     "shell.execute_reply": "2024-09-07T14:18:54.724893Z",
     "shell.execute_reply.started": "2024-09-07T14:18:54.703579Z"
    },
    "id": "aT4symIGVS6s",
    "tags": []
   },
   "outputs": [],
   "source": [
    "# !mkdir /gd/MyDrive/models/myv"
   ]
  },
  {
   "cell_type": "code",
   "execution_count": 66,
   "metadata": {
    "execution": {
     "iopub.execute_input": "2024-09-07T14:18:55.513705Z",
     "iopub.status.busy": "2024-09-07T14:18:55.512491Z",
     "iopub.status.idle": "2024-09-07T14:18:55.523833Z",
     "shell.execute_reply": "2024-09-07T14:18:55.523079Z",
     "shell.execute_reply.started": "2024-09-07T14:18:55.513661Z"
    },
    "id": "WH-Iqfd2VN8o",
    "tags": []
   },
   "outputs": [],
   "source": [
    "new_model_path = './mbart-large-51-mans-raw'"
   ]
  },
  {
   "cell_type": "markdown",
   "metadata": {
    "id": "mPGGocvIMuBw"
   },
   "source": [
    "Check that the model is still able to translate texts.  "
   ]
  },
  {
   "cell_type": "code",
   "execution_count": 67,
   "metadata": {
    "colab": {
     "base_uri": "https://localhost:8080/"
    },
    "execution": {
     "iopub.execute_input": "2024-09-07T14:18:57.016004Z",
     "iopub.status.busy": "2024-09-07T14:18:57.014965Z",
     "iopub.status.idle": "2024-09-07T14:18:59.220112Z",
     "shell.execute_reply": "2024-09-07T14:18:59.219177Z",
     "shell.execute_reply.started": "2024-09-07T14:18:57.015963Z"
    },
    "id": "w0QLB146M7EA",
    "outputId": "e4841a27-78cf-4f67-9be0-b9e806114dfe",
    "tags": []
   },
   "outputs": [
    {
     "name": "stderr",
     "output_type": "stream",
     "text": [
      "/home/jupyter/.local/lib/python3.10/site-packages/transformers/generation/configuration_utils.py:615: UserWarning: `num_beams` is set to 1. However, `early_stopping` is set to `True` -- this flag is only used in beam-based generation modes. You should set `num_beams>1` or unset `early_stopping`.\n",
      "  warnings.warn(\n"
     ]
    },
    {
     "data": {
      "text/plain": [
       "[\"Le chef de la mission de l 'ONU a déclaré qu 'il n' y a pas de solution militaire en Syria.\"]"
      ]
     },
     "execution_count": 67,
     "metadata": {},
     "output_type": "execute_result"
    }
   ],
   "source": [
    "article_hi = \"संयुक्त राष्ट्र के प्रमुख का कहना है कि सीरिया में कोई सैन्य समाधान नहीं है\"\n",
    "\n",
    "# translate Hindi to French\n",
    "new_tokenizer.src_lang = \"hi_IN\"\n",
    "encoded_hi = new_tokenizer(article_hi, return_tensors=\"pt\")\n",
    "generated_tokens = model.generate(\n",
    "    **encoded_hi,\n",
    "    forced_bos_token_id=new_tokenizer.lang_code_to_id[\"fr_XX\"],\n",
    "    max_length=30,\n",
    "    num_beams=1\n",
    ")\n",
    "new_tokenizer.batch_decode(generated_tokens, skip_special_tokens=True)\n",
    "# => \"Le chef de l 'ONU affirme qu 'il n 'y a pas de solution militaire dans la Syrie.\""
   ]
  },
  {
   "cell_type": "markdown",
   "metadata": {
    "id": "zXocgblnhpBV"
   },
   "source": [
    "Translation to Russian has broken, because some new myv tokens are very Russian-like, and they interere."
   ]
  },
  {
   "cell_type": "code",
   "execution_count": 68,
   "metadata": {
    "colab": {
     "base_uri": "https://localhost:8080/"
    },
    "execution": {
     "iopub.execute_input": "2024-09-07T14:18:59.223177Z",
     "iopub.status.busy": "2024-09-07T14:18:59.221997Z",
     "iopub.status.idle": "2024-09-07T14:19:03.667988Z",
     "shell.execute_reply": "2024-09-07T14:19:03.667117Z",
     "shell.execute_reply.started": "2024-09-07T14:18:59.223082Z"
    },
    "id": "faT6JI1khgeM",
    "outputId": "78d4e0d3-b9e1-4c32-a18e-0314d43b671e",
    "tags": []
   },
   "outputs": [
    {
     "data": {
      "text/plain": [
       "[\"Ща The head of the United Nations says that there's no military solution in Syria. < s > Relatedиян: http://\"]"
      ]
     },
     "execution_count": 68,
     "metadata": {},
     "output_type": "execute_result"
    }
   ],
   "source": [
    "generated_tokens = model.generate(\n",
    "    **encoded_hi,\n",
    "    forced_bos_token_id=new_tokenizer.lang_code_to_id[\"ru_RU\"],\n",
    "    max_length=30,\n",
    "    num_beams=5,\n",
    "    repetition_penalty=30.0,\n",
    ")\n",
    "new_tokenizer.batch_decode(generated_tokens, skip_special_tokens=True)\n",
    "# => \"Le chef de l 'ONU affirme qu 'il n 'y a pas de solution militaire dans la Syrie.\""
   ]
  },
  {
   "cell_type": "markdown",
   "metadata": {
    "id": "kWxUxNVwiYT-"
   },
   "source": [
    "For some reason, even with new tokens prohibited, translation to Russian is poor."
   ]
  },
  {
   "cell_type": "code",
   "execution_count": 69,
   "metadata": {
    "colab": {
     "base_uri": "https://localhost:8080/"
    },
    "execution": {
     "iopub.execute_input": "2024-09-07T14:19:08.110982Z",
     "iopub.status.busy": "2024-09-07T14:19:08.109692Z",
     "iopub.status.idle": "2024-09-07T14:19:17.231635Z",
     "shell.execute_reply": "2024-09-07T14:19:17.230723Z",
     "shell.execute_reply.started": "2024-09-07T14:19:08.110933Z"
    },
    "id": "J36pPznKhyBe",
    "outputId": "e50d7d09-9a23-47b8-c9de-c772b4dcee2a",
    "tags": []
   },
   "outputs": [
    {
     "data": {
      "text/plain": [
       "[\"<mask>. < s > The head of the UN said there's no armed settler in Siria; [c]\"]"
      ]
     },
     "execution_count": 69,
     "metadata": {},
     "output_type": "execute_result"
    }
   ],
   "source": [
    "generated_tokens = model.generate(\n",
    "    **encoded_hi,\n",
    "    forced_bos_token_id=new_tokenizer.lang_code_to_id[\"ru_RU\"],\n",
    "    max_length=30,\n",
    "    num_beams=5,\n",
    "    repetition_penalty=30.0,\n",
    "    bad_words_ids=[[t] for t in range(n_extra, n_extra+old_vocab_size)]\n",
    ")\n",
    "new_tokenizer.batch_decode(generated_tokens, skip_special_tokens=True)\n",
    "# => \"Le chef de l 'ONU affirme qu 'il n 'y a pas de solution militaire dans la Syrie.\""
   ]
  },
  {
   "cell_type": "code",
   "execution_count": 70,
   "metadata": {
    "colab": {
     "base_uri": "https://localhost:8080/"
    },
    "execution": {
     "iopub.execute_input": "2024-09-07T14:19:17.234207Z",
     "iopub.status.busy": "2024-09-07T14:19:17.233075Z",
     "iopub.status.idle": "2024-09-07T14:19:21.593638Z",
     "shell.execute_reply": "2024-09-07T14:19:21.592798Z",
     "shell.execute_reply.started": "2024-09-07T14:19:17.234169Z"
    },
    "id": "AdfswQE0QDA5",
    "outputId": "559db81b-c875-4533-99a7-21cf0e637040",
    "tags": []
   },
   "outputs": [
    {
     "name": "stdout",
     "output_type": "stream",
     "text": [
      "Та пыгрисит маим вармаль э̄рнэ поратэт ат вермгыг варункв\n"
     ]
    },
    {
     "data": {
      "text/plain": [
       "['Гермоген maим сяр округеat вермг мулы вар смена ( ех Сос румасаге)  Хумнитэ верме Maim Аньнья утэ']"
      ]
     },
     "execution_count": 70,
     "metadata": {},
     "output_type": "execute_result"
    }
   ],
   "source": [
    "new_tokenizer.src_lang = \"mans_XX\"\n",
    "print(all_sentences[0])\n",
    "encoded_hi = new_tokenizer(all_sentences[0], return_tensors=\"pt\")\n",
    "generated_tokens = model.generate(\n",
    "    **encoded_hi,\n",
    "    forced_bos_token_id=new_tokenizer.lang_code_to_id[\"ru_RU\"],\n",
    "    max_length=30,\n",
    "    num_beams=5,\n",
    "    repetition_penalty=30.0\n",
    ")\n",
    "new_tokenizer.batch_decode(generated_tokens, skip_special_tokens=True)"
   ]
  },
  {
   "cell_type": "code",
   "execution_count": 71,
   "metadata": {
    "execution": {
     "iopub.execute_input": "2024-09-07T14:19:21.595739Z",
     "iopub.status.busy": "2024-09-07T14:19:21.595128Z",
     "iopub.status.idle": "2024-09-07T14:19:21.609455Z",
     "shell.execute_reply": "2024-09-07T14:19:21.608705Z",
     "shell.execute_reply.started": "2024-09-07T14:19:21.595707Z"
    },
    "id": "jncCPdYaaCix",
    "tags": []
   },
   "outputs": [],
   "source": [
    "old_len = len(new_tokenizer)\n",
    "new_tokenizer.lang_code_to_id['mans_XX'] = old_len-1\n",
    "new_tokenizer.id_to_lang_code[old_len-1] = 'mans_XX'\n",
    "new_tokenizer.fairseq_tokens_to_ids[\"<mask>\"] = len(new_tokenizer.sp_model) + len(new_tokenizer.lang_code_to_id) + new_tokenizer.fairseq_offset\n",
    "\n",
    "new_tokenizer.fairseq_tokens_to_ids.update(new_tokenizer.lang_code_to_id)\n",
    "new_tokenizer.fairseq_ids_to_tokens = {v: k for k, v in new_tokenizer.fairseq_tokens_to_ids.items()}\n",
    "if 'mans_XX' not in tokenizer._additional_special_tokens:\n",
    "    new_tokenizer._additional_special_tokens.append('mans_XX')\n",
    "\n"
   ]
  },
  {
   "cell_type": "code",
   "execution_count": 72,
   "metadata": {
    "colab": {
     "base_uri": "https://localhost:8080/"
    },
    "execution": {
     "iopub.execute_input": "2024-09-07T14:19:21.612238Z",
     "iopub.status.busy": "2024-09-07T14:19:21.611376Z",
     "iopub.status.idle": "2024-09-07T14:19:21.660960Z",
     "shell.execute_reply": "2024-09-07T14:19:21.660029Z",
     "shell.execute_reply.started": "2024-09-07T14:19:21.612200Z"
    },
    "id": "6lBVaJsAkZiT",
    "outputId": "687a336c-c7f3-4c62-b9f4-efca5ca9dbe2",
    "tags": []
   },
   "outputs": [
    {
     "data": {
      "text/plain": [
       "261159"
      ]
     },
     "execution_count": 72,
     "metadata": {},
     "output_type": "execute_result"
    }
   ],
   "source": [
    "new_tokenizer.fairseq_tokens_to_ids[\"<mask>\"]"
   ]
  },
  {
   "cell_type": "code",
   "execution_count": 73,
   "metadata": {
    "colab": {
     "base_uri": "https://localhost:8080/"
    },
    "execution": {
     "iopub.execute_input": "2024-09-07T14:19:21.663470Z",
     "iopub.status.busy": "2024-09-07T14:19:21.662097Z",
     "iopub.status.idle": "2024-09-07T14:19:21.682237Z",
     "shell.execute_reply": "2024-09-07T14:19:21.681413Z",
     "shell.execute_reply.started": "2024-09-07T14:19:21.663431Z"
    },
    "id": "lJzFnLaNmJcA",
    "outputId": "00009ea0-6f2c-49b1-f2ec-e0e51ac6d06a",
    "tags": []
   },
   "outputs": [
    {
     "data": {
      "text/plain": [
       "(261158, 261126)"
      ]
     },
     "execution_count": 73,
     "metadata": {},
     "output_type": "execute_result"
    }
   ],
   "source": [
    "new_tokenizer.lang_code_to_id[\"mans_XX\"], new_tokenizer.lang_code_to_id[\"ru_RU\"]"
   ]
  },
  {
   "cell_type": "code",
   "execution_count": 74,
   "metadata": {
    "colab": {
     "base_uri": "https://localhost:8080/"
    },
    "execution": {
     "iopub.execute_input": "2024-09-07T14:19:21.684231Z",
     "iopub.status.busy": "2024-09-07T14:19:21.683767Z",
     "iopub.status.idle": "2024-09-07T14:19:21.698527Z",
     "shell.execute_reply": "2024-09-07T14:19:21.697833Z",
     "shell.execute_reply.started": "2024-09-07T14:19:21.684204Z"
    },
    "id": "goAo-1CymYsk",
    "outputId": "8626e770-3c14-478c-d449-fa37c70be04b",
    "tags": []
   },
   "outputs": [
    {
     "name": "stdout",
     "output_type": "stream",
     "text": [
      "BEFORE 261158 mans_XX 261158\n",
      "AFTER 261126 ru_RU 261126\n"
     ]
    }
   ],
   "source": [
    "print(\"BEFORE\", new_tokenizer.cur_lang_code_id, new_tokenizer.src_lang, new_tokenizer.lang_code_to_id[new_tokenizer.src_lang])\n",
    "\n",
    "\n",
    "new_tokenizer.src_lang = \"ru_RU\"\n",
    "\n",
    "print(\"AFTER\", new_tokenizer.cur_lang_code_id, new_tokenizer.src_lang, new_tokenizer.lang_code_to_id[new_tokenizer.src_lang])"
   ]
  },
  {
   "cell_type": "code",
   "execution_count": 75,
   "metadata": {
    "colab": {
     "base_uri": "https://localhost:8080/"
    },
    "execution": {
     "iopub.execute_input": "2024-09-07T14:19:21.701943Z",
     "iopub.status.busy": "2024-09-07T14:19:21.700512Z",
     "iopub.status.idle": "2024-09-07T14:20:59.012180Z",
     "shell.execute_reply": "2024-09-07T14:20:59.011254Z",
     "shell.execute_reply.started": "2024-09-07T14:19:21.701907Z"
    },
    "id": "OuB4SKdFWPq-",
    "outputId": "4d0b610a-8c4a-49b3-85d1-ae245f93193c",
    "tags": []
   },
   "outputs": [
    {
     "name": "stderr",
     "output_type": "stream",
     "text": [
      "Some non-default generation parameters are set in the model config. These should go into a GenerationConfig file (https://huggingface.co/docs/transformers/generation_strategies#save-a-custom-decoding-strategy-with-your-model) instead. This warning will be raised to an exception in v4.41.\n",
      "Non-default generation parameters: {'max_length': 200, 'early_stopping': True, 'num_beams': 5, 'forced_eos_token_id': 2}\n"
     ]
    },
    {
     "data": {
      "text/plain": [
       "('./mbart-large-51-mans-raw/tokenizer_config.json',\n",
       " './mbart-large-51-mans-raw/special_tokens_map.json',\n",
       " './mbart-large-51-mans-raw/sentencepiece.bpe.model',\n",
       " './mbart-large-51-mans-raw/added_tokens.json')"
      ]
     },
     "execution_count": 75,
     "metadata": {},
     "output_type": "execute_result"
    }
   ],
   "source": [
    "model.save_pretrained(new_model_path)\n",
    "new_tokenizer.save_pretrained(new_model_path)"
   ]
  },
  {
   "cell_type": "code",
   "execution_count": null,
   "metadata": {
    "id": "wrlhCzhnh5WL"
   },
   "outputs": [],
   "source": []
  }
 ],
 "metadata": {
  "colab": {
   "provenance": []
  },
  "kernelspec": {
   "display_name": "DataSphere Kernel",
   "language": "python",
   "name": "python3"
  },
  "language_info": {
   "codemirror_mode": {
    "name": "ipython",
    "version": 3
   },
   "file_extension": ".py",
   "mimetype": "text/x-python",
   "name": "python",
   "nbconvert_exporter": "python",
   "pygments_lexer": "ipython3",
   "version": "3.10.12"
  },
  "widgets": {
   "application/vnd.jupyter.widget-state+json": {
    "05018716f4e64099b3264c2d3368bba7": {
     "model_module": "@jupyter-widgets/base",
     "model_module_version": "1.2.0",
     "model_name": "LayoutModel",
     "state": {
      "_model_module": "@jupyter-widgets/base",
      "_model_module_version": "1.2.0",
      "_model_name": "LayoutModel",
      "_view_count": null,
      "_view_module": "@jupyter-widgets/base",
      "_view_module_version": "1.2.0",
      "_view_name": "LayoutView",
      "align_content": null,
      "align_items": null,
      "align_self": null,
      "border": null,
      "bottom": null,
      "display": null,
      "flex": null,
      "flex_flow": null,
      "grid_area": null,
      "grid_auto_columns": null,
      "grid_auto_flow": null,
      "grid_auto_rows": null,
      "grid_column": null,
      "grid_gap": null,
      "grid_row": null,
      "grid_template_areas": null,
      "grid_template_columns": null,
      "grid_template_rows": null,
      "height": null,
      "justify_content": null,
      "justify_items": null,
      "left": null,
      "margin": null,
      "max_height": null,
      "max_width": null,
      "min_height": null,
      "min_width": null,
      "object_fit": null,
      "object_position": null,
      "order": null,
      "overflow": null,
      "overflow_x": null,
      "overflow_y": null,
      "padding": null,
      "right": null,
      "top": null,
      "visibility": null,
      "width": null
     }
    },
    "0c4315c20c6041e19e063916d008f008": {
     "model_module": "@jupyter-widgets/controls",
     "model_module_version": "1.5.0",
     "model_name": "HTMLModel",
     "state": {
      "_dom_classes": [],
      "_model_module": "@jupyter-widgets/controls",
      "_model_module_version": "1.5.0",
      "_model_name": "HTMLModel",
      "_view_count": null,
      "_view_module": "@jupyter-widgets/controls",
      "_view_module_version": "1.5.0",
      "_view_name": "HTMLView",
      "description": "",
      "description_tooltip": null,
      "layout": "IPY_MODEL_5f6d82ee93274ed59a9600e26ba70b32",
      "placeholder": "​",
      "style": "IPY_MODEL_1e2165334b60447ea15a09574f08f408",
      "value": " 261/261 [00:00&lt;00:00, 12.4kB/s]"
     }
    },
    "0ccf3b85593547f8b2dadc402c568fca": {
     "model_module": "@jupyter-widgets/base",
     "model_module_version": "1.2.0",
     "model_name": "LayoutModel",
     "state": {
      "_model_module": "@jupyter-widgets/base",
      "_model_module_version": "1.2.0",
      "_model_name": "LayoutModel",
      "_view_count": null,
      "_view_module": "@jupyter-widgets/base",
      "_view_module_version": "1.2.0",
      "_view_name": "LayoutView",
      "align_content": null,
      "align_items": null,
      "align_self": null,
      "border": null,
      "bottom": null,
      "display": null,
      "flex": null,
      "flex_flow": null,
      "grid_area": null,
      "grid_auto_columns": null,
      "grid_auto_flow": null,
      "grid_auto_rows": null,
      "grid_column": null,
      "grid_gap": null,
      "grid_row": null,
      "grid_template_areas": null,
      "grid_template_columns": null,
      "grid_template_rows": null,
      "height": null,
      "justify_content": null,
      "justify_items": null,
      "left": null,
      "margin": null,
      "max_height": null,
      "max_width": null,
      "min_height": null,
      "min_width": null,
      "object_fit": null,
      "object_position": null,
      "order": null,
      "overflow": null,
      "overflow_x": null,
      "overflow_y": null,
      "padding": null,
      "right": null,
      "top": null,
      "visibility": null,
      "width": null
     }
    },
    "0d78ea1c93b044b68d8ef2d0c52193af": {
     "model_module": "@jupyter-widgets/base",
     "model_module_version": "1.2.0",
     "model_name": "LayoutModel",
     "state": {
      "_model_module": "@jupyter-widgets/base",
      "_model_module_version": "1.2.0",
      "_model_name": "LayoutModel",
      "_view_count": null,
      "_view_module": "@jupyter-widgets/base",
      "_view_module_version": "1.2.0",
      "_view_name": "LayoutView",
      "align_content": null,
      "align_items": null,
      "align_self": null,
      "border": null,
      "bottom": null,
      "display": null,
      "flex": null,
      "flex_flow": null,
      "grid_area": null,
      "grid_auto_columns": null,
      "grid_auto_flow": null,
      "grid_auto_rows": null,
      "grid_column": null,
      "grid_gap": null,
      "grid_row": null,
      "grid_template_areas": null,
      "grid_template_columns": null,
      "grid_template_rows": null,
      "height": null,
      "justify_content": null,
      "justify_items": null,
      "left": null,
      "margin": null,
      "max_height": null,
      "max_width": null,
      "min_height": null,
      "min_width": null,
      "object_fit": null,
      "object_position": null,
      "order": null,
      "overflow": null,
      "overflow_x": null,
      "overflow_y": null,
      "padding": null,
      "right": null,
      "top": null,
      "visibility": null,
      "width": null
     }
    },
    "0ddc1b7014874e8cbb9dcb21390fe717": {
     "model_module": "@jupyter-widgets/controls",
     "model_module_version": "1.5.0",
     "model_name": "DescriptionStyleModel",
     "state": {
      "_model_module": "@jupyter-widgets/controls",
      "_model_module_version": "1.5.0",
      "_model_name": "DescriptionStyleModel",
      "_view_count": null,
      "_view_module": "@jupyter-widgets/base",
      "_view_module_version": "1.2.0",
      "_view_name": "StyleView",
      "description_width": ""
     }
    },
    "0e7a54a6b76449c5b7e855bdcc64bbfb": {
     "model_module": "@jupyter-widgets/controls",
     "model_module_version": "1.5.0",
     "model_name": "FloatProgressModel",
     "state": {
      "_dom_classes": [],
      "_model_module": "@jupyter-widgets/controls",
      "_model_module_version": "1.5.0",
      "_model_name": "FloatProgressModel",
      "_view_count": null,
      "_view_module": "@jupyter-widgets/controls",
      "_view_module_version": "1.5.0",
      "_view_name": "ProgressView",
      "bar_style": "success",
      "description": "",
      "description_tooltip": null,
      "layout": "IPY_MODEL_26dea035611d4a60823dada068cd1399",
      "max": 87855,
      "min": 0,
      "orientation": "horizontal",
      "style": "IPY_MODEL_be9bc67dfa154dcd91c9041297754da4",
      "value": 87855
     }
    },
    "15d45cde35334e3c9e852070187c1d8c": {
     "model_module": "@jupyter-widgets/controls",
     "model_module_version": "1.5.0",
     "model_name": "DescriptionStyleModel",
     "state": {
      "_model_module": "@jupyter-widgets/controls",
      "_model_module_version": "1.5.0",
      "_model_name": "DescriptionStyleModel",
      "_view_count": null,
      "_view_module": "@jupyter-widgets/base",
      "_view_module_version": "1.2.0",
      "_view_name": "StyleView",
      "description_width": ""
     }
    },
    "1a6de7e7c9d64101bdf659df274f0bfa": {
     "model_module": "@jupyter-widgets/base",
     "model_module_version": "1.2.0",
     "model_name": "LayoutModel",
     "state": {
      "_model_module": "@jupyter-widgets/base",
      "_model_module_version": "1.2.0",
      "_model_name": "LayoutModel",
      "_view_count": null,
      "_view_module": "@jupyter-widgets/base",
      "_view_module_version": "1.2.0",
      "_view_name": "LayoutView",
      "align_content": null,
      "align_items": null,
      "align_self": null,
      "border": null,
      "bottom": null,
      "display": null,
      "flex": null,
      "flex_flow": null,
      "grid_area": null,
      "grid_auto_columns": null,
      "grid_auto_flow": null,
      "grid_auto_rows": null,
      "grid_column": null,
      "grid_gap": null,
      "grid_row": null,
      "grid_template_areas": null,
      "grid_template_columns": null,
      "grid_template_rows": null,
      "height": null,
      "justify_content": null,
      "justify_items": null,
      "left": null,
      "margin": null,
      "max_height": null,
      "max_width": null,
      "min_height": null,
      "min_width": null,
      "object_fit": null,
      "object_position": null,
      "order": null,
      "overflow": null,
      "overflow_x": null,
      "overflow_y": null,
      "padding": null,
      "right": null,
      "top": null,
      "visibility": null,
      "width": null
     }
    },
    "1ac5a08429ba4908a9c58e9ef648cea1": {
     "model_module": "@jupyter-widgets/base",
     "model_module_version": "1.2.0",
     "model_name": "LayoutModel",
     "state": {
      "_model_module": "@jupyter-widgets/base",
      "_model_module_version": "1.2.0",
      "_model_name": "LayoutModel",
      "_view_count": null,
      "_view_module": "@jupyter-widgets/base",
      "_view_module_version": "1.2.0",
      "_view_name": "LayoutView",
      "align_content": null,
      "align_items": null,
      "align_self": null,
      "border": null,
      "bottom": null,
      "display": null,
      "flex": null,
      "flex_flow": null,
      "grid_area": null,
      "grid_auto_columns": null,
      "grid_auto_flow": null,
      "grid_auto_rows": null,
      "grid_column": null,
      "grid_gap": null,
      "grid_row": null,
      "grid_template_areas": null,
      "grid_template_columns": null,
      "grid_template_rows": null,
      "height": null,
      "justify_content": null,
      "justify_items": null,
      "left": null,
      "margin": null,
      "max_height": null,
      "max_width": null,
      "min_height": null,
      "min_width": null,
      "object_fit": null,
      "object_position": null,
      "order": null,
      "overflow": null,
      "overflow_x": null,
      "overflow_y": null,
      "padding": null,
      "right": null,
      "top": null,
      "visibility": null,
      "width": null
     }
    },
    "1af2ca950e054d2b923c8530e9f7428f": {
     "model_module": "@jupyter-widgets/controls",
     "model_module_version": "1.5.0",
     "model_name": "HTMLModel",
     "state": {
      "_dom_classes": [],
      "_model_module": "@jupyter-widgets/controls",
      "_model_module_version": "1.5.0",
      "_model_name": "HTMLModel",
      "_view_count": null,
      "_view_module": "@jupyter-widgets/controls",
      "_view_module_version": "1.5.0",
      "_view_name": "HTMLView",
      "description": "",
      "description_tooltip": null,
      "layout": "IPY_MODEL_e6545067ba414a279e96a12d215988da",
      "placeholder": "​",
      "style": "IPY_MODEL_920c14a9c1084ed885b79183da6e8775",
      "value": "100%"
     }
    },
    "1e2165334b60447ea15a09574f08f408": {
     "model_module": "@jupyter-widgets/controls",
     "model_module_version": "1.5.0",
     "model_name": "DescriptionStyleModel",
     "state": {
      "_model_module": "@jupyter-widgets/controls",
      "_model_module_version": "1.5.0",
      "_model_name": "DescriptionStyleModel",
      "_view_count": null,
      "_view_module": "@jupyter-widgets/base",
      "_view_module_version": "1.2.0",
      "_view_name": "StyleView",
      "description_width": ""
     }
    },
    "26b0089bb0ee4ef887dc6be34c9763ac": {
     "model_module": "@jupyter-widgets/controls",
     "model_module_version": "1.5.0",
     "model_name": "HBoxModel",
     "state": {
      "_dom_classes": [],
      "_model_module": "@jupyter-widgets/controls",
      "_model_module_version": "1.5.0",
      "_model_name": "HBoxModel",
      "_view_count": null,
      "_view_module": "@jupyter-widgets/controls",
      "_view_module_version": "1.5.0",
      "_view_name": "HBoxView",
      "box_style": "",
      "children": [
       "IPY_MODEL_47862ab47a95488abe00be8bc7afbaf2",
       "IPY_MODEL_e894031583f34fccad6d443836c73c41",
       "IPY_MODEL_fac61f593407442a8eada07c12477aba"
      ],
      "layout": "IPY_MODEL_a38db2a91a5b4300b315bd727771b9e7"
     }
    },
    "26dea035611d4a60823dada068cd1399": {
     "model_module": "@jupyter-widgets/base",
     "model_module_version": "1.2.0",
     "model_name": "LayoutModel",
     "state": {
      "_model_module": "@jupyter-widgets/base",
      "_model_module_version": "1.2.0",
      "_model_name": "LayoutModel",
      "_view_count": null,
      "_view_module": "@jupyter-widgets/base",
      "_view_module_version": "1.2.0",
      "_view_name": "LayoutView",
      "align_content": null,
      "align_items": null,
      "align_self": null,
      "border": null,
      "bottom": null,
      "display": null,
      "flex": null,
      "flex_flow": null,
      "grid_area": null,
      "grid_auto_columns": null,
      "grid_auto_flow": null,
      "grid_auto_rows": null,
      "grid_column": null,
      "grid_gap": null,
      "grid_row": null,
      "grid_template_areas": null,
      "grid_template_columns": null,
      "grid_template_rows": null,
      "height": null,
      "justify_content": null,
      "justify_items": null,
      "left": null,
      "margin": null,
      "max_height": null,
      "max_width": null,
      "min_height": null,
      "min_width": null,
      "object_fit": null,
      "object_position": null,
      "order": null,
      "overflow": null,
      "overflow_x": null,
      "overflow_y": null,
      "padding": null,
      "right": null,
      "top": null,
      "visibility": null,
      "width": null
     }
    },
    "2d5ad29e0c3b4defb438ecd7d6b927c4": {
     "model_module": "@jupyter-widgets/base",
     "model_module_version": "1.2.0",
     "model_name": "LayoutModel",
     "state": {
      "_model_module": "@jupyter-widgets/base",
      "_model_module_version": "1.2.0",
      "_model_name": "LayoutModel",
      "_view_count": null,
      "_view_module": "@jupyter-widgets/base",
      "_view_module_version": "1.2.0",
      "_view_name": "LayoutView",
      "align_content": null,
      "align_items": null,
      "align_self": null,
      "border": null,
      "bottom": null,
      "display": null,
      "flex": null,
      "flex_flow": null,
      "grid_area": null,
      "grid_auto_columns": null,
      "grid_auto_flow": null,
      "grid_auto_rows": null,
      "grid_column": null,
      "grid_gap": null,
      "grid_row": null,
      "grid_template_areas": null,
      "grid_template_columns": null,
      "grid_template_rows": null,
      "height": null,
      "justify_content": null,
      "justify_items": null,
      "left": null,
      "margin": null,
      "max_height": null,
      "max_width": null,
      "min_height": null,
      "min_width": null,
      "object_fit": null,
      "object_position": null,
      "order": null,
      "overflow": null,
      "overflow_x": null,
      "overflow_y": null,
      "padding": null,
      "right": null,
      "top": null,
      "visibility": null,
      "width": null
     }
    },
    "33ba38307ae641fea72f0b9d66948664": {
     "model_module": "@jupyter-widgets/controls",
     "model_module_version": "1.5.0",
     "model_name": "FloatProgressModel",
     "state": {
      "_dom_classes": [],
      "_model_module": "@jupyter-widgets/controls",
      "_model_module_version": "1.5.0",
      "_model_name": "FloatProgressModel",
      "_view_count": null,
      "_view_module": "@jupyter-widgets/controls",
      "_view_module_version": "1.5.0",
      "_view_name": "ProgressView",
      "bar_style": "success",
      "description": "",
      "description_tooltip": null,
      "layout": "IPY_MODEL_7e81cbb0ac4b4c2b98b7748e3852fb71",
      "max": 2444578688,
      "min": 0,
      "orientation": "horizontal",
      "style": "IPY_MODEL_994d3eb2f7d948798f8fc88ad50ca4ca",
      "value": 2444578688
     }
    },
    "341ff02184544ad38cf602881399f75e": {
     "model_module": "@jupyter-widgets/base",
     "model_module_version": "1.2.0",
     "model_name": "LayoutModel",
     "state": {
      "_model_module": "@jupyter-widgets/base",
      "_model_module_version": "1.2.0",
      "_model_name": "LayoutModel",
      "_view_count": null,
      "_view_module": "@jupyter-widgets/base",
      "_view_module_version": "1.2.0",
      "_view_name": "LayoutView",
      "align_content": null,
      "align_items": null,
      "align_self": null,
      "border": null,
      "bottom": null,
      "display": null,
      "flex": null,
      "flex_flow": null,
      "grid_area": null,
      "grid_auto_columns": null,
      "grid_auto_flow": null,
      "grid_auto_rows": null,
      "grid_column": null,
      "grid_gap": null,
      "grid_row": null,
      "grid_template_areas": null,
      "grid_template_columns": null,
      "grid_template_rows": null,
      "height": null,
      "justify_content": null,
      "justify_items": null,
      "left": null,
      "margin": null,
      "max_height": null,
      "max_width": null,
      "min_height": null,
      "min_width": null,
      "object_fit": null,
      "object_position": null,
      "order": null,
      "overflow": null,
      "overflow_x": null,
      "overflow_y": null,
      "padding": null,
      "right": null,
      "top": null,
      "visibility": null,
      "width": null
     }
    },
    "379f256feffc43e2b348741c55d7202c": {
     "model_module": "@jupyter-widgets/controls",
     "model_module_version": "1.5.0",
     "model_name": "ProgressStyleModel",
     "state": {
      "_model_module": "@jupyter-widgets/controls",
      "_model_module_version": "1.5.0",
      "_model_name": "ProgressStyleModel",
      "_view_count": null,
      "_view_module": "@jupyter-widgets/base",
      "_view_module_version": "1.2.0",
      "_view_name": "StyleView",
      "bar_color": null,
      "description_width": ""
     }
    },
    "3b351867c0db40b1acb973253e911073": {
     "model_module": "@jupyter-widgets/controls",
     "model_module_version": "1.5.0",
     "model_name": "ProgressStyleModel",
     "state": {
      "_model_module": "@jupyter-widgets/controls",
      "_model_module_version": "1.5.0",
      "_model_name": "ProgressStyleModel",
      "_view_count": null,
      "_view_module": "@jupyter-widgets/base",
      "_view_module_version": "1.2.0",
      "_view_name": "StyleView",
      "bar_color": null,
      "description_width": ""
     }
    },
    "3da66d239de543e780471678508d46db": {
     "model_module": "@jupyter-widgets/controls",
     "model_module_version": "1.5.0",
     "model_name": "HTMLModel",
     "state": {
      "_dom_classes": [],
      "_model_module": "@jupyter-widgets/controls",
      "_model_module_version": "1.5.0",
      "_model_name": "HTMLModel",
      "_view_count": null,
      "_view_module": "@jupyter-widgets/controls",
      "_view_module_version": "1.5.0",
      "_view_name": "HTMLView",
      "description": "",
      "description_tooltip": null,
      "layout": "IPY_MODEL_0ccf3b85593547f8b2dadc402c568fca",
      "placeholder": "​",
      "style": "IPY_MODEL_40f9c6f7f74142b391fa11d77df18cb9",
      "value": " 87855/87855 [00:01&lt;00:00, 90376.22it/s]"
     }
    },
    "40f9c6f7f74142b391fa11d77df18cb9": {
     "model_module": "@jupyter-widgets/controls",
     "model_module_version": "1.5.0",
     "model_name": "DescriptionStyleModel",
     "state": {
      "_model_module": "@jupyter-widgets/controls",
      "_model_module_version": "1.5.0",
      "_model_name": "DescriptionStyleModel",
      "_view_count": null,
      "_view_module": "@jupyter-widgets/base",
      "_view_module_version": "1.2.0",
      "_view_name": "StyleView",
      "description_width": ""
     }
    },
    "41543259a5c3435abc7fbe25372fa7ae": {
     "model_module": "@jupyter-widgets/controls",
     "model_module_version": "1.5.0",
     "model_name": "FloatProgressModel",
     "state": {
      "_dom_classes": [],
      "_model_module": "@jupyter-widgets/controls",
      "_model_module_version": "1.5.0",
      "_model_name": "FloatProgressModel",
      "_view_count": null,
      "_view_module": "@jupyter-widgets/controls",
      "_view_module_version": "1.5.0",
      "_view_name": "ProgressView",
      "bar_style": "success",
      "description": "",
      "description_tooltip": null,
      "layout": "IPY_MODEL_6e14906b302c45689d5e89a0e71b5f6e",
      "max": 81146,
      "min": 0,
      "orientation": "horizontal",
      "style": "IPY_MODEL_e2910a2074b549fc80bc23ed763a941e",
      "value": 81146
     }
    },
    "47862ab47a95488abe00be8bc7afbaf2": {
     "model_module": "@jupyter-widgets/controls",
     "model_module_version": "1.5.0",
     "model_name": "HTMLModel",
     "state": {
      "_dom_classes": [],
      "_model_module": "@jupyter-widgets/controls",
      "_model_module_version": "1.5.0",
      "_model_name": "HTMLModel",
      "_view_count": null,
      "_view_module": "@jupyter-widgets/controls",
      "_view_module_version": "1.5.0",
      "_view_name": "HTMLView",
      "description": "",
      "description_tooltip": null,
      "layout": "IPY_MODEL_54247d49c9f44ba28e6f3d699ee56207",
      "placeholder": "​",
      "style": "IPY_MODEL_15d45cde35334e3c9e852070187c1d8c",
      "value": "100%"
     }
    },
    "4934c5f6f6dd4a19aba03845c0494bd0": {
     "model_module": "@jupyter-widgets/controls",
     "model_module_version": "1.5.0",
     "model_name": "DescriptionStyleModel",
     "state": {
      "_model_module": "@jupyter-widgets/controls",
      "_model_module_version": "1.5.0",
      "_model_name": "DescriptionStyleModel",
      "_view_count": null,
      "_view_module": "@jupyter-widgets/base",
      "_view_module_version": "1.2.0",
      "_view_name": "StyleView",
      "description_width": ""
     }
    },
    "4ab580d0b0a34b64acc5af445b2aa18f": {
     "model_module": "@jupyter-widgets/controls",
     "model_module_version": "1.5.0",
     "model_name": "DescriptionStyleModel",
     "state": {
      "_model_module": "@jupyter-widgets/controls",
      "_model_module_version": "1.5.0",
      "_model_name": "DescriptionStyleModel",
      "_view_count": null,
      "_view_module": "@jupyter-widgets/base",
      "_view_module_version": "1.2.0",
      "_view_name": "StyleView",
      "description_width": ""
     }
    },
    "517150384a3b4f80acba6bb72adc5742": {
     "model_module": "@jupyter-widgets/controls",
     "model_module_version": "1.5.0",
     "model_name": "FloatProgressModel",
     "state": {
      "_dom_classes": [],
      "_model_module": "@jupyter-widgets/controls",
      "_model_module_version": "1.5.0",
      "_model_name": "FloatProgressModel",
      "_view_count": null,
      "_view_module": "@jupyter-widgets/controls",
      "_view_module_version": "1.5.0",
      "_view_name": "ProgressView",
      "bar_style": "danger",
      "description": "",
      "description_tooltip": null,
      "layout": "IPY_MODEL_efec8ca36e7b46e6b9e810d51964cf08",
      "max": 100000,
      "min": 0,
      "orientation": "horizontal",
      "style": "IPY_MODEL_c45d905326984d65811f8e93276cb0e3",
      "value": 11102
     }
    },
    "54247d49c9f44ba28e6f3d699ee56207": {
     "model_module": "@jupyter-widgets/base",
     "model_module_version": "1.2.0",
     "model_name": "LayoutModel",
     "state": {
      "_model_module": "@jupyter-widgets/base",
      "_model_module_version": "1.2.0",
      "_model_name": "LayoutModel",
      "_view_count": null,
      "_view_module": "@jupyter-widgets/base",
      "_view_module_version": "1.2.0",
      "_view_name": "LayoutView",
      "align_content": null,
      "align_items": null,
      "align_self": null,
      "border": null,
      "bottom": null,
      "display": null,
      "flex": null,
      "flex_flow": null,
      "grid_area": null,
      "grid_auto_columns": null,
      "grid_auto_flow": null,
      "grid_auto_rows": null,
      "grid_column": null,
      "grid_gap": null,
      "grid_row": null,
      "grid_template_areas": null,
      "grid_template_columns": null,
      "grid_template_rows": null,
      "height": null,
      "justify_content": null,
      "justify_items": null,
      "left": null,
      "margin": null,
      "max_height": null,
      "max_width": null,
      "min_height": null,
      "min_width": null,
      "object_fit": null,
      "object_position": null,
      "order": null,
      "overflow": null,
      "overflow_x": null,
      "overflow_y": null,
      "padding": null,
      "right": null,
      "top": null,
      "visibility": null,
      "width": null
     }
    },
    "5afec15e75b34c61af6acc72a903c266": {
     "model_module": "@jupyter-widgets/controls",
     "model_module_version": "1.5.0",
     "model_name": "HBoxModel",
     "state": {
      "_dom_classes": [],
      "_model_module": "@jupyter-widgets/controls",
      "_model_module_version": "1.5.0",
      "_model_name": "HBoxModel",
      "_view_count": null,
      "_view_module": "@jupyter-widgets/controls",
      "_view_module_version": "1.5.0",
      "_view_name": "HBoxView",
      "box_style": "",
      "children": [
       "IPY_MODEL_d8c3f51721ae4bedb97b1466988bf613",
       "IPY_MODEL_0e7a54a6b76449c5b7e855bdcc64bbfb",
       "IPY_MODEL_3da66d239de543e780471678508d46db"
      ],
      "layout": "IPY_MODEL_1ac5a08429ba4908a9c58e9ef648cea1"
     }
    },
    "5b0f171d3bbf4453800c1d015ecf4383": {
     "model_module": "@jupyter-widgets/controls",
     "model_module_version": "1.5.0",
     "model_name": "DescriptionStyleModel",
     "state": {
      "_model_module": "@jupyter-widgets/controls",
      "_model_module_version": "1.5.0",
      "_model_name": "DescriptionStyleModel",
      "_view_count": null,
      "_view_module": "@jupyter-widgets/base",
      "_view_module_version": "1.2.0",
      "_view_name": "StyleView",
      "description_width": ""
     }
    },
    "5f6d82ee93274ed59a9600e26ba70b32": {
     "model_module": "@jupyter-widgets/base",
     "model_module_version": "1.2.0",
     "model_name": "LayoutModel",
     "state": {
      "_model_module": "@jupyter-widgets/base",
      "_model_module_version": "1.2.0",
      "_model_name": "LayoutModel",
      "_view_count": null,
      "_view_module": "@jupyter-widgets/base",
      "_view_module_version": "1.2.0",
      "_view_name": "LayoutView",
      "align_content": null,
      "align_items": null,
      "align_self": null,
      "border": null,
      "bottom": null,
      "display": null,
      "flex": null,
      "flex_flow": null,
      "grid_area": null,
      "grid_auto_columns": null,
      "grid_auto_flow": null,
      "grid_auto_rows": null,
      "grid_column": null,
      "grid_gap": null,
      "grid_row": null,
      "grid_template_areas": null,
      "grid_template_columns": null,
      "grid_template_rows": null,
      "height": null,
      "justify_content": null,
      "justify_items": null,
      "left": null,
      "margin": null,
      "max_height": null,
      "max_width": null,
      "min_height": null,
      "min_width": null,
      "object_fit": null,
      "object_position": null,
      "order": null,
      "overflow": null,
      "overflow_x": null,
      "overflow_y": null,
      "padding": null,
      "right": null,
      "top": null,
      "visibility": null,
      "width": null
     }
    },
    "5fc211341c0d4875842cf2a3957455aa": {
     "model_module": "@jupyter-widgets/controls",
     "model_module_version": "1.5.0",
     "model_name": "DescriptionStyleModel",
     "state": {
      "_model_module": "@jupyter-widgets/controls",
      "_model_module_version": "1.5.0",
      "_model_name": "DescriptionStyleModel",
      "_view_count": null,
      "_view_module": "@jupyter-widgets/base",
      "_view_module_version": "1.2.0",
      "_view_name": "StyleView",
      "description_width": ""
     }
    },
    "631ac94bc5894117b375dbb2da9faf78": {
     "model_module": "@jupyter-widgets/base",
     "model_module_version": "1.2.0",
     "model_name": "LayoutModel",
     "state": {
      "_model_module": "@jupyter-widgets/base",
      "_model_module_version": "1.2.0",
      "_model_name": "LayoutModel",
      "_view_count": null,
      "_view_module": "@jupyter-widgets/base",
      "_view_module_version": "1.2.0",
      "_view_name": "LayoutView",
      "align_content": null,
      "align_items": null,
      "align_self": null,
      "border": null,
      "bottom": null,
      "display": null,
      "flex": null,
      "flex_flow": null,
      "grid_area": null,
      "grid_auto_columns": null,
      "grid_auto_flow": null,
      "grid_auto_rows": null,
      "grid_column": null,
      "grid_gap": null,
      "grid_row": null,
      "grid_template_areas": null,
      "grid_template_columns": null,
      "grid_template_rows": null,
      "height": null,
      "justify_content": null,
      "justify_items": null,
      "left": null,
      "margin": null,
      "max_height": null,
      "max_width": null,
      "min_height": null,
      "min_width": null,
      "object_fit": null,
      "object_position": null,
      "order": null,
      "overflow": null,
      "overflow_x": null,
      "overflow_y": null,
      "padding": null,
      "right": null,
      "top": null,
      "visibility": null,
      "width": null
     }
    },
    "65e48db7e3b2421eb8cb6a1725aa35c7": {
     "model_module": "@jupyter-widgets/base",
     "model_module_version": "1.2.0",
     "model_name": "LayoutModel",
     "state": {
      "_model_module": "@jupyter-widgets/base",
      "_model_module_version": "1.2.0",
      "_model_name": "LayoutModel",
      "_view_count": null,
      "_view_module": "@jupyter-widgets/base",
      "_view_module_version": "1.2.0",
      "_view_name": "LayoutView",
      "align_content": null,
      "align_items": null,
      "align_self": null,
      "border": null,
      "bottom": null,
      "display": null,
      "flex": null,
      "flex_flow": null,
      "grid_area": null,
      "grid_auto_columns": null,
      "grid_auto_flow": null,
      "grid_auto_rows": null,
      "grid_column": null,
      "grid_gap": null,
      "grid_row": null,
      "grid_template_areas": null,
      "grid_template_columns": null,
      "grid_template_rows": null,
      "height": null,
      "justify_content": null,
      "justify_items": null,
      "left": null,
      "margin": null,
      "max_height": null,
      "max_width": null,
      "min_height": null,
      "min_width": null,
      "object_fit": null,
      "object_position": null,
      "order": null,
      "overflow": null,
      "overflow_x": null,
      "overflow_y": null,
      "padding": null,
      "right": null,
      "top": null,
      "visibility": null,
      "width": null
     }
    },
    "6a7bdc47f1db401f9ac94bff4c906f43": {
     "model_module": "@jupyter-widgets/base",
     "model_module_version": "1.2.0",
     "model_name": "LayoutModel",
     "state": {
      "_model_module": "@jupyter-widgets/base",
      "_model_module_version": "1.2.0",
      "_model_name": "LayoutModel",
      "_view_count": null,
      "_view_module": "@jupyter-widgets/base",
      "_view_module_version": "1.2.0",
      "_view_name": "LayoutView",
      "align_content": null,
      "align_items": null,
      "align_self": null,
      "border": null,
      "bottom": null,
      "display": null,
      "flex": null,
      "flex_flow": null,
      "grid_area": null,
      "grid_auto_columns": null,
      "grid_auto_flow": null,
      "grid_auto_rows": null,
      "grid_column": null,
      "grid_gap": null,
      "grid_row": null,
      "grid_template_areas": null,
      "grid_template_columns": null,
      "grid_template_rows": null,
      "height": null,
      "justify_content": null,
      "justify_items": null,
      "left": null,
      "margin": null,
      "max_height": null,
      "max_width": null,
      "min_height": null,
      "min_width": null,
      "object_fit": null,
      "object_position": null,
      "order": null,
      "overflow": null,
      "overflow_x": null,
      "overflow_y": null,
      "padding": null,
      "right": null,
      "top": null,
      "visibility": null,
      "width": null
     }
    },
    "6e14906b302c45689d5e89a0e71b5f6e": {
     "model_module": "@jupyter-widgets/base",
     "model_module_version": "1.2.0",
     "model_name": "LayoutModel",
     "state": {
      "_model_module": "@jupyter-widgets/base",
      "_model_module_version": "1.2.0",
      "_model_name": "LayoutModel",
      "_view_count": null,
      "_view_module": "@jupyter-widgets/base",
      "_view_module_version": "1.2.0",
      "_view_name": "LayoutView",
      "align_content": null,
      "align_items": null,
      "align_self": null,
      "border": null,
      "bottom": null,
      "display": null,
      "flex": null,
      "flex_flow": null,
      "grid_area": null,
      "grid_auto_columns": null,
      "grid_auto_flow": null,
      "grid_auto_rows": null,
      "grid_column": null,
      "grid_gap": null,
      "grid_row": null,
      "grid_template_areas": null,
      "grid_template_columns": null,
      "grid_template_rows": null,
      "height": null,
      "justify_content": null,
      "justify_items": null,
      "left": null,
      "margin": null,
      "max_height": null,
      "max_width": null,
      "min_height": null,
      "min_width": null,
      "object_fit": null,
      "object_position": null,
      "order": null,
      "overflow": null,
      "overflow_x": null,
      "overflow_y": null,
      "padding": null,
      "right": null,
      "top": null,
      "visibility": null,
      "width": null
     }
    },
    "6e1e3d81a42a4557bd0178653e66b40d": {
     "model_module": "@jupyter-widgets/controls",
     "model_module_version": "1.5.0",
     "model_name": "DescriptionStyleModel",
     "state": {
      "_model_module": "@jupyter-widgets/controls",
      "_model_module_version": "1.5.0",
      "_model_name": "DescriptionStyleModel",
      "_view_count": null,
      "_view_module": "@jupyter-widgets/base",
      "_view_module_version": "1.2.0",
      "_view_name": "StyleView",
      "description_width": ""
     }
    },
    "6f4b8d5e1f704b5ebda4c77a86a2ce0d": {
     "model_module": "@jupyter-widgets/controls",
     "model_module_version": "1.5.0",
     "model_name": "HBoxModel",
     "state": {
      "_dom_classes": [],
      "_model_module": "@jupyter-widgets/controls",
      "_model_module_version": "1.5.0",
      "_model_name": "HBoxModel",
      "_view_count": null,
      "_view_module": "@jupyter-widgets/controls",
      "_view_module_version": "1.5.0",
      "_view_name": "HBoxView",
      "box_style": "",
      "children": [
       "IPY_MODEL_b0503b40e7084c9bacba1aa14f52c258",
       "IPY_MODEL_d01b74364440424c9096c04a7530751c",
       "IPY_MODEL_eae7a46541dd489c87542ff2970dbe7a"
      ],
      "layout": "IPY_MODEL_bfd42b6b4734492fb1df1e4b55f90f3f"
     }
    },
    "734ef0ca98de4a7aa69423d201922ff0": {
     "model_module": "@jupyter-widgets/controls",
     "model_module_version": "1.5.0",
     "model_name": "HBoxModel",
     "state": {
      "_dom_classes": [],
      "_model_module": "@jupyter-widgets/controls",
      "_model_module_version": "1.5.0",
      "_model_name": "HBoxModel",
      "_view_count": null,
      "_view_module": "@jupyter-widgets/controls",
      "_view_module_version": "1.5.0",
      "_view_name": "HBoxView",
      "box_style": "",
      "children": [
       "IPY_MODEL_7575112765ac4a788db0c6d8ef1f7c1c",
       "IPY_MODEL_517150384a3b4f80acba6bb72adc5742",
       "IPY_MODEL_bd2a498c4e8e4dbeb039ef8a96683382"
      ],
      "layout": "IPY_MODEL_c1e75ac35bd24e15af782066a77daaa6"
     }
    },
    "7575112765ac4a788db0c6d8ef1f7c1c": {
     "model_module": "@jupyter-widgets/controls",
     "model_module_version": "1.5.0",
     "model_name": "HTMLModel",
     "state": {
      "_dom_classes": [],
      "_model_module": "@jupyter-widgets/controls",
      "_model_module_version": "1.5.0",
      "_model_name": "HTMLModel",
      "_view_count": null,
      "_view_module": "@jupyter-widgets/controls",
      "_view_module_version": "1.5.0",
      "_view_name": "HTMLView",
      "description": "",
      "description_tooltip": null,
      "layout": "IPY_MODEL_911baa69d28444d384eb2059af70370d",
      "placeholder": "​",
      "style": "IPY_MODEL_931f0d53b676434a989feded59cdb8d1",
      "value": " 11%"
     }
    },
    "78cf9b7483084991baf8e5a876b0f861": {
     "model_module": "@jupyter-widgets/controls",
     "model_module_version": "1.5.0",
     "model_name": "HTMLModel",
     "state": {
      "_dom_classes": [],
      "_model_module": "@jupyter-widgets/controls",
      "_model_module_version": "1.5.0",
      "_model_name": "HTMLModel",
      "_view_count": null,
      "_view_module": "@jupyter-widgets/controls",
      "_view_module_version": "1.5.0",
      "_view_name": "HTMLView",
      "description": "",
      "description_tooltip": null,
      "layout": "IPY_MODEL_341ff02184544ad38cf602881399f75e",
      "placeholder": "​",
      "style": "IPY_MODEL_4934c5f6f6dd4a19aba03845c0494bd0",
      "value": " 2.44G/2.44G [00:45&lt;00:00, 68.5MB/s]"
     }
    },
    "794ca47b36964229bd130ee3e8181f30": {
     "model_module": "@jupyter-widgets/base",
     "model_module_version": "1.2.0",
     "model_name": "LayoutModel",
     "state": {
      "_model_module": "@jupyter-widgets/base",
      "_model_module_version": "1.2.0",
      "_model_name": "LayoutModel",
      "_view_count": null,
      "_view_module": "@jupyter-widgets/base",
      "_view_module_version": "1.2.0",
      "_view_name": "LayoutView",
      "align_content": null,
      "align_items": null,
      "align_self": null,
      "border": null,
      "bottom": null,
      "display": null,
      "flex": null,
      "flex_flow": null,
      "grid_area": null,
      "grid_auto_columns": null,
      "grid_auto_flow": null,
      "grid_auto_rows": null,
      "grid_column": null,
      "grid_gap": null,
      "grid_row": null,
      "grid_template_areas": null,
      "grid_template_columns": null,
      "grid_template_rows": null,
      "height": null,
      "justify_content": null,
      "justify_items": null,
      "left": null,
      "margin": null,
      "max_height": null,
      "max_width": null,
      "min_height": null,
      "min_width": null,
      "object_fit": null,
      "object_position": null,
      "order": null,
      "overflow": null,
      "overflow_x": null,
      "overflow_y": null,
      "padding": null,
      "right": null,
      "top": null,
      "visibility": null,
      "width": null
     }
    },
    "79ffa1f9b8c3438a8b89ea3dbbd9a4c8": {
     "model_module": "@jupyter-widgets/base",
     "model_module_version": "1.2.0",
     "model_name": "LayoutModel",
     "state": {
      "_model_module": "@jupyter-widgets/base",
      "_model_module_version": "1.2.0",
      "_model_name": "LayoutModel",
      "_view_count": null,
      "_view_module": "@jupyter-widgets/base",
      "_view_module_version": "1.2.0",
      "_view_name": "LayoutView",
      "align_content": null,
      "align_items": null,
      "align_self": null,
      "border": null,
      "bottom": null,
      "display": null,
      "flex": null,
      "flex_flow": null,
      "grid_area": null,
      "grid_auto_columns": null,
      "grid_auto_flow": null,
      "grid_auto_rows": null,
      "grid_column": null,
      "grid_gap": null,
      "grid_row": null,
      "grid_template_areas": null,
      "grid_template_columns": null,
      "grid_template_rows": null,
      "height": null,
      "justify_content": null,
      "justify_items": null,
      "left": null,
      "margin": null,
      "max_height": null,
      "max_width": null,
      "min_height": null,
      "min_width": null,
      "object_fit": null,
      "object_position": null,
      "order": null,
      "overflow": null,
      "overflow_x": null,
      "overflow_y": null,
      "padding": null,
      "right": null,
      "top": null,
      "visibility": null,
      "width": null
     }
    },
    "7cbdd8a16a7d4fac932c6799a33e167a": {
     "model_module": "@jupyter-widgets/controls",
     "model_module_version": "1.5.0",
     "model_name": "DescriptionStyleModel",
     "state": {
      "_model_module": "@jupyter-widgets/controls",
      "_model_module_version": "1.5.0",
      "_model_name": "DescriptionStyleModel",
      "_view_count": null,
      "_view_module": "@jupyter-widgets/base",
      "_view_module_version": "1.2.0",
      "_view_name": "StyleView",
      "description_width": ""
     }
    },
    "7e81cbb0ac4b4c2b98b7748e3852fb71": {
     "model_module": "@jupyter-widgets/base",
     "model_module_version": "1.2.0",
     "model_name": "LayoutModel",
     "state": {
      "_model_module": "@jupyter-widgets/base",
      "_model_module_version": "1.2.0",
      "_model_name": "LayoutModel",
      "_view_count": null,
      "_view_module": "@jupyter-widgets/base",
      "_view_module_version": "1.2.0",
      "_view_name": "LayoutView",
      "align_content": null,
      "align_items": null,
      "align_self": null,
      "border": null,
      "bottom": null,
      "display": null,
      "flex": null,
      "flex_flow": null,
      "grid_area": null,
      "grid_auto_columns": null,
      "grid_auto_flow": null,
      "grid_auto_rows": null,
      "grid_column": null,
      "grid_gap": null,
      "grid_row": null,
      "grid_template_areas": null,
      "grid_template_columns": null,
      "grid_template_rows": null,
      "height": null,
      "justify_content": null,
      "justify_items": null,
      "left": null,
      "margin": null,
      "max_height": null,
      "max_width": null,
      "min_height": null,
      "min_width": null,
      "object_fit": null,
      "object_position": null,
      "order": null,
      "overflow": null,
      "overflow_x": null,
      "overflow_y": null,
      "padding": null,
      "right": null,
      "top": null,
      "visibility": null,
      "width": null
     }
    },
    "8312250db78d48c3894cfc9f8f71f15b": {
     "model_module": "@jupyter-widgets/controls",
     "model_module_version": "1.5.0",
     "model_name": "HBoxModel",
     "state": {
      "_dom_classes": [],
      "_model_module": "@jupyter-widgets/controls",
      "_model_module_version": "1.5.0",
      "_model_name": "HBoxModel",
      "_view_count": null,
      "_view_module": "@jupyter-widgets/controls",
      "_view_module_version": "1.5.0",
      "_view_name": "HBoxView",
      "box_style": "",
      "children": [
       "IPY_MODEL_e6805b028a39416e9a9c923053b14d9e",
       "IPY_MODEL_41543259a5c3435abc7fbe25372fa7ae",
       "IPY_MODEL_cd55c0cf9e314be8b0fa1fa00e5bef79"
      ],
      "layout": "IPY_MODEL_f7b43e1b4c1c4749bf08c826252d8179"
     }
    },
    "8365cbdbc244466a98f1c89503018432": {
     "model_module": "@jupyter-widgets/base",
     "model_module_version": "1.2.0",
     "model_name": "LayoutModel",
     "state": {
      "_model_module": "@jupyter-widgets/base",
      "_model_module_version": "1.2.0",
      "_model_name": "LayoutModel",
      "_view_count": null,
      "_view_module": "@jupyter-widgets/base",
      "_view_module_version": "1.2.0",
      "_view_name": "LayoutView",
      "align_content": null,
      "align_items": null,
      "align_self": null,
      "border": null,
      "bottom": null,
      "display": null,
      "flex": null,
      "flex_flow": null,
      "grid_area": null,
      "grid_auto_columns": null,
      "grid_auto_flow": null,
      "grid_auto_rows": null,
      "grid_column": null,
      "grid_gap": null,
      "grid_row": null,
      "grid_template_areas": null,
      "grid_template_columns": null,
      "grid_template_rows": null,
      "height": null,
      "justify_content": null,
      "justify_items": null,
      "left": null,
      "margin": null,
      "max_height": null,
      "max_width": null,
      "min_height": null,
      "min_width": null,
      "object_fit": null,
      "object_position": null,
      "order": null,
      "overflow": null,
      "overflow_x": null,
      "overflow_y": null,
      "padding": null,
      "right": null,
      "top": null,
      "visibility": null,
      "width": null
     }
    },
    "8748f60cab334bb3b63c871f5409d491": {
     "model_module": "@jupyter-widgets/base",
     "model_module_version": "1.2.0",
     "model_name": "LayoutModel",
     "state": {
      "_model_module": "@jupyter-widgets/base",
      "_model_module_version": "1.2.0",
      "_model_name": "LayoutModel",
      "_view_count": null,
      "_view_module": "@jupyter-widgets/base",
      "_view_module_version": "1.2.0",
      "_view_name": "LayoutView",
      "align_content": null,
      "align_items": null,
      "align_self": null,
      "border": null,
      "bottom": null,
      "display": null,
      "flex": null,
      "flex_flow": null,
      "grid_area": null,
      "grid_auto_columns": null,
      "grid_auto_flow": null,
      "grid_auto_rows": null,
      "grid_column": null,
      "grid_gap": null,
      "grid_row": null,
      "grid_template_areas": null,
      "grid_template_columns": null,
      "grid_template_rows": null,
      "height": null,
      "justify_content": null,
      "justify_items": null,
      "left": null,
      "margin": null,
      "max_height": null,
      "max_width": null,
      "min_height": null,
      "min_width": null,
      "object_fit": null,
      "object_position": null,
      "order": null,
      "overflow": null,
      "overflow_x": null,
      "overflow_y": null,
      "padding": null,
      "right": null,
      "top": null,
      "visibility": null,
      "width": null
     }
    },
    "8bc4497cbffb432fbd387397826d4426": {
     "model_module": "@jupyter-widgets/controls",
     "model_module_version": "1.5.0",
     "model_name": "ProgressStyleModel",
     "state": {
      "_model_module": "@jupyter-widgets/controls",
      "_model_module_version": "1.5.0",
      "_model_name": "ProgressStyleModel",
      "_view_count": null,
      "_view_module": "@jupyter-widgets/base",
      "_view_module_version": "1.2.0",
      "_view_name": "StyleView",
      "bar_color": null,
      "description_width": ""
     }
    },
    "911baa69d28444d384eb2059af70370d": {
     "model_module": "@jupyter-widgets/base",
     "model_module_version": "1.2.0",
     "model_name": "LayoutModel",
     "state": {
      "_model_module": "@jupyter-widgets/base",
      "_model_module_version": "1.2.0",
      "_model_name": "LayoutModel",
      "_view_count": null,
      "_view_module": "@jupyter-widgets/base",
      "_view_module_version": "1.2.0",
      "_view_name": "LayoutView",
      "align_content": null,
      "align_items": null,
      "align_self": null,
      "border": null,
      "bottom": null,
      "display": null,
      "flex": null,
      "flex_flow": null,
      "grid_area": null,
      "grid_auto_columns": null,
      "grid_auto_flow": null,
      "grid_auto_rows": null,
      "grid_column": null,
      "grid_gap": null,
      "grid_row": null,
      "grid_template_areas": null,
      "grid_template_columns": null,
      "grid_template_rows": null,
      "height": null,
      "justify_content": null,
      "justify_items": null,
      "left": null,
      "margin": null,
      "max_height": null,
      "max_width": null,
      "min_height": null,
      "min_width": null,
      "object_fit": null,
      "object_position": null,
      "order": null,
      "overflow": null,
      "overflow_x": null,
      "overflow_y": null,
      "padding": null,
      "right": null,
      "top": null,
      "visibility": null,
      "width": null
     }
    },
    "920c14a9c1084ed885b79183da6e8775": {
     "model_module": "@jupyter-widgets/controls",
     "model_module_version": "1.5.0",
     "model_name": "DescriptionStyleModel",
     "state": {
      "_model_module": "@jupyter-widgets/controls",
      "_model_module_version": "1.5.0",
      "_model_name": "DescriptionStyleModel",
      "_view_count": null,
      "_view_module": "@jupyter-widgets/base",
      "_view_module_version": "1.2.0",
      "_view_name": "StyleView",
      "description_width": ""
     }
    },
    "931f0d53b676434a989feded59cdb8d1": {
     "model_module": "@jupyter-widgets/controls",
     "model_module_version": "1.5.0",
     "model_name": "DescriptionStyleModel",
     "state": {
      "_model_module": "@jupyter-widgets/controls",
      "_model_module_version": "1.5.0",
      "_model_name": "DescriptionStyleModel",
      "_view_count": null,
      "_view_module": "@jupyter-widgets/base",
      "_view_module_version": "1.2.0",
      "_view_name": "StyleView",
      "description_width": ""
     }
    },
    "9544a2844c5a468ba85c08a1169915e1": {
     "model_module": "@jupyter-widgets/controls",
     "model_module_version": "1.5.0",
     "model_name": "HTMLModel",
     "state": {
      "_dom_classes": [],
      "_model_module": "@jupyter-widgets/controls",
      "_model_module_version": "1.5.0",
      "_model_name": "HTMLModel",
      "_view_count": null,
      "_view_module": "@jupyter-widgets/controls",
      "_view_module_version": "1.5.0",
      "_view_name": "HTMLView",
      "description": "",
      "description_tooltip": null,
      "layout": "IPY_MODEL_ed631fd445a14aa3898639cffe042f7f",
      "placeholder": "​",
      "style": "IPY_MODEL_4ab580d0b0a34b64acc5af445b2aa18f",
      "value": "generation_config.json: 100%"
     }
    },
    "994d3eb2f7d948798f8fc88ad50ca4ca": {
     "model_module": "@jupyter-widgets/controls",
     "model_module_version": "1.5.0",
     "model_name": "ProgressStyleModel",
     "state": {
      "_model_module": "@jupyter-widgets/controls",
      "_model_module_version": "1.5.0",
      "_model_name": "ProgressStyleModel",
      "_view_count": null,
      "_view_module": "@jupyter-widgets/base",
      "_view_module_version": "1.2.0",
      "_view_name": "StyleView",
      "bar_color": null,
      "description_width": ""
     }
    },
    "9d27ab6c329a42f4b0490e1ac61adba1": {
     "model_module": "@jupyter-widgets/controls",
     "model_module_version": "1.5.0",
     "model_name": "ProgressStyleModel",
     "state": {
      "_model_module": "@jupyter-widgets/controls",
      "_model_module_version": "1.5.0",
      "_model_name": "ProgressStyleModel",
      "_view_count": null,
      "_view_module": "@jupyter-widgets/base",
      "_view_module_version": "1.2.0",
      "_view_name": "StyleView",
      "bar_color": null,
      "description_width": ""
     }
    },
    "a38db2a91a5b4300b315bd727771b9e7": {
     "model_module": "@jupyter-widgets/base",
     "model_module_version": "1.2.0",
     "model_name": "LayoutModel",
     "state": {
      "_model_module": "@jupyter-widgets/base",
      "_model_module_version": "1.2.0",
      "_model_name": "LayoutModel",
      "_view_count": null,
      "_view_module": "@jupyter-widgets/base",
      "_view_module_version": "1.2.0",
      "_view_name": "LayoutView",
      "align_content": null,
      "align_items": null,
      "align_self": null,
      "border": null,
      "bottom": null,
      "display": null,
      "flex": null,
      "flex_flow": null,
      "grid_area": null,
      "grid_auto_columns": null,
      "grid_auto_flow": null,
      "grid_auto_rows": null,
      "grid_column": null,
      "grid_gap": null,
      "grid_row": null,
      "grid_template_areas": null,
      "grid_template_columns": null,
      "grid_template_rows": null,
      "height": null,
      "justify_content": null,
      "justify_items": null,
      "left": null,
      "margin": null,
      "max_height": null,
      "max_width": null,
      "min_height": null,
      "min_width": null,
      "object_fit": null,
      "object_position": null,
      "order": null,
      "overflow": null,
      "overflow_x": null,
      "overflow_y": null,
      "padding": null,
      "right": null,
      "top": null,
      "visibility": null,
      "width": null
     }
    },
    "aa59df3a1a8740e4af1071e0ab9b6ae7": {
     "model_module": "@jupyter-widgets/controls",
     "model_module_version": "1.5.0",
     "model_name": "DescriptionStyleModel",
     "state": {
      "_model_module": "@jupyter-widgets/controls",
      "_model_module_version": "1.5.0",
      "_model_name": "DescriptionStyleModel",
      "_view_count": null,
      "_view_module": "@jupyter-widgets/base",
      "_view_module_version": "1.2.0",
      "_view_name": "StyleView",
      "description_width": ""
     }
    },
    "b0503b40e7084c9bacba1aa14f52c258": {
     "model_module": "@jupyter-widgets/controls",
     "model_module_version": "1.5.0",
     "model_name": "HTMLModel",
     "state": {
      "_dom_classes": [],
      "_model_module": "@jupyter-widgets/controls",
      "_model_module_version": "1.5.0",
      "_model_name": "HTMLModel",
      "_view_count": null,
      "_view_module": "@jupyter-widgets/controls",
      "_view_module_version": "1.5.0",
      "_view_name": "HTMLView",
      "description": "",
      "description_tooltip": null,
      "layout": "IPY_MODEL_0d78ea1c93b044b68d8ef2d0c52193af",
      "placeholder": "​",
      "style": "IPY_MODEL_aa59df3a1a8740e4af1071e0ab9b6ae7",
      "value": "100%"
     }
    },
    "bcc94aa80a3349b385d4536c086effc2": {
     "model_module": "@jupyter-widgets/controls",
     "model_module_version": "1.5.0",
     "model_name": "HBoxModel",
     "state": {
      "_dom_classes": [],
      "_model_module": "@jupyter-widgets/controls",
      "_model_module_version": "1.5.0",
      "_model_name": "HBoxModel",
      "_view_count": null,
      "_view_module": "@jupyter-widgets/controls",
      "_view_module_version": "1.5.0",
      "_view_name": "HBoxView",
      "box_style": "",
      "children": [
       "IPY_MODEL_1af2ca950e054d2b923c8530e9f7428f",
       "IPY_MODEL_ea0d2a7f37c94a1c9978afb6bf2f7bc9",
       "IPY_MODEL_ce67f4687a2c4f74ab050406b52f700e"
      ],
      "layout": "IPY_MODEL_05018716f4e64099b3264c2d3368bba7"
     }
    },
    "bd2a498c4e8e4dbeb039ef8a96683382": {
     "model_module": "@jupyter-widgets/controls",
     "model_module_version": "1.5.0",
     "model_name": "HTMLModel",
     "state": {
      "_dom_classes": [],
      "_model_module": "@jupyter-widgets/controls",
      "_model_module_version": "1.5.0",
      "_model_name": "HTMLModel",
      "_view_count": null,
      "_view_module": "@jupyter-widgets/controls",
      "_view_module_version": "1.5.0",
      "_view_name": "HTMLView",
      "description": "",
      "description_tooltip": null,
      "layout": "IPY_MODEL_e788b7dd30a9414fb89e3059c21861d7",
      "placeholder": "​",
      "style": "IPY_MODEL_6e1e3d81a42a4557bd0178653e66b40d",
      "value": " 11102/100000 [00:10&lt;00:19, 4452.28it/s]"
     }
    },
    "be414608ac174d3aa90009bf597da111": {
     "model_module": "@jupyter-widgets/base",
     "model_module_version": "1.2.0",
     "model_name": "LayoutModel",
     "state": {
      "_model_module": "@jupyter-widgets/base",
      "_model_module_version": "1.2.0",
      "_model_name": "LayoutModel",
      "_view_count": null,
      "_view_module": "@jupyter-widgets/base",
      "_view_module_version": "1.2.0",
      "_view_name": "LayoutView",
      "align_content": null,
      "align_items": null,
      "align_self": null,
      "border": null,
      "bottom": null,
      "display": null,
      "flex": null,
      "flex_flow": null,
      "grid_area": null,
      "grid_auto_columns": null,
      "grid_auto_flow": null,
      "grid_auto_rows": null,
      "grid_column": null,
      "grid_gap": null,
      "grid_row": null,
      "grid_template_areas": null,
      "grid_template_columns": null,
      "grid_template_rows": null,
      "height": null,
      "justify_content": null,
      "justify_items": null,
      "left": null,
      "margin": null,
      "max_height": null,
      "max_width": null,
      "min_height": null,
      "min_width": null,
      "object_fit": null,
      "object_position": null,
      "order": null,
      "overflow": null,
      "overflow_x": null,
      "overflow_y": null,
      "padding": null,
      "right": null,
      "top": null,
      "visibility": null,
      "width": null
     }
    },
    "be9bc67dfa154dcd91c9041297754da4": {
     "model_module": "@jupyter-widgets/controls",
     "model_module_version": "1.5.0",
     "model_name": "ProgressStyleModel",
     "state": {
      "_model_module": "@jupyter-widgets/controls",
      "_model_module_version": "1.5.0",
      "_model_name": "ProgressStyleModel",
      "_view_count": null,
      "_view_module": "@jupyter-widgets/base",
      "_view_module_version": "1.2.0",
      "_view_name": "StyleView",
      "bar_color": null,
      "description_width": ""
     }
    },
    "bfd42b6b4734492fb1df1e4b55f90f3f": {
     "model_module": "@jupyter-widgets/base",
     "model_module_version": "1.2.0",
     "model_name": "LayoutModel",
     "state": {
      "_model_module": "@jupyter-widgets/base",
      "_model_module_version": "1.2.0",
      "_model_name": "LayoutModel",
      "_view_count": null,
      "_view_module": "@jupyter-widgets/base",
      "_view_module_version": "1.2.0",
      "_view_name": "LayoutView",
      "align_content": null,
      "align_items": null,
      "align_self": null,
      "border": null,
      "bottom": null,
      "display": null,
      "flex": null,
      "flex_flow": null,
      "grid_area": null,
      "grid_auto_columns": null,
      "grid_auto_flow": null,
      "grid_auto_rows": null,
      "grid_column": null,
      "grid_gap": null,
      "grid_row": null,
      "grid_template_areas": null,
      "grid_template_columns": null,
      "grid_template_rows": null,
      "height": null,
      "justify_content": null,
      "justify_items": null,
      "left": null,
      "margin": null,
      "max_height": null,
      "max_width": null,
      "min_height": null,
      "min_width": null,
      "object_fit": null,
      "object_position": null,
      "order": null,
      "overflow": null,
      "overflow_x": null,
      "overflow_y": null,
      "padding": null,
      "right": null,
      "top": null,
      "visibility": null,
      "width": null
     }
    },
    "c1e75ac35bd24e15af782066a77daaa6": {
     "model_module": "@jupyter-widgets/base",
     "model_module_version": "1.2.0",
     "model_name": "LayoutModel",
     "state": {
      "_model_module": "@jupyter-widgets/base",
      "_model_module_version": "1.2.0",
      "_model_name": "LayoutModel",
      "_view_count": null,
      "_view_module": "@jupyter-widgets/base",
      "_view_module_version": "1.2.0",
      "_view_name": "LayoutView",
      "align_content": null,
      "align_items": null,
      "align_self": null,
      "border": null,
      "bottom": null,
      "display": null,
      "flex": null,
      "flex_flow": null,
      "grid_area": null,
      "grid_auto_columns": null,
      "grid_auto_flow": null,
      "grid_auto_rows": null,
      "grid_column": null,
      "grid_gap": null,
      "grid_row": null,
      "grid_template_areas": null,
      "grid_template_columns": null,
      "grid_template_rows": null,
      "height": null,
      "justify_content": null,
      "justify_items": null,
      "left": null,
      "margin": null,
      "max_height": null,
      "max_width": null,
      "min_height": null,
      "min_width": null,
      "object_fit": null,
      "object_position": null,
      "order": null,
      "overflow": null,
      "overflow_x": null,
      "overflow_y": null,
      "padding": null,
      "right": null,
      "top": null,
      "visibility": null,
      "width": null
     }
    },
    "c45d905326984d65811f8e93276cb0e3": {
     "model_module": "@jupyter-widgets/controls",
     "model_module_version": "1.5.0",
     "model_name": "ProgressStyleModel",
     "state": {
      "_model_module": "@jupyter-widgets/controls",
      "_model_module_version": "1.5.0",
      "_model_name": "ProgressStyleModel",
      "_view_count": null,
      "_view_module": "@jupyter-widgets/base",
      "_view_module_version": "1.2.0",
      "_view_name": "StyleView",
      "bar_color": null,
      "description_width": ""
     }
    },
    "c607f0f823ac4dc8a0c22e10277c7f30": {
     "model_module": "@jupyter-widgets/controls",
     "model_module_version": "1.5.0",
     "model_name": "DescriptionStyleModel",
     "state": {
      "_model_module": "@jupyter-widgets/controls",
      "_model_module_version": "1.5.0",
      "_model_name": "DescriptionStyleModel",
      "_view_count": null,
      "_view_module": "@jupyter-widgets/base",
      "_view_module_version": "1.2.0",
      "_view_name": "StyleView",
      "description_width": ""
     }
    },
    "cd55c0cf9e314be8b0fa1fa00e5bef79": {
     "model_module": "@jupyter-widgets/controls",
     "model_module_version": "1.5.0",
     "model_name": "HTMLModel",
     "state": {
      "_dom_classes": [],
      "_model_module": "@jupyter-widgets/controls",
      "_model_module_version": "1.5.0",
      "_model_name": "HTMLModel",
      "_view_count": null,
      "_view_module": "@jupyter-widgets/controls",
      "_view_module_version": "1.5.0",
      "_view_name": "HTMLView",
      "description": "",
      "description_tooltip": null,
      "layout": "IPY_MODEL_79ffa1f9b8c3438a8b89ea3dbbd9a4c8",
      "placeholder": "​",
      "style": "IPY_MODEL_f7c47aadd42140d8b0cf69737e493772",
      "value": " 81146/81146 [00:15&lt;00:00, 2627.71it/s]"
     }
    },
    "ce67f4687a2c4f74ab050406b52f700e": {
     "model_module": "@jupyter-widgets/controls",
     "model_module_version": "1.5.0",
     "model_name": "HTMLModel",
     "state": {
      "_dom_classes": [],
      "_model_module": "@jupyter-widgets/controls",
      "_model_module_version": "1.5.0",
      "_model_name": "HTMLModel",
      "_view_count": null,
      "_view_module": "@jupyter-widgets/controls",
      "_view_module_version": "1.5.0",
      "_view_name": "HTMLView",
      "description": "",
      "description_tooltip": null,
      "layout": "IPY_MODEL_2d5ad29e0c3b4defb438ecd7d6b927c4",
      "placeholder": "​",
      "style": "IPY_MODEL_7cbdd8a16a7d4fac932c6799a33e167a",
      "value": " 11102/11102 [00:33&lt;00:00, 943.56it/s]"
     }
    },
    "d01b74364440424c9096c04a7530751c": {
     "model_module": "@jupyter-widgets/controls",
     "model_module_version": "1.5.0",
     "model_name": "FloatProgressModel",
     "state": {
      "_dom_classes": [],
      "_model_module": "@jupyter-widgets/controls",
      "_model_module_version": "1.5.0",
      "_model_name": "FloatProgressModel",
      "_view_count": null,
      "_view_module": "@jupyter-widgets/controls",
      "_view_module_version": "1.5.0",
      "_view_name": "ProgressView",
      "bar_style": "success",
      "description": "",
      "description_tooltip": null,
      "layout": "IPY_MODEL_6a7bdc47f1db401f9ac94bff4c906f43",
      "max": 81146,
      "min": 0,
      "orientation": "horizontal",
      "style": "IPY_MODEL_8bc4497cbffb432fbd387397826d4426",
      "value": 81146
     }
    },
    "d54b1154524843e1a4a71ddf7a353920": {
     "model_module": "@jupyter-widgets/controls",
     "model_module_version": "1.5.0",
     "model_name": "DescriptionStyleModel",
     "state": {
      "_model_module": "@jupyter-widgets/controls",
      "_model_module_version": "1.5.0",
      "_model_name": "DescriptionStyleModel",
      "_view_count": null,
      "_view_module": "@jupyter-widgets/base",
      "_view_module_version": "1.2.0",
      "_view_name": "StyleView",
      "description_width": ""
     }
    },
    "d8c3f51721ae4bedb97b1466988bf613": {
     "model_module": "@jupyter-widgets/controls",
     "model_module_version": "1.5.0",
     "model_name": "HTMLModel",
     "state": {
      "_dom_classes": [],
      "_model_module": "@jupyter-widgets/controls",
      "_model_module_version": "1.5.0",
      "_model_name": "HTMLModel",
      "_view_count": null,
      "_view_module": "@jupyter-widgets/controls",
      "_view_module_version": "1.5.0",
      "_view_name": "HTMLView",
      "description": "",
      "description_tooltip": null,
      "layout": "IPY_MODEL_be414608ac174d3aa90009bf597da111",
      "placeholder": "​",
      "style": "IPY_MODEL_5b0f171d3bbf4453800c1d015ecf4383",
      "value": "100%"
     }
    },
    "da8f6cd4c3bb4099926e8947e4f289e0": {
     "model_module": "@jupyter-widgets/base",
     "model_module_version": "1.2.0",
     "model_name": "LayoutModel",
     "state": {
      "_model_module": "@jupyter-widgets/base",
      "_model_module_version": "1.2.0",
      "_model_name": "LayoutModel",
      "_view_count": null,
      "_view_module": "@jupyter-widgets/base",
      "_view_module_version": "1.2.0",
      "_view_name": "LayoutView",
      "align_content": null,
      "align_items": null,
      "align_self": null,
      "border": null,
      "bottom": null,
      "display": null,
      "flex": null,
      "flex_flow": null,
      "grid_area": null,
      "grid_auto_columns": null,
      "grid_auto_flow": null,
      "grid_auto_rows": null,
      "grid_column": null,
      "grid_gap": null,
      "grid_row": null,
      "grid_template_areas": null,
      "grid_template_columns": null,
      "grid_template_rows": null,
      "height": null,
      "justify_content": null,
      "justify_items": null,
      "left": null,
      "margin": null,
      "max_height": null,
      "max_width": null,
      "min_height": null,
      "min_width": null,
      "object_fit": null,
      "object_position": null,
      "order": null,
      "overflow": null,
      "overflow_x": null,
      "overflow_y": null,
      "padding": null,
      "right": null,
      "top": null,
      "visibility": null,
      "width": null
     }
    },
    "dcd6ea754c954290878b400016779368": {
     "model_module": "@jupyter-widgets/base",
     "model_module_version": "1.2.0",
     "model_name": "LayoutModel",
     "state": {
      "_model_module": "@jupyter-widgets/base",
      "_model_module_version": "1.2.0",
      "_model_name": "LayoutModel",
      "_view_count": null,
      "_view_module": "@jupyter-widgets/base",
      "_view_module_version": "1.2.0",
      "_view_name": "LayoutView",
      "align_content": null,
      "align_items": null,
      "align_self": null,
      "border": null,
      "bottom": null,
      "display": null,
      "flex": null,
      "flex_flow": null,
      "grid_area": null,
      "grid_auto_columns": null,
      "grid_auto_flow": null,
      "grid_auto_rows": null,
      "grid_column": null,
      "grid_gap": null,
      "grid_row": null,
      "grid_template_areas": null,
      "grid_template_columns": null,
      "grid_template_rows": null,
      "height": null,
      "justify_content": null,
      "justify_items": null,
      "left": null,
      "margin": null,
      "max_height": null,
      "max_width": null,
      "min_height": null,
      "min_width": null,
      "object_fit": null,
      "object_position": null,
      "order": null,
      "overflow": null,
      "overflow_x": null,
      "overflow_y": null,
      "padding": null,
      "right": null,
      "top": null,
      "visibility": null,
      "width": null
     }
    },
    "e2910a2074b549fc80bc23ed763a941e": {
     "model_module": "@jupyter-widgets/controls",
     "model_module_version": "1.5.0",
     "model_name": "ProgressStyleModel",
     "state": {
      "_model_module": "@jupyter-widgets/controls",
      "_model_module_version": "1.5.0",
      "_model_name": "ProgressStyleModel",
      "_view_count": null,
      "_view_module": "@jupyter-widgets/base",
      "_view_module_version": "1.2.0",
      "_view_name": "StyleView",
      "bar_color": null,
      "description_width": ""
     }
    },
    "e6545067ba414a279e96a12d215988da": {
     "model_module": "@jupyter-widgets/base",
     "model_module_version": "1.2.0",
     "model_name": "LayoutModel",
     "state": {
      "_model_module": "@jupyter-widgets/base",
      "_model_module_version": "1.2.0",
      "_model_name": "LayoutModel",
      "_view_count": null,
      "_view_module": "@jupyter-widgets/base",
      "_view_module_version": "1.2.0",
      "_view_name": "LayoutView",
      "align_content": null,
      "align_items": null,
      "align_self": null,
      "border": null,
      "bottom": null,
      "display": null,
      "flex": null,
      "flex_flow": null,
      "grid_area": null,
      "grid_auto_columns": null,
      "grid_auto_flow": null,
      "grid_auto_rows": null,
      "grid_column": null,
      "grid_gap": null,
      "grid_row": null,
      "grid_template_areas": null,
      "grid_template_columns": null,
      "grid_template_rows": null,
      "height": null,
      "justify_content": null,
      "justify_items": null,
      "left": null,
      "margin": null,
      "max_height": null,
      "max_width": null,
      "min_height": null,
      "min_width": null,
      "object_fit": null,
      "object_position": null,
      "order": null,
      "overflow": null,
      "overflow_x": null,
      "overflow_y": null,
      "padding": null,
      "right": null,
      "top": null,
      "visibility": null,
      "width": null
     }
    },
    "e6805b028a39416e9a9c923053b14d9e": {
     "model_module": "@jupyter-widgets/controls",
     "model_module_version": "1.5.0",
     "model_name": "HTMLModel",
     "state": {
      "_dom_classes": [],
      "_model_module": "@jupyter-widgets/controls",
      "_model_module_version": "1.5.0",
      "_model_name": "HTMLModel",
      "_view_count": null,
      "_view_module": "@jupyter-widgets/controls",
      "_view_module_version": "1.5.0",
      "_view_name": "HTMLView",
      "description": "",
      "description_tooltip": null,
      "layout": "IPY_MODEL_8365cbdbc244466a98f1c89503018432",
      "placeholder": "​",
      "style": "IPY_MODEL_0ddc1b7014874e8cbb9dcb21390fe717",
      "value": "100%"
     }
    },
    "e788b7dd30a9414fb89e3059c21861d7": {
     "model_module": "@jupyter-widgets/base",
     "model_module_version": "1.2.0",
     "model_name": "LayoutModel",
     "state": {
      "_model_module": "@jupyter-widgets/base",
      "_model_module_version": "1.2.0",
      "_model_name": "LayoutModel",
      "_view_count": null,
      "_view_module": "@jupyter-widgets/base",
      "_view_module_version": "1.2.0",
      "_view_name": "LayoutView",
      "align_content": null,
      "align_items": null,
      "align_self": null,
      "border": null,
      "bottom": null,
      "display": null,
      "flex": null,
      "flex_flow": null,
      "grid_area": null,
      "grid_auto_columns": null,
      "grid_auto_flow": null,
      "grid_auto_rows": null,
      "grid_column": null,
      "grid_gap": null,
      "grid_row": null,
      "grid_template_areas": null,
      "grid_template_columns": null,
      "grid_template_rows": null,
      "height": null,
      "justify_content": null,
      "justify_items": null,
      "left": null,
      "margin": null,
      "max_height": null,
      "max_width": null,
      "min_height": null,
      "min_width": null,
      "object_fit": null,
      "object_position": null,
      "order": null,
      "overflow": null,
      "overflow_x": null,
      "overflow_y": null,
      "padding": null,
      "right": null,
      "top": null,
      "visibility": null,
      "width": null
     }
    },
    "e894031583f34fccad6d443836c73c41": {
     "model_module": "@jupyter-widgets/controls",
     "model_module_version": "1.5.0",
     "model_name": "FloatProgressModel",
     "state": {
      "_dom_classes": [],
      "_model_module": "@jupyter-widgets/controls",
      "_model_module_version": "1.5.0",
      "_model_name": "FloatProgressModel",
      "_view_count": null,
      "_view_module": "@jupyter-widgets/controls",
      "_view_module_version": "1.5.0",
      "_view_name": "ProgressView",
      "bar_style": "success",
      "description": "",
      "description_tooltip": null,
      "layout": "IPY_MODEL_65e48db7e3b2421eb8cb6a1725aa35c7",
      "max": 81146,
      "min": 0,
      "orientation": "horizontal",
      "style": "IPY_MODEL_9d27ab6c329a42f4b0490e1ac61adba1",
      "value": 81146
     }
    },
    "ea0d2a7f37c94a1c9978afb6bf2f7bc9": {
     "model_module": "@jupyter-widgets/controls",
     "model_module_version": "1.5.0",
     "model_name": "FloatProgressModel",
     "state": {
      "_dom_classes": [],
      "_model_module": "@jupyter-widgets/controls",
      "_model_module_version": "1.5.0",
      "_model_name": "FloatProgressModel",
      "_view_count": null,
      "_view_module": "@jupyter-widgets/controls",
      "_view_module_version": "1.5.0",
      "_view_name": "ProgressView",
      "bar_style": "success",
      "description": "",
      "description_tooltip": null,
      "layout": "IPY_MODEL_8748f60cab334bb3b63c871f5409d491",
      "max": 11102,
      "min": 0,
      "orientation": "horizontal",
      "style": "IPY_MODEL_379f256feffc43e2b348741c55d7202c",
      "value": 11102
     }
    },
    "eae7a46541dd489c87542ff2970dbe7a": {
     "model_module": "@jupyter-widgets/controls",
     "model_module_version": "1.5.0",
     "model_name": "HTMLModel",
     "state": {
      "_dom_classes": [],
      "_model_module": "@jupyter-widgets/controls",
      "_model_module_version": "1.5.0",
      "_model_name": "HTMLModel",
      "_view_count": null,
      "_view_module": "@jupyter-widgets/controls",
      "_view_module_version": "1.5.0",
      "_view_name": "HTMLView",
      "description": "",
      "description_tooltip": null,
      "layout": "IPY_MODEL_da8f6cd4c3bb4099926e8947e4f289e0",
      "placeholder": "​",
      "style": "IPY_MODEL_c607f0f823ac4dc8a0c22e10277c7f30",
      "value": " 81146/81146 [00:04&lt;00:00, 12956.67it/s]"
     }
    },
    "ec361ea3b6b042329f90bd4752e253e7": {
     "model_module": "@jupyter-widgets/controls",
     "model_module_version": "1.5.0",
     "model_name": "FloatProgressModel",
     "state": {
      "_dom_classes": [],
      "_model_module": "@jupyter-widgets/controls",
      "_model_module_version": "1.5.0",
      "_model_name": "FloatProgressModel",
      "_view_count": null,
      "_view_module": "@jupyter-widgets/controls",
      "_view_module_version": "1.5.0",
      "_view_name": "ProgressView",
      "bar_style": "success",
      "description": "",
      "description_tooltip": null,
      "layout": "IPY_MODEL_1a6de7e7c9d64101bdf659df274f0bfa",
      "max": 261,
      "min": 0,
      "orientation": "horizontal",
      "style": "IPY_MODEL_3b351867c0db40b1acb973253e911073",
      "value": 261
     }
    },
    "ed631fd445a14aa3898639cffe042f7f": {
     "model_module": "@jupyter-widgets/base",
     "model_module_version": "1.2.0",
     "model_name": "LayoutModel",
     "state": {
      "_model_module": "@jupyter-widgets/base",
      "_model_module_version": "1.2.0",
      "_model_name": "LayoutModel",
      "_view_count": null,
      "_view_module": "@jupyter-widgets/base",
      "_view_module_version": "1.2.0",
      "_view_name": "LayoutView",
      "align_content": null,
      "align_items": null,
      "align_self": null,
      "border": null,
      "bottom": null,
      "display": null,
      "flex": null,
      "flex_flow": null,
      "grid_area": null,
      "grid_auto_columns": null,
      "grid_auto_flow": null,
      "grid_auto_rows": null,
      "grid_column": null,
      "grid_gap": null,
      "grid_row": null,
      "grid_template_areas": null,
      "grid_template_columns": null,
      "grid_template_rows": null,
      "height": null,
      "justify_content": null,
      "justify_items": null,
      "left": null,
      "margin": null,
      "max_height": null,
      "max_width": null,
      "min_height": null,
      "min_width": null,
      "object_fit": null,
      "object_position": null,
      "order": null,
      "overflow": null,
      "overflow_x": null,
      "overflow_y": null,
      "padding": null,
      "right": null,
      "top": null,
      "visibility": null,
      "width": null
     }
    },
    "efec8ca36e7b46e6b9e810d51964cf08": {
     "model_module": "@jupyter-widgets/base",
     "model_module_version": "1.2.0",
     "model_name": "LayoutModel",
     "state": {
      "_model_module": "@jupyter-widgets/base",
      "_model_module_version": "1.2.0",
      "_model_name": "LayoutModel",
      "_view_count": null,
      "_view_module": "@jupyter-widgets/base",
      "_view_module_version": "1.2.0",
      "_view_name": "LayoutView",
      "align_content": null,
      "align_items": null,
      "align_self": null,
      "border": null,
      "bottom": null,
      "display": null,
      "flex": null,
      "flex_flow": null,
      "grid_area": null,
      "grid_auto_columns": null,
      "grid_auto_flow": null,
      "grid_auto_rows": null,
      "grid_column": null,
      "grid_gap": null,
      "grid_row": null,
      "grid_template_areas": null,
      "grid_template_columns": null,
      "grid_template_rows": null,
      "height": null,
      "justify_content": null,
      "justify_items": null,
      "left": null,
      "margin": null,
      "max_height": null,
      "max_width": null,
      "min_height": null,
      "min_width": null,
      "object_fit": null,
      "object_position": null,
      "order": null,
      "overflow": null,
      "overflow_x": null,
      "overflow_y": null,
      "padding": null,
      "right": null,
      "top": null,
      "visibility": null,
      "width": null
     }
    },
    "f22f4d22e467409aab85da1123f78e96": {
     "model_module": "@jupyter-widgets/base",
     "model_module_version": "1.2.0",
     "model_name": "LayoutModel",
     "state": {
      "_model_module": "@jupyter-widgets/base",
      "_model_module_version": "1.2.0",
      "_model_name": "LayoutModel",
      "_view_count": null,
      "_view_module": "@jupyter-widgets/base",
      "_view_module_version": "1.2.0",
      "_view_name": "LayoutView",
      "align_content": null,
      "align_items": null,
      "align_self": null,
      "border": null,
      "bottom": null,
      "display": null,
      "flex": null,
      "flex_flow": null,
      "grid_area": null,
      "grid_auto_columns": null,
      "grid_auto_flow": null,
      "grid_auto_rows": null,
      "grid_column": null,
      "grid_gap": null,
      "grid_row": null,
      "grid_template_areas": null,
      "grid_template_columns": null,
      "grid_template_rows": null,
      "height": null,
      "justify_content": null,
      "justify_items": null,
      "left": null,
      "margin": null,
      "max_height": null,
      "max_width": null,
      "min_height": null,
      "min_width": null,
      "object_fit": null,
      "object_position": null,
      "order": null,
      "overflow": null,
      "overflow_x": null,
      "overflow_y": null,
      "padding": null,
      "right": null,
      "top": null,
      "visibility": null,
      "width": null
     }
    },
    "f3380b9b60fa4ba598261844907322ba": {
     "model_module": "@jupyter-widgets/controls",
     "model_module_version": "1.5.0",
     "model_name": "HBoxModel",
     "state": {
      "_dom_classes": [],
      "_model_module": "@jupyter-widgets/controls",
      "_model_module_version": "1.5.0",
      "_model_name": "HBoxModel",
      "_view_count": null,
      "_view_module": "@jupyter-widgets/controls",
      "_view_module_version": "1.5.0",
      "_view_name": "HBoxView",
      "box_style": "",
      "children": [
       "IPY_MODEL_f6815ae655dd4fd0a17fb283d0ed7bfe",
       "IPY_MODEL_33ba38307ae641fea72f0b9d66948664",
       "IPY_MODEL_78cf9b7483084991baf8e5a876b0f861"
      ],
      "layout": "IPY_MODEL_631ac94bc5894117b375dbb2da9faf78"
     }
    },
    "f6815ae655dd4fd0a17fb283d0ed7bfe": {
     "model_module": "@jupyter-widgets/controls",
     "model_module_version": "1.5.0",
     "model_name": "HTMLModel",
     "state": {
      "_dom_classes": [],
      "_model_module": "@jupyter-widgets/controls",
      "_model_module_version": "1.5.0",
      "_model_name": "HTMLModel",
      "_view_count": null,
      "_view_module": "@jupyter-widgets/controls",
      "_view_module_version": "1.5.0",
      "_view_name": "HTMLView",
      "description": "",
      "description_tooltip": null,
      "layout": "IPY_MODEL_dcd6ea754c954290878b400016779368",
      "placeholder": "​",
      "style": "IPY_MODEL_d54b1154524843e1a4a71ddf7a353920",
      "value": "model.safetensors: 100%"
     }
    },
    "f7b43e1b4c1c4749bf08c826252d8179": {
     "model_module": "@jupyter-widgets/base",
     "model_module_version": "1.2.0",
     "model_name": "LayoutModel",
     "state": {
      "_model_module": "@jupyter-widgets/base",
      "_model_module_version": "1.2.0",
      "_model_name": "LayoutModel",
      "_view_count": null,
      "_view_module": "@jupyter-widgets/base",
      "_view_module_version": "1.2.0",
      "_view_name": "LayoutView",
      "align_content": null,
      "align_items": null,
      "align_self": null,
      "border": null,
      "bottom": null,
      "display": null,
      "flex": null,
      "flex_flow": null,
      "grid_area": null,
      "grid_auto_columns": null,
      "grid_auto_flow": null,
      "grid_auto_rows": null,
      "grid_column": null,
      "grid_gap": null,
      "grid_row": null,
      "grid_template_areas": null,
      "grid_template_columns": null,
      "grid_template_rows": null,
      "height": null,
      "justify_content": null,
      "justify_items": null,
      "left": null,
      "margin": null,
      "max_height": null,
      "max_width": null,
      "min_height": null,
      "min_width": null,
      "object_fit": null,
      "object_position": null,
      "order": null,
      "overflow": null,
      "overflow_x": null,
      "overflow_y": null,
      "padding": null,
      "right": null,
      "top": null,
      "visibility": null,
      "width": null
     }
    },
    "f7c47aadd42140d8b0cf69737e493772": {
     "model_module": "@jupyter-widgets/controls",
     "model_module_version": "1.5.0",
     "model_name": "DescriptionStyleModel",
     "state": {
      "_model_module": "@jupyter-widgets/controls",
      "_model_module_version": "1.5.0",
      "_model_name": "DescriptionStyleModel",
      "_view_count": null,
      "_view_module": "@jupyter-widgets/base",
      "_view_module_version": "1.2.0",
      "_view_name": "StyleView",
      "description_width": ""
     }
    },
    "fac61f593407442a8eada07c12477aba": {
     "model_module": "@jupyter-widgets/controls",
     "model_module_version": "1.5.0",
     "model_name": "HTMLModel",
     "state": {
      "_dom_classes": [],
      "_model_module": "@jupyter-widgets/controls",
      "_model_module_version": "1.5.0",
      "_model_name": "HTMLModel",
      "_view_count": null,
      "_view_module": "@jupyter-widgets/controls",
      "_view_module_version": "1.5.0",
      "_view_name": "HTMLView",
      "description": "",
      "description_tooltip": null,
      "layout": "IPY_MODEL_794ca47b36964229bd130ee3e8181f30",
      "placeholder": "​",
      "style": "IPY_MODEL_5fc211341c0d4875842cf2a3957455aa",
      "value": " 81146/81146 [00:31&lt;00:00, 1159.43it/s]"
     }
    },
    "fd1423143aa345ee8041d5bf9481d88b": {
     "model_module": "@jupyter-widgets/controls",
     "model_module_version": "1.5.0",
     "model_name": "HBoxModel",
     "state": {
      "_dom_classes": [],
      "_model_module": "@jupyter-widgets/controls",
      "_model_module_version": "1.5.0",
      "_model_name": "HBoxModel",
      "_view_count": null,
      "_view_module": "@jupyter-widgets/controls",
      "_view_module_version": "1.5.0",
      "_view_name": "HBoxView",
      "box_style": "",
      "children": [
       "IPY_MODEL_9544a2844c5a468ba85c08a1169915e1",
       "IPY_MODEL_ec361ea3b6b042329f90bd4752e253e7",
       "IPY_MODEL_0c4315c20c6041e19e063916d008f008"
      ],
      "layout": "IPY_MODEL_f22f4d22e467409aab85da1123f78e96"
     }
    }
   }
  }
 },
 "nbformat": 4,
 "nbformat_minor": 4
}
