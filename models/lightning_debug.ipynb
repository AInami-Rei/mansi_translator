{
 "cells": [
  {
   "cell_type": "markdown",
   "id": "a902da7f-40bc-4f58-b5df-52128ef24c63",
   "metadata": {},
   "source": [
    "# Dependencies"
   ]
  },
  {
   "cell_type": "code",
   "execution_count": null,
   "id": "21caba21-8185-4648-8e3c-7971d74062dc",
   "metadata": {},
   "outputs": [],
   "source": [
    "!pip install pandas -q\n",
    "!pip install clearml -q\n",
    "!pip install lightning -q\n"
   ]
  },
  {
   "cell_type": "markdown",
   "id": "73197b77-aa1b-4520-9f0a-66af54a193cb",
   "metadata": {},
   "source": [
    "# Finetuning"
   ]
  },
  {
   "cell_type": "code",
   "execution_count": 11,
   "id": "31ab85f5-c6d8-4963-8e86-30c3e2923b85",
   "metadata": {},
   "outputs": [
    {
     "name": "stdout",
     "output_type": "stream",
     "text": [
      "\u001b[33mWARNING: Running pip as the 'root' user can result in broken permissions and conflicting behaviour with the system package manager. It is recommended to use a virtual environment instead: https://pip.pypa.io/warnings/venv\u001b[0m\u001b[33m\n",
      "\u001b[0m"
     ]
    }
   ],
   "source": [
    "!pip install -U -q 'jsonargparse[signatures]>=4.26.1'\n"
   ]
  },
  {
   "cell_type": "code",
   "execution_count": 28,
   "id": "e214517e-d7fd-4b4d-97ae-124a48198681",
   "metadata": {},
   "outputs": [
    {
     "name": "stdout",
     "output_type": "stream",
     "text": [
      "Thu Sep 12 14:32:38 2024       \n",
      "+-----------------------------------------------------------------------------------------+\n",
      "| NVIDIA-SMI 560.35.03              Driver Version: 560.35.03      CUDA Version: 12.6     |\n",
      "|-----------------------------------------+------------------------+----------------------+\n",
      "| GPU  Name                 Persistence-M | Bus-Id          Disp.A | Volatile Uncorr. ECC |\n",
      "| Fan  Temp   Perf          Pwr:Usage/Cap |           Memory-Usage | GPU-Util  Compute M. |\n",
      "|                                         |                        |               MIG M. |\n",
      "|=========================================+========================+======================|\n",
      "|   0  NVIDIA L40                     On  |   00000000:01:00.0 Off |                    0 |\n",
      "| N/A   37C    P8             37W /  300W |       1MiB /  46068MiB |      0%      Default |\n",
      "|                                         |                        |                  N/A |\n",
      "+-----------------------------------------+------------------------+----------------------+\n",
      "                                                                                         \n",
      "+-----------------------------------------------------------------------------------------+\n",
      "| Processes:                                                                              |\n",
      "|  GPU   GI   CI        PID   Type   Process name                              GPU Memory |\n",
      "|        ID   ID                                                               Usage      |\n",
      "|=========================================================================================|\n",
      "|  No running processes found                                                             |\n",
      "+-----------------------------------------------------------------------------------------+\n"
     ]
    }
   ],
   "source": [
    "!nvidia-smi\n"
   ]
  },
  {
   "cell_type": "code",
   "execution_count": 13,
   "id": "063b23f0-a925-4f55-9dd7-29c6e1a7ac9b",
   "metadata": {},
   "outputs": [
    {
     "name": "stdout",
     "output_type": "stream",
     "text": [
      "usage: finetune.py [-h] [-c CONFIG] [--print_config[=flags]]\n",
      "                   {fit,validate,test,predict} ...\n",
      "error: expected \"subcommand\" to be one of {fit,validate,test,predict}, but it was not provided.\n"
     ]
    }
   ],
   "source": [
    "!python3 finetune.py \\\n",
    "    --config /home/astikhono7/projects/clone-detection/configs/clone_detection_inference.yaml"
   ]
  },
  {
   "cell_type": "markdown",
   "id": "276bb609-7cf5-439e-acdb-94e09007425d",
   "metadata": {
    "jp-MarkdownHeadingCollapsed": true
   },
   "source": [
    "# Model debug\n"
   ]
  },
  {
   "cell_type": "code",
   "execution_count": 23,
   "id": "c4e7b4a5-9632-407c-b905-96a2b349b214",
   "metadata": {},
   "outputs": [
    {
     "name": "stdout",
     "output_type": "stream",
     "text": [
      "\u001b[33mWARNING: Running pip as the 'root' user can result in broken permissions and conflicting behaviour with the system package manager. It is recommended to use a virtual environment instead: https://pip.pypa.io/warnings/venv\u001b[0m\u001b[33m\n",
      "\u001b[0m"
     ]
    }
   ],
   "source": [
    "!pip install sentencepiece -q\n",
    "!pip install transformers\n"
   ]
  },
  {
   "cell_type": "code",
   "execution_count": 26,
   "id": "2ce03c82-0075-4f2c-949c-bbc887d72af9",
   "metadata": {},
   "outputs": [
    {
     "data": {
      "application/vnd.jupyter.widget-view+json": {
       "model_id": "916d4f70d5004b7498e722e6e3578c92",
       "version_major": 2,
       "version_minor": 0
      },
      "text/plain": [
       "tokenizer_config.json:   0%|          | 0.00/564 [00:00<?, ?B/s]"
      ]
     },
     "metadata": {},
     "output_type": "display_data"
    },
    {
     "data": {
      "application/vnd.jupyter.widget-view+json": {
       "model_id": "7a573e7c23b644468f4729c4367e977b",
       "version_major": 2,
       "version_minor": 0
      },
      "text/plain": [
       "sentencepiece.bpe.model:   0%|          | 0.00/4.85M [00:00<?, ?B/s]"
      ]
     },
     "metadata": {},
     "output_type": "display_data"
    },
    {
     "data": {
      "application/vnd.jupyter.widget-view+json": {
       "model_id": "c8f05ec1534041ac97c06a216d0bcad6",
       "version_major": 2,
       "version_minor": 0
      },
      "text/plain": [
       "tokenizer.json:   0%|          | 0.00/17.3M [00:00<?, ?B/s]"
      ]
     },
     "metadata": {},
     "output_type": "display_data"
    },
    {
     "data": {
      "application/vnd.jupyter.widget-view+json": {
       "model_id": "d9f8da399d884fa18671a306a33303ec",
       "version_major": 2,
       "version_minor": 0
      },
      "text/plain": [
       "special_tokens_map.json:   0%|          | 0.00/3.55k [00:00<?, ?B/s]"
      ]
     },
     "metadata": {},
     "output_type": "display_data"
    },
    {
     "name": "stderr",
     "output_type": "stream",
     "text": [
      "/opt/conda/lib/python3.11/site-packages/transformers/tokenization_utils_base.py:1601: FutureWarning: `clean_up_tokenization_spaces` was not set. It will be set to `True` by default. This behavior will be depracted in transformers v4.45, and will be then set to `False` by default. For more details check this issue: https://github.com/huggingface/transformers/issues/31884\n",
      "  warnings.warn(\n"
     ]
    }
   ],
   "source": [
    "from transformers import AutoTokenizer\n",
    "\n",
    "from tqdm import tqdm\n",
    "\n",
    "model_name = 'facebook/nllb-200-distilled-600M'\n",
    "\n",
    "# loading the tokenizers\n",
    "tokenizer = AutoTokenizer.from_pretrained(model_name)\n"
   ]
  },
  {
   "cell_type": "code",
   "execution_count": 27,
   "id": "5f6d135c-7eed-4ca6-8b5f-b6f76fab6c9a",
   "metadata": {},
   "outputs": [
    {
     "data": {
      "text/plain": [
       "1024"
      ]
     },
     "execution_count": 27,
     "metadata": {},
     "output_type": "execute_result"
    }
   ],
   "source": [
    "tokenizer.model_max_length\n"
   ]
  },
  {
   "cell_type": "markdown",
   "id": "fa2303cb-5ff4-41a9-83b3-1ec41f687ee0",
   "metadata": {
    "jp-MarkdownHeadingCollapsed": true
   },
   "source": [
    "# Data processing"
   ]
  },
  {
   "cell_type": "code",
   "execution_count": 8,
   "id": "ab75d440-6428-4204-82ca-bc10a048178f",
   "metadata": {},
   "outputs": [],
   "source": [
    "import pandas as pd\n",
    "\n",
    "main_mansi_corpus = pd.read_csv(\"/home/ai_talent_hub_hack_2024/overall_80K.csv\", index_col=\"Unnamed: 0\")\n"
   ]
  },
  {
   "cell_type": "code",
   "execution_count": 9,
   "id": "eb1b82e2-db0d-4763-ad95-4f5e74962291",
   "metadata": {},
   "outputs": [
    {
     "data": {
      "text/html": [
       "<div>\n",
       "<style scoped>\n",
       "    .dataframe tbody tr th:only-of-type {\n",
       "        vertical-align: middle;\n",
       "    }\n",
       "\n",
       "    .dataframe tbody tr th {\n",
       "        vertical-align: top;\n",
       "    }\n",
       "\n",
       "    .dataframe thead th {\n",
       "        text-align: right;\n",
       "    }\n",
       "</style>\n",
       "<table border=\"1\" class=\"dataframe\">\n",
       "  <thead>\n",
       "    <tr style=\"text-align: right;\">\n",
       "      <th></th>\n",
       "      <th>target</th>\n",
       "      <th>source</th>\n",
       "    </tr>\n",
       "  </thead>\n",
       "  <tbody>\n",
       "    <tr>\n",
       "      <th>0</th>\n",
       "      <td>Та пыгрисит маим вармаль э̄рнэ поратэт ат верм...</td>\n",
       "      <td>Те мальчики не выполнят задание в назначенный ...</td>\n",
       "    </tr>\n",
       "    <tr>\n",
       "      <th>1</th>\n",
       "      <td>Ха̄йтыматэ тӯр ва̄тан ёхтыс, вит ва̄тан ха̄йтыс.</td>\n",
       "      <td>Бегая к берегу озера пришла, к воде подбежала.</td>\n",
       "    </tr>\n",
       "    <tr>\n",
       "      <th>2</th>\n",
       "      <td>Вит са̄мыл сунсым о̄нтыс</td>\n",
       "      <td>Вода прибывала на глазах</td>\n",
       "    </tr>\n",
       "    <tr>\n",
       "      <th>3</th>\n",
       "      <td>Атаявев, акваг лылынг тагл ворн та тотавев.</td>\n",
       "      <td>Обнюхивает нас, живыми на кладбище уносит.</td>\n",
       "    </tr>\n",
       "    <tr>\n",
       "      <th>4</th>\n",
       "      <td>Ман ты пӣлтал,  веськат хумиюв  нэтхуньт ат ёр...</td>\n",
       "      <td>Мы никогда не забудем этого честного человека.</td>\n",
       "    </tr>\n",
       "    <tr>\n",
       "      <th>...</th>\n",
       "      <td>...</td>\n",
       "      <td>...</td>\n",
       "    </tr>\n",
       "    <tr>\n",
       "      <th>2345</th>\n",
       "      <td>А̄нумн ка̄салахты аквтуп тамле о̄лнэ накыт ма̄...</td>\n",
       "      <td>Мне кажется, что подобные случаи могут вызыват...</td>\n",
       "    </tr>\n",
       "    <tr>\n",
       "      <th>2346</th>\n",
       "      <td>А̄танэ нё̄тнэ̄г юил акван-атманэ.</td>\n",
       "      <td>Волосы аккуратно собраны сзади.</td>\n",
       "    </tr>\n",
       "    <tr>\n",
       "      <th>2347</th>\n",
       "      <td>Тох тай, культура сака тэ̄пгалан мед а̄тим.</td>\n",
       "      <td>В общем, культуры интенсивного потребления мед...</td>\n",
       "    </tr>\n",
       "    <tr>\n",
       "      <th>2348</th>\n",
       "      <td>Тувыл Уэйтс ты музыкантыг ёт, Чарли Рич ос Фрэ...</td>\n",
       "      <td>Затем Уэйтс отправился на гастроли с такими му...</td>\n",
       "    </tr>\n",
       "    <tr>\n",
       "      <th>2349</th>\n",
       "      <td>Тох ман ро̄ви та̄ра юртанын воськасаӈквет?</td>\n",
       "      <td>Но разве можно вот так просто покинуть своих д...</td>\n",
       "    </tr>\n",
       "  </tbody>\n",
       "</table>\n",
       "<p>81146 rows × 2 columns</p>\n",
       "</div>"
      ],
      "text/plain": [
       "                                                 target  \\\n",
       "0     Та пыгрисит маим вармаль э̄рнэ поратэт ат верм...   \n",
       "1     Ха̄йтыматэ тӯр ва̄тан ёхтыс, вит ва̄тан ха̄йтыс.    \n",
       "2                             Вит са̄мыл сунсым о̄нтыс    \n",
       "3           Атаявев, акваг лылынг тагл ворн та тотавев.   \n",
       "4     Ман ты пӣлтал,  веськат хумиюв  нэтхуньт ат ёр...   \n",
       "...                                                 ...   \n",
       "2345  А̄нумн ка̄салахты аквтуп тамле о̄лнэ накыт ма̄...   \n",
       "2346                  А̄танэ нё̄тнэ̄г юил акван-атманэ.   \n",
       "2347        Тох тай, культура сака тэ̄пгалан мед а̄тим.   \n",
       "2348  Тувыл Уэйтс ты музыкантыг ёт, Чарли Рич ос Фрэ...   \n",
       "2349         Тох ман ро̄ви та̄ра юртанын воськасаӈквет?   \n",
       "\n",
       "                                                 source  \n",
       "0     Те мальчики не выполнят задание в назначенный ...  \n",
       "1       Бегая к берегу озера пришла, к воде подбежала.   \n",
       "2                             Вода прибывала на глазах   \n",
       "3           Обнюхивает нас, живыми на кладбище уносит.   \n",
       "4        Мы никогда не забудем этого честного человека.  \n",
       "...                                                 ...  \n",
       "2345  Мне кажется, что подобные случаи могут вызыват...  \n",
       "2346                    Волосы аккуратно собраны сзади.  \n",
       "2347  В общем, культуры интенсивного потребления мед...  \n",
       "2348  Затем Уэйтс отправился на гастроли с такими му...  \n",
       "2349  Но разве можно вот так просто покинуть своих д...  \n",
       "\n",
       "[81146 rows x 2 columns]"
      ]
     },
     "execution_count": 9,
     "metadata": {},
     "output_type": "execute_result"
    }
   ],
   "source": [
    "main_mansi_corpus\n"
   ]
  },
  {
   "cell_type": "markdown",
   "id": "e2a53743-0e36-4210-8581-c16b3b44725f",
   "metadata": {
    "jp-MarkdownHeadingCollapsed": true
   },
   "source": [
    "# ClearML"
   ]
  },
  {
   "cell_type": "code",
   "execution_count": 14,
   "id": "372bf22b-99c7-44eb-84c5-85a51a71d43e",
   "metadata": {},
   "outputs": [
    {
     "name": "stdout",
     "output_type": "stream",
     "text": [
      "ClearML Task: created new task id=513c1327d7224a58b57f151c8cedbdbc\n",
      "2024-09-12 14:20:06,982 - clearml.Task - INFO - Storing jupyter notebook directly as code\n",
      "ClearML results page: https://app.clear.ml/projects/5729e55d8d36466f926565ecb835c570/experiments/513c1327d7224a58b57f151c8cedbdbc/output/log\n",
      "Experiment step: 0\n",
      "Experiment step: 1\n",
      "Experiment step: 2\n",
      "Experiment step: 3\n",
      "Experiment step: 4\n",
      "Experiment step: 5\n",
      "Experiment step: 6\n",
      "Experiment step: 7\n",
      "Experiment step: 8\n",
      "Experiment step: 9\n",
      "2024-09-12 14:20:08,553 - clearml.Task - INFO - Waiting for repository detection and full package requirement analysis\n",
      "2024-09-12 14:20:10,089 - clearml.Task - INFO - Finished repository detection and package analysis\n"
     ]
    }
   ],
   "source": [
    "from clearml import Task\n",
    "\n",
    "# Connect to the ClearML server\n",
    "task = Task.init(project_name=\"example_project\", task_name=\"example_task\")\n",
    "\n",
    "# Some example experiment logic\n",
    "for i in range(10):\n",
    "    print(f\"Experiment step: {i}\")\n",
    "\n",
    "task.close()\n"
   ]
  },
  {
   "cell_type": "code",
   "execution_count": null,
   "id": "8c5465fa-f1e3-4414-b7c2-ffedf13ecdba",
   "metadata": {},
   "outputs": [],
   "source": []
  }
 ],
 "metadata": {
  "kernelspec": {
   "display_name": "Python 3 (ipykernel)",
   "language": "python",
   "name": "python3"
  },
  "language_info": {
   "codemirror_mode": {
    "name": "ipython",
    "version": 3
   },
   "file_extension": ".py",
   "mimetype": "text/x-python",
   "name": "python",
   "nbconvert_exporter": "python",
   "pygments_lexer": "ipython3",
   "version": "3.11.9"
  }
 },
 "nbformat": 4,
 "nbformat_minor": 5
}
